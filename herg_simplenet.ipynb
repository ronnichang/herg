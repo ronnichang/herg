{
 "cells": [
  {
   "cell_type": "code",
   "execution_count": 1,
   "id": "e0fc9b99-2c6c-47a2-933d-37adad598f2d",
   "metadata": {
    "execution": {
     "iopub.execute_input": "2024-05-01T21:24:46.105971Z",
     "iopub.status.busy": "2024-05-01T21:24:46.105572Z",
     "iopub.status.idle": "2024-05-01T21:24:46.540629Z",
     "shell.execute_reply": "2024-05-01T21:24:46.540155Z",
     "shell.execute_reply.started": "2024-05-01T21:24:46.105955Z"
    },
    "tags": []
   },
   "outputs": [],
   "source": [
    "%load_ext autoreload\n",
    "%autoreload 2\n",
    "%matplotlib inline\n",
    "\n",
    "# Import necessary libraries\n",
    "import sys\n",
    "from pathlib import Path\n",
    "# Ensure the src directory is accessible\n",
    "sys.path.append('./src')"
   ]
  },
  {
   "cell_type": "markdown",
   "id": "b08a15c7-5bad-4ccc-a1cf-ecbbce188a9e",
   "metadata": {},
   "source": [
    "# Get data"
   ]
  },
  {
   "cell_type": "code",
   "execution_count": 2,
   "id": "b5c49c88-0141-411f-bd39-fdeabcc8bf4c",
   "metadata": {
    "execution": {
     "iopub.execute_input": "2024-05-01T21:24:50.314172Z",
     "iopub.status.busy": "2024-05-01T21:24:50.313967Z",
     "iopub.status.idle": "2024-05-01T21:24:57.915380Z",
     "shell.execute_reply": "2024-05-01T21:24:57.914791Z",
     "shell.execute_reply.started": "2024-05-01T21:24:50.314154Z"
    },
    "tags": []
   },
   "outputs": [
    {
     "name": "stderr",
     "output_type": "stream",
     "text": [
      "Found local copy...\n",
      "Loading...\n",
      "Done!\n",
      "100%|██████████| 13445/13445 [00:05<00:00, 2368.27it/s]"
     ]
    },
    {
     "name": "stdout",
     "output_type": "stream",
     "text": [
      "Data loaded and split successfully.\n",
      "Train data samples: 9411\n",
      "Validation data samples: 1344\n",
      "Test data samples: 2690\n"
     ]
    },
    {
     "name": "stderr",
     "output_type": "stream",
     "text": [
      "\n"
     ]
    }
   ],
   "source": [
    "from get_data import get_data\n",
    "data_split = get_data() "
   ]
  },
  {
   "cell_type": "markdown",
   "id": "4c4cdc71-a9e4-4757-85b3-8701b11f7e58",
   "metadata": {},
   "source": [
    "# check data"
   ]
  },
  {
   "cell_type": "code",
   "execution_count": 3,
   "id": "43e06b35-37f2-4df1-a7fb-170cb3359861",
   "metadata": {
    "execution": {
     "iopub.execute_input": "2024-05-01T21:25:02.201082Z",
     "iopub.status.busy": "2024-05-01T21:25:02.200858Z",
     "iopub.status.idle": "2024-05-01T21:25:02.242281Z",
     "shell.execute_reply": "2024-05-01T21:25:02.241878Z",
     "shell.execute_reply.started": "2024-05-01T21:25:02.201064Z"
    },
    "tags": []
   },
   "outputs": [
    {
     "data": {
      "text/html": [
       "<div>\n",
       "<style scoped>\n",
       "    .dataframe tbody tr th:only-of-type {\n",
       "        vertical-align: middle;\n",
       "    }\n",
       "\n",
       "    .dataframe tbody tr th {\n",
       "        vertical-align: top;\n",
       "    }\n",
       "\n",
       "    .dataframe thead th {\n",
       "        text-align: right;\n",
       "    }\n",
       "</style>\n",
       "<table border=\"1\" class=\"dataframe\">\n",
       "  <thead>\n",
       "    <tr style=\"text-align: right;\">\n",
       "      <th></th>\n",
       "      <th>Drug_ID</th>\n",
       "      <th>Drug</th>\n",
       "      <th>Y</th>\n",
       "    </tr>\n",
       "  </thead>\n",
       "  <tbody>\n",
       "    <tr>\n",
       "      <th>0</th>\n",
       "      <td>8640</td>\n",
       "      <td>O=C1NCCN1CC[N+]1CCC(c2cn(C3CCCCC3)c3ccc(Cl)cc2...</td>\n",
       "      <td>0</td>\n",
       "    </tr>\n",
       "    <tr>\n",
       "      <th>1</th>\n",
       "      <td>11377</td>\n",
       "      <td>O=C(Cc1ccc(-n2cnnn2)cc1)N1CCN(CCc2ccc3nonc3c2)CC1</td>\n",
       "      <td>1</td>\n",
       "    </tr>\n",
       "    <tr>\n",
       "      <th>2</th>\n",
       "      <td>1461</td>\n",
       "      <td>NC(=O)c1ncc(N[C@@H]2CCCC[C@@H]2N)cc1Nc1cccc(C(...</td>\n",
       "      <td>1</td>\n",
       "    </tr>\n",
       "    <tr>\n",
       "      <th>3</th>\n",
       "      <td>6646</td>\n",
       "      <td>Cc1cc(C)nc(Nc2cc(N[C@@H]3CCCC[C@@H]3N)cnc2C(N)...</td>\n",
       "      <td>1</td>\n",
       "    </tr>\n",
       "    <tr>\n",
       "      <th>4</th>\n",
       "      <td>379</td>\n",
       "      <td>COc1cc(C)nc(Nc2cc(N[C@@H]3CCCC[C@@H]3N)cnc2C(N...</td>\n",
       "      <td>1</td>\n",
       "    </tr>\n",
       "    <tr>\n",
       "      <th>5</th>\n",
       "      <td>10556</td>\n",
       "      <td>Cc1cc(CC(C)(C)O)cc(Nc2cc(N[C@@H]3CCCC[C@@H]3N)...</td>\n",
       "      <td>1</td>\n",
       "    </tr>\n",
       "    <tr>\n",
       "      <th>6</th>\n",
       "      <td>4542</td>\n",
       "      <td>Cc1cc(C(C)(C)O)cc(Nc2cc(N[C@@H]3CCCC[C@@H]3N)c...</td>\n",
       "      <td>1</td>\n",
       "    </tr>\n",
       "    <tr>\n",
       "      <th>7</th>\n",
       "      <td>9102</td>\n",
       "      <td>Cc1cccnc1CN1CCC2(CC1)C(=O)N(c1ccc(-c3ccc4scnc4...</td>\n",
       "      <td>1</td>\n",
       "    </tr>\n",
       "    <tr>\n",
       "      <th>8</th>\n",
       "      <td>4564</td>\n",
       "      <td>O=S1(=O)CCC(COc2ccc3c(c2)CCC2(CCN(C4CCC4)CC2)O...</td>\n",
       "      <td>0</td>\n",
       "    </tr>\n",
       "    <tr>\n",
       "      <th>9</th>\n",
       "      <td>12933</td>\n",
       "      <td>N#C[C@@H]1C[C@@H]2C[C@@H]2N1C(=O)[C@@H](N)C12C...</td>\n",
       "      <td>0</td>\n",
       "    </tr>\n",
       "  </tbody>\n",
       "</table>\n",
       "</div>"
      ],
      "text/plain": [
       "   Drug_ID                                               Drug  Y\n",
       "0     8640  O=C1NCCN1CC[N+]1CCC(c2cn(C3CCCCC3)c3ccc(Cl)cc2...  0\n",
       "1    11377  O=C(Cc1ccc(-n2cnnn2)cc1)N1CCN(CCc2ccc3nonc3c2)CC1  1\n",
       "2     1461  NC(=O)c1ncc(N[C@@H]2CCCC[C@@H]2N)cc1Nc1cccc(C(...  1\n",
       "3     6646  Cc1cc(C)nc(Nc2cc(N[C@@H]3CCCC[C@@H]3N)cnc2C(N)...  1\n",
       "4      379  COc1cc(C)nc(Nc2cc(N[C@@H]3CCCC[C@@H]3N)cnc2C(N...  1\n",
       "5    10556  Cc1cc(CC(C)(C)O)cc(Nc2cc(N[C@@H]3CCCC[C@@H]3N)...  1\n",
       "6     4542  Cc1cc(C(C)(C)O)cc(Nc2cc(N[C@@H]3CCCC[C@@H]3N)c...  1\n",
       "7     9102  Cc1cccnc1CN1CCC2(CC1)C(=O)N(c1ccc(-c3ccc4scnc4...  1\n",
       "8     4564  O=S1(=O)CCC(COc2ccc3c(c2)CCC2(CCN(C4CCC4)CC2)O...  0\n",
       "9    12933  N#C[C@@H]1C[C@@H]2C[C@@H]2N1C(=O)[C@@H](N)C12C...  0"
      ]
     },
     "execution_count": 3,
     "metadata": {},
     "output_type": "execute_result"
    }
   ],
   "source": [
    "data_split['train'].head(10)"
   ]
  },
  {
   "cell_type": "code",
   "execution_count": 4,
   "id": "f849b3ff-cc04-4a5f-a11e-7b47d180aba2",
   "metadata": {
    "execution": {
     "iopub.execute_input": "2024-05-01T21:25:03.316963Z",
     "iopub.status.busy": "2024-05-01T21:25:03.316792Z",
     "iopub.status.idle": "2024-05-01T21:25:03.350247Z",
     "shell.execute_reply": "2024-05-01T21:25:03.349867Z",
     "shell.execute_reply.started": "2024-05-01T21:25:03.316948Z"
    },
    "tags": []
   },
   "outputs": [
    {
     "data": {
      "text/html": [
       "<div>\n",
       "<style scoped>\n",
       "    .dataframe tbody tr th:only-of-type {\n",
       "        vertical-align: middle;\n",
       "    }\n",
       "\n",
       "    .dataframe tbody tr th {\n",
       "        vertical-align: top;\n",
       "    }\n",
       "\n",
       "    .dataframe thead th {\n",
       "        text-align: right;\n",
       "    }\n",
       "</style>\n",
       "<table border=\"1\" class=\"dataframe\">\n",
       "  <thead>\n",
       "    <tr style=\"text-align: right;\">\n",
       "      <th></th>\n",
       "      <th>Drug_ID</th>\n",
       "      <th>Drug</th>\n",
       "      <th>Y</th>\n",
       "    </tr>\n",
       "  </thead>\n",
       "  <tbody>\n",
       "    <tr>\n",
       "      <th>0</th>\n",
       "      <td>7417</td>\n",
       "      <td>CC(C)c1noc(-c2nnc3n2CCN(C(=O)c2ccc(F)cc2)[C@@H...</td>\n",
       "      <td>1</td>\n",
       "    </tr>\n",
       "    <tr>\n",
       "      <th>1</th>\n",
       "      <td>3967</td>\n",
       "      <td>CCc1noc(-c2nnc3n2CCN(C(=O)c2ccc(F)cc2)[C@@H]3C)n1</td>\n",
       "      <td>0</td>\n",
       "    </tr>\n",
       "    <tr>\n",
       "      <th>2</th>\n",
       "      <td>13387</td>\n",
       "      <td>CC(C)(C)Cn1c(N)nc2ccc(-c3nc(C(C)(C)C)[nH]c3-c3...</td>\n",
       "      <td>0</td>\n",
       "    </tr>\n",
       "    <tr>\n",
       "      <th>3</th>\n",
       "      <td>10258</td>\n",
       "      <td>CC(C)(C)C1CCC2(CC1)CCN(c1ccc(OC(F)(F)F)cc1)C(=...</td>\n",
       "      <td>1</td>\n",
       "    </tr>\n",
       "    <tr>\n",
       "      <th>4</th>\n",
       "      <td>5612</td>\n",
       "      <td>CCN(CC)c1ccc2cc(C(=O)NCCCCN3CCC(Nc4nc5ccccc5n4...</td>\n",
       "      <td>1</td>\n",
       "    </tr>\n",
       "    <tr>\n",
       "      <th>5</th>\n",
       "      <td>6520</td>\n",
       "      <td>CN1CCC(COCc2cc(C(F)(F)F)cc(N3CCCC3)n2)(c2ccccc...</td>\n",
       "      <td>1</td>\n",
       "    </tr>\n",
       "    <tr>\n",
       "      <th>6</th>\n",
       "      <td>8954</td>\n",
       "      <td>CN1CCC(COCc2cc(C(F)(F)F)cc(N3CCC(C#N)C3)n2)(c2...</td>\n",
       "      <td>1</td>\n",
       "    </tr>\n",
       "    <tr>\n",
       "      <th>7</th>\n",
       "      <td>2983</td>\n",
       "      <td>FC(F)(F)c1cc(COCC2(c3ccccc3)CCNCC2)nc(N2CCCC2)c1</td>\n",
       "      <td>1</td>\n",
       "    </tr>\n",
       "    <tr>\n",
       "      <th>8</th>\n",
       "      <td>12756</td>\n",
       "      <td>OC1CCC(Nc2ncc3nc(Nc4c(F)cc(F)cc4F)n([C@@H]4CCO...</td>\n",
       "      <td>0</td>\n",
       "    </tr>\n",
       "    <tr>\n",
       "      <th>9</th>\n",
       "      <td>8043</td>\n",
       "      <td>O=C(N[C@@H]1C2CCN(CC2)[C@H]1Cc1cccnc1)c1cc2ccc...</td>\n",
       "      <td>0</td>\n",
       "    </tr>\n",
       "  </tbody>\n",
       "</table>\n",
       "</div>"
      ],
      "text/plain": [
       "   Drug_ID                                               Drug  Y\n",
       "0     7417  CC(C)c1noc(-c2nnc3n2CCN(C(=O)c2ccc(F)cc2)[C@@H...  1\n",
       "1     3967  CCc1noc(-c2nnc3n2CCN(C(=O)c2ccc(F)cc2)[C@@H]3C)n1  0\n",
       "2    13387  CC(C)(C)Cn1c(N)nc2ccc(-c3nc(C(C)(C)C)[nH]c3-c3...  0\n",
       "3    10258  CC(C)(C)C1CCC2(CC1)CCN(c1ccc(OC(F)(F)F)cc1)C(=...  1\n",
       "4     5612  CCN(CC)c1ccc2cc(C(=O)NCCCCN3CCC(Nc4nc5ccccc5n4...  1\n",
       "5     6520  CN1CCC(COCc2cc(C(F)(F)F)cc(N3CCCC3)n2)(c2ccccc...  1\n",
       "6     8954  CN1CCC(COCc2cc(C(F)(F)F)cc(N3CCC(C#N)C3)n2)(c2...  1\n",
       "7     2983   FC(F)(F)c1cc(COCC2(c3ccccc3)CCNCC2)nc(N2CCCC2)c1  1\n",
       "8    12756  OC1CCC(Nc2ncc3nc(Nc4c(F)cc(F)cc4F)n([C@@H]4CCO...  0\n",
       "9     8043  O=C(N[C@@H]1C2CCN(CC2)[C@H]1Cc1cccnc1)c1cc2ccc...  0"
      ]
     },
     "execution_count": 4,
     "metadata": {},
     "output_type": "execute_result"
    }
   ],
   "source": [
    "data_split['test'].head(10)"
   ]
  },
  {
   "cell_type": "code",
   "execution_count": null,
   "id": "4c00e299-6fa1-4c94-ade8-2164bbaa3cdb",
   "metadata": {},
   "outputs": [],
   "source": []
  },
  {
   "cell_type": "markdown",
   "id": "f4a26645-3a17-4256-9e77-0f42f6941d0a",
   "metadata": {},
   "source": [
    "# Featuring functions"
   ]
  },
  {
   "cell_type": "code",
   "execution_count": 29,
   "id": "e1299d07-75a8-4deb-86fe-d6d512739ba9",
   "metadata": {
    "execution": {
     "iopub.execute_input": "2024-05-01T21:44:52.814415Z",
     "iopub.status.busy": "2024-05-01T21:44:52.813958Z",
     "iopub.status.idle": "2024-05-01T21:44:54.179718Z",
     "shell.execute_reply": "2024-05-01T21:44:54.178409Z",
     "shell.execute_reply.started": "2024-05-01T21:44:52.814396Z"
    },
    "tags": []
   },
   "outputs": [],
   "source": [
    "from features import smiles_to_fp\n",
    "\n",
    "# Prepare the data\n",
    "def prepare_data(df):\n",
    "    df['features'] = df['Drug'].apply(lambda x: smiles_to_fp(x))\n",
    "    X = list(df['features'])\n",
    "    y = df['Y'].values\n",
    "    return X, y\n"
   ]
  },
  {
   "cell_type": "markdown",
   "id": "0dd894a9-2595-4d06-b9a8-3a9ec8f8807d",
   "metadata": {},
   "source": [
    "# Prepare traing and test data"
   ]
  },
  {
   "cell_type": "code",
   "execution_count": 30,
   "id": "ff48bc4b-ae71-44fe-bbcf-65bdcf8a27de",
   "metadata": {
    "execution": {
     "iopub.execute_input": "2024-05-01T21:44:54.219967Z",
     "iopub.status.busy": "2024-05-01T21:44:54.219566Z",
     "iopub.status.idle": "2024-05-01T21:45:08.202696Z",
     "shell.execute_reply": "2024-05-01T21:45:08.202211Z",
     "shell.execute_reply.started": "2024-05-01T21:44:54.219951Z"
    },
    "tags": []
   },
   "outputs": [],
   "source": [
    "# make features\n",
    "X_train, y_train = prepare_data(data_split['train'])\n",
    "X_valid, y_valid = prepare_data(data_split['valid'])\n",
    "X_test, y_test = prepare_data(data_split['test'])"
   ]
  },
  {
   "cell_type": "markdown",
   "id": "da9c5b17-e83f-40c1-ad60-cfff2494b625",
   "metadata": {},
   "source": [
    "# Random Forest Classifier"
   ]
  },
  {
   "cell_type": "code",
   "execution_count": 31,
   "id": "1146b41e-d0c4-4f08-8922-3abc31415cdd",
   "metadata": {
    "execution": {
     "iopub.execute_input": "2024-05-01T21:45:08.246275Z",
     "iopub.status.busy": "2024-05-01T21:45:08.245868Z",
     "iopub.status.idle": "2024-05-01T21:45:11.842100Z",
     "shell.execute_reply": "2024-05-01T21:45:11.841655Z",
     "shell.execute_reply.started": "2024-05-01T21:45:08.246259Z"
    },
    "tags": []
   },
   "outputs": [
    {
     "data": {
      "text/html": [
       "<style>#sk-container-id-2 {color: black;background-color: white;}#sk-container-id-2 pre{padding: 0;}#sk-container-id-2 div.sk-toggleable {background-color: white;}#sk-container-id-2 label.sk-toggleable__label {cursor: pointer;display: block;width: 100%;margin-bottom: 0;padding: 0.3em;box-sizing: border-box;text-align: center;}#sk-container-id-2 label.sk-toggleable__label-arrow:before {content: \"▸\";float: left;margin-right: 0.25em;color: #696969;}#sk-container-id-2 label.sk-toggleable__label-arrow:hover:before {color: black;}#sk-container-id-2 div.sk-estimator:hover label.sk-toggleable__label-arrow:before {color: black;}#sk-container-id-2 div.sk-toggleable__content {max-height: 0;max-width: 0;overflow: hidden;text-align: left;background-color: #f0f8ff;}#sk-container-id-2 div.sk-toggleable__content pre {margin: 0.2em;color: black;border-radius: 0.25em;background-color: #f0f8ff;}#sk-container-id-2 input.sk-toggleable__control:checked~div.sk-toggleable__content {max-height: 200px;max-width: 100%;overflow: auto;}#sk-container-id-2 input.sk-toggleable__control:checked~label.sk-toggleable__label-arrow:before {content: \"▾\";}#sk-container-id-2 div.sk-estimator input.sk-toggleable__control:checked~label.sk-toggleable__label {background-color: #d4ebff;}#sk-container-id-2 div.sk-label input.sk-toggleable__control:checked~label.sk-toggleable__label {background-color: #d4ebff;}#sk-container-id-2 input.sk-hidden--visually {border: 0;clip: rect(1px 1px 1px 1px);clip: rect(1px, 1px, 1px, 1px);height: 1px;margin: -1px;overflow: hidden;padding: 0;position: absolute;width: 1px;}#sk-container-id-2 div.sk-estimator {font-family: monospace;background-color: #f0f8ff;border: 1px dotted black;border-radius: 0.25em;box-sizing: border-box;margin-bottom: 0.5em;}#sk-container-id-2 div.sk-estimator:hover {background-color: #d4ebff;}#sk-container-id-2 div.sk-parallel-item::after {content: \"\";width: 100%;border-bottom: 1px solid gray;flex-grow: 1;}#sk-container-id-2 div.sk-label:hover label.sk-toggleable__label {background-color: #d4ebff;}#sk-container-id-2 div.sk-serial::before {content: \"\";position: absolute;border-left: 1px solid gray;box-sizing: border-box;top: 0;bottom: 0;left: 50%;z-index: 0;}#sk-container-id-2 div.sk-serial {display: flex;flex-direction: column;align-items: center;background-color: white;padding-right: 0.2em;padding-left: 0.2em;position: relative;}#sk-container-id-2 div.sk-item {position: relative;z-index: 1;}#sk-container-id-2 div.sk-parallel {display: flex;align-items: stretch;justify-content: center;background-color: white;position: relative;}#sk-container-id-2 div.sk-item::before, #sk-container-id-2 div.sk-parallel-item::before {content: \"\";position: absolute;border-left: 1px solid gray;box-sizing: border-box;top: 0;bottom: 0;left: 50%;z-index: -1;}#sk-container-id-2 div.sk-parallel-item {display: flex;flex-direction: column;z-index: 1;position: relative;background-color: white;}#sk-container-id-2 div.sk-parallel-item:first-child::after {align-self: flex-end;width: 50%;}#sk-container-id-2 div.sk-parallel-item:last-child::after {align-self: flex-start;width: 50%;}#sk-container-id-2 div.sk-parallel-item:only-child::after {width: 0;}#sk-container-id-2 div.sk-dashed-wrapped {border: 1px dashed gray;margin: 0 0.4em 0.5em 0.4em;box-sizing: border-box;padding-bottom: 0.4em;background-color: white;}#sk-container-id-2 div.sk-label label {font-family: monospace;font-weight: bold;display: inline-block;line-height: 1.2em;}#sk-container-id-2 div.sk-label-container {text-align: center;}#sk-container-id-2 div.sk-container {/* jupyter's `normalize.less` sets `[hidden] { display: none; }` but bootstrap.min.css set `[hidden] { display: none !important; }` so we also need the `!important` here to be able to override the default hidden behavior on the sphinx rendered scikit-learn.org. See: https://github.com/scikit-learn/scikit-learn/issues/21755 */display: inline-block !important;position: relative;}#sk-container-id-2 div.sk-text-repr-fallback {display: none;}</style><div id=\"sk-container-id-2\" class=\"sk-top-container\"><div class=\"sk-text-repr-fallback\"><pre>RandomForestClassifier(random_state=42)</pre><b>In a Jupyter environment, please rerun this cell to show the HTML representation or trust the notebook. <br />On GitHub, the HTML representation is unable to render, please try loading this page with nbviewer.org.</b></div><div class=\"sk-container\" hidden><div class=\"sk-item\"><div class=\"sk-estimator sk-toggleable\"><input class=\"sk-toggleable__control sk-hidden--visually\" id=\"sk-estimator-id-2\" type=\"checkbox\" checked><label for=\"sk-estimator-id-2\" class=\"sk-toggleable__label sk-toggleable__label-arrow\">RandomForestClassifier</label><div class=\"sk-toggleable__content\"><pre>RandomForestClassifier(random_state=42)</pre></div></div></div></div></div>"
      ],
      "text/plain": [
       "RandomForestClassifier(random_state=42)"
      ]
     },
     "execution_count": 31,
     "metadata": {},
     "output_type": "execute_result"
    }
   ],
   "source": [
    "from sklearn.ensemble import RandomForestClassifier\n",
    "\n",
    "# Initialize and train the model\n",
    "rf_model = RandomForestClassifier(random_state=42)\n",
    "rf_model.fit(X_train, y_train)\n",
    "\n"
   ]
  },
  {
   "cell_type": "markdown",
   "id": "d3705261-56ef-47a9-ae38-7c2c327dc498",
   "metadata": {},
   "source": [
    "# Evaluation on validation data"
   ]
  },
  {
   "cell_type": "code",
   "execution_count": 34,
   "id": "16632c4b-d57a-4f95-bc6c-23969e58a297",
   "metadata": {
    "execution": {
     "iopub.execute_input": "2024-05-01T21:46:11.561469Z",
     "iopub.status.busy": "2024-05-01T21:46:11.561027Z",
     "iopub.status.idle": "2024-05-01T21:46:12.830058Z",
     "shell.execute_reply": "2024-05-01T21:46:12.829623Z",
     "shell.execute_reply.started": "2024-05-01T21:46:11.561450Z"
    },
    "tags": []
   },
   "outputs": [
    {
     "name": "stdout",
     "output_type": "stream",
     "text": [
      "Accuracy: 0.7455357142857143\n",
      "ROC AUC Score: 0.7476015350175887\n",
      "Precision: 0.786833855799373\n",
      "Recall: 0.7090395480225988\n",
      "F1 Score: 0.7459138187221396\n",
      "Matthews Correlation Coefficient: 0.49512610566159304\n",
      "Specificity (Negative Prediction Accuracy): 0.7861635220125787\n"
     ]
    }
   ],
   "source": [
    "from evaluate import eval\n",
    "y_pred = rf_model.predict(X_valid)\n",
    "result = eval(y_valid, y_pred, verbose=True)"
   ]
  },
  {
   "cell_type": "markdown",
   "id": "1c1d2a57-8c0c-4abc-ab73-4147224e4903",
   "metadata": {
    "execution": {
     "iopub.execute_input": "2024-04-19T02:28:58.937521Z",
     "iopub.status.busy": "2024-04-19T02:28:58.937204Z",
     "iopub.status.idle": "2024-04-19T02:28:58.954787Z",
     "shell.execute_reply": "2024-04-19T02:28:58.954378Z",
     "shell.execute_reply.started": "2024-04-19T02:28:58.937500Z"
    },
    "tags": []
   },
   "source": [
    "# Evaluation on test data"
   ]
  },
  {
   "cell_type": "code",
   "execution_count": 35,
   "id": "00573373-3ce6-4f2c-aaee-6340fb3721ad",
   "metadata": {
    "execution": {
     "iopub.execute_input": "2024-05-01T21:46:21.260417Z",
     "iopub.status.busy": "2024-05-01T21:46:21.260046Z",
     "iopub.status.idle": "2024-05-01T21:46:21.446283Z",
     "shell.execute_reply": "2024-05-01T21:46:21.445842Z",
     "shell.execute_reply.started": "2024-05-01T21:46:21.260399Z"
    },
    "tags": []
   },
   "outputs": [
    {
     "name": "stdout",
     "output_type": "stream",
     "text": [
      "Accuracy: 0.7869888475836431\n",
      "ROC AUC Score: 0.7866272534819189\n",
      "Precision: 0.7987321711568938\n",
      "Recall: 0.7596081386586285\n",
      "F1 Score: 0.7786790266512167\n",
      "Matthews Correlation Coefficient: 0.5742977119801898\n",
      "Specificity (Negative Prediction Accuracy): 0.8136463683052091\n"
     ]
    }
   ],
   "source": [
    "y_pred = rf_model.predict(X_test)\n",
    "result = eval(y_test, y_pred, verbose=True)"
   ]
  },
  {
   "cell_type": "code",
   "execution_count": null,
   "id": "398967b0-31c7-461a-96f9-2538288bc37f",
   "metadata": {},
   "outputs": [],
   "source": []
  },
  {
   "cell_type": "markdown",
   "id": "5d9be36c-4ab1-4ec2-983b-09044cac28eb",
   "metadata": {},
   "source": [
    " # SimpleNN: Define the model"
   ]
  },
  {
   "cell_type": "code",
   "execution_count": 14,
   "id": "2d89940d-799b-4c0e-a66c-bfbac6e70d99",
   "metadata": {
    "execution": {
     "iopub.execute_input": "2024-05-01T21:28:53.369408Z",
     "iopub.status.busy": "2024-05-01T21:28:53.368791Z",
     "iopub.status.idle": "2024-05-01T21:28:54.542488Z",
     "shell.execute_reply": "2024-05-01T21:28:54.541379Z",
     "shell.execute_reply.started": "2024-05-01T21:28:53.369358Z"
    },
    "tags": []
   },
   "outputs": [],
   "source": [
    "import torch\n",
    "import torch.nn as nn\n",
    "import torch.optim as optim\n",
    "\n",
    "class SimpleNN(nn.Module):\n",
    "    def __init__(self):\n",
    "        super(SimpleNN, self).__init__()\n",
    "        self.layers = nn.Sequential(\n",
    "            nn.Linear(1024, 64),  # Assuming input features size of 1024\n",
    "            nn.ReLU(),\n",
    "            nn.Linear(64, 64),\n",
    "            nn.ReLU(),\n",
    "            nn.Linear(64, 1),  # binary classification\n",
    "            nn.Sigmoid()\n",
    "        )\n",
    "\n",
    "    def forward(self, x):\n",
    "        return self.layers(x)\n"
   ]
  },
  {
   "cell_type": "markdown",
   "id": "3d11b4eb-5cd8-4e55-992f-10142a75e621",
   "metadata": {},
   "source": [
    "# SimpleNN: Define loss"
   ]
  },
  {
   "cell_type": "code",
   "execution_count": 15,
   "id": "46600d55-5db6-4a76-a0db-14313d53b7ce",
   "metadata": {
    "execution": {
     "iopub.execute_input": "2024-05-01T21:28:54.582531Z",
     "iopub.status.busy": "2024-05-01T21:28:54.582288Z",
     "iopub.status.idle": "2024-05-01T21:28:54.616048Z",
     "shell.execute_reply": "2024-05-01T21:28:54.615675Z",
     "shell.execute_reply.started": "2024-05-01T21:28:54.582514Z"
    },
    "tags": []
   },
   "outputs": [],
   "source": [
    "\n",
    "def nn_loss_func(outputs, targets):\n",
    "    criterion = nn.BCELoss()\n",
    "    classical_loss = criterion(outputs.squeeze(), targets.squeeze())\n",
    "    \n",
    "    return classical_loss "
   ]
  },
  {
   "cell_type": "markdown",
   "id": "5ad8408e-d442-481c-a709-1d6732dac521",
   "metadata": {},
   "source": [
    "# SimpleNN: Training"
   ]
  },
  {
   "cell_type": "code",
   "execution_count": 16,
   "id": "fd3bd228-5922-4c06-8e4d-22b8f3b32896",
   "metadata": {
    "execution": {
     "iopub.execute_input": "2024-05-01T21:29:09.232319Z",
     "iopub.status.busy": "2024-05-01T21:29:09.231873Z",
     "iopub.status.idle": "2024-05-01T21:29:09.271870Z",
     "shell.execute_reply": "2024-05-01T21:29:09.271472Z",
     "shell.execute_reply.started": "2024-05-01T21:29:09.232301Z"
    },
    "tags": []
   },
   "outputs": [],
   "source": [
    "def train_epoch(model, X_train, y_train, optimizer, criterion):\n",
    "    model.train()\n",
    "    nn_optimizer.zero_grad()\n",
    "    outputs = nn_model(X_train)  # Make sure X_train is a tensor\n",
    "    loss = criterion(outputs, y_train)  # Ensure y_train is appropriately shaped\n",
    "    loss.backward()\n",
    "    nn_optimizer.step()\n",
    "    return loss\n"
   ]
  },
  {
   "cell_type": "code",
   "execution_count": 17,
   "id": "4cdef372-bb7a-4e88-b79a-cb180cbbf900",
   "metadata": {
    "execution": {
     "iopub.execute_input": "2024-05-01T21:29:10.655869Z",
     "iopub.status.busy": "2024-05-01T21:29:10.655710Z",
     "iopub.status.idle": "2024-05-01T21:29:10.690650Z",
     "shell.execute_reply": "2024-05-01T21:29:10.690270Z",
     "shell.execute_reply.started": "2024-05-01T21:29:10.655854Z"
    },
    "tags": []
   },
   "outputs": [],
   "source": [
    "from evaluate import eval\n",
    "\n",
    "def eval_model(model, X_test, y_test, verbose=False):\n",
    "    model.eval()\n",
    "\n",
    "    # Disable gradient computation for testing (saves memory and computations)\n",
    "    with torch.no_grad():\n",
    "        outputs = model(X_test)\n",
    "\n",
    "    # Convert outputs to predicted classes\n",
    "    # For binary classification with a single output unit\n",
    "    predictions = (outputs > 0.5).float()  # Threshold probabilities to classify as 1 or 0\n",
    "\n",
    "    # Since you cannot use sklearn directly with tensors, you need to move data back to CPU and convert to numpy\n",
    "    predictions = predictions.cpu().numpy()\n",
    "    y_test = y_test.cpu().numpy()\n",
    "\n",
    "    return eval(y_test, predictions, verbose=verbose)  \n",
    "\n"
   ]
  },
  {
   "cell_type": "code",
   "execution_count": 27,
   "id": "2391646a-f16a-4f3d-9cb5-6ae6703510f7",
   "metadata": {
    "execution": {
     "iopub.execute_input": "2024-05-01T21:42:08.337771Z",
     "iopub.status.busy": "2024-05-01T21:42:08.337146Z",
     "iopub.status.idle": "2024-05-01T21:42:14.109097Z",
     "shell.execute_reply": "2024-05-01T21:42:14.108618Z",
     "shell.execute_reply.started": "2024-05-01T21:42:08.337722Z"
    },
    "tags": []
   },
   "outputs": [
    {
     "name": "stdout",
     "output_type": "stream",
     "text": [
      "Epoch 0, Train Loss: 0.6948, Validation AUC: 0.5\n",
      "Epoch 1, Train Loss: 0.6912, Validation AUC: 0.5063026329815584\n",
      "Epoch 2, Train Loss: 0.6880, Validation AUC: 0.5492751305830935\n",
      "Epoch 3, Train Loss: 0.6846, Validation AUC: 0.5925007994883275\n",
      "Epoch 4, Train Loss: 0.6808, Validation AUC: 0.6290240912482679\n",
      "Epoch 5, Train Loss: 0.6764, Validation AUC: 0.6566464129623708\n",
      "Epoch 6, Train Loss: 0.6714, Validation AUC: 0.6659471271719433\n",
      "Epoch 7, Train Loss: 0.6658, Validation AUC: 0.6672929325231851\n",
      "Epoch 8, Train Loss: 0.6596, Validation AUC: 0.6739819848630209\n",
      "Epoch 9, Train Loss: 0.6527, Validation AUC: 0.6789388124933377\n",
      "Epoch 10, Train Loss: 0.6452, Validation AUC: 0.6802846178445795\n",
      "Epoch 11, Train Loss: 0.6371, Validation AUC: 0.6827230572433642\n",
      "Epoch 12, Train Loss: 0.6285, Validation AUC: 0.682576484383328\n",
      "Epoch 13, Train Loss: 0.6194, Validation AUC: 0.685334719113101\n",
      "Epoch 14, Train Loss: 0.6100, Validation AUC: 0.6869869949898731\n",
      "Epoch 15, Train Loss: 0.6005, Validation AUC: 0.6869869949898731\n",
      "Epoch 16, Train Loss: 0.5909, Validation AUC: 0.6892655367231639\n",
      "Epoch 17, Train Loss: 0.5813, Validation AUC: 0.6908378637671889\n",
      "Epoch 18, Train Loss: 0.5719, Validation AUC: 0.6917039761219487\n",
      "Epoch 19, Train Loss: 0.5627, Validation AUC: 0.6956347937320115\n",
      "Epoch 20, Train Loss: 0.5538, Validation AUC: 0.6941424155207334\n",
      "Epoch 21, Train Loss: 0.5452, Validation AUC: 0.6943822620189745\n",
      "Epoch 22, Train Loss: 0.5371, Validation AUC: 0.6965808549195183\n",
      "Epoch 23, Train Loss: 0.5295, Validation AUC: 0.699019294318303\n",
      "Epoch 24, Train Loss: 0.5222, Validation AUC: 0.7011379383860996\n",
      "Epoch 25, Train Loss: 0.5153, Validation AUC: 0.7041226948086557\n",
      "Epoch 26, Train Loss: 0.5086, Validation AUC: 0.7144893934548556\n",
      "Epoch 27, Train Loss: 0.5022, Validation AUC: 0.7122908005543119\n",
      "Epoch 28, Train Loss: 0.4959, Validation AUC: 0.7089196247734783\n",
      "Epoch 29, Train Loss: 0.4898, Validation AUC: 0.7097057882954908\n",
      "Epoch 30, Train Loss: 0.4838, Validation AUC: 0.710958320008528\n",
      "Epoch 31, Train Loss: 0.4780, Validation AUC: 0.7122108517215648\n",
      "Epoch 32, Train Loss: 0.4722, Validation AUC: 0.7115845858650462\n",
      "Epoch 33, Train Loss: 0.4667, Validation AUC: 0.7054551753544399\n",
      "Epoch 34, Train Loss: 0.4612, Validation AUC: 0.7046690118324273\n",
      "Epoch 35, Train Loss: 0.4559, Validation AUC: 0.698779447820062\n",
      "Epoch 36, Train Loss: 0.4508, Validation AUC: 0.6957946913975056\n",
      "Epoch 37, Train Loss: 0.4457, Validation AUC: 0.6957147425647585\n",
      "Epoch 38, Train Loss: 0.4408, Validation AUC: 0.6957147425647585\n",
      "Epoch 39, Train Loss: 0.4359, Validation AUC: 0.700431723696834\n",
      "Epoch 40, Train Loss: 0.4311, Validation AUC: 0.701604306577124\n",
      "Epoch 41, Train Loss: 0.4263, Validation AUC: 0.7008181430551115\n",
      "Epoch 42, Train Loss: 0.4216, Validation AUC: 0.7023904700991366\n",
      "Epoch 43, Train Loss: 0.4169, Validation AUC: 0.7032565824538962\n",
      "Epoch 44, Train Loss: 0.4123, Validation AUC: 0.7012978360515937\n",
      "Epoch 45, Train Loss: 0.4078, Validation AUC: 0.7036563266176314\n",
      "Epoch 46, Train Loss: 0.4032, Validation AUC: 0.704522438972391\n",
      "Epoch 47, Train Loss: 0.3988, Validation AUC: 0.7055484489926447\n",
      "Epoch 48, Train Loss: 0.3944, Validation AUC: 0.7049221831361263\n",
      "Epoch 49, Train Loss: 0.3900, Validation AUC: 0.7071207760366699\n",
      "Epoch 50, Train Loss: 0.3856, Validation AUC: 0.7038961731158725\n",
      "Epoch 51, Train Loss: 0.3813, Validation AUC: 0.7024037949045944\n",
      "Epoch 52, Train Loss: 0.3770, Validation AUC: 0.7031100095938598\n",
      "Epoch 53, Train Loss: 0.3727, Validation AUC: 0.7030300607611129\n",
      "Epoch 54, Train Loss: 0.3683, Validation AUC: 0.7068809295384287\n",
      "Epoch 55, Train Loss: 0.3640, Validation AUC: 0.7061747148491632\n",
      "Epoch 56, Train Loss: 0.3596, Validation AUC: 0.7079868883914294\n",
      "Epoch 57, Train Loss: 0.3552, Validation AUC: 0.7079069395586824\n",
      "Epoch 58, Train Loss: 0.3508, Validation AUC: 0.7130103400490353\n",
      "Epoch 59, Train Loss: 0.3464, Validation AUC: 0.7114380130050101\n",
      "Epoch 60, Train Loss: 0.3419, Validation AUC: 0.7129303912162882\n",
      "Epoch 61, Train Loss: 0.3374, Validation AUC: 0.7159151476388445\n",
      "Epoch 62, Train Loss: 0.3329, Validation AUC: 0.7195261699179192\n",
      "Epoch 63, Train Loss: 0.3283, Validation AUC: 0.7216448139857158\n",
      "Epoch 64, Train Loss: 0.3236, Validation AUC: 0.7181137405393881\n",
      "Epoch 65, Train Loss: 0.3190, Validation AUC: 0.7186600575631595\n",
      "Epoch 66, Train Loss: 0.3143, Validation AUC: 0.7174874746828697\n",
      "Epoch 67, Train Loss: 0.3095, Validation AUC: 0.7200724869416907\n",
      "Epoch 68, Train Loss: 0.3048, Validation AUC: 0.7149824112567957\n",
      "Epoch 69, Train Loss: 0.3003, Validation AUC: 0.7133834346018548\n",
      "Epoch 70, Train Loss: 0.2961, Validation AUC: 0.7182869630103401\n",
      "Epoch 71, Train Loss: 0.2913, Validation AUC: 0.7149690864513378\n",
      "Epoch 72, Train Loss: 0.2858, Validation AUC: 0.713943076431084\n",
      "Epoch 73, Train Loss: 0.2815, Validation AUC: 0.7148225135913016\n",
      "Epoch 74, Train Loss: 0.2771, Validation AUC: 0.7133967594073127\n",
      "Epoch 75, Train Loss: 0.2718, Validation AUC: 0.713943076431084\n",
      "Epoch 76, Train Loss: 0.2674, Validation AUC: 0.7089329495789362\n",
      "Epoch 77, Train Loss: 0.2630, Validation AUC: 0.7120642788615286\n",
      "Epoch 78, Train Loss: 0.2578, Validation AUC: 0.7125306470525531\n",
      "Epoch 79, Train Loss: 0.2534, Validation AUC: 0.7089329495789362\n",
      "Epoch 80, Train Loss: 0.2489, Validation AUC: 0.711118217674022\n",
      "Epoch 81, Train Loss: 0.2439, Validation AUC: 0.7102521053192625\n",
      "Epoch 82, Train Loss: 0.2393, Validation AUC: 0.7060281419891269\n",
      "Epoch 83, Train Loss: 0.2349, Validation AUC: 0.7067210318729348\n",
      "Epoch 84, Train Loss: 0.2300, Validation AUC: 0.7055484489926447\n",
      "Epoch 85, Train Loss: 0.2253, Validation AUC: 0.7051620296343672\n",
      "Epoch 86, Train Loss: 0.2209, Validation AUC: 0.7067210318729348\n",
      "Epoch 87, Train Loss: 0.2162, Validation AUC: 0.7071207760366699\n",
      "Epoch 88, Train Loss: 0.2114, Validation AUC: 0.7095592154354546\n",
      "Epoch 89, Train Loss: 0.2069, Validation AUC: 0.7036563266176314\n",
      "Epoch 90, Train Loss: 0.2025, Validation AUC: 0.7093993177699605\n",
      "Epoch 91, Train Loss: 0.1978, Validation AUC: 0.7085332054152009\n",
      "Epoch 92, Train Loss: 0.1932, Validation AUC: 0.7077470418931884\n",
      "Epoch 93, Train Loss: 0.1887, Validation AUC: 0.7072806737021641\n",
      "Epoch 94, Train Loss: 0.1843, Validation AUC: 0.7082134100842128\n",
      "Epoch 95, Train Loss: 0.1799, Validation AUC: 0.7058682443236329\n",
      "Epoch 96, Train Loss: 0.1754, Validation AUC: 0.7064145613474043\n",
      "Epoch 97, Train Loss: 0.1711, Validation AUC: 0.7071207760366699\n",
      "Epoch 98, Train Loss: 0.1668, Validation AUC: 0.707440571367658\n",
      "Epoch 99, Train Loss: 0.1626, Validation AUC: 0.7091594712717195\n"
     ]
    }
   ],
   "source": [
    "nn_model = SimpleNN()\n",
    "nn_optimizer = optim.Adam(nn_model.parameters(), lr=0.001)\n",
    "\n",
    "X_train = torch.tensor(X_train, dtype=torch.float32)  # Convert features to a float Tensor\n",
    "y_train = torch.tensor(y_train, dtype=torch.float32).unsqueeze(1)  # Convert labels to a float Tensor\n",
    "X_valid = torch.tensor(X_valid, dtype=torch.float32)  # Convert features to a float Tensor\n",
    "y_valid = torch.tensor(y_valid, dtype=torch.float32).unsqueeze(1)  # Convert labels to a float Tensor\n",
    "\n",
    "# Train the model\n",
    "num_epochs = 100\n",
    "total_losses = []\n",
    "total_auc = []\n",
    "for epoch in range(num_epochs):\n",
    "    train_loss = train_epoch(nn_model, X_train, y_train, nn_optimizer, nn_loss_func)\n",
    "    valid_metrics = eval_model(nn_model, X_valid, y_valid)\n",
    "    total_losses.append(train_loss)\n",
    "    total_auc.append(valid_metrics['roc_auc'])\n",
    "    print(f\"Epoch {epoch}, Train Loss: {train_loss:.4f}, Validation AUC: {valid_metrics['roc_auc']}\")\n"
   ]
  },
  {
   "cell_type": "code",
   "execution_count": 28,
   "id": "6c62bb17-eeb6-4c98-860f-219b614eb8c1",
   "metadata": {
    "execution": {
     "iopub.execute_input": "2024-05-01T21:42:21.201213Z",
     "iopub.status.busy": "2024-05-01T21:42:21.200915Z",
     "iopub.status.idle": "2024-05-01T21:42:21.383638Z",
     "shell.execute_reply": "2024-05-01T21:42:21.383264Z",
     "shell.execute_reply.started": "2024-05-01T21:42:21.201196Z"
    },
    "tags": []
   },
   "outputs": [
    {
     "data": {
      "image/png": "[encoded data removed]",
      "text/plain": [
       "<Figure size 1000x500 with 1 Axes>"
      ]
     },
     "metadata": {},
     "output_type": "display_data"
    }
   ],
   "source": [
    "import matplotlib.pyplot as plt\n",
    "\n",
    "# Converting tensors to lists of scalars\n",
    "total_losses = [x.item() for x in total_losses]\n",
    "total_auc = [x.item() for x in total_auc]\n",
    "\n",
    "# Plotting the values\n",
    "plt.figure(figsize=(10, 5))\n",
    "plt.plot(total_losses, label='Training Loss')\n",
    "plt.plot(total_auc, label='Validation AUROC')\n",
    "plt.title('Training of Simple Neural Network')\n",
    "plt.xlabel('Epoch')\n",
    "plt.ylabel('Performance')\n",
    "plt.legend()\n",
    "plt.show()"
   ]
  },
  {
   "cell_type": "code",
   "execution_count": null,
   "id": "fbe2acc5-594a-404d-95c7-df850a992f31",
   "metadata": {},
   "outputs": [],
   "source": []
  },
  {
   "cell_type": "markdown",
   "id": "96b6d8ec-5c4c-4a29-9753-034b319c8a65",
   "metadata": {},
   "source": [
    "# SimpleNN on Test Data"
   ]
  },
  {
   "cell_type": "code",
   "execution_count": 36,
   "id": "5c527ec6-d506-46ef-aaa8-5becc3ee7e93",
   "metadata": {
    "execution": {
     "iopub.execute_input": "2024-05-01T21:47:07.655646Z",
     "iopub.status.busy": "2024-05-01T21:47:07.655217Z",
     "iopub.status.idle": "2024-05-01T21:47:07.865784Z",
     "shell.execute_reply": "2024-05-01T21:47:07.865348Z",
     "shell.execute_reply.started": "2024-05-01T21:47:07.655627Z"
    },
    "tags": []
   },
   "outputs": [
    {
     "name": "stdout",
     "output_type": "stream",
     "text": [
      "Accuracy: 0.762453531598513\n",
      "ROC AUC Score: 0.7625254257060732\n",
      "Precision: 0.7548148148148148\n",
      "Recall: 0.7678975131876413\n",
      "F1 Score: 0.7612999626447515\n",
      "Matthews Correlation Coefficient: 0.525007458186019\n",
      "Specificity (Negative Prediction Accuracy): 0.7571533382245048\n"
     ]
    }
   ],
   "source": [
    "# convert to tensor\n",
    "X_test = torch.tensor(X_test, dtype=torch.float32)  \n",
    "y_test = torch.tensor(y_test, dtype=torch.float32).unsqueeze(1)  # Convert to tensor and ensure correct shape\n",
    "result = eval_model(nn_model, X_test, y_test, verbose=True)"
   ]
  },
  {
   "cell_type": "code",
   "execution_count": null,
   "id": "9296e9f5-c5ad-4c77-ad2b-fad817f05e7d",
   "metadata": {},
   "outputs": [],
   "source": []
  }
 ],
 "metadata": {
  "kernelspec": {
   "display_name": "herg",
   "language": "python",
   "name": "herg"
  },
  "language_info": {
   "codemirror_mode": {
    "name": "ipython",
    "version": 3
   },
   "file_extension": ".py",
   "mimetype": "text/x-python",
   "name": "python",
   "nbconvert_exporter": "python",
   "pygments_lexer": "ipython3",
   "version": "3.9.19"
  }
 },
 "nbformat": 4,
 "nbformat_minor": 5
}
