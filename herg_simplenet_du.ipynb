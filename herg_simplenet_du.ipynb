{
 "cells": [
  {
   "cell_type": "code",
   "execution_count": 52,
   "id": "e0fc9b99-2c6c-47a2-933d-37adad598f2d",
   "metadata": {
    "execution": {
     "iopub.execute_input": "2024-05-05T04:19:03.860042Z",
     "iopub.status.busy": "2024-05-05T04:19:03.859769Z",
     "iopub.status.idle": "2024-05-05T04:19:03.897424Z",
     "shell.execute_reply": "2024-05-05T04:19:03.897030Z",
     "shell.execute_reply.started": "2024-05-05T04:19:03.860024Z"
    },
    "tags": []
   },
   "outputs": [
    {
     "name": "stdout",
     "output_type": "stream",
     "text": [
      "The autoreload extension is already loaded. To reload it, use:\n",
      "  %reload_ext autoreload\n"
     ]
    }
   ],
   "source": [
    "%load_ext autoreload\n",
    "%autoreload 2\n",
    "%matplotlib inline\n",
    "\n",
    "# Import necessary libraries\n",
    "import sys\n",
    "from pathlib import Path\n",
    "# Ensure the src directory is accessible\n",
    "sys.path.append('./src')"
   ]
  },
  {
   "cell_type": "markdown",
   "id": "b08a15c7-5bad-4ccc-a1cf-ecbbce188a9e",
   "metadata": {},
   "source": [
    "# Get data"
   ]
  },
  {
   "cell_type": "code",
   "execution_count": 53,
   "id": "4a33c8ec-74c3-4fad-a2a2-58a691e286be",
   "metadata": {
    "execution": {
     "iopub.execute_input": "2024-05-05T04:19:04.782345Z",
     "iopub.status.busy": "2024-05-05T04:19:04.782022Z",
     "iopub.status.idle": "2024-05-05T04:20:46.629771Z",
     "shell.execute_reply": "2024-05-05T04:20:46.628751Z",
     "shell.execute_reply.started": "2024-05-05T04:19:04.782328Z"
    },
    "tags": []
   },
   "outputs": [
    {
     "name": "stderr",
     "output_type": "stream",
     "text": [
      "Found local copy...\n",
      "Loading...\n",
      "Done!\n",
      "Found local copy...\n",
      "Loading...\n",
      "Done!\n",
      "Found local copy...\n",
      "Loading...\n",
      "Done!\n",
      "100%|██████████| 306893/306893 [01:41<00:00, 3034.74it/s]\n"
     ]
    }
   ],
   "source": [
    "from get_data import get_data\n",
    "data_sets = get_data() "
   ]
  },
  {
   "cell_type": "markdown",
   "id": "c6316a1e-9afc-48c6-9f48-7a7a9da67eff",
   "metadata": {},
   "source": [
    "# Check data: make sure no drugs are replicated across training, validation and test sets "
   ]
  },
  {
   "cell_type": "code",
   "execution_count": 54,
   "id": "651ca6de-0731-4e04-894d-21df3cb5a4de",
   "metadata": {
    "execution": {
     "iopub.execute_input": "2024-05-05T04:20:54.029330Z",
     "iopub.status.busy": "2024-05-05T04:20:54.029044Z",
     "iopub.status.idle": "2024-05-05T04:20:54.103743Z",
     "shell.execute_reply": "2024-05-05T04:20:54.103286Z",
     "shell.execute_reply.started": "2024-05-05T04:20:54.029312Z"
    },
    "tags": []
   },
   "outputs": [
    {
     "data": {
      "text/plain": [
       "set()"
      ]
     },
     "execution_count": 54,
     "metadata": {},
     "output_type": "execute_result"
    }
   ],
   "source": [
    "set(data_sets['du']['train']['Drug_ID']).intersection(set(data_sets['karim']['train']['Drug_ID']))"
   ]
  },
  {
   "cell_type": "code",
   "execution_count": 55,
   "id": "a558bd1d-6acd-48e7-8e55-ce8db6231920",
   "metadata": {
    "execution": {
     "iopub.execute_input": "2024-05-05T04:20:54.840453Z",
     "iopub.status.busy": "2024-05-05T04:20:54.840152Z",
     "iopub.status.idle": "2024-05-05T04:20:54.911529Z",
     "shell.execute_reply": "2024-05-05T04:20:54.911096Z",
     "shell.execute_reply.started": "2024-05-05T04:20:54.840435Z"
    },
    "tags": []
   },
   "outputs": [
    {
     "data": {
      "text/plain": [
       "set()"
      ]
     },
     "execution_count": 55,
     "metadata": {},
     "output_type": "execute_result"
    }
   ],
   "source": [
    "set(data_sets['du']['train']['Drug_ID']).intersection(set(data_sets['wang']['train']['Drug_ID']))"
   ]
  },
  {
   "cell_type": "code",
   "execution_count": null,
   "id": "4c00e299-6fa1-4c94-ade8-2164bbaa3cdb",
   "metadata": {},
   "outputs": [],
   "source": []
  },
  {
   "cell_type": "markdown",
   "id": "f4a26645-3a17-4256-9e77-0f42f6941d0a",
   "metadata": {},
   "source": [
    "# Featuring functions"
   ]
  },
  {
   "cell_type": "code",
   "execution_count": 56,
   "id": "e1299d07-75a8-4deb-86fe-d6d512739ba9",
   "metadata": {
    "execution": {
     "iopub.execute_input": "2024-05-05T04:20:57.049899Z",
     "iopub.status.busy": "2024-05-05T04:20:57.049643Z",
     "iopub.status.idle": "2024-05-05T04:20:57.086954Z",
     "shell.execute_reply": "2024-05-05T04:20:57.086581Z",
     "shell.execute_reply.started": "2024-05-05T04:20:57.049882Z"
    },
    "tags": []
   },
   "outputs": [],
   "source": [
    "from features import smiles_to_fp\n",
    "\n",
    "# Prepare the data\n",
    "def prepare_data(df):\n",
    "    df['features'] = df['Drug'].apply(lambda x: smiles_to_fp(x))\n",
    "    X = list(df['features'])\n",
    "    y = df['Y'].values\n",
    "    return X, y\n"
   ]
  },
  {
   "cell_type": "markdown",
   "id": "0dd894a9-2595-4d06-b9a8-3a9ec8f8807d",
   "metadata": {},
   "source": [
    "# Prepare traing and test data"
   ]
  },
  {
   "cell_type": "code",
   "execution_count": 57,
   "id": "ff48bc4b-ae71-44fe-bbcf-65bdcf8a27de",
   "metadata": {
    "execution": {
     "iopub.execute_input": "2024-05-05T04:21:00.720656Z",
     "iopub.status.busy": "2024-05-05T04:21:00.720415Z",
     "iopub.status.idle": "2024-05-05T04:26:17.510942Z",
     "shell.execute_reply": "2024-05-05T04:26:17.510109Z",
     "shell.execute_reply.started": "2024-05-05T04:21:00.720639Z"
    },
    "tags": []
   },
   "outputs": [],
   "source": [
    "# make features\n",
    "X_train, y_train = prepare_data(data_sets['du']['train'])\n",
    "X_valid, y_valid = prepare_data(data_sets['du']['valid'])\n",
    "X_test, y_test = prepare_data(data_sets['du']['test'])\n"
   ]
  },
  {
   "cell_type": "code",
   "execution_count": 64,
   "id": "5e1898ec-edbb-42c7-b8b5-c17e3ee442a9",
   "metadata": {
    "execution": {
     "iopub.execute_input": "2024-05-05T04:42:28.680871Z",
     "iopub.status.busy": "2024-05-05T04:42:28.680537Z",
     "iopub.status.idle": "2024-05-05T04:42:43.894964Z",
     "shell.execute_reply": "2024-05-05T04:42:43.894465Z",
     "shell.execute_reply.started": "2024-05-05T04:42:28.680851Z"
    },
    "tags": []
   },
   "outputs": [],
   "source": [
    "X_ext_test1, y_ext_test1 = prepare_data(data_sets['karim']['train'])\n",
    "X_ext_test2, y_ext_test2 = prepare_data(data_sets['wang']['train']) "
   ]
  },
  {
   "cell_type": "code",
   "execution_count": 75,
   "id": "f5f4fd65-4831-464a-8806-a2145ffc007f",
   "metadata": {
    "execution": {
     "iopub.execute_input": "2024-05-05T04:46:36.948333Z",
     "iopub.status.busy": "2024-05-05T04:46:36.948007Z",
     "iopub.status.idle": "2024-05-05T04:46:36.990211Z",
     "shell.execute_reply": "2024-05-05T04:46:36.989795Z",
     "shell.execute_reply.started": "2024-05-05T04:46:36.948313Z"
    },
    "tags": []
   },
   "outputs": [
    {
     "data": {
      "text/plain": [
       "654"
      ]
     },
     "execution_count": 75,
     "metadata": {},
     "output_type": "execute_result"
    }
   ],
   "source": []
  },
  {
   "cell_type": "code",
   "execution_count": null,
   "id": "cd837267-2cc2-4aa8-a52f-d99963a2c399",
   "metadata": {},
   "outputs": [],
   "source": []
  },
  {
   "cell_type": "code",
   "execution_count": null,
   "id": "9dcde4cf-8742-4b06-a688-cdbbbe7356b5",
   "metadata": {},
   "outputs": [],
   "source": []
  },
  {
   "cell_type": "markdown",
   "id": "da9c5b17-e83f-40c1-ad60-cfff2494b625",
   "metadata": {},
   "source": [
    "# Random Forest Classifier"
   ]
  },
  {
   "cell_type": "code",
   "execution_count": 58,
   "id": "1146b41e-d0c4-4f08-8922-3abc31415cdd",
   "metadata": {
    "execution": {
     "iopub.execute_input": "2024-05-05T04:27:00.720027Z",
     "iopub.status.busy": "2024-05-05T04:27:00.719763Z",
     "iopub.status.idle": "2024-05-05T04:32:39.751326Z",
     "shell.execute_reply": "2024-05-05T04:32:39.750739Z",
     "shell.execute_reply.started": "2024-05-05T04:27:00.720008Z"
    },
    "tags": []
   },
   "outputs": [
    {
     "data": {
      "text/html": [
       "<style>#sk-container-id-1 {color: black;background-color: white;}#sk-container-id-1 pre{padding: 0;}#sk-container-id-1 div.sk-toggleable {background-color: white;}#sk-container-id-1 label.sk-toggleable__label {cursor: pointer;display: block;width: 100%;margin-bottom: 0;padding: 0.3em;box-sizing: border-box;text-align: center;}#sk-container-id-1 label.sk-toggleable__label-arrow:before {content: \"▸\";float: left;margin-right: 0.25em;color: #696969;}#sk-container-id-1 label.sk-toggleable__label-arrow:hover:before {color: black;}#sk-container-id-1 div.sk-estimator:hover label.sk-toggleable__label-arrow:before {color: black;}#sk-container-id-1 div.sk-toggleable__content {max-height: 0;max-width: 0;overflow: hidden;text-align: left;background-color: #f0f8ff;}#sk-container-id-1 div.sk-toggleable__content pre {margin: 0.2em;color: black;border-radius: 0.25em;background-color: #f0f8ff;}#sk-container-id-1 input.sk-toggleable__control:checked~div.sk-toggleable__content {max-height: 200px;max-width: 100%;overflow: auto;}#sk-container-id-1 input.sk-toggleable__control:checked~label.sk-toggleable__label-arrow:before {content: \"▾\";}#sk-container-id-1 div.sk-estimator input.sk-toggleable__control:checked~label.sk-toggleable__label {background-color: #d4ebff;}#sk-container-id-1 div.sk-label input.sk-toggleable__control:checked~label.sk-toggleable__label {background-color: #d4ebff;}#sk-container-id-1 input.sk-hidden--visually {border: 0;clip: rect(1px 1px 1px 1px);clip: rect(1px, 1px, 1px, 1px);height: 1px;margin: -1px;overflow: hidden;padding: 0;position: absolute;width: 1px;}#sk-container-id-1 div.sk-estimator {font-family: monospace;background-color: #f0f8ff;border: 1px dotted black;border-radius: 0.25em;box-sizing: border-box;margin-bottom: 0.5em;}#sk-container-id-1 div.sk-estimator:hover {background-color: #d4ebff;}#sk-container-id-1 div.sk-parallel-item::after {content: \"\";width: 100%;border-bottom: 1px solid gray;flex-grow: 1;}#sk-container-id-1 div.sk-label:hover label.sk-toggleable__label {background-color: #d4ebff;}#sk-container-id-1 div.sk-serial::before {content: \"\";position: absolute;border-left: 1px solid gray;box-sizing: border-box;top: 0;bottom: 0;left: 50%;z-index: 0;}#sk-container-id-1 div.sk-serial {display: flex;flex-direction: column;align-items: center;background-color: white;padding-right: 0.2em;padding-left: 0.2em;position: relative;}#sk-container-id-1 div.sk-item {position: relative;z-index: 1;}#sk-container-id-1 div.sk-parallel {display: flex;align-items: stretch;justify-content: center;background-color: white;position: relative;}#sk-container-id-1 div.sk-item::before, #sk-container-id-1 div.sk-parallel-item::before {content: \"\";position: absolute;border-left: 1px solid gray;box-sizing: border-box;top: 0;bottom: 0;left: 50%;z-index: -1;}#sk-container-id-1 div.sk-parallel-item {display: flex;flex-direction: column;z-index: 1;position: relative;background-color: white;}#sk-container-id-1 div.sk-parallel-item:first-child::after {align-self: flex-end;width: 50%;}#sk-container-id-1 div.sk-parallel-item:last-child::after {align-self: flex-start;width: 50%;}#sk-container-id-1 div.sk-parallel-item:only-child::after {width: 0;}#sk-container-id-1 div.sk-dashed-wrapped {border: 1px dashed gray;margin: 0 0.4em 0.5em 0.4em;box-sizing: border-box;padding-bottom: 0.4em;background-color: white;}#sk-container-id-1 div.sk-label label {font-family: monospace;font-weight: bold;display: inline-block;line-height: 1.2em;}#sk-container-id-1 div.sk-label-container {text-align: center;}#sk-container-id-1 div.sk-container {/* jupyter's `normalize.less` sets `[hidden] { display: none; }` but bootstrap.min.css set `[hidden] { display: none !important; }` so we also need the `!important` here to be able to override the default hidden behavior on the sphinx rendered scikit-learn.org. See: https://github.com/scikit-learn/scikit-learn/issues/21755 */display: inline-block !important;position: relative;}#sk-container-id-1 div.sk-text-repr-fallback {display: none;}</style><div id=\"sk-container-id-1\" class=\"sk-top-container\"><div class=\"sk-text-repr-fallback\"><pre>RandomForestClassifier(random_state=42)</pre><b>In a Jupyter environment, please rerun this cell to show the HTML representation or trust the notebook. <br />On GitHub, the HTML representation is unable to render, please try loading this page with nbviewer.org.</b></div><div class=\"sk-container\" hidden><div class=\"sk-item\"><div class=\"sk-estimator sk-toggleable\"><input class=\"sk-toggleable__control sk-hidden--visually\" id=\"sk-estimator-id-1\" type=\"checkbox\" checked><label for=\"sk-estimator-id-1\" class=\"sk-toggleable__label sk-toggleable__label-arrow\">RandomForestClassifier</label><div class=\"sk-toggleable__content\"><pre>RandomForestClassifier(random_state=42)</pre></div></div></div></div></div>"
      ],
      "text/plain": [
       "RandomForestClassifier(random_state=42)"
      ]
     },
     "execution_count": 58,
     "metadata": {},
     "output_type": "execute_result"
    }
   ],
   "source": [
    "from sklearn.ensemble import RandomForestClassifier\n",
    "\n",
    "# Initialize and train the model\n",
    "rf_model = RandomForestClassifier(random_state=42)\n",
    "rf_model.fit(X_train, y_train)\n"
   ]
  },
  {
   "cell_type": "markdown",
   "id": "d3705261-56ef-47a9-ae38-7c2c327dc498",
   "metadata": {},
   "source": [
    "# Evaluation on validation data"
   ]
  },
  {
   "cell_type": "code",
   "execution_count": 60,
   "id": "16632c4b-d57a-4f95-bc6c-23969e58a297",
   "metadata": {
    "execution": {
     "iopub.execute_input": "2024-05-05T04:40:07.365565Z",
     "iopub.status.busy": "2024-05-05T04:40:07.365303Z",
     "iopub.status.idle": "2024-05-05T04:40:10.064942Z",
     "shell.execute_reply": "2024-05-05T04:40:10.064470Z",
     "shell.execute_reply.started": "2024-05-05T04:40:07.365546Z"
    },
    "tags": []
   },
   "outputs": [
    {
     "name": "stdout",
     "output_type": "stream",
     "text": [
      "Accuracy: 0.9553571428571429\n",
      "ROC AUC Score: 0.5678513397595961\n",
      "Precision: 0.6455696202531646\n",
      "Recall: 0.13953488372093023\n",
      "F1 Score: 0.22947131608548932\n",
      "Matthews Correlation Coefficient: 0.2863298082899073\n",
      "Specificity (Negative Prediction Accuracy): 0.9961677957982619\n"
     ]
    }
   ],
   "source": [
    "from evaluate import eval\n",
    "y_pred = rf_model.predict(X_valid)\n",
    "result = eval(y_valid, y_pred, verbose=True)"
   ]
  },
  {
   "cell_type": "markdown",
   "id": "1c1d2a57-8c0c-4abc-ab73-4147224e4903",
   "metadata": {
    "execution": {
     "iopub.execute_input": "2024-04-19T02:28:58.937521Z",
     "iopub.status.busy": "2024-04-19T02:28:58.937204Z",
     "iopub.status.idle": "2024-04-19T02:28:58.954787Z",
     "shell.execute_reply": "2024-04-19T02:28:58.954378Z",
     "shell.execute_reply.started": "2024-04-19T02:28:58.937500Z"
    },
    "tags": []
   },
   "source": [
    "# Evaluation on internal test data"
   ]
  },
  {
   "cell_type": "code",
   "execution_count": 61,
   "id": "00573373-3ce6-4f2c-aaee-6340fb3721ad",
   "metadata": {
    "execution": {
     "iopub.execute_input": "2024-05-05T04:40:16.406849Z",
     "iopub.status.busy": "2024-05-05T04:40:16.406460Z",
     "iopub.status.idle": "2024-05-05T04:40:17.633410Z",
     "shell.execute_reply": "2024-05-05T04:40:17.632963Z",
     "shell.execute_reply.started": "2024-05-05T04:40:16.406832Z"
    },
    "tags": []
   },
   "outputs": [
    {
     "name": "stdout",
     "output_type": "stream",
     "text": [
      "Accuracy: 0.9605108823146097\n",
      "ROC AUC Score: 0.5491156434548832\n",
      "Precision: 0.7926829268292683\n",
      "Recall: 0.09938837920489296\n",
      "F1 Score: 0.1766304347826087\n",
      "Matthews Correlation Coefficient: 0.27216862724423885\n",
      "Specificity (Negative Prediction Accuracy): 0.9988429077048734\n"
     ]
    }
   ],
   "source": [
    "y_pred = rf_model.predict(X_test)\n",
    "result = eval(y_test, y_pred, verbose=True)"
   ]
  },
  {
   "cell_type": "markdown",
   "id": "14610c1f-9d6e-4968-90f0-937cea294f79",
   "metadata": {
    "execution": {
     "iopub.execute_input": "2024-05-05T04:40:45.833585Z",
     "iopub.status.busy": "2024-05-05T04:40:45.833275Z",
     "iopub.status.idle": "2024-05-05T04:40:45.869435Z",
     "shell.execute_reply": "2024-05-05T04:40:45.868998Z",
     "shell.execute_reply.started": "2024-05-05T04:40:45.833567Z"
    },
    "tags": []
   },
   "source": [
    "# Evaluation on external data (Wang and Karim)"
   ]
  },
  {
   "cell_type": "code",
   "execution_count": 65,
   "id": "d80a336f-f615-4121-a56f-33521d85b8c8",
   "metadata": {
    "execution": {
     "iopub.execute_input": "2024-05-05T04:42:48.912483Z",
     "iopub.status.busy": "2024-05-05T04:42:48.912190Z",
     "iopub.status.idle": "2024-05-05T04:42:49.953731Z",
     "shell.execute_reply": "2024-05-05T04:42:49.953285Z",
     "shell.execute_reply.started": "2024-05-05T04:42:48.912465Z"
    },
    "tags": []
   },
   "outputs": [
    {
     "name": "stdout",
     "output_type": "stream",
     "text": [
      "Accuracy: 0.5067311268129416\n",
      "ROC AUC Score: 0.506401212374247\n",
      "Precision: 0.9479166666666666\n",
      "Recall: 0.013545698124441799\n",
      "F1 Score: 0.02670971529204579\n",
      "Matthews Correlation Coefficient: 0.07602614372377121\n",
      "Specificity (Negative Prediction Accuracy): 0.9992567266240523\n"
     ]
    }
   ],
   "source": [
    "y_pred1 = rf_model.predict(X_ext_test1)\n",
    "result = eval(y_ext_test1, y_pred1, verbose=True)"
   ]
  },
  {
   "cell_type": "code",
   "execution_count": 66,
   "id": "398967b0-31c7-461a-96f9-2538288bc37f",
   "metadata": {
    "execution": {
     "iopub.execute_input": "2024-05-05T04:43:21.625283Z",
     "iopub.status.busy": "2024-05-05T04:43:21.624953Z",
     "iopub.status.idle": "2024-05-05T04:43:21.717644Z",
     "shell.execute_reply": "2024-05-05T04:43:21.717218Z",
     "shell.execute_reply.started": "2024-05-05T04:43:21.625263Z"
    }
   },
   "outputs": [
    {
     "name": "stdout",
     "output_type": "stream",
     "text": [
      "Accuracy: 0.332824427480916\n",
      "ROC AUC Score: 0.5155210643015521\n",
      "Precision: 1.0\n",
      "Recall: 0.031042128603104215\n",
      "F1 Score: 0.060215053763440864\n",
      "Matthews Correlation Coefficient: 0.09939437698551633\n",
      "Specificity (Negative Prediction Accuracy): 1.0\n"
     ]
    }
   ],
   "source": [
    "y_pred2 = rf_model.predict(X_ext_test2)\n",
    "result = eval(y_ext_test2, y_pred2, verbose=True)"
   ]
  },
  {
   "cell_type": "markdown",
   "id": "5d9be36c-4ab1-4ec2-983b-09044cac28eb",
   "metadata": {},
   "source": [
    " # SimpleNN: Define the model"
   ]
  },
  {
   "cell_type": "code",
   "execution_count": 67,
   "id": "2d89940d-799b-4c0e-a66c-bfbac6e70d99",
   "metadata": {
    "execution": {
     "iopub.execute_input": "2024-05-05T04:43:38.190652Z",
     "iopub.status.busy": "2024-05-05T04:43:38.190339Z",
     "iopub.status.idle": "2024-05-05T04:43:38.226744Z",
     "shell.execute_reply": "2024-05-05T04:43:38.226355Z",
     "shell.execute_reply.started": "2024-05-05T04:43:38.190633Z"
    },
    "tags": []
   },
   "outputs": [],
   "source": [
    "import torch\n",
    "import torch.nn as nn\n",
    "import torch.optim as optim\n",
    "\n",
    "class SimpleNN(nn.Module):\n",
    "    def __init__(self):\n",
    "        super(SimpleNN, self).__init__()\n",
    "        self.layers = nn.Sequential(\n",
    "            nn.Linear(1024, 64),  # Assuming input features size of 1024\n",
    "            nn.ReLU(),\n",
    "            nn.Linear(64, 64),\n",
    "            nn.ReLU(),\n",
    "            nn.Linear(64, 1),  # binary classification\n",
    "            nn.Sigmoid()\n",
    "        )\n",
    "\n",
    "    def forward(self, x):\n",
    "        return self.layers(x)\n"
   ]
  },
  {
   "cell_type": "markdown",
   "id": "3d11b4eb-5cd8-4e55-992f-10142a75e621",
   "metadata": {},
   "source": [
    "# SimpleNN: Define loss"
   ]
  },
  {
   "cell_type": "code",
   "execution_count": 68,
   "id": "46600d55-5db6-4a76-a0db-14313d53b7ce",
   "metadata": {
    "execution": {
     "iopub.execute_input": "2024-05-05T04:43:39.081798Z",
     "iopub.status.busy": "2024-05-05T04:43:39.081451Z",
     "iopub.status.idle": "2024-05-05T04:43:39.110411Z",
     "shell.execute_reply": "2024-05-05T04:43:39.110038Z",
     "shell.execute_reply.started": "2024-05-05T04:43:39.081782Z"
    },
    "tags": []
   },
   "outputs": [],
   "source": [
    "\n",
    "def nn_loss_func(outputs, targets):\n",
    "    criterion = nn.BCELoss()\n",
    "    classical_loss = criterion(outputs.squeeze(), targets.squeeze())\n",
    "    \n",
    "    return classical_loss "
   ]
  },
  {
   "cell_type": "markdown",
   "id": "5ad8408e-d442-481c-a709-1d6732dac521",
   "metadata": {},
   "source": [
    "# SimpleNN: Training"
   ]
  },
  {
   "cell_type": "code",
   "execution_count": 69,
   "id": "fd3bd228-5922-4c06-8e4d-22b8f3b32896",
   "metadata": {
    "execution": {
     "iopub.execute_input": "2024-05-05T04:43:42.170037Z",
     "iopub.status.busy": "2024-05-05T04:43:42.169761Z",
     "iopub.status.idle": "2024-05-05T04:43:42.203546Z",
     "shell.execute_reply": "2024-05-05T04:43:42.203145Z",
     "shell.execute_reply.started": "2024-05-05T04:43:42.170020Z"
    },
    "tags": []
   },
   "outputs": [],
   "source": [
    "def train_epoch(model, X_train, y_train, optimizer, criterion):\n",
    "    model.train()\n",
    "    nn_optimizer.zero_grad()\n",
    "    outputs = nn_model(X_train)  # Make sure X_train is a tensor\n",
    "    loss = criterion(outputs, y_train)  # Ensure y_train is appropriately shaped\n",
    "    loss.backward()\n",
    "    nn_optimizer.step()\n",
    "    return loss\n"
   ]
  },
  {
   "cell_type": "code",
   "execution_count": 70,
   "id": "4cdef372-bb7a-4e88-b79a-cb180cbbf900",
   "metadata": {
    "execution": {
     "iopub.execute_input": "2024-05-05T04:43:42.946056Z",
     "iopub.status.busy": "2024-05-05T04:43:42.945833Z",
     "iopub.status.idle": "2024-05-05T04:43:42.976311Z",
     "shell.execute_reply": "2024-05-05T04:43:42.975931Z",
     "shell.execute_reply.started": "2024-05-05T04:43:42.946040Z"
    },
    "tags": []
   },
   "outputs": [],
   "source": [
    "from evaluate import eval\n",
    "\n",
    "def eval_model(model, X_test, y_test, verbose=False):\n",
    "    model.eval()\n",
    "\n",
    "    # Disable gradient computation for testing (saves memory and computations)\n",
    "    with torch.no_grad():\n",
    "        outputs = model(X_test)\n",
    "\n",
    "    # Convert outputs to predicted classes\n",
    "    # For binary classification with a single output unit\n",
    "    predictions = (outputs > 0.5).float()  # Threshold probabilities to classify as 1 or 0\n",
    "\n",
    "    # Since you cannot use sklearn directly with tensors, you need to move data back to CPU and convert to numpy\n",
    "    predictions = predictions.cpu().numpy()\n",
    "    y_test = y_test.cpu().numpy()\n",
    "\n",
    "    return eval(y_test, predictions, verbose=verbose)  \n",
    "\n"
   ]
  },
  {
   "cell_type": "code",
   "execution_count": 76,
   "id": "2391646a-f16a-4f3d-9cb5-6ae6703510f7",
   "metadata": {
    "execution": {
     "iopub.execute_input": "2024-05-05T04:47:42.660996Z",
     "iopub.status.busy": "2024-05-05T04:47:42.660565Z",
     "iopub.status.idle": "2024-05-05T04:50:02.478449Z",
     "shell.execute_reply": "2024-05-05T04:50:02.477831Z",
     "shell.execute_reply.started": "2024-05-05T04:47:42.660978Z"
    },
    "tags": []
   },
   "outputs": [
    {
     "name": "stdout",
     "output_type": "stream",
     "text": [
      "Epoch 0, Train Loss: 0.7634, Validation AUC: 0.5\n",
      "Epoch 1, Train Loss: 0.7403, Validation AUC: 0.4800371237760954\n",
      "Epoch 2, Train Loss: 0.7167, Validation AUC: 0.4308416610474548\n",
      "Epoch 3, Train Loss: 0.6921, Validation AUC: 0.4745376448813497\n",
      "Epoch 4, Train Loss: 0.6659, Validation AUC: 0.49722849517552864\n",
      "Epoch 5, Train Loss: 0.6376, Validation AUC: 0.49972627112844725\n",
      "Epoch 6, Train Loss: 0.6068, Validation AUC: 0.49993156778211184\n",
      "Epoch 7, Train Loss: 0.5739, Validation AUC: 0.5\n",
      "Epoch 8, Train Loss: 0.5395, Validation AUC: 0.5\n",
      "Epoch 9, Train Loss: 0.5041, Validation AUC: 0.5\n",
      "Epoch 10, Train Loss: 0.4682, Validation AUC: 0.5\n",
      "Epoch 11, Train Loss: 0.4324, Validation AUC: 0.5\n",
      "Epoch 12, Train Loss: 0.3972, Validation AUC: 0.5\n",
      "Epoch 13, Train Loss: 0.3636, Validation AUC: 0.5\n",
      "Epoch 14, Train Loss: 0.3322, Validation AUC: 0.5\n",
      "Epoch 15, Train Loss: 0.3036, Validation AUC: 0.5\n",
      "Epoch 16, Train Loss: 0.2784, Validation AUC: 0.5\n",
      "Epoch 17, Train Loss: 0.2570, Validation AUC: 0.5\n",
      "Epoch 18, Train Loss: 0.2395, Validation AUC: 0.5\n",
      "Epoch 19, Train Loss: 0.2260, Validation AUC: 0.5\n",
      "Epoch 20, Train Loss: 0.2161, Validation AUC: 0.5\n",
      "Epoch 21, Train Loss: 0.2096, Validation AUC: 0.5\n",
      "Epoch 22, Train Loss: 0.2058, Validation AUC: 0.5\n",
      "Epoch 23, Train Loss: 0.2043, Validation AUC: 0.5\n",
      "Epoch 24, Train Loss: 0.2046, Validation AUC: 0.5\n",
      "Epoch 25, Train Loss: 0.2059, Validation AUC: 0.5\n",
      "Epoch 26, Train Loss: 0.2080, Validation AUC: 0.5\n",
      "Epoch 27, Train Loss: 0.2103, Validation AUC: 0.5\n",
      "Epoch 28, Train Loss: 0.2126, Validation AUC: 0.5\n",
      "Epoch 29, Train Loss: 0.2146, Validation AUC: 0.5\n",
      "Epoch 30, Train Loss: 0.2161, Validation AUC: 0.5\n",
      "Epoch 31, Train Loss: 0.2172, Validation AUC: 0.5\n",
      "Epoch 32, Train Loss: 0.2176, Validation AUC: 0.5\n",
      "Epoch 33, Train Loss: 0.2175, Validation AUC: 0.5\n",
      "Epoch 34, Train Loss: 0.2169, Validation AUC: 0.5\n",
      "Epoch 35, Train Loss: 0.2159, Validation AUC: 0.5\n",
      "Epoch 36, Train Loss: 0.2145, Validation AUC: 0.5\n",
      "Epoch 37, Train Loss: 0.2128, Validation AUC: 0.5\n",
      "Epoch 38, Train Loss: 0.2109, Validation AUC: 0.5\n",
      "Epoch 39, Train Loss: 0.2088, Validation AUC: 0.5\n",
      "Epoch 40, Train Loss: 0.2068, Validation AUC: 0.5\n",
      "Epoch 41, Train Loss: 0.2047, Validation AUC: 0.5\n",
      "Epoch 42, Train Loss: 0.2028, Validation AUC: 0.5\n",
      "Epoch 43, Train Loss: 0.2009, Validation AUC: 0.5\n",
      "Epoch 44, Train Loss: 0.1993, Validation AUC: 0.5\n",
      "Epoch 45, Train Loss: 0.1979, Validation AUC: 0.5\n",
      "Epoch 46, Train Loss: 0.1967, Validation AUC: 0.5\n",
      "Epoch 47, Train Loss: 0.1957, Validation AUC: 0.5\n",
      "Epoch 48, Train Loss: 0.1950, Validation AUC: 0.5\n",
      "Epoch 49, Train Loss: 0.1944, Validation AUC: 0.5\n",
      "Epoch 50, Train Loss: 0.1940, Validation AUC: 0.5\n",
      "Epoch 51, Train Loss: 0.1937, Validation AUC: 0.5\n",
      "Epoch 52, Train Loss: 0.1935, Validation AUC: 0.5\n",
      "Epoch 53, Train Loss: 0.1933, Validation AUC: 0.5\n",
      "Epoch 54, Train Loss: 0.1931, Validation AUC: 0.5\n",
      "Epoch 55, Train Loss: 0.1930, Validation AUC: 0.5\n",
      "Epoch 56, Train Loss: 0.1928, Validation AUC: 0.5\n",
      "Epoch 57, Train Loss: 0.1925, Validation AUC: 0.5\n",
      "Epoch 58, Train Loss: 0.1922, Validation AUC: 0.5\n",
      "Epoch 59, Train Loss: 0.1919, Validation AUC: 0.5\n",
      "Epoch 60, Train Loss: 0.1915, Validation AUC: 0.5\n",
      "Epoch 61, Train Loss: 0.1910, Validation AUC: 0.5\n",
      "Epoch 62, Train Loss: 0.1905, Validation AUC: 0.5\n",
      "Epoch 63, Train Loss: 0.1900, Validation AUC: 0.5\n",
      "Epoch 64, Train Loss: 0.1895, Validation AUC: 0.5\n",
      "Epoch 65, Train Loss: 0.1889, Validation AUC: 0.5\n",
      "Epoch 66, Train Loss: 0.1884, Validation AUC: 0.5\n",
      "Epoch 67, Train Loss: 0.1879, Validation AUC: 0.5\n",
      "Epoch 68, Train Loss: 0.1874, Validation AUC: 0.5\n",
      "Epoch 69, Train Loss: 0.1869, Validation AUC: 0.5\n",
      "Epoch 70, Train Loss: 0.1864, Validation AUC: 0.5\n",
      "Epoch 71, Train Loss: 0.1860, Validation AUC: 0.5\n",
      "Epoch 72, Train Loss: 0.1856, Validation AUC: 0.5\n",
      "Epoch 73, Train Loss: 0.1852, Validation AUC: 0.5\n",
      "Epoch 74, Train Loss: 0.1848, Validation AUC: 0.5\n",
      "Epoch 75, Train Loss: 0.1844, Validation AUC: 0.5\n",
      "Epoch 76, Train Loss: 0.1841, Validation AUC: 0.5\n",
      "Epoch 77, Train Loss: 0.1837, Validation AUC: 0.5\n",
      "Epoch 78, Train Loss: 0.1833, Validation AUC: 0.5\n",
      "Epoch 79, Train Loss: 0.1830, Validation AUC: 0.5\n",
      "Epoch 80, Train Loss: 0.1826, Validation AUC: 0.5\n",
      "Epoch 81, Train Loss: 0.1822, Validation AUC: 0.5\n",
      "Epoch 82, Train Loss: 0.1818, Validation AUC: 0.5\n",
      "Epoch 83, Train Loss: 0.1814, Validation AUC: 0.5\n",
      "Epoch 84, Train Loss: 0.1810, Validation AUC: 0.5\n",
      "Epoch 85, Train Loss: 0.1806, Validation AUC: 0.5\n",
      "Epoch 86, Train Loss: 0.1802, Validation AUC: 0.5\n",
      "Epoch 87, Train Loss: 0.1798, Validation AUC: 0.5\n",
      "Epoch 88, Train Loss: 0.1794, Validation AUC: 0.5\n",
      "Epoch 89, Train Loss: 0.1790, Validation AUC: 0.5\n",
      "Epoch 90, Train Loss: 0.1786, Validation AUC: 0.5\n",
      "Epoch 91, Train Loss: 0.1782, Validation AUC: 0.5\n",
      "Epoch 92, Train Loss: 0.1778, Validation AUC: 0.5\n",
      "Epoch 93, Train Loss: 0.1774, Validation AUC: 0.5\n",
      "Epoch 94, Train Loss: 0.1770, Validation AUC: 0.5\n",
      "Epoch 95, Train Loss: 0.1767, Validation AUC: 0.5\n",
      "Epoch 96, Train Loss: 0.1763, Validation AUC: 0.5\n",
      "Epoch 97, Train Loss: 0.1759, Validation AUC: 0.5\n",
      "Epoch 98, Train Loss: 0.1755, Validation AUC: 0.5\n",
      "Epoch 99, Train Loss: 0.1752, Validation AUC: 0.5\n"
     ]
    }
   ],
   "source": [
    "nn_model = SimpleNN()\n",
    "nn_optimizer = optim.Adam(nn_model.parameters(), lr=0.001)\n",
    "\n",
    "X_train = torch.tensor(X_train, dtype=torch.float32)  # Convert features to a float Tensor\n",
    "y_train = torch.tensor(y_train, dtype=torch.float32).unsqueeze(1)  # Convert labels to a float Tensor\n",
    "X_valid = torch.tensor(X_valid, dtype=torch.float32)  # Convert features to a float Tensor\n",
    "y_valid = torch.tensor(y_valid, dtype=torch.float32).unsqueeze(1)  # Convert labels to a float Tensor\n",
    "\n",
    "# Train the model\n",
    "num_epochs = 100\n",
    "total_losses = []\n",
    "total_auc = []\n",
    "for epoch in range(num_epochs):\n",
    "    train_loss = train_epoch(nn_model, X_train, y_train, nn_optimizer, nn_loss_func)\n",
    "    valid_metrics = eval_model(nn_model, X_valid, y_valid)\n",
    "    total_losses.append(train_loss)\n",
    "    total_auc.append(valid_metrics['roc_auc'])\n",
    "    print(f\"Epoch {epoch}, Train Loss: {train_loss:.4f}, Validation AUC: {valid_metrics['roc_auc']}\")\n"
   ]
  },
  {
   "cell_type": "code",
   "execution_count": 77,
   "id": "6c62bb17-eeb6-4c98-860f-219b614eb8c1",
   "metadata": {
    "execution": {
     "iopub.execute_input": "2024-05-05T04:50:09.951729Z",
     "iopub.status.busy": "2024-05-05T04:50:09.951425Z",
     "iopub.status.idle": "2024-05-05T04:50:10.353436Z",
     "shell.execute_reply": "2024-05-05T04:50:10.353017Z",
     "shell.execute_reply.started": "2024-05-05T04:50:09.951709Z"
    },
    "tags": []
   },
   "outputs": [
    {
     "data": {
      "image/png": "[encoded data removed]",
      "text/plain": [
       "<Figure size 1000x500 with 1 Axes>"
      ]
     },
     "metadata": {},
     "output_type": "display_data"
    }
   ],
   "source": [
    "import matplotlib.pyplot as plt\n",
    "\n",
    "# Converting tensors to lists of scalars\n",
    "total_losses = [x.item() for x in total_losses]\n",
    "total_auc = [x.item() for x in total_auc]\n",
    "\n",
    "# Plotting the values\n",
    "plt.figure(figsize=(10, 5))\n",
    "plt.plot(total_losses, label='Training Loss')\n",
    "plt.plot(total_auc, label='Validation AUROC')\n",
    "plt.title('Training of Simple Neural Network')\n",
    "plt.xlabel('Epoch')\n",
    "plt.ylabel('Performance')\n",
    "plt.legend()\n",
    "plt.show()"
   ]
  },
  {
   "cell_type": "code",
   "execution_count": null,
   "id": "fbe2acc5-594a-404d-95c7-df850a992f31",
   "metadata": {},
   "outputs": [],
   "source": []
  },
  {
   "cell_type": "markdown",
   "id": "96b6d8ec-5c4c-4a29-9753-034b319c8a65",
   "metadata": {},
   "source": [
    "# SimpleNN on Test Data"
   ]
  },
  {
   "cell_type": "code",
   "execution_count": 78,
   "id": "5c527ec6-d506-46ef-aaa8-5becc3ee7e93",
   "metadata": {
    "execution": {
     "iopub.execute_input": "2024-05-05T04:50:18.398967Z",
     "iopub.status.busy": "2024-05-05T04:50:18.398571Z",
     "iopub.status.idle": "2024-05-05T04:50:19.431385Z",
     "shell.execute_reply": "2024-05-05T04:50:19.430945Z",
     "shell.execute_reply.started": "2024-05-05T04:50:18.398950Z"
    },
    "tags": []
   },
   "outputs": [
    {
     "name": "stdout",
     "output_type": "stream",
     "text": [
      "Accuracy: 0.9573830314088362\n",
      "ROC AUC Score: 0.5\n",
      "Precision: 0.0\n",
      "Recall: 0.0\n",
      "F1 Score: 0.0\n",
      "Matthews Correlation Coefficient: 0.0\n",
      "Specificity (Negative Prediction Accuracy): 1.0\n"
     ]
    }
   ],
   "source": [
    "# convert to tensor\n",
    "X_test = torch.tensor(X_test, dtype=torch.float32)  \n",
    "y_test = torch.tensor(y_test, dtype=torch.float32).unsqueeze(1)  # Convert to tensor and ensure correct shape\n",
    "result = eval_model(nn_model, X_test, y_test, verbose=True)"
   ]
  },
  {
   "cell_type": "code",
   "execution_count": null,
   "id": "9296e9f5-c5ad-4c77-ad2b-fad817f05e7d",
   "metadata": {},
   "outputs": [],
   "source": []
  },
  {
   "cell_type": "markdown",
   "id": "bb2e884e-42cd-4356-9f4b-866730eea8db",
   "metadata": {
    "execution": {
     "iopub.execute_input": "2024-05-05T05:35:56.190208Z",
     "iopub.status.busy": "2024-05-05T05:35:56.189604Z",
     "iopub.status.idle": "2024-05-05T05:35:57.630475Z",
     "shell.execute_reply": "2024-05-05T05:35:57.629986Z",
     "shell.execute_reply.started": "2024-05-05T05:35:56.190187Z"
    },
    "tags": []
   },
   "source": [
    "# SimpleNN on External Test Data"
   ]
  },
  {
   "cell_type": "code",
   "execution_count": 80,
   "id": "900086d0-e672-4b26-ad7a-352ab500f175",
   "metadata": {
    "execution": {
     "iopub.execute_input": "2024-05-05T05:36:58.173678Z",
     "iopub.status.busy": "2024-05-05T05:36:58.173151Z",
     "iopub.status.idle": "2024-05-05T05:37:00.547952Z",
     "shell.execute_reply": "2024-05-05T05:37:00.547501Z",
     "shell.execute_reply.started": "2024-05-05T05:36:58.173658Z"
    },
    "tags": []
   },
   "outputs": [
    {
     "name": "stdout",
     "output_type": "stream",
     "text": [
      "Accuracy: 0.5003346969133506\n",
      "ROC AUC Score: 0.5\n",
      "Precision: 0.0\n",
      "Recall: 0.0\n",
      "F1 Score: 0.0\n",
      "Matthews Correlation Coefficient: 0.0\n",
      "Specificity (Negative Prediction Accuracy): 1.0\n"
     ]
    }
   ],
   "source": [
    "# convert to tensor\n",
    "X_ext_test1 = torch.tensor(X_ext_test1, dtype=torch.float32)  \n",
    "y_ext_test1 = torch.tensor(y_ext_test1, dtype=torch.float32).unsqueeze(1)  # Convert to tensor and ensure correct shape\n",
    "result = eval_model(nn_model, X_ext_test1, y_ext_test1, verbose=True)"
   ]
  },
  {
   "cell_type": "code",
   "execution_count": 81,
   "id": "56cbf415-7293-4f8c-b46d-e814296597c8",
   "metadata": {
    "execution": {
     "iopub.execute_input": "2024-05-05T05:37:52.822754Z",
     "iopub.status.busy": "2024-05-05T05:37:52.822296Z",
     "iopub.status.idle": "2024-05-05T05:37:52.912953Z",
     "shell.execute_reply": "2024-05-05T05:37:52.912537Z",
     "shell.execute_reply.started": "2024-05-05T05:37:52.822734Z"
    },
    "tags": []
   },
   "outputs": [
    {
     "name": "stdout",
     "output_type": "stream",
     "text": [
      "Accuracy: 0.3114503816793893\n",
      "ROC AUC Score: 0.5\n",
      "Precision: 0.0\n",
      "Recall: 0.0\n",
      "F1 Score: 0.0\n",
      "Matthews Correlation Coefficient: 0.0\n",
      "Specificity (Negative Prediction Accuracy): 1.0\n"
     ]
    }
   ],
   "source": [
    "# convert to tensor\n",
    "X_ext_test2 = torch.tensor(X_ext_test2, dtype=torch.float32)  \n",
    "y_ext_test2 = torch.tensor(y_ext_test2, dtype=torch.float32).unsqueeze(1)  # Convert to tensor and ensure correct shape\n",
    "result = eval_model(nn_model, X_ext_test2, y_ext_test2, verbose=True)"
   ]
  },
  {
   "cell_type": "code",
   "execution_count": null,
   "id": "c734536c-c4ea-4ef9-a439-93c1ac797a61",
   "metadata": {},
   "outputs": [],
   "source": []
  }
 ],
 "metadata": {
  "kernelspec": {
   "display_name": "herg",
   "language": "python",
   "name": "herg"
  },
  "language_info": {
   "codemirror_mode": {
    "name": "ipython",
    "version": 3
   },
   "file_extension": ".py",
   "mimetype": "text/x-python",
   "name": "python",
   "nbconvert_exporter": "python",
   "pygments_lexer": "ipython3",
   "version": "3.9.19"
  }
 },
 "nbformat": 4,
 "nbformat_minor": 5
}
