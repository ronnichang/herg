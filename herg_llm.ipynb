{
 "cells": [
  {
   "cell_type": "code",
   "execution_count": 1,
   "id": "e0fc9b99-2c6c-47a2-933d-37adad598f2d",
   "metadata": {
    "execution": {
     "iopub.execute_input": "2024-04-25T00:12:27.428620Z",
     "iopub.status.busy": "2024-04-25T00:12:27.428467Z",
     "iopub.status.idle": "2024-04-25T00:12:27.939789Z",
     "shell.execute_reply": "2024-04-25T00:12:27.938489Z",
     "shell.execute_reply.started": "2024-04-25T00:12:27.428604Z"
    },
    "tags": []
   },
   "outputs": [],
   "source": [
    "%load_ext autoreload\n",
    "%autoreload 2\n",
    "%matplotlib inline"
   ]
  },
  {
   "cell_type": "code",
   "execution_count": null,
   "id": "47f423a8-6422-4e52-934a-7e197bd0e39d",
   "metadata": {},
   "outputs": [],
   "source": []
  },
  {
   "cell_type": "code",
   "execution_count": null,
   "id": "fb749a25-ac83-44cd-8e54-aac9def4d97c",
   "metadata": {},
   "outputs": [],
   "source": []
  },
  {
   "cell_type": "markdown",
   "id": "151a3be9-2573-4941-b103-dcca6391831a",
   "metadata": {},
   "source": [
    "# LLM based model"
   ]
  },
  {
   "cell_type": "code",
   "execution_count": 4,
   "id": "a3231b18-9a66-4528-8962-c38ba898007f",
   "metadata": {
    "execution": {
     "iopub.execute_input": "2024-04-25T00:39:41.183006Z",
     "iopub.status.busy": "2024-04-25T00:39:41.182736Z",
     "iopub.status.idle": "2024-04-25T00:39:42.858133Z",
     "shell.execute_reply": "2024-04-25T00:39:42.857647Z",
     "shell.execute_reply.started": "2024-04-25T00:39:41.182987Z"
    },
    "tags": []
   },
   "outputs": [
    {
     "name": "stderr",
     "output_type": "stream",
     "text": [
      "Found local copy...\n",
      "Loading...\n",
      "Done!\n"
     ]
    }
   ],
   "source": [
    "import torch\n",
    "from torch import nn\n",
    "from torch.utils.data import DataLoader, Dataset\n",
    "from transformers import AutoTokenizer, AutoModelForSequenceClassification, AdamW\n",
    "from tdc.single_pred import Tox\n",
    "from sklearn.model_selection import train_test_split\n",
    "from sklearn.metrics import roc_auc_score\n",
    "\n",
    "# Load dataset\n",
    "data = Tox(name=\"hERG_Karim\")\n",
    "df = data.get_data()\n",
    "\n",
    "# Define a custom dataset class\n",
    "class SMILESDataset(Dataset):\n",
    "    def __init__(self, smiles, labels, tokenizer, max_length=128):\n",
    "        self.smiles = smiles\n",
    "        self.labels = labels\n",
    "        self.tokenizer = tokenizer\n",
    "        self.max_length = max_length\n",
    "\n",
    "    def __len__(self):\n",
    "        return len(self.smiles)\n",
    "\n",
    "    def __getitem__(self, idx):\n",
    "        smile = self.smiles[idx]\n",
    "        label = self.labels[idx]\n",
    "        encoded = self.tokenizer(smile, return_tensors='pt', max_length=self.max_length, padding='max_length', truncation=True)\n",
    "        encoded_input = {key: val.squeeze(0) for key, val in encoded.items()}\n",
    "        return encoded_input, torch.tensor(label, dtype=torch.float)\n",
    "\n",
    "    \n",
    "\"\"\"    \n",
    "# Load model and tokenizer from local paths; \n",
    "local_model_path = './huggingface/ChemBERTa-zinc-base-v1'  # Path where pytorch_model.bin and config.json are stored\n",
    "model = AutoModelForSequenceClassification.from_pretrained(local_model_path, num_labels=1) \n",
    "# or online: model = AutoModelForSequenceClassification.from_pretrained(seyonec/ChemBERTa-zinc-base-v1)\n",
    "\"\"\"\n",
    "\n",
    "\n",
    "local_tokenizer_path = './huggingface/PubChem10M_SMILES_BPE_450k'  # Path where tokenizer files are stored\n",
    "tokenizer = AutoTokenizer.from_pretrained(local_tokenizer_path) \n",
    "# or online: tokenizer = AutoTokenizer.from_pretrained(seyonec/PubChem10M_SMILES_BPE_450k) \n",
    "\n",
    "\n",
    "\n",
    "from transformers import RobertaConfig, RobertaForSequenceClassification\n",
    "\n",
    "# Load existing configuration and modify it\n",
    "config_path = './huggingface/ChemBERTa-zinc-base-v1/config.json'\n",
    "model_config = RobertaConfig.from_pretrained(config_path)\n",
    "model_config.vocab_size = 7924  # Updating the vocab size\n",
    "model_config.num_labels = 1  # Ensure this is set for binary classification\n",
    "\n",
    "# Reinitialize the model with updated configuration\n",
    "model = RobertaForSequenceClassification(config=model_config)\n",
    "\n",
    "\n",
    "\n",
    "\n",
    "# Prepare data\n",
    "smiles = df['Drug'].tolist()\n",
    "labels = df['Y'].tolist()\n",
    "train_smiles, val_smiles, train_labels, val_labels = train_test_split(smiles, labels, test_size=0.1, random_state=42)\n",
    "train_dataset = SMILESDataset(train_smiles, train_labels, tokenizer)\n",
    "val_dataset = SMILESDataset(val_smiles, val_labels, tokenizer)\n",
    "\n",
    "\n",
    "# Data loaders\n",
    "train_loader = DataLoader(train_dataset, batch_size=16, shuffle=True)\n",
    "val_loader = DataLoader(val_dataset, batch_size=16, shuffle=False)\n",
    "\n",
    "\n",
    "# Training\n",
    "device = torch.device(\"cuda\" if torch.cuda.is_available() else \"cpu\")\n",
    "#device = torch.device(\"cpu\")\n",
    "\n",
    "model.to(device)\n",
    "optimizer = AdamW(model.parameters(), lr=5e-5)\n",
    "criterion = nn.BCEWithLogitsLoss()\n",
    "\n",
    "\n",
    "def train_epoch(model, data_loader, optimizer, device, criterion):\n",
    "    model.train()\n",
    "    total_loss = 0\n",
    "    for inputs, labels in data_loader:\n",
    "        inputs = {key: val.to(device) for key, val in inputs.items()}\n",
    "        labels = labels.to(device).unsqueeze(1)\n",
    "        outputs = model(**inputs)\n",
    "        loss = criterion(outputs.logits, labels)\n",
    "\n",
    "        optimizer.zero_grad()\n",
    "        loss.backward()\n",
    "        optimizer.step()\n",
    "        total_loss += loss.item()\n",
    "    return total_loss / len(data_loader)\n",
    "\n",
    "\n",
    "\n",
    "def eval_model(model, data_loader, device):\n",
    "    model.eval()\n",
    "    predictions = []\n",
    "    real_values = []\n",
    "    with torch.no_grad():\n",
    "        for inputs, labels in data_loader:\n",
    "            inputs = {key: val.to(device) for key, val in inputs.items()}\n",
    "            outputs = model(**inputs)\n",
    "            preds = torch.sigmoid(outputs.logits)\n",
    "            predictions.extend(preds.flatten().tolist())\n",
    "            real_values.extend(labels.tolist())\n",
    "    return roc_auc_score(real_values, predictions)\n",
    "\n"
   ]
  },
  {
   "cell_type": "code",
   "execution_count": 3,
   "id": "3f964a87-2610-40aa-b34d-8949e17de1d9",
   "metadata": {
    "execution": {
     "iopub.execute_input": "2024-04-25T00:14:50.182232Z",
     "iopub.status.busy": "2024-04-25T00:14:50.181974Z",
     "iopub.status.idle": "2024-04-25T00:37:37.031933Z",
     "shell.execute_reply": "2024-04-25T00:37:37.031275Z",
     "shell.execute_reply.started": "2024-04-25T00:14:50.182213Z"
    },
    "tags": []
   },
   "outputs": [
    {
     "name": "stdout",
     "output_type": "stream",
     "text": [
      "Epoch 1, Train Loss: 0.5799, Val AUC: 0.7816\n",
      "Epoch 2, Train Loss: 0.5507, Val AUC: 0.7922\n",
      "Epoch 3, Train Loss: 0.5265, Val AUC: 0.7896\n",
      "Epoch 4, Train Loss: 0.4985, Val AUC: 0.8095\n",
      "Epoch 9, Train Loss: 0.3870, Val AUC: 0.8307\n",
      "Epoch 10, Train Loss: 0.3588, Val AUC: 0.8304\n",
      "Epoch 11, Train Loss: 0.3360, Val AUC: 0.8326\n",
      "Epoch 12, Train Loss: 0.3195, Val AUC: 0.8301\n",
      "Epoch 13, Train Loss: 0.2934, Val AUC: 0.8262\n",
      "Epoch 14, Train Loss: 0.2779, Val AUC: 0.8308\n",
      "Epoch 15, Train Loss: 0.2622, Val AUC: 0.8315\n",
      "Epoch 16, Train Loss: 0.2430, Val AUC: 0.8353\n",
      "Epoch 17, Train Loss: 0.2284, Val AUC: 0.8294\n",
      "Epoch 18, Train Loss: 0.2289, Val AUC: 0.8301\n",
      "Epoch 19, Train Loss: 0.2714, Val AUC: 0.8283\n",
      "Epoch 20, Train Loss: 0.2347, Val AUC: 0.8331\n",
      "Epoch 21, Train Loss: 0.2291, Val AUC: 0.8328\n",
      "Epoch 22, Train Loss: 0.2186, Val AUC: 0.8299\n",
      "Epoch 23, Train Loss: 0.1849, Val AUC: 0.8384\n",
      "Epoch 24, Train Loss: 0.1856, Val AUC: 0.8406\n",
      "Epoch 25, Train Loss: 0.1710, Val AUC: 0.8298\n",
      "Epoch 26, Train Loss: 0.1561, Val AUC: 0.8300\n",
      "Epoch 27, Train Loss: 0.1909, Val AUC: 0.8130\n",
      "Epoch 28, Train Loss: 0.2467, Val AUC: 0.8283\n",
      "Epoch 29, Train Loss: 0.2245, Val AUC: 0.8351\n",
      "Epoch 30, Train Loss: 0.2050, Val AUC: 0.8383\n"
     ]
    }
   ],
   "source": [
    "# Train the model\n",
    "num_epochs = 30\n",
    "for epoch in range(num_epochs):\n",
    "    train_loss = train_epoch(model, train_loader, optimizer, device, criterion)\n",
    "    val_auc = eval_model(model, val_loader, device)\n",
    "    print(f'Epoch {epoch+1}, Train Loss: {train_loss:.4f}, Val AUC: {val_auc:.4f}')\n"
   ]
  },
  {
   "cell_type": "code",
   "execution_count": null,
   "id": "b02d250f-9b7e-42aa-a71b-99c2cb266fe9",
   "metadata": {},
   "outputs": [],
   "source": []
  },
  {
   "cell_type": "code",
   "execution_count": null,
   "id": "612a6af3-0fa7-4f0e-965d-a07e9158d727",
   "metadata": {},
   "outputs": [],
   "source": []
  }
 ],
 "metadata": {
  "kernelspec": {
   "display_name": "herg",
   "language": "python",
   "name": "herg"
  },
  "language_info": {
   "codemirror_mode": {
    "name": "ipython",
    "version": 3
   },
   "file_extension": ".py",
   "mimetype": "text/x-python",
   "name": "python",
   "nbconvert_exporter": "python",
   "pygments_lexer": "ipython3",
   "version": "3.9.19"
  }
 },
 "nbformat": 4,
 "nbformat_minor": 5
}
