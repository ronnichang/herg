{
 "cells": [
  {
   "cell_type": "code",
   "execution_count": 1,
   "id": "e0fc9b99-2c6c-47a2-933d-37adad598f2d",
   "metadata": {
    "execution": {
     "iopub.execute_input": "2024-06-27T03:35:00.416328Z",
     "iopub.status.busy": "2024-06-27T03:35:00.415999Z",
     "iopub.status.idle": "2024-06-27T03:35:00.819536Z",
     "shell.execute_reply": "2024-06-27T03:35:00.819012Z",
     "shell.execute_reply.started": "2024-06-27T03:35:00.416306Z"
    },
    "tags": []
   },
   "outputs": [],
   "source": [
    "%load_ext autoreload\n",
    "%autoreload 2\n",
    "%matplotlib inline\n",
    "\n",
    "import os\n",
    "import sys\n",
    "sys.path.append('./src')"
   ]
  },
  {
   "cell_type": "code",
   "execution_count": 2,
   "id": "702200f9-db85-4c64-9b45-af17cfe8eb43",
   "metadata": {
    "execution": {
     "iopub.execute_input": "2024-06-27T03:35:00.821005Z",
     "iopub.status.busy": "2024-06-27T03:35:00.820370Z",
     "iopub.status.idle": "2024-06-27T03:35:00.852389Z",
     "shell.execute_reply": "2024-06-27T03:35:00.851932Z",
     "shell.execute_reply.started": "2024-06-27T03:35:00.820983Z"
    },
    "tags": []
   },
   "outputs": [],
   "source": [
    "import pandas as pd\n",
    "import numpy as np"
   ]
  },
  {
   "cell_type": "markdown",
   "id": "13ac6c36-91c5-4ca3-add3-c472a822c1f4",
   "metadata": {},
   "source": [
    "# Get Data"
   ]
  },
  {
   "cell_type": "code",
   "execution_count": 3,
   "id": "39b3a309-de52-41aa-b6de-c37aa19d3c89",
   "metadata": {
    "execution": {
     "iopub.execute_input": "2024-06-27T03:35:00.853265Z",
     "iopub.status.busy": "2024-06-27T03:35:00.853051Z",
     "iopub.status.idle": "2024-06-27T03:35:03.717477Z",
     "shell.execute_reply": "2024-06-27T03:35:03.716671Z",
     "shell.execute_reply.started": "2024-06-27T03:35:00.853248Z"
    },
    "tags": []
   },
   "outputs": [
    {
     "name": "stdout",
     "output_type": "stream",
     "text": [
      "train data contains 12620 compounds:\n",
      "\t6643 hERG blockers and 5977 non-blockers\n",
      "test_0 contains 44 compounds:\n",
      "\t30 hERG blockers and 14 non-blockers\n",
      "test_1 contains 41 compounds:\n",
      "\t11 hERG blockers and 30 non-blockers\n",
      "test_2 contains 740 compounds:\n",
      "\t34 hERG blockers and 706 non-blockers\n"
     ]
    }
   ],
   "source": [
    "import get_data \n",
    "train_all_data, test_all_data = get_data.get_cardiotoxnet_data()"
   ]
  },
  {
   "cell_type": "code",
   "execution_count": 4,
   "id": "fff30ee2-64c3-4a22-923c-edfec655280c",
   "metadata": {
    "execution": {
     "iopub.execute_input": "2024-06-27T03:35:03.719456Z",
     "iopub.status.busy": "2024-06-27T03:35:03.718911Z",
     "iopub.status.idle": "2024-06-27T03:35:09.840908Z",
     "shell.execute_reply": "2024-06-27T03:35:09.840289Z",
     "shell.execute_reply.started": "2024-06-27T03:35:03.719436Z"
    },
    "tags": []
   },
   "outputs": [
    {
     "name": "stdout",
     "output_type": "stream",
     "text": [
      "Training set size: 9989\n",
      "Validation set size: 2631\n"
     ]
    }
   ],
   "source": [
    "random_state = 42\n",
    "test_percent = 0.2\n",
    "smiles_column = 'smiles'\n",
    "train_data, val_data = get_data.split_data(train_all_data, smiles_column, test_percent=0.2, random_state=random_state)"
   ]
  },
  {
   "cell_type": "code",
   "execution_count": 5,
   "id": "1515f8f9-a53d-402e-8cf4-69f3c9587fe7",
   "metadata": {
    "execution": {
     "iopub.execute_input": "2024-06-27T03:35:09.842263Z",
     "iopub.status.busy": "2024-06-27T03:35:09.841881Z",
     "iopub.status.idle": "2024-06-27T03:35:09.912875Z",
     "shell.execute_reply": "2024-06-27T03:35:09.912449Z",
     "shell.execute_reply.started": "2024-06-27T03:35:09.842243Z"
    },
    "tags": []
   },
   "outputs": [
    {
     "data": {
      "text/html": [
       "<div>\n",
       "<style scoped>\n",
       "    .dataframe tbody tr th:only-of-type {\n",
       "        vertical-align: middle;\n",
       "    }\n",
       "\n",
       "    .dataframe tbody tr th {\n",
       "        vertical-align: top;\n",
       "    }\n",
       "\n",
       "    .dataframe thead th {\n",
       "        text-align: right;\n",
       "    }\n",
       "</style>\n",
       "<table border=\"1\" class=\"dataframe\">\n",
       "  <thead>\n",
       "    <tr style=\"text-align: right;\">\n",
       "      <th></th>\n",
       "      <th>ACTIVITY</th>\n",
       "      <th>smiles</th>\n",
       "      <th>ABC</th>\n",
       "      <th>ABCGG</th>\n",
       "      <th>nAcid</th>\n",
       "      <th>nBase</th>\n",
       "      <th>nAromAtom</th>\n",
       "      <th>nAromBond</th>\n",
       "      <th>nAtom</th>\n",
       "      <th>nHeavyAtom</th>\n",
       "      <th>...</th>\n",
       "      <th>SRW09</th>\n",
       "      <th>SRW10</th>\n",
       "      <th>TSRW10</th>\n",
       "      <th>MW</th>\n",
       "      <th>AMW</th>\n",
       "      <th>WPath</th>\n",
       "      <th>WPol</th>\n",
       "      <th>Zagreb1</th>\n",
       "      <th>Zagreb2</th>\n",
       "      <th>mZagreb2</th>\n",
       "    </tr>\n",
       "  </thead>\n",
       "  <tbody>\n",
       "    <tr>\n",
       "      <th>0</th>\n",
       "      <td>1</td>\n",
       "      <td>Fc1ccc(-n2cc(NCCN3CCCCC3)nn2)cc1F</td>\n",
       "      <td>17.108462</td>\n",
       "      <td>13.312773</td>\n",
       "      <td>0</td>\n",
       "      <td>1</td>\n",
       "      <td>11</td>\n",
       "      <td>11</td>\n",
       "      <td>41</td>\n",
       "      <td>22</td>\n",
       "      <td>...</td>\n",
       "      <td>6.580639</td>\n",
       "      <td>9.781828</td>\n",
       "      <td>69.261944</td>\n",
       "      <td>307.160852</td>\n",
       "      <td>7.491728</td>\n",
       "      <td>1258</td>\n",
       "      <td>29</td>\n",
       "      <td>112</td>\n",
       "      <td>128</td>\n",
       "      <td>4.888889</td>\n",
       "    </tr>\n",
       "    <tr>\n",
       "      <th>1</th>\n",
       "      <td>0</td>\n",
       "      <td>COc1cc(N2Cc3ccc(Sc4ccc(F)cc4)nc3C2=O)ccc1OCCN1...</td>\n",
       "      <td>26.886637</td>\n",
       "      <td>19.283801</td>\n",
       "      <td>0</td>\n",
       "      <td>1</td>\n",
       "      <td>18</td>\n",
       "      <td>18</td>\n",
       "      <td>60</td>\n",
       "      <td>34</td>\n",
       "      <td>...</td>\n",
       "      <td>7.412764</td>\n",
       "      <td>10.412922</td>\n",
       "      <td>86.178228</td>\n",
       "      <td>479.167891</td>\n",
       "      <td>7.986132</td>\n",
       "      <td>4035</td>\n",
       "      <td>52</td>\n",
       "      <td>182</td>\n",
       "      <td>215</td>\n",
       "      <td>7.472222</td>\n",
       "    </tr>\n",
       "    <tr>\n",
       "      <th>2</th>\n",
       "      <td>0</td>\n",
       "      <td>CCOC(=O)[C@H]1CC[C@@H](N2CC(NC(=O)CNc3nn(C(N)=...</td>\n",
       "      <td>28.187229</td>\n",
       "      <td>20.640811</td>\n",
       "      <td>0</td>\n",
       "      <td>1</td>\n",
       "      <td>9</td>\n",
       "      <td>10</td>\n",
       "      <td>65</td>\n",
       "      <td>36</td>\n",
       "      <td>...</td>\n",
       "      <td>7.050123</td>\n",
       "      <td>10.607303</td>\n",
       "      <td>87.262633</td>\n",
       "      <td>510.220238</td>\n",
       "      <td>7.849542</td>\n",
       "      <td>4957</td>\n",
       "      <td>56</td>\n",
       "      <td>192</td>\n",
       "      <td>226</td>\n",
       "      <td>7.750000</td>\n",
       "    </tr>\n",
       "    <tr>\n",
       "      <th>3</th>\n",
       "      <td>0</td>\n",
       "      <td>N[C@@H](Cn1c(=O)cnc2ccc(F)cc21)C1CCC(NCc2ccc3c...</td>\n",
       "      <td>27.105416</td>\n",
       "      <td>18.346730</td>\n",
       "      <td>0</td>\n",
       "      <td>2</td>\n",
       "      <td>16</td>\n",
       "      <td>17</td>\n",
       "      <td>61</td>\n",
       "      <td>34</td>\n",
       "      <td>...</td>\n",
       "      <td>0.000000</td>\n",
       "      <td>10.500041</td>\n",
       "      <td>70.568018</td>\n",
       "      <td>466.212867</td>\n",
       "      <td>7.642834</td>\n",
       "      <td>4122</td>\n",
       "      <td>56</td>\n",
       "      <td>184</td>\n",
       "      <td>217</td>\n",
       "      <td>7.305556</td>\n",
       "    </tr>\n",
       "    <tr>\n",
       "      <th>5</th>\n",
       "      <td>0</td>\n",
       "      <td>Cc1cc(Nc2cncc(N[C@@H](C)c3ncc(F)cn3)n2)n[nH]1</td>\n",
       "      <td>17.965399</td>\n",
       "      <td>14.197055</td>\n",
       "      <td>0</td>\n",
       "      <td>0</td>\n",
       "      <td>17</td>\n",
       "      <td>17</td>\n",
       "      <td>38</td>\n",
       "      <td>23</td>\n",
       "      <td>...</td>\n",
       "      <td>6.529419</td>\n",
       "      <td>9.823957</td>\n",
       "      <td>70.453602</td>\n",
       "      <td>314.140371</td>\n",
       "      <td>8.266852</td>\n",
       "      <td>1353</td>\n",
       "      <td>30</td>\n",
       "      <td>118</td>\n",
       "      <td>134</td>\n",
       "      <td>5.027778</td>\n",
       "    </tr>\n",
       "  </tbody>\n",
       "</table>\n",
       "<p>5 rows × 997 columns</p>\n",
       "</div>"
      ],
      "text/plain": [
       "   ACTIVITY                                             smiles        ABC  \\\n",
       "0         1                  Fc1ccc(-n2cc(NCCN3CCCCC3)nn2)cc1F  17.108462   \n",
       "1         0  COc1cc(N2Cc3ccc(Sc4ccc(F)cc4)nc3C2=O)ccc1OCCN1...  26.886637   \n",
       "2         0  CCOC(=O)[C@H]1CC[C@@H](N2CC(NC(=O)CNc3nn(C(N)=...  28.187229   \n",
       "3         0  N[C@@H](Cn1c(=O)cnc2ccc(F)cc21)C1CCC(NCc2ccc3c...  27.105416   \n",
       "5         0      Cc1cc(Nc2cncc(N[C@@H](C)c3ncc(F)cn3)n2)n[nH]1  17.965399   \n",
       "\n",
       "       ABCGG  nAcid  nBase  nAromAtom  nAromBond  nAtom  nHeavyAtom  ...  \\\n",
       "0  13.312773      0      1         11         11     41          22  ...   \n",
       "1  19.283801      0      1         18         18     60          34  ...   \n",
       "2  20.640811      0      1          9         10     65          36  ...   \n",
       "3  18.346730      0      2         16         17     61          34  ...   \n",
       "5  14.197055      0      0         17         17     38          23  ...   \n",
       "\n",
       "      SRW09      SRW10     TSRW10          MW       AMW  WPath  WPol  Zagreb1  \\\n",
       "0  6.580639   9.781828  69.261944  307.160852  7.491728   1258    29      112   \n",
       "1  7.412764  10.412922  86.178228  479.167891  7.986132   4035    52      182   \n",
       "2  7.050123  10.607303  87.262633  510.220238  7.849542   4957    56      192   \n",
       "3  0.000000  10.500041  70.568018  466.212867  7.642834   4122    56      184   \n",
       "5  6.529419   9.823957  70.453602  314.140371  8.266852   1353    30      118   \n",
       "\n",
       "   Zagreb2  mZagreb2  \n",
       "0      128  4.888889  \n",
       "1      215  7.472222  \n",
       "2      226  7.750000  \n",
       "3      217  7.305556  \n",
       "5      134  5.027778  \n",
       "\n",
       "[5 rows x 997 columns]"
      ]
     },
     "execution_count": 5,
     "metadata": {},
     "output_type": "execute_result"
    }
   ],
   "source": [
    "train_data.head()"
   ]
  },
  {
   "cell_type": "code",
   "execution_count": 6,
   "id": "8cd707a9-77d3-4596-9d42-da1f2c9fccb2",
   "metadata": {
    "execution": {
     "iopub.execute_input": "2024-06-27T03:35:09.913861Z",
     "iopub.status.busy": "2024-06-27T03:35:09.913549Z",
     "iopub.status.idle": "2024-06-27T03:35:09.956910Z",
     "shell.execute_reply": "2024-06-27T03:35:09.956533Z",
     "shell.execute_reply.started": "2024-06-27T03:35:09.913843Z"
    },
    "tags": []
   },
   "outputs": [
    {
     "data": {
      "text/html": [
       "<div>\n",
       "<style scoped>\n",
       "    .dataframe tbody tr th:only-of-type {\n",
       "        vertical-align: middle;\n",
       "    }\n",
       "\n",
       "    .dataframe tbody tr th {\n",
       "        vertical-align: top;\n",
       "    }\n",
       "\n",
       "    .dataframe thead th {\n",
       "        text-align: right;\n",
       "    }\n",
       "</style>\n",
       "<table border=\"1\" class=\"dataframe\">\n",
       "  <thead>\n",
       "    <tr style=\"text-align: right;\">\n",
       "      <th></th>\n",
       "      <th>ACTIVITY</th>\n",
       "      <th>smiles</th>\n",
       "      <th>ABC</th>\n",
       "      <th>ABCGG</th>\n",
       "      <th>nAcid</th>\n",
       "      <th>nBase</th>\n",
       "      <th>nAromAtom</th>\n",
       "      <th>nAromBond</th>\n",
       "      <th>nAtom</th>\n",
       "      <th>nHeavyAtom</th>\n",
       "      <th>...</th>\n",
       "      <th>SRW09</th>\n",
       "      <th>SRW10</th>\n",
       "      <th>TSRW10</th>\n",
       "      <th>MW</th>\n",
       "      <th>AMW</th>\n",
       "      <th>WPath</th>\n",
       "      <th>WPol</th>\n",
       "      <th>Zagreb1</th>\n",
       "      <th>Zagreb2</th>\n",
       "      <th>mZagreb2</th>\n",
       "    </tr>\n",
       "  </thead>\n",
       "  <tbody>\n",
       "    <tr>\n",
       "      <th>4</th>\n",
       "      <td>0</td>\n",
       "      <td>O=C(NC1COc2cccc(-c3ccnc(CO)c3)c2C1)c1ccc(OCC(F...</td>\n",
       "      <td>25.880229</td>\n",
       "      <td>18.463716</td>\n",
       "      <td>0</td>\n",
       "      <td>0</td>\n",
       "      <td>18</td>\n",
       "      <td>18</td>\n",
       "      <td>53</td>\n",
       "      <td>33</td>\n",
       "      <td>...</td>\n",
       "      <td>0.000000</td>\n",
       "      <td>10.391239</td>\n",
       "      <td>69.196044</td>\n",
       "      <td>459.140591</td>\n",
       "      <td>8.663030</td>\n",
       "      <td>3658</td>\n",
       "      <td>51</td>\n",
       "      <td>174</td>\n",
       "      <td>201</td>\n",
       "      <td>7.152778</td>\n",
       "    </tr>\n",
       "    <tr>\n",
       "      <th>6</th>\n",
       "      <td>0</td>\n",
       "      <td>C[N+]1CC[N+](CCCN2c3ccccc3Sc3ccc(Cl)cc32)CC1</td>\n",
       "      <td>19.856009</td>\n",
       "      <td>14.567550</td>\n",
       "      <td>0</td>\n",
       "      <td>2</td>\n",
       "      <td>12</td>\n",
       "      <td>12</td>\n",
       "      <td>49</td>\n",
       "      <td>25</td>\n",
       "      <td>...</td>\n",
       "      <td>0.000000</td>\n",
       "      <td>10.204962</td>\n",
       "      <td>60.016070</td>\n",
       "      <td>373.136849</td>\n",
       "      <td>7.615038</td>\n",
       "      <td>1544</td>\n",
       "      <td>40</td>\n",
       "      <td>134</td>\n",
       "      <td>158</td>\n",
       "      <td>5.444444</td>\n",
       "    </tr>\n",
       "    <tr>\n",
       "      <th>8</th>\n",
       "      <td>1</td>\n",
       "      <td>O=C(c1ccncc1)N1CCC2(CCN(Cc3cccc(Oc4ccccc4)c3)C...</td>\n",
       "      <td>26.191460</td>\n",
       "      <td>17.210284</td>\n",
       "      <td>0</td>\n",
       "      <td>1</td>\n",
       "      <td>18</td>\n",
       "      <td>18</td>\n",
       "      <td>64</td>\n",
       "      <td>33</td>\n",
       "      <td>...</td>\n",
       "      <td>0.000000</td>\n",
       "      <td>10.397421</td>\n",
       "      <td>69.250668</td>\n",
       "      <td>441.241627</td>\n",
       "      <td>6.894400</td>\n",
       "      <td>3896</td>\n",
       "      <td>51</td>\n",
       "      <td>176</td>\n",
       "      <td>205</td>\n",
       "      <td>7.222222</td>\n",
       "    </tr>\n",
       "    <tr>\n",
       "      <th>9</th>\n",
       "      <td>0</td>\n",
       "      <td>COc1ccc(-c2cc(-c3ccc(C(=O)N(C)C)cc3)cnc2N)cn1</td>\n",
       "      <td>20.034348</td>\n",
       "      <td>15.337941</td>\n",
       "      <td>0</td>\n",
       "      <td>0</td>\n",
       "      <td>18</td>\n",
       "      <td>18</td>\n",
       "      <td>46</td>\n",
       "      <td>26</td>\n",
       "      <td>...</td>\n",
       "      <td>0.000000</td>\n",
       "      <td>10.129706</td>\n",
       "      <td>60.902190</td>\n",
       "      <td>348.158626</td>\n",
       "      <td>7.568666</td>\n",
       "      <td>1827</td>\n",
       "      <td>42</td>\n",
       "      <td>134</td>\n",
       "      <td>157</td>\n",
       "      <td>5.805556</td>\n",
       "    </tr>\n",
       "    <tr>\n",
       "      <th>12</th>\n",
       "      <td>1</td>\n",
       "      <td>Cc1ccc(NC(=O)N[C@@H]2N=C(c3ccccc3)c3ccccc3N(C)...</td>\n",
       "      <td>23.529442</td>\n",
       "      <td>18.178191</td>\n",
       "      <td>0</td>\n",
       "      <td>0</td>\n",
       "      <td>18</td>\n",
       "      <td>18</td>\n",
       "      <td>52</td>\n",
       "      <td>30</td>\n",
       "      <td>...</td>\n",
       "      <td>5.459586</td>\n",
       "      <td>10.281821</td>\n",
       "      <td>73.857434</td>\n",
       "      <td>398.174276</td>\n",
       "      <td>7.657198</td>\n",
       "      <td>2431</td>\n",
       "      <td>52</td>\n",
       "      <td>158</td>\n",
       "      <td>186</td>\n",
       "      <td>6.583333</td>\n",
       "    </tr>\n",
       "  </tbody>\n",
       "</table>\n",
       "<p>5 rows × 997 columns</p>\n",
       "</div>"
      ],
      "text/plain": [
       "    ACTIVITY                                             smiles        ABC  \\\n",
       "4          0  O=C(NC1COc2cccc(-c3ccnc(CO)c3)c2C1)c1ccc(OCC(F...  25.880229   \n",
       "6          0       C[N+]1CC[N+](CCCN2c3ccccc3Sc3ccc(Cl)cc32)CC1  19.856009   \n",
       "8          1  O=C(c1ccncc1)N1CCC2(CCN(Cc3cccc(Oc4ccccc4)c3)C...  26.191460   \n",
       "9          0      COc1ccc(-c2cc(-c3ccc(C(=O)N(C)C)cc3)cnc2N)cn1  20.034348   \n",
       "12         1  Cc1ccc(NC(=O)N[C@@H]2N=C(c3ccccc3)c3ccccc3N(C)...  23.529442   \n",
       "\n",
       "        ABCGG  nAcid  nBase  nAromAtom  nAromBond  nAtom  nHeavyAtom  ...  \\\n",
       "4   18.463716      0      0         18         18     53          33  ...   \n",
       "6   14.567550      0      2         12         12     49          25  ...   \n",
       "8   17.210284      0      1         18         18     64          33  ...   \n",
       "9   15.337941      0      0         18         18     46          26  ...   \n",
       "12  18.178191      0      0         18         18     52          30  ...   \n",
       "\n",
       "       SRW09      SRW10     TSRW10          MW       AMW  WPath  WPol  \\\n",
       "4   0.000000  10.391239  69.196044  459.140591  8.663030   3658    51   \n",
       "6   0.000000  10.204962  60.016070  373.136849  7.615038   1544    40   \n",
       "8   0.000000  10.397421  69.250668  441.241627  6.894400   3896    51   \n",
       "9   0.000000  10.129706  60.902190  348.158626  7.568666   1827    42   \n",
       "12  5.459586  10.281821  73.857434  398.174276  7.657198   2431    52   \n",
       "\n",
       "    Zagreb1  Zagreb2  mZagreb2  \n",
       "4       174      201  7.152778  \n",
       "6       134      158  5.444444  \n",
       "8       176      205  7.222222  \n",
       "9       134      157  5.805556  \n",
       "12      158      186  6.583333  \n",
       "\n",
       "[5 rows x 997 columns]"
      ]
     },
     "execution_count": 6,
     "metadata": {},
     "output_type": "execute_result"
    }
   ],
   "source": [
    "val_data.head()"
   ]
  },
  {
   "cell_type": "markdown",
   "id": "151a3be9-2573-4941-b103-dcca6391831a",
   "metadata": {},
   "source": [
    "# ChemBERTa based model"
   ]
  },
  {
   "cell_type": "code",
   "execution_count": 7,
   "id": "b0fb6347-fc88-4078-8133-41f61cadae36",
   "metadata": {
    "execution": {
     "iopub.execute_input": "2024-06-27T03:35:09.957770Z",
     "iopub.status.busy": "2024-06-27T03:35:09.957509Z",
     "iopub.status.idle": "2024-06-27T03:35:12.104321Z",
     "shell.execute_reply": "2024-06-27T03:35:12.103820Z",
     "shell.execute_reply.started": "2024-06-27T03:35:09.957753Z"
    },
    "tags": []
   },
   "outputs": [
    {
     "name": "stderr",
     "output_type": "stream",
     "text": [
      "Special tokens have been added in the vocabulary, make sure the associated word embeddings are fine-tuned or trained.\n"
     ]
    }
   ],
   "source": [
    "from transformers import RobertaTokenizer\n",
    "model_path = \"./huggingface/ChemBERTa-77M-MLM\"\n",
    "tokenizer = RobertaTokenizer.from_pretrained(model_path)\n",
    "\n",
    "def tokenize_function(smiles_list):\n",
    "    return tokenizer(smiles_list, padding='max_length', truncation=True, max_length=128)\n",
    "\n",
    "train_encodings = tokenize_function(train_data['smiles'].tolist())\n",
    "val_encodings = tokenize_function(val_data['smiles'].tolist())\n"
   ]
  },
  {
   "cell_type": "code",
   "execution_count": 8,
   "id": "77881e58-6163-4586-b83b-e8251b020436",
   "metadata": {
    "execution": {
     "iopub.execute_input": "2024-06-27T03:35:12.105682Z",
     "iopub.status.busy": "2024-06-27T03:35:12.105060Z",
     "iopub.status.idle": "2024-06-27T03:35:12.145576Z",
     "shell.execute_reply": "2024-06-27T03:35:12.145170Z",
     "shell.execute_reply.started": "2024-06-27T03:35:12.105661Z"
    },
    "tags": []
   },
   "outputs": [],
   "source": [
    "import torch\n",
    "\n",
    "class Dataset(torch.utils.data.Dataset):\n",
    "    def __init__(self, encodings, labels):\n",
    "        self.encodings = encodings\n",
    "        self.labels = labels\n",
    "\n",
    "    def __getitem__(self, idx):\n",
    "        item = {key: torch.tensor(val[idx]) for key, val in self.encodings.items()}\n",
    "        item['labels'] = torch.tensor(self.labels[idx])\n",
    "        return item\n",
    "\n",
    "    def __len__(self):\n",
    "        return len(self.labels)\n",
    "\n",
    "train_labels = train_data['ACTIVITY'].tolist()\n",
    "val_labels = val_data['ACTIVITY'].tolist()\n",
    "\n",
    "train_dataset = Dataset(train_encodings, train_labels)\n",
    "val_dataset = Dataset(val_encodings, val_labels)\n"
   ]
  },
  {
   "cell_type": "markdown",
   "id": "5307e1fb-40c5-440c-86cb-edb0364bdb4f",
   "metadata": {},
   "source": [
    "## load the model"
   ]
  },
  {
   "cell_type": "code",
   "execution_count": 9,
   "id": "1895744a-9210-4ecd-94b3-30126788c399",
   "metadata": {
    "execution": {
     "iopub.execute_input": "2024-06-27T03:35:12.146656Z",
     "iopub.status.busy": "2024-06-27T03:35:12.146179Z",
     "iopub.status.idle": "2024-06-27T03:35:12.273151Z",
     "shell.execute_reply": "2024-06-27T03:35:12.272734Z",
     "shell.execute_reply.started": "2024-06-27T03:35:12.146640Z"
    },
    "tags": []
   },
   "outputs": [
    {
     "name": "stderr",
     "output_type": "stream",
     "text": [
      "Some weights of RobertaForSequenceClassification were not initialized from the model checkpoint at ./huggingface/ChemBERTa-77M-MLM and are newly initialized: ['classifier.dense.bias', 'classifier.dense.weight', 'classifier.out_proj.bias', 'classifier.out_proj.weight']\n",
      "You should probably TRAIN this model on a down-stream task to be able to use it for predictions and inference.\n"
     ]
    }
   ],
   "source": [
    "from transformers import RobertaForSequenceClassification\n",
    "\n",
    "model = RobertaForSequenceClassification.from_pretrained(model_path, num_labels=2)\n"
   ]
  },
  {
   "cell_type": "markdown",
   "id": "ed92b428-bd3b-48fb-b504-f847a793d8da",
   "metadata": {},
   "source": [
    "## traing the model"
   ]
  },
  {
   "cell_type": "code",
   "execution_count": 10,
   "id": "daa65f92-74ec-48f6-93e6-2721f25b0b4a",
   "metadata": {
    "execution": {
     "iopub.execute_input": "2024-06-27T03:35:12.275169Z",
     "iopub.status.busy": "2024-06-27T03:35:12.274845Z",
     "iopub.status.idle": "2024-06-27T03:39:48.534403Z",
     "shell.execute_reply": "2024-06-27T03:39:48.533209Z",
     "shell.execute_reply.started": "2024-06-27T03:35:12.275152Z"
    },
    "tags": []
   },
   "outputs": [
    {
     "name": "stdout",
     "output_type": "stream",
     "text": [
      "Epoch 1/20: Training Loss: 0.6120, Validation Loss: 0.5620098090461685\n",
      "Saved best model with validation loss: 0.5620098090461685\n",
      "Epoch 2/20: Training Loss: 0.5077, Validation Loss: 0.563314681221649\n",
      "Epoch 3/20: Training Loss: 0.4615, Validation Loss: 0.5449736199389837\n",
      "Saved best model with validation loss: 0.5449736199389837\n",
      "Epoch 4/20: Training Loss: 0.4261, Validation Loss: 0.557072337750787\n",
      "Epoch 5/20: Training Loss: 0.4030, Validation Loss: 0.5635733686296954\n",
      "Epoch 6/20: Training Loss: 0.3712, Validation Loss: 0.573351968827128\n",
      "Epoch 7/20: Training Loss: 0.3458, Validation Loss: 0.5921924246593993\n",
      "Epoch 8/20: Training Loss: 0.3332, Validation Loss: 0.589735292283235\n",
      "Epoch 9/20: Training Loss: 0.3108, Validation Loss: 0.6288277801567842\n",
      "Epoch 10/20: Training Loss: 0.2983, Validation Loss: 0.6446513537102376\n",
      "Epoch 11/20: Training Loss: 0.2822, Validation Loss: 0.6734623156974834\n",
      "Epoch 12/20: Training Loss: 0.2717, Validation Loss: 0.6592214081640211\n",
      "Epoch 13/20: Training Loss: 0.2580, Validation Loss: 0.6885127143589015\n",
      "Epoch 14/20: Training Loss: 0.2559, Validation Loss: 0.6791821147306711\n",
      "Epoch 15/20: Training Loss: 0.2386, Validation Loss: 0.7271620311511052\n",
      "Epoch 16/20: Training Loss: 0.2373, Validation Loss: 0.7026454413134186\n",
      "Epoch 17/20: Training Loss: 0.2318, Validation Loss: 0.7305170922316497\n",
      "Epoch 18/20: Training Loss: 0.2355, Validation Loss: 0.7129744501433428\n",
      "Epoch 19/20: Training Loss: 0.2196, Validation Loss: 0.7240361849434878\n",
      "Epoch 20/20: Training Loss: 0.2142, Validation Loss: 0.7305432774528499\n"
     ]
    }
   ],
   "source": [
    "from torch.utils.data import DataLoader\n",
    "from transformers import AdamW, get_scheduler\n",
    "from sklearn.metrics import accuracy_score, f1_score\n",
    "\n",
    "train_loader = DataLoader(train_dataset, batch_size=8, shuffle=True)\n",
    "val_loader = DataLoader(val_dataset, batch_size=8, shuffle=False)\n",
    "\n",
    "optimizer = AdamW(model.parameters(), lr=5e-5)\n",
    "\n",
    "num_epochs = 20\n",
    "num_training_steps = num_epochs * len(train_loader)\n",
    "lr_scheduler = get_scheduler(\n",
    "    \"linear\",\n",
    "    optimizer=optimizer,\n",
    "    num_warmup_steps=0,\n",
    "    num_training_steps=num_training_steps\n",
    ")\n",
    "\n",
    "device = torch.device(\"cuda\") if torch.cuda.is_available() else torch.device(\"cpu\")\n",
    "model.to(device)\n",
    "\n",
    "\n",
    "train_losses = []\n",
    "val_losses = []\n",
    "\n",
    "best_val_loss = float('inf')\n",
    "best_model_dir = 'best_chemberta_herg_model'\n",
    "\n",
    "if not os.path.exists(best_model_dir):\n",
    "    os.makedirs(best_model_dir)\n",
    "\n",
    "\n",
    "for epoch in range(num_epochs):\n",
    "    model.train()\n",
    "    train_loss = 0\n",
    "    for batch in train_loader:\n",
    "        batch = {k: v.to(device) for k, v in batch.items()}\n",
    "        outputs = model(**batch)\n",
    "        loss = outputs.loss # cross-entropy loss\n",
    "        loss.backward()\n",
    "\n",
    "        optimizer.step()\n",
    "        lr_scheduler.step()\n",
    "        optimizer.zero_grad()\n",
    "        train_loss += loss.item()\n",
    "    \n",
    "    avg_train_loss = train_loss / len(train_loader)\n",
    "    train_losses.append(avg_train_loss)\n",
    "    \n",
    "    model.eval()\n",
    "    val_loss = 0\n",
    "    predictions = []\n",
    "    true_labels = []\n",
    "    \n",
    "    with torch.no_grad():\n",
    "        for batch in val_loader:\n",
    "            batch = {k: v.to(device) for k, v in batch.items()}\n",
    "            outputs = model(**batch)\n",
    "            loss = outputs.loss\n",
    "            logits = outputs.logits\n",
    "            val_loss += loss.item()\n",
    "            predictions.extend(torch.argmax(logits, dim=-1).cpu().numpy())\n",
    "            true_labels.extend(batch['labels'].cpu().numpy())\n",
    "\n",
    "    avg_val_loss = val_loss / len(val_loader)\n",
    "    val_losses.append(avg_val_loss)\n",
    "    \n",
    "    print(f'Epoch {epoch + 1}/{num_epochs}: Training Loss: {avg_train_loss:.4f}, Validation Loss: {avg_val_loss}')\n",
    "    \n",
    "    \n",
    "    if avg_val_loss < best_val_loss:\n",
    "        best_val_loss = avg_val_loss\n",
    "        model.save_pretrained(best_model_dir)\n",
    "        tokenizer.save_pretrained(best_model_dir)\n",
    "        print(f'Saved best model with validation loss: {best_val_loss}')\n",
    "    "
   ]
  },
  {
   "cell_type": "code",
   "execution_count": 14,
   "id": "56303cae-fb46-4413-860f-800a75f70210",
   "metadata": {
    "execution": {
     "iopub.execute_input": "2024-06-27T03:50:27.076225Z",
     "iopub.status.busy": "2024-06-27T03:50:27.075750Z",
     "iopub.status.idle": "2024-06-27T03:50:27.298948Z",
     "shell.execute_reply": "2024-06-27T03:50:27.298455Z",
     "shell.execute_reply.started": "2024-06-27T03:50:27.076201Z"
    },
    "tags": []
   },
   "outputs": [
    {
     "data": {
      "image/png": "[encoded data removed]",
      "text/plain": [
       "<Figure size 1000x500 with 1 Axes>"
      ]
     },
     "metadata": {},
     "output_type": "display_data"
    }
   ],
   "source": [
    "import matplotlib.pyplot as plt\n",
    "plt.figure(figsize=(10, 5))\n",
    "epochs = range(1, num_epochs + 1)\n",
    "plt.plot(epochs, train_losses, label='Training Loss')\n",
    "plt.plot(epochs, val_losses, label='Validation Loss')\n",
    "plt.xlabel('Epoch')\n",
    "plt.ylabel('Loss')\n",
    "plt.xticks(epochs)\n",
    "plt.legend()\n",
    "plt.show()"
   ]
  },
  {
   "cell_type": "markdown",
   "id": "398b4eda-73f9-496b-9103-65b5243773cf",
   "metadata": {},
   "source": [
    "## Evaluate model on test data"
   ]
  },
  {
   "cell_type": "code",
   "execution_count": 16,
   "id": "5f790881-0ce4-4cb6-b229-8e548842e7cc",
   "metadata": {
    "execution": {
     "iopub.execute_input": "2024-06-27T04:11:21.812021Z",
     "iopub.status.busy": "2024-06-27T04:11:21.811696Z",
     "iopub.status.idle": "2024-06-27T04:11:23.023346Z",
     "shell.execute_reply": "2024-06-27T04:11:23.022713Z",
     "shell.execute_reply.started": "2024-06-27T04:11:21.812002Z"
    },
    "tags": []
   },
   "outputs": [
    {
     "name": "stderr",
     "output_type": "stream",
     "text": [
      "Special tokens have been added in the vocabulary, make sure the associated word embeddings are fine-tuned or trained.\n"
     ]
    },
    {
     "data": {
      "text/plain": [
       "RobertaForSequenceClassification(\n",
       "  (roberta): RobertaModel(\n",
       "    (embeddings): RobertaEmbeddings(\n",
       "      (word_embeddings): Embedding(600, 384, padding_idx=1)\n",
       "      (position_embeddings): Embedding(515, 384, padding_idx=1)\n",
       "      (token_type_embeddings): Embedding(1, 384)\n",
       "      (LayerNorm): LayerNorm((384,), eps=1e-12, elementwise_affine=True)\n",
       "      (dropout): Dropout(p=0.144, inplace=False)\n",
       "    )\n",
       "    (encoder): RobertaEncoder(\n",
       "      (layer): ModuleList(\n",
       "        (0-2): 3 x RobertaLayer(\n",
       "          (attention): RobertaAttention(\n",
       "            (self): RobertaSelfAttention(\n",
       "              (query): Linear(in_features=384, out_features=384, bias=True)\n",
       "              (key): Linear(in_features=384, out_features=384, bias=True)\n",
       "              (value): Linear(in_features=384, out_features=384, bias=True)\n",
       "              (dropout): Dropout(p=0.109, inplace=False)\n",
       "            )\n",
       "            (output): RobertaSelfOutput(\n",
       "              (dense): Linear(in_features=384, out_features=384, bias=True)\n",
       "              (LayerNorm): LayerNorm((384,), eps=1e-12, elementwise_affine=True)\n",
       "              (dropout): Dropout(p=0.144, inplace=False)\n",
       "            )\n",
       "          )\n",
       "          (intermediate): RobertaIntermediate(\n",
       "            (dense): Linear(in_features=384, out_features=464, bias=True)\n",
       "            (intermediate_act_fn): GELUActivation()\n",
       "          )\n",
       "          (output): RobertaOutput(\n",
       "            (dense): Linear(in_features=464, out_features=384, bias=True)\n",
       "            (LayerNorm): LayerNorm((384,), eps=1e-12, elementwise_affine=True)\n",
       "            (dropout): Dropout(p=0.144, inplace=False)\n",
       "          )\n",
       "        )\n",
       "      )\n",
       "    )\n",
       "  )\n",
       "  (classifier): RobertaClassificationHead(\n",
       "    (dense): Linear(in_features=384, out_features=384, bias=True)\n",
       "    (dropout): Dropout(p=0.144, inplace=False)\n",
       "    (out_proj): Linear(in_features=384, out_features=2, bias=True)\n",
       "  )\n",
       ")"
      ]
     },
     "execution_count": 16,
     "metadata": {},
     "output_type": "execute_result"
    }
   ],
   "source": [
    "from transformers import RobertaForSequenceClassification, RobertaTokenizer\n",
    "\n",
    "# Load the best model and tokenizer\n",
    "model = RobertaForSequenceClassification.from_pretrained(best_model_dir)\n",
    "tokenizer = RobertaTokenizer.from_pretrained(best_model_dir)\n",
    "device = torch.device(\"cuda\") if torch.cuda.is_available() else torch.device(\"cpu\")\n",
    "model.to(device)"
   ]
  },
  {
   "cell_type": "code",
   "execution_count": 18,
   "id": "6e988d15-9060-42f4-bd65-4afb2b0c3bf6",
   "metadata": {
    "execution": {
     "iopub.execute_input": "2024-06-27T04:12:10.804254Z",
     "iopub.status.busy": "2024-06-27T04:12:10.804006Z",
     "iopub.status.idle": "2024-06-27T04:12:11.285541Z",
     "shell.execute_reply": "2024-06-27T04:12:11.285075Z",
     "shell.execute_reply.started": "2024-06-27T04:12:10.804236Z"
    },
    "tags": []
   },
   "outputs": [
    {
     "name": "stdout",
     "output_type": "stream",
     "text": [
      "\n",
      "== Testing on data set 0 ==\n",
      "Accuracy: 0.7272727272727273\n",
      "ROC AUC Score: 0.7047619047619047\n",
      "Precision: 0.8214285714285714\n",
      "Recall: 0.7666666666666667\n",
      "F1 Score: 0.793103448275862\n",
      "Matthews Correlation Coefficient: 0.3965197235402832\n",
      "Specificity (Negative Prediction Accuracy): 0.6428571428571429\n",
      "\n",
      "== Testing on data set 1 ==\n",
      "Accuracy: 0.6585365853658537\n",
      "ROC AUC Score: 0.7378787878787878\n",
      "Precision: 0.43478260869565216\n",
      "Recall: 0.9090909090909091\n",
      "F1 Score: 0.5882352941176471\n",
      "Matthews Correlation Coefficient: 0.4247589239364156\n",
      "Specificity (Negative Prediction Accuracy): 0.5666666666666667\n",
      "\n",
      "== Testing on data set 2 ==\n",
      "Accuracy: 0.6932432432432433\n",
      "ROC AUC Score: 0.6432677887018831\n",
      "Precision: 0.08583690987124463\n",
      "Recall: 0.5882352941176471\n",
      "F1 Score: 0.149812734082397\n",
      "Matthews Correlation Coefficient: 0.12916308882744168\n",
      "Specificity (Negative Prediction Accuracy): 0.6983002832861189\n"
     ]
    }
   ],
   "source": [
    "from evaluate import eval\n",
    "\n",
    "for i, test_data in enumerate(test_all_data):\n",
    "    print(f\"\\n== Testing on data set {i} ==\")\n",
    "    test_encodings = tokenize_function(test_data['smiles'].tolist())\n",
    "    test_labels = test_data['ACTIVITY'].tolist()\n",
    "    test_dataset = Dataset(test_encodings, test_labels)\n",
    "    test_loader = DataLoader(test_dataset, batch_size=8, shuffle=False)\n",
    "\n",
    "    predictions = []\n",
    "    true_labels = []\n",
    "\n",
    "    with torch.no_grad():\n",
    "        for batch in test_loader:\n",
    "            batch = {k: v.to(device) for k, v in batch.items()}\n",
    "            outputs = model(**batch)\n",
    "            logits = outputs.logits\n",
    "            predictions.extend(torch.argmax(logits, dim=-1).cpu().numpy())\n",
    "            true_labels.extend(batch['labels'].cpu().numpy())\n",
    "    \n",
    "    eval(true_labels, predictions, verbose=True)\n",
    "    "
   ]
  },
  {
   "cell_type": "code",
   "execution_count": 23,
   "id": "37a282e6-d85c-4bb4-b767-a5dbc7ea14d2",
   "metadata": {
    "execution": {
     "iopub.execute_input": "2024-06-27T04:18:55.719222Z",
     "iopub.status.busy": "2024-06-27T04:18:55.718901Z",
     "iopub.status.idle": "2024-06-27T04:18:55.762069Z",
     "shell.execute_reply": "2024-06-27T04:18:55.761537Z",
     "shell.execute_reply.started": "2024-06-27T04:18:55.719203Z"
    },
    "tags": []
   },
   "outputs": [
    {
     "data": {
      "text/plain": [
       "transformers.tokenization_utils_base.BatchEncoding"
      ]
     },
     "execution_count": 23,
     "metadata": {},
     "output_type": "execute_result"
    }
   ],
   "source": [
    "test_encodings"
   ]
  },
  {
   "cell_type": "code",
   "execution_count": null,
   "id": "ab9c58a6-2733-4675-8ed8-39cbc6ff8d0b",
   "metadata": {},
   "outputs": [],
   "source": []
  },
  {
   "cell_type": "code",
   "execution_count": null,
   "id": "eb6641ee-d659-4bed-a88f-cea5694fc911",
   "metadata": {},
   "outputs": [],
   "source": []
  },
  {
   "cell_type": "code",
   "execution_count": null,
   "id": "e76b179c-7334-4cee-a05a-2c83b1a7d282",
   "metadata": {},
   "outputs": [],
   "source": []
  },
  {
   "cell_type": "code",
   "execution_count": null,
   "id": "8c274103-8f54-4cb7-971e-b7b52aac107e",
   "metadata": {},
   "outputs": [],
   "source": []
  },
  {
   "cell_type": "code",
   "execution_count": null,
   "id": "a70e7ef4-1cb1-4caa-93ca-f1189d62f0c4",
   "metadata": {},
   "outputs": [],
   "source": []
  }
 ],
 "metadata": {
  "kernelspec": {
   "display_name": "herg",
   "language": "python",
   "name": "herg"
  },
  "language_info": {
   "codemirror_mode": {
    "name": "ipython",
    "version": 3
   },
   "file_extension": ".py",
   "mimetype": "text/x-python",
   "name": "python",
   "nbconvert_exporter": "python",
   "pygments_lexer": "ipython3",
   "version": "3.9.19"
  }
 },
 "nbformat": 4,
 "nbformat_minor": 5
}
