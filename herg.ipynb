{
 "cells": [
  {
   "cell_type": "code",
   "execution_count": 1,
   "id": "e0fc9b99-2c6c-47a2-933d-37adad598f2d",
   "metadata": {
    "execution": {
     "iopub.execute_input": "2024-05-01T17:05:43.823572Z",
     "iopub.status.busy": "2024-05-01T17:05:43.823311Z",
     "iopub.status.idle": "2024-05-01T17:05:44.400979Z",
     "shell.execute_reply": "2024-05-01T17:05:44.400009Z",
     "shell.execute_reply.started": "2024-05-01T17:05:43.823552Z"
    },
    "tags": []
   },
   "outputs": [],
   "source": [
    "%load_ext autoreload\n",
    "%autoreload 2\n",
    "%matplotlib inline\n",
    "\n",
    "# Import necessary libraries\n",
    "import sys\n",
    "from pathlib import Path\n",
    "# Ensure the src directory is accessible\n",
    "sys.path.append('./src')"
   ]
  },
  {
   "cell_type": "markdown",
   "id": "b08a15c7-5bad-4ccc-a1cf-ecbbce188a9e",
   "metadata": {},
   "source": [
    "# Download data"
   ]
  },
  {
   "cell_type": "code",
   "execution_count": 6,
   "id": "b5c49c88-0141-411f-bd39-fdeabcc8bf4c",
   "metadata": {
    "execution": {
     "iopub.execute_input": "2024-05-01T14:31:01.141790Z",
     "iopub.status.busy": "2024-05-01T14:31:01.141504Z",
     "iopub.status.idle": "2024-05-01T14:31:07.095786Z",
     "shell.execute_reply": "2024-05-01T14:31:07.095161Z",
     "shell.execute_reply.started": "2024-05-01T14:31:01.141773Z"
    },
    "tags": []
   },
   "outputs": [
    {
     "name": "stderr",
     "output_type": "stream",
     "text": [
      "Found local copy...\n",
      "Loading...\n",
      "Done!\n",
      "100%|██████████| 13445/13445 [00:05<00:00, 2286.37it/s]"
     ]
    },
    {
     "name": "stdout",
     "output_type": "stream",
     "text": [
      "Data loaded and split successfully.\n",
      "Train data samples: 9411\n",
      "Validation data samples: 1344\n",
      "Test data samples: 2690\n"
     ]
    },
    {
     "name": "stderr",
     "output_type": "stream",
     "text": [
      "\n"
     ]
    }
   ],
   "source": [
    "from get_data import get_data\n",
    "data_split, ext_data = get_data()"
   ]
  },
  {
   "cell_type": "markdown",
   "id": "4c4cdc71-a9e4-4757-85b3-8701b11f7e58",
   "metadata": {},
   "source": [
    "# check data"
   ]
  },
  {
   "cell_type": "code",
   "execution_count": 7,
   "id": "43e06b35-37f2-4df1-a7fb-170cb3359861",
   "metadata": {
    "execution": {
     "iopub.execute_input": "2024-05-01T14:31:33.279806Z",
     "iopub.status.busy": "2024-05-01T14:31:33.279139Z",
     "iopub.status.idle": "2024-05-01T14:31:33.336858Z",
     "shell.execute_reply": "2024-05-01T14:31:33.336214Z",
     "shell.execute_reply.started": "2024-05-01T14:31:33.279786Z"
    },
    "tags": []
   },
   "outputs": [
    {
     "data": {
      "text/html": [
       "<div>\n",
       "<style scoped>\n",
       "    .dataframe tbody tr th:only-of-type {\n",
       "        vertical-align: middle;\n",
       "    }\n",
       "\n",
       "    .dataframe tbody tr th {\n",
       "        vertical-align: top;\n",
       "    }\n",
       "\n",
       "    .dataframe thead th {\n",
       "        text-align: right;\n",
       "    }\n",
       "</style>\n",
       "<table border=\"1\" class=\"dataframe\">\n",
       "  <thead>\n",
       "    <tr style=\"text-align: right;\">\n",
       "      <th></th>\n",
       "      <th>Drug_ID</th>\n",
       "      <th>Drug</th>\n",
       "      <th>Y</th>\n",
       "    </tr>\n",
       "  </thead>\n",
       "  <tbody>\n",
       "    <tr>\n",
       "      <th>0</th>\n",
       "      <td>8640</td>\n",
       "      <td>O=C1NCCN1CC[N+]1CCC(c2cn(C3CCCCC3)c3ccc(Cl)cc2...</td>\n",
       "      <td>0</td>\n",
       "    </tr>\n",
       "    <tr>\n",
       "      <th>1</th>\n",
       "      <td>11377</td>\n",
       "      <td>O=C(Cc1ccc(-n2cnnn2)cc1)N1CCN(CCc2ccc3nonc3c2)CC1</td>\n",
       "      <td>1</td>\n",
       "    </tr>\n",
       "    <tr>\n",
       "      <th>2</th>\n",
       "      <td>1461</td>\n",
       "      <td>NC(=O)c1ncc(N[C@@H]2CCCC[C@@H]2N)cc1Nc1cccc(C(...</td>\n",
       "      <td>1</td>\n",
       "    </tr>\n",
       "    <tr>\n",
       "      <th>3</th>\n",
       "      <td>6646</td>\n",
       "      <td>Cc1cc(C)nc(Nc2cc(N[C@@H]3CCCC[C@@H]3N)cnc2C(N)...</td>\n",
       "      <td>1</td>\n",
       "    </tr>\n",
       "    <tr>\n",
       "      <th>4</th>\n",
       "      <td>379</td>\n",
       "      <td>COc1cc(C)nc(Nc2cc(N[C@@H]3CCCC[C@@H]3N)cnc2C(N...</td>\n",
       "      <td>1</td>\n",
       "    </tr>\n",
       "    <tr>\n",
       "      <th>5</th>\n",
       "      <td>10556</td>\n",
       "      <td>Cc1cc(CC(C)(C)O)cc(Nc2cc(N[C@@H]3CCCC[C@@H]3N)...</td>\n",
       "      <td>1</td>\n",
       "    </tr>\n",
       "    <tr>\n",
       "      <th>6</th>\n",
       "      <td>4542</td>\n",
       "      <td>Cc1cc(C(C)(C)O)cc(Nc2cc(N[C@@H]3CCCC[C@@H]3N)c...</td>\n",
       "      <td>1</td>\n",
       "    </tr>\n",
       "    <tr>\n",
       "      <th>7</th>\n",
       "      <td>9102</td>\n",
       "      <td>Cc1cccnc1CN1CCC2(CC1)C(=O)N(c1ccc(-c3ccc4scnc4...</td>\n",
       "      <td>1</td>\n",
       "    </tr>\n",
       "    <tr>\n",
       "      <th>8</th>\n",
       "      <td>4564</td>\n",
       "      <td>O=S1(=O)CCC(COc2ccc3c(c2)CCC2(CCN(C4CCC4)CC2)O...</td>\n",
       "      <td>0</td>\n",
       "    </tr>\n",
       "    <tr>\n",
       "      <th>9</th>\n",
       "      <td>12933</td>\n",
       "      <td>N#C[C@@H]1C[C@@H]2C[C@@H]2N1C(=O)[C@@H](N)C12C...</td>\n",
       "      <td>0</td>\n",
       "    </tr>\n",
       "  </tbody>\n",
       "</table>\n",
       "</div>"
      ],
      "text/plain": [
       "   Drug_ID                                               Drug  Y\n",
       "0     8640  O=C1NCCN1CC[N+]1CCC(c2cn(C3CCCCC3)c3ccc(Cl)cc2...  0\n",
       "1    11377  O=C(Cc1ccc(-n2cnnn2)cc1)N1CCN(CCc2ccc3nonc3c2)CC1  1\n",
       "2     1461  NC(=O)c1ncc(N[C@@H]2CCCC[C@@H]2N)cc1Nc1cccc(C(...  1\n",
       "3     6646  Cc1cc(C)nc(Nc2cc(N[C@@H]3CCCC[C@@H]3N)cnc2C(N)...  1\n",
       "4      379  COc1cc(C)nc(Nc2cc(N[C@@H]3CCCC[C@@H]3N)cnc2C(N...  1\n",
       "5    10556  Cc1cc(CC(C)(C)O)cc(Nc2cc(N[C@@H]3CCCC[C@@H]3N)...  1\n",
       "6     4542  Cc1cc(C(C)(C)O)cc(Nc2cc(N[C@@H]3CCCC[C@@H]3N)c...  1\n",
       "7     9102  Cc1cccnc1CN1CCC2(CC1)C(=O)N(c1ccc(-c3ccc4scnc4...  1\n",
       "8     4564  O=S1(=O)CCC(COc2ccc3c(c2)CCC2(CCN(C4CCC4)CC2)O...  0\n",
       "9    12933  N#C[C@@H]1C[C@@H]2C[C@@H]2N1C(=O)[C@@H](N)C12C...  0"
      ]
     },
     "execution_count": 7,
     "metadata": {},
     "output_type": "execute_result"
    }
   ],
   "source": [
    "data_split['train'].head(10)"
   ]
  },
  {
   "cell_type": "code",
   "execution_count": 8,
   "id": "f849b3ff-cc04-4a5f-a11e-7b47d180aba2",
   "metadata": {
    "execution": {
     "iopub.execute_input": "2024-05-01T14:31:34.395518Z",
     "iopub.status.busy": "2024-05-01T14:31:34.395300Z",
     "iopub.status.idle": "2024-05-01T14:31:34.431005Z",
     "shell.execute_reply": "2024-05-01T14:31:34.430530Z",
     "shell.execute_reply.started": "2024-05-01T14:31:34.395503Z"
    },
    "tags": []
   },
   "outputs": [
    {
     "data": {
      "text/html": [
       "<div>\n",
       "<style scoped>\n",
       "    .dataframe tbody tr th:only-of-type {\n",
       "        vertical-align: middle;\n",
       "    }\n",
       "\n",
       "    .dataframe tbody tr th {\n",
       "        vertical-align: top;\n",
       "    }\n",
       "\n",
       "    .dataframe thead th {\n",
       "        text-align: right;\n",
       "    }\n",
       "</style>\n",
       "<table border=\"1\" class=\"dataframe\">\n",
       "  <thead>\n",
       "    <tr style=\"text-align: right;\">\n",
       "      <th></th>\n",
       "      <th>Drug_ID</th>\n",
       "      <th>Drug</th>\n",
       "      <th>Y</th>\n",
       "    </tr>\n",
       "  </thead>\n",
       "  <tbody>\n",
       "    <tr>\n",
       "      <th>0</th>\n",
       "      <td>7417</td>\n",
       "      <td>CC(C)c1noc(-c2nnc3n2CCN(C(=O)c2ccc(F)cc2)[C@@H...</td>\n",
       "      <td>1</td>\n",
       "    </tr>\n",
       "    <tr>\n",
       "      <th>1</th>\n",
       "      <td>3967</td>\n",
       "      <td>CCc1noc(-c2nnc3n2CCN(C(=O)c2ccc(F)cc2)[C@@H]3C)n1</td>\n",
       "      <td>0</td>\n",
       "    </tr>\n",
       "    <tr>\n",
       "      <th>2</th>\n",
       "      <td>13387</td>\n",
       "      <td>CC(C)(C)Cn1c(N)nc2ccc(-c3nc(C(C)(C)C)[nH]c3-c3...</td>\n",
       "      <td>0</td>\n",
       "    </tr>\n",
       "    <tr>\n",
       "      <th>3</th>\n",
       "      <td>10258</td>\n",
       "      <td>CC(C)(C)C1CCC2(CC1)CCN(c1ccc(OC(F)(F)F)cc1)C(=...</td>\n",
       "      <td>1</td>\n",
       "    </tr>\n",
       "    <tr>\n",
       "      <th>4</th>\n",
       "      <td>5612</td>\n",
       "      <td>CCN(CC)c1ccc2cc(C(=O)NCCCCN3CCC(Nc4nc5ccccc5n4...</td>\n",
       "      <td>1</td>\n",
       "    </tr>\n",
       "    <tr>\n",
       "      <th>5</th>\n",
       "      <td>6520</td>\n",
       "      <td>CN1CCC(COCc2cc(C(F)(F)F)cc(N3CCCC3)n2)(c2ccccc...</td>\n",
       "      <td>1</td>\n",
       "    </tr>\n",
       "    <tr>\n",
       "      <th>6</th>\n",
       "      <td>8954</td>\n",
       "      <td>CN1CCC(COCc2cc(C(F)(F)F)cc(N3CCC(C#N)C3)n2)(c2...</td>\n",
       "      <td>1</td>\n",
       "    </tr>\n",
       "    <tr>\n",
       "      <th>7</th>\n",
       "      <td>2983</td>\n",
       "      <td>FC(F)(F)c1cc(COCC2(c3ccccc3)CCNCC2)nc(N2CCCC2)c1</td>\n",
       "      <td>1</td>\n",
       "    </tr>\n",
       "    <tr>\n",
       "      <th>8</th>\n",
       "      <td>12756</td>\n",
       "      <td>OC1CCC(Nc2ncc3nc(Nc4c(F)cc(F)cc4F)n([C@@H]4CCO...</td>\n",
       "      <td>0</td>\n",
       "    </tr>\n",
       "    <tr>\n",
       "      <th>9</th>\n",
       "      <td>8043</td>\n",
       "      <td>O=C(N[C@@H]1C2CCN(CC2)[C@H]1Cc1cccnc1)c1cc2ccc...</td>\n",
       "      <td>0</td>\n",
       "    </tr>\n",
       "  </tbody>\n",
       "</table>\n",
       "</div>"
      ],
      "text/plain": [
       "   Drug_ID                                               Drug  Y\n",
       "0     7417  CC(C)c1noc(-c2nnc3n2CCN(C(=O)c2ccc(F)cc2)[C@@H...  1\n",
       "1     3967  CCc1noc(-c2nnc3n2CCN(C(=O)c2ccc(F)cc2)[C@@H]3C)n1  0\n",
       "2    13387  CC(C)(C)Cn1c(N)nc2ccc(-c3nc(C(C)(C)C)[nH]c3-c3...  0\n",
       "3    10258  CC(C)(C)C1CCC2(CC1)CCN(c1ccc(OC(F)(F)F)cc1)C(=...  1\n",
       "4     5612  CCN(CC)c1ccc2cc(C(=O)NCCCCN3CCC(Nc4nc5ccccc5n4...  1\n",
       "5     6520  CN1CCC(COCc2cc(C(F)(F)F)cc(N3CCCC3)n2)(c2ccccc...  1\n",
       "6     8954  CN1CCC(COCc2cc(C(F)(F)F)cc(N3CCC(C#N)C3)n2)(c2...  1\n",
       "7     2983   FC(F)(F)c1cc(COCC2(c3ccccc3)CCNCC2)nc(N2CCCC2)c1  1\n",
       "8    12756  OC1CCC(Nc2ncc3nc(Nc4c(F)cc(F)cc4F)n([C@@H]4CCO...  0\n",
       "9     8043  O=C(N[C@@H]1C2CCN(CC2)[C@H]1Cc1cccnc1)c1cc2ccc...  0"
      ]
     },
     "execution_count": 8,
     "metadata": {},
     "output_type": "execute_result"
    }
   ],
   "source": [
    "data_split['test'].head(10)"
   ]
  },
  {
   "cell_type": "code",
   "execution_count": 10,
   "id": "9678990c-7c16-4eff-9d9e-be4e1537a78d",
   "metadata": {
    "execution": {
     "iopub.execute_input": "2024-05-01T14:31:54.156282Z",
     "iopub.status.busy": "2024-05-01T14:31:54.155940Z",
     "iopub.status.idle": "2024-05-01T14:31:54.194659Z",
     "shell.execute_reply": "2024-05-01T14:31:54.194276Z",
     "shell.execute_reply.started": "2024-05-01T14:31:54.156265Z"
    },
    "tags": []
   },
   "outputs": [
    {
     "data": {
      "text/html": [
       "<div>\n",
       "<style scoped>\n",
       "    .dataframe tbody tr th:only-of-type {\n",
       "        vertical-align: middle;\n",
       "    }\n",
       "\n",
       "    .dataframe tbody tr th {\n",
       "        vertical-align: top;\n",
       "    }\n",
       "\n",
       "    .dataframe thead th {\n",
       "        text-align: right;\n",
       "    }\n",
       "</style>\n",
       "<table border=\"1\" class=\"dataframe\">\n",
       "  <thead>\n",
       "    <tr style=\"text-align: right;\">\n",
       "      <th></th>\n",
       "      <th>Y</th>\n",
       "      <th>Drug</th>\n",
       "    </tr>\n",
       "  </thead>\n",
       "  <tbody>\n",
       "    <tr>\n",
       "      <th>0</th>\n",
       "      <td>0</td>\n",
       "      <td>CCOC(=O)C1(CCN(C)CC1)c1ccccc1</td>\n",
       "    </tr>\n",
       "    <tr>\n",
       "      <th>1</th>\n",
       "      <td>0</td>\n",
       "      <td>CCN(CC)CC(=O)NC1=C(C)C=CC=C1C</td>\n",
       "    </tr>\n",
       "    <tr>\n",
       "      <th>2</th>\n",
       "      <td>0</td>\n",
       "      <td>CCCC(CCC)C(=O)O</td>\n",
       "    </tr>\n",
       "    <tr>\n",
       "      <th>3</th>\n",
       "      <td>0</td>\n",
       "      <td>CCC(COC(=O)c1cc(OC)c(OC)c(OC)c1)(c1ccccc1)N(C)C</td>\n",
       "    </tr>\n",
       "    <tr>\n",
       "      <th>4</th>\n",
       "      <td>0</td>\n",
       "      <td>COc1ccc(N(C(C)=O)c2cc3c(cc2[N+](=O)[O-])OC(C)(...</td>\n",
       "    </tr>\n",
       "    <tr>\n",
       "      <th>5</th>\n",
       "      <td>1</td>\n",
       "      <td>COc1cc2nc(nc(N)c2cc1OC)N1CCN(CC1)C(=O)c1ccco1</td>\n",
       "    </tr>\n",
       "    <tr>\n",
       "      <th>6</th>\n",
       "      <td>1</td>\n",
       "      <td>COc1ccc2cc3-c4cc5OCOc5cc4CC[n+]3cc2c1OC</td>\n",
       "    </tr>\n",
       "    <tr>\n",
       "      <th>7</th>\n",
       "      <td>0</td>\n",
       "      <td>CCCc1nn(C)c2c(=O)[nH]c(nc12)c3cc(ccc3OCC)S(=O)...</td>\n",
       "    </tr>\n",
       "    <tr>\n",
       "      <th>8</th>\n",
       "      <td>0</td>\n",
       "      <td>CCCc1nn(C)c2c(=O)nc(-c3cc(S(=O)(=O)N4CCN(C)CC4...</td>\n",
       "    </tr>\n",
       "    <tr>\n",
       "      <th>9</th>\n",
       "      <td>0</td>\n",
       "      <td>CC(=O)SC1CC2=CC(=O)CCC2(C)C2CCC3C(CCC34CCC(=O)...</td>\n",
       "    </tr>\n",
       "  </tbody>\n",
       "</table>\n",
       "</div>"
      ],
      "text/plain": [
       "   Y                                               Drug\n",
       "0  0                      CCOC(=O)C1(CCN(C)CC1)c1ccccc1\n",
       "1  0                      CCN(CC)CC(=O)NC1=C(C)C=CC=C1C\n",
       "2  0                                    CCCC(CCC)C(=O)O\n",
       "3  0    CCC(COC(=O)c1cc(OC)c(OC)c(OC)c1)(c1ccccc1)N(C)C\n",
       "4  0  COc1ccc(N(C(C)=O)c2cc3c(cc2[N+](=O)[O-])OC(C)(...\n",
       "5  1      COc1cc2nc(nc(N)c2cc1OC)N1CCN(CC1)C(=O)c1ccco1\n",
       "6  1            COc1ccc2cc3-c4cc5OCOc5cc4CC[n+]3cc2c1OC\n",
       "7  0  CCCc1nn(C)c2c(=O)[nH]c(nc12)c3cc(ccc3OCC)S(=O)...\n",
       "8  0  CCCc1nn(C)c2c(=O)nc(-c3cc(S(=O)(=O)N4CCN(C)CC4...\n",
       "9  0  CC(=O)SC1CC2=CC(=O)CCC2(C)C2CCC3C(CCC34CCC(=O)..."
      ]
     },
     "execution_count": 10,
     "metadata": {},
     "output_type": "execute_result"
    }
   ],
   "source": [
    "ext_data['pos'].head(10)"
   ]
  },
  {
   "cell_type": "markdown",
   "id": "d32db1e9-9e1f-479a-9f66-70b674fdfbea",
   "metadata": {},
   "source": [
    "# check external data"
   ]
  },
  {
   "cell_type": "code",
   "execution_count": 12,
   "id": "3ad5ed49-752d-4957-b33c-f69d7a4e67af",
   "metadata": {
    "execution": {
     "iopub.execute_input": "2024-05-01T14:57:17.808104Z",
     "iopub.status.busy": "2024-05-01T14:57:17.807774Z",
     "iopub.status.idle": "2024-05-01T14:57:18.708561Z",
     "shell.execute_reply": "2024-05-01T14:57:18.707509Z",
     "shell.execute_reply.started": "2024-05-01T14:57:17.808086Z"
    },
    "tags": []
   },
   "outputs": [],
   "source": [
    "# remove same smiles in the training\n",
    "for i, curr_data in ext_data.items():\n",
    "    for drug in curr_data['Drug']:\n",
    "        if drug in data_split['train']['Drug']:\n",
    "            print(drug)"
   ]
  },
  {
   "cell_type": "code",
   "execution_count": 14,
   "id": "f70cc0b0-a1f9-4c2d-a5ba-496d03b581c2",
   "metadata": {
    "execution": {
     "iopub.execute_input": "2024-05-01T14:58:01.061329Z",
     "iopub.status.busy": "2024-05-01T14:58:01.060990Z",
     "iopub.status.idle": "2024-05-01T14:58:01.097546Z",
     "shell.execute_reply": "2024-05-01T14:58:01.097139Z",
     "shell.execute_reply.started": "2024-05-01T14:58:01.061310Z"
    },
    "tags": []
   },
   "outputs": [
    {
     "name": "stdout",
     "output_type": "stream",
     "text": [
      "pos: total (44); Y=1 (30)\n",
      "neg: total (41); Y=1 (11)\n",
      "new: total (740); Y=1 (34)\n"
     ]
    }
   ],
   "source": [
    "for i, curr_data in ext_data.items():\n",
    "    print(f\"{i}: total ({len(curr_data)}); Y=1 ({curr_data['Y'].sum()})\")\n",
    "    "
   ]
  },
  {
   "cell_type": "code",
   "execution_count": null,
   "id": "4c00e299-6fa1-4c94-ade8-2164bbaa3cdb",
   "metadata": {},
   "outputs": [],
   "source": []
  },
  {
   "cell_type": "markdown",
   "id": "f4a26645-3a17-4256-9e77-0f42f6941d0a",
   "metadata": {},
   "source": [
    "# Featuring functions"
   ]
  },
  {
   "cell_type": "code",
   "execution_count": 15,
   "id": "e1299d07-75a8-4deb-86fe-d6d512739ba9",
   "metadata": {
    "execution": {
     "iopub.execute_input": "2024-05-01T14:58:06.088019Z",
     "iopub.status.busy": "2024-05-01T14:58:06.087791Z",
     "iopub.status.idle": "2024-05-01T14:58:06.120558Z",
     "shell.execute_reply": "2024-05-01T14:58:06.120182Z",
     "shell.execute_reply.started": "2024-05-01T14:58:06.088003Z"
    },
    "tags": []
   },
   "outputs": [],
   "source": [
    "from rdkit import Chem\n",
    "from rdkit.Chem import AllChem\n",
    "\n",
    "# Function to convert SMILES to Morgan fingerprints\n",
    "def smiles_to_fp(smiles, radius=2, nBits=1024):\n",
    "    mol = Chem.MolFromSmiles(smiles)\n",
    "    return list(AllChem.GetMorganFingerprintAsBitVect(mol, radius, nBits))\n",
    "\n",
    "\n",
    "# Prepare the data\n",
    "def prepare_data(df):\n",
    "    df['features'] = df['Drug'].apply(lambda x: smiles_to_fp(x))\n",
    "    X = list(df['features'])\n",
    "    y = df['Y'].values\n",
    "    return X, y\n"
   ]
  },
  {
   "cell_type": "code",
   "execution_count": null,
   "id": "1aaea73f-62e4-42a9-a1c4-9a5b5c3fcc60",
   "metadata": {},
   "outputs": [],
   "source": []
  },
  {
   "cell_type": "code",
   "execution_count": null,
   "id": "372e1bd4-8dc7-40a1-b042-34f5665a6181",
   "metadata": {},
   "outputs": [],
   "source": []
  },
  {
   "cell_type": "markdown",
   "id": "0dd894a9-2595-4d06-b9a8-3a9ec8f8807d",
   "metadata": {},
   "source": [
    "# Prepare traing and test data"
   ]
  },
  {
   "cell_type": "code",
   "execution_count": 16,
   "id": "ff48bc4b-ae71-44fe-bbcf-65bdcf8a27de",
   "metadata": {
    "execution": {
     "iopub.execute_input": "2024-05-01T14:58:07.948030Z",
     "iopub.status.busy": "2024-05-01T14:58:07.947832Z",
     "iopub.status.idle": "2024-05-01T14:58:21.109447Z",
     "shell.execute_reply": "2024-05-01T14:58:21.108573Z",
     "shell.execute_reply.started": "2024-05-01T14:58:07.948015Z"
    },
    "tags": []
   },
   "outputs": [],
   "source": [
    "\n",
    "# Load data\n",
    "train_data = data_split['train']\n",
    "X_train, y_train = prepare_data(train_data)\n",
    "\n",
    "test_data = data_split['test'] \n",
    "X_test, y_test = prepare_data(test_data)"
   ]
  },
  {
   "cell_type": "markdown",
   "id": "da9c5b17-e83f-40c1-ad60-cfff2494b625",
   "metadata": {},
   "source": [
    "# Random Forest Classifier"
   ]
  },
  {
   "cell_type": "code",
   "execution_count": 17,
   "id": "1146b41e-d0c4-4f08-8922-3abc31415cdd",
   "metadata": {
    "execution": {
     "iopub.execute_input": "2024-05-01T14:58:23.667062Z",
     "iopub.status.busy": "2024-05-01T14:58:23.666825Z",
     "iopub.status.idle": "2024-05-01T14:58:27.362901Z",
     "shell.execute_reply": "2024-05-01T14:58:27.362460Z",
     "shell.execute_reply.started": "2024-05-01T14:58:23.667046Z"
    },
    "tags": []
   },
   "outputs": [
    {
     "data": {
      "text/html": [
       "<style>#sk-container-id-1 {color: black;background-color: white;}#sk-container-id-1 pre{padding: 0;}#sk-container-id-1 div.sk-toggleable {background-color: white;}#sk-container-id-1 label.sk-toggleable__label {cursor: pointer;display: block;width: 100%;margin-bottom: 0;padding: 0.3em;box-sizing: border-box;text-align: center;}#sk-container-id-1 label.sk-toggleable__label-arrow:before {content: \"▸\";float: left;margin-right: 0.25em;color: #696969;}#sk-container-id-1 label.sk-toggleable__label-arrow:hover:before {color: black;}#sk-container-id-1 div.sk-estimator:hover label.sk-toggleable__label-arrow:before {color: black;}#sk-container-id-1 div.sk-toggleable__content {max-height: 0;max-width: 0;overflow: hidden;text-align: left;background-color: #f0f8ff;}#sk-container-id-1 div.sk-toggleable__content pre {margin: 0.2em;color: black;border-radius: 0.25em;background-color: #f0f8ff;}#sk-container-id-1 input.sk-toggleable__control:checked~div.sk-toggleable__content {max-height: 200px;max-width: 100%;overflow: auto;}#sk-container-id-1 input.sk-toggleable__control:checked~label.sk-toggleable__label-arrow:before {content: \"▾\";}#sk-container-id-1 div.sk-estimator input.sk-toggleable__control:checked~label.sk-toggleable__label {background-color: #d4ebff;}#sk-container-id-1 div.sk-label input.sk-toggleable__control:checked~label.sk-toggleable__label {background-color: #d4ebff;}#sk-container-id-1 input.sk-hidden--visually {border: 0;clip: rect(1px 1px 1px 1px);clip: rect(1px, 1px, 1px, 1px);height: 1px;margin: -1px;overflow: hidden;padding: 0;position: absolute;width: 1px;}#sk-container-id-1 div.sk-estimator {font-family: monospace;background-color: #f0f8ff;border: 1px dotted black;border-radius: 0.25em;box-sizing: border-box;margin-bottom: 0.5em;}#sk-container-id-1 div.sk-estimator:hover {background-color: #d4ebff;}#sk-container-id-1 div.sk-parallel-item::after {content: \"\";width: 100%;border-bottom: 1px solid gray;flex-grow: 1;}#sk-container-id-1 div.sk-label:hover label.sk-toggleable__label {background-color: #d4ebff;}#sk-container-id-1 div.sk-serial::before {content: \"\";position: absolute;border-left: 1px solid gray;box-sizing: border-box;top: 0;bottom: 0;left: 50%;z-index: 0;}#sk-container-id-1 div.sk-serial {display: flex;flex-direction: column;align-items: center;background-color: white;padding-right: 0.2em;padding-left: 0.2em;position: relative;}#sk-container-id-1 div.sk-item {position: relative;z-index: 1;}#sk-container-id-1 div.sk-parallel {display: flex;align-items: stretch;justify-content: center;background-color: white;position: relative;}#sk-container-id-1 div.sk-item::before, #sk-container-id-1 div.sk-parallel-item::before {content: \"\";position: absolute;border-left: 1px solid gray;box-sizing: border-box;top: 0;bottom: 0;left: 50%;z-index: -1;}#sk-container-id-1 div.sk-parallel-item {display: flex;flex-direction: column;z-index: 1;position: relative;background-color: white;}#sk-container-id-1 div.sk-parallel-item:first-child::after {align-self: flex-end;width: 50%;}#sk-container-id-1 div.sk-parallel-item:last-child::after {align-self: flex-start;width: 50%;}#sk-container-id-1 div.sk-parallel-item:only-child::after {width: 0;}#sk-container-id-1 div.sk-dashed-wrapped {border: 1px dashed gray;margin: 0 0.4em 0.5em 0.4em;box-sizing: border-box;padding-bottom: 0.4em;background-color: white;}#sk-container-id-1 div.sk-label label {font-family: monospace;font-weight: bold;display: inline-block;line-height: 1.2em;}#sk-container-id-1 div.sk-label-container {text-align: center;}#sk-container-id-1 div.sk-container {/* jupyter's `normalize.less` sets `[hidden] { display: none; }` but bootstrap.min.css set `[hidden] { display: none !important; }` so we also need the `!important` here to be able to override the default hidden behavior on the sphinx rendered scikit-learn.org. See: https://github.com/scikit-learn/scikit-learn/issues/21755 */display: inline-block !important;position: relative;}#sk-container-id-1 div.sk-text-repr-fallback {display: none;}</style><div id=\"sk-container-id-1\" class=\"sk-top-container\"><div class=\"sk-text-repr-fallback\"><pre>RandomForestClassifier(random_state=42)</pre><b>In a Jupyter environment, please rerun this cell to show the HTML representation or trust the notebook. <br />On GitHub, the HTML representation is unable to render, please try loading this page with nbviewer.org.</b></div><div class=\"sk-container\" hidden><div class=\"sk-item\"><div class=\"sk-estimator sk-toggleable\"><input class=\"sk-toggleable__control sk-hidden--visually\" id=\"sk-estimator-id-1\" type=\"checkbox\" checked><label for=\"sk-estimator-id-1\" class=\"sk-toggleable__label sk-toggleable__label-arrow\">RandomForestClassifier</label><div class=\"sk-toggleable__content\"><pre>RandomForestClassifier(random_state=42)</pre></div></div></div></div></div>"
      ],
      "text/plain": [
       "RandomForestClassifier(random_state=42)"
      ]
     },
     "execution_count": 17,
     "metadata": {},
     "output_type": "execute_result"
    }
   ],
   "source": [
    "from sklearn.ensemble import RandomForestClassifier\n",
    "\n",
    "# Initialize and train the model\n",
    "rf_model = RandomForestClassifier(random_state=42)\n",
    "rf_model.fit(X_train, y_train)\n",
    "\n"
   ]
  },
  {
   "cell_type": "markdown",
   "id": "1c1d2a57-8c0c-4abc-ab73-4147224e4903",
   "metadata": {
    "execution": {
     "iopub.execute_input": "2024-04-19T02:28:58.937521Z",
     "iopub.status.busy": "2024-04-19T02:28:58.937204Z",
     "iopub.status.idle": "2024-04-19T02:28:58.954787Z",
     "shell.execute_reply": "2024-04-19T02:28:58.954378Z",
     "shell.execute_reply.started": "2024-04-19T02:28:58.937500Z"
    },
    "tags": []
   },
   "source": [
    "# Evaluation on internal test data"
   ]
  },
  {
   "cell_type": "code",
   "execution_count": 18,
   "id": "00573373-3ce6-4f2c-aaee-6340fb3721ad",
   "metadata": {
    "execution": {
     "iopub.execute_input": "2024-05-01T14:58:27.364199Z",
     "iopub.status.busy": "2024-05-01T14:58:27.363951Z",
     "iopub.status.idle": "2024-05-01T14:58:27.558631Z",
     "shell.execute_reply": "2024-05-01T14:58:27.558186Z",
     "shell.execute_reply.started": "2024-05-01T14:58:27.364182Z"
    },
    "tags": []
   },
   "outputs": [
    {
     "name": "stdout",
     "output_type": "stream",
     "text": [
      "Accuracy: 0.7869888475836431\n",
      "ROC AUC Score: 0.7866272534819189\n",
      "Precision: 0.7987321711568938\n",
      "Recall: 0.7596081386586285\n",
      "F1 Score: 0.7786790266512167\n",
      "Matthews Correlation Coefficient: 0.5742977119801898\n",
      "Specificity (Negative Prediction Accuracy): 0.8136463683052091\n"
     ]
    }
   ],
   "source": [
    "from evaluate import eval\n",
    "\n",
    "# Evaluate the model\n",
    "y_pred = rf_model.predict(X_test)\n",
    "eval(y_test, y_pred, \"RandomForest\")"
   ]
  },
  {
   "cell_type": "code",
   "execution_count": null,
   "id": "398967b0-31c7-461a-96f9-2538288bc37f",
   "metadata": {},
   "outputs": [],
   "source": []
  },
  {
   "cell_type": "markdown",
   "id": "dcfac1d1-7402-469d-9cde-e964225deec8",
   "metadata": {},
   "source": [
    "# Evaluation on external data"
   ]
  },
  {
   "cell_type": "code",
   "execution_count": 20,
   "id": "e8c62a96-69f5-49d4-b453-4fb0a045f893",
   "metadata": {
    "execution": {
     "iopub.execute_input": "2024-05-01T14:58:53.995536Z",
     "iopub.status.busy": "2024-05-01T14:58:53.995224Z",
     "iopub.status.idle": "2024-05-01T14:58:54.976602Z",
     "shell.execute_reply": "2024-05-01T14:58:54.976161Z",
     "shell.execute_reply.started": "2024-05-01T14:58:53.995518Z"
    },
    "tags": []
   },
   "outputs": [
    {
     "name": "stdout",
     "output_type": "stream",
     "text": [
      "\n",
      "= = = Experiment on pos = = =\n",
      "Accuracy: 0.8863636363636364\n",
      "ROC AUC Score: 0.8976190476190476\n",
      "Precision: 0.9629629629629629\n",
      "Recall: 0.8666666666666667\n",
      "F1 Score: 0.912280701754386\n",
      "Matthews Correlation Coefficient: 0.7607036127908976\n",
      "Specificity (Negative Prediction Accuracy): 0.9285714285714286\n",
      "\n",
      "= = = Experiment on neg = = =\n",
      "Accuracy: 0.9512195121951219\n",
      "ROC AUC Score: 0.9378787878787879\n",
      "Precision: 0.9090909090909091\n",
      "Recall: 0.9090909090909091\n",
      "F1 Score: 0.9090909090909091\n",
      "Matthews Correlation Coefficient: 0.8757575757575757\n",
      "Specificity (Negative Prediction Accuracy): 0.9666666666666667\n",
      "\n",
      "= = = Experiment on new = = =\n",
      "Accuracy: 0.9689189189189189\n",
      "ROC AUC Score: 0.9417180469921678\n",
      "Precision: 0.6078431372549019\n",
      "Recall: 0.9117647058823529\n",
      "F1 Score: 0.7294117647058823\n",
      "Matthews Correlation Coefficient: 0.7301670806408677\n",
      "Specificity (Negative Prediction Accuracy): 0.9716713881019831\n"
     ]
    }
   ],
   "source": [
    "for i, curr_data in ext_data.items():\n",
    "    curr_X, curr_y = prepare_data(curr_data)\n",
    "    curr_pred = rf_model.predict(curr_X)\n",
    "    print(f\"\\n= = = Experiment on {i} = = =\")\n",
    "    eval(curr_y, curr_pred)\n"
   ]
  },
  {
   "cell_type": "code",
   "execution_count": null,
   "id": "b02d250f-9b7e-42aa-a71b-99c2cb266fe9",
   "metadata": {},
   "outputs": [],
   "source": []
  },
  {
   "cell_type": "markdown",
   "id": "4753deb7-c202-4031-9282-d96c2e859590",
   "metadata": {},
   "source": [
    "# Simple Neural Network model"
   ]
  },
  {
   "cell_type": "code",
   "execution_count": 21,
   "id": "7c2dec08-b00b-4a8a-8fd1-cb20a901d419",
   "metadata": {
    "execution": {
     "iopub.execute_input": "2024-05-01T14:58:57.976393Z",
     "iopub.status.busy": "2024-05-01T14:58:57.976009Z",
     "iopub.status.idle": "2024-05-01T14:58:58.595227Z",
     "shell.execute_reply": "2024-05-01T14:58:58.594732Z",
     "shell.execute_reply.started": "2024-05-01T14:58:57.976377Z"
    },
    "tags": []
   },
   "outputs": [],
   "source": [
    "import torch\n",
    "\n",
    "X_train = torch.tensor(X_train, dtype=torch.float32)  # Convert features to a float Tensor\n",
    "y_train = torch.tensor(y_train, dtype=torch.float32)  # Convert labels to a float Tensor\n",
    "\n",
    "# Ensure labels y_train is the right shape (e.g., for BCELoss, you might need to ensure it's two-dimensional if there are two outputs)\n",
    "y_train = y_train.unsqueeze(1)  # Only do this if necessary"
   ]
  },
  {
   "cell_type": "markdown",
   "id": "5d9be36c-4ab1-4ec2-983b-09044cac28eb",
   "metadata": {},
   "source": [
    " # SimpleNN: Define the model"
   ]
  },
  {
   "cell_type": "code",
   "execution_count": 22,
   "id": "2d89940d-799b-4c0e-a66c-bfbac6e70d99",
   "metadata": {
    "execution": {
     "iopub.execute_input": "2024-05-01T14:58:59.799745Z",
     "iopub.status.busy": "2024-05-01T14:58:59.799438Z",
     "iopub.status.idle": "2024-05-01T14:58:59.839199Z",
     "shell.execute_reply": "2024-05-01T14:58:59.838810Z",
     "shell.execute_reply.started": "2024-05-01T14:58:59.799729Z"
    },
    "tags": []
   },
   "outputs": [],
   "source": [
    "import torch\n",
    "import torch.nn as nn\n",
    "import torch.optim as optim\n",
    "\n",
    "class SimpleNN(nn.Module):\n",
    "    def __init__(self):\n",
    "        super(SimpleNN, self).__init__()\n",
    "        self.layers = nn.Sequential(\n",
    "            nn.Linear(1024, 64),  # Assuming input features size of 1024\n",
    "            nn.ReLU(),\n",
    "            nn.Linear(64, 64),\n",
    "            nn.ReLU(),\n",
    "            nn.Linear(64, 1),  # binary classification\n",
    "            nn.Sigmoid()\n",
    "        )\n",
    "\n",
    "    def forward(self, x):\n",
    "        return self.layers(x)\n"
   ]
  },
  {
   "cell_type": "markdown",
   "id": "3d11b4eb-5cd8-4e55-992f-10142a75e621",
   "metadata": {},
   "source": [
    "# SimpleNN: Define loss"
   ]
  },
  {
   "cell_type": "code",
   "execution_count": 23,
   "id": "46600d55-5db6-4a76-a0db-14313d53b7ce",
   "metadata": {
    "execution": {
     "iopub.execute_input": "2024-05-01T14:59:01.947490Z",
     "iopub.status.busy": "2024-05-01T14:59:01.947190Z",
     "iopub.status.idle": "2024-05-01T14:59:01.977267Z",
     "shell.execute_reply": "2024-05-01T14:59:01.976888Z",
     "shell.execute_reply.started": "2024-05-01T14:59:01.947475Z"
    },
    "tags": []
   },
   "outputs": [],
   "source": [
    "\n",
    "def nn_loss_func(outputs, targets):\n",
    "    criterion = nn.BCELoss()\n",
    "    classical_loss = criterion(outputs.squeeze(), targets.squeeze())\n",
    "    \n",
    "    return classical_loss "
   ]
  },
  {
   "cell_type": "markdown",
   "id": "5ad8408e-d442-481c-a709-1d6732dac521",
   "metadata": {},
   "source": [
    "# SimpleNN: Training"
   ]
  },
  {
   "cell_type": "code",
   "execution_count": 24,
   "id": "ea51a954-cc86-4f42-b6e8-0a1bd6fdf215",
   "metadata": {
    "execution": {
     "iopub.execute_input": "2024-05-01T14:59:02.657353Z",
     "iopub.status.busy": "2024-05-01T14:59:02.657146Z",
     "iopub.status.idle": "2024-05-01T14:59:11.718911Z",
     "shell.execute_reply": "2024-05-01T14:59:11.718421Z",
     "shell.execute_reply.started": "2024-05-01T14:59:02.657338Z"
    },
    "tags": []
   },
   "outputs": [
    {
     "name": "stdout",
     "output_type": "stream",
     "text": [
      "Epoch 1, Loss: 0.6941598653793335\n",
      "Epoch 2, Loss: 0.6913716793060303\n",
      "Epoch 3, Loss: 0.6886349320411682\n",
      "Epoch 4, Loss: 0.6856218576431274\n",
      "Epoch 5, Loss: 0.6821855306625366\n",
      "Epoch 6, Loss: 0.6782341599464417\n",
      "Epoch 7, Loss: 0.6736916303634644\n",
      "Epoch 8, Loss: 0.6685101985931396\n",
      "Epoch 9, Loss: 0.6627156734466553\n",
      "Epoch 10, Loss: 0.6563175320625305\n",
      "Epoch 11, Loss: 0.6493382453918457\n",
      "Epoch 12, Loss: 0.641829252243042\n",
      "Epoch 13, Loss: 0.6338403224945068\n",
      "Epoch 14, Loss: 0.625450849533081\n",
      "Epoch 15, Loss: 0.6167259812355042\n",
      "Epoch 16, Loss: 0.607739269733429\n",
      "Epoch 17, Loss: 0.5985703468322754\n",
      "Epoch 18, Loss: 0.589328408241272\n",
      "Epoch 19, Loss: 0.5801218748092651\n",
      "Epoch 20, Loss: 0.5710580348968506\n",
      "Epoch 21, Loss: 0.5622432231903076\n",
      "Epoch 22, Loss: 0.5537464618682861\n",
      "Epoch 23, Loss: 0.5456221699714661\n",
      "Epoch 24, Loss: 0.537885844707489\n",
      "Epoch 25, Loss: 0.5305383205413818\n",
      "Epoch 26, Loss: 0.523552656173706\n",
      "Epoch 27, Loss: 0.5168911814689636\n",
      "Epoch 28, Loss: 0.5105001330375671\n",
      "Epoch 29, Loss: 0.5043290853500366\n",
      "Epoch 30, Loss: 0.4983523190021515\n",
      "Epoch 31, Loss: 0.4925156533718109\n",
      "Epoch 32, Loss: 0.48681339621543884\n",
      "Epoch 33, Loss: 0.4812460243701935\n",
      "Epoch 34, Loss: 0.4757993817329407\n",
      "Epoch 35, Loss: 0.4704895615577698\n",
      "Epoch 36, Loss: 0.4653223156929016\n",
      "Epoch 37, Loss: 0.4603042006492615\n",
      "Epoch 38, Loss: 0.45540764927864075\n",
      "Epoch 39, Loss: 0.4506262540817261\n",
      "Epoch 40, Loss: 0.4459614157676697\n",
      "Epoch 41, Loss: 0.44138574600219727\n",
      "Epoch 42, Loss: 0.4368828535079956\n",
      "Epoch 43, Loss: 0.4324324131011963\n",
      "Epoch 44, Loss: 0.42802897095680237\n",
      "Epoch 45, Loss: 0.42367395758628845\n",
      "Epoch 46, Loss: 0.4193742275238037\n",
      "Epoch 47, Loss: 0.4151240289211273\n",
      "Epoch 48, Loss: 0.4109341502189636\n",
      "Epoch 49, Loss: 0.40679508447647095\n",
      "Epoch 50, Loss: 0.40270885825157166\n",
      "Epoch 51, Loss: 0.39867153763771057\n",
      "Epoch 52, Loss: 0.39466968178749084\n",
      "Epoch 53, Loss: 0.3906998038291931\n",
      "Epoch 54, Loss: 0.3867429792881012\n",
      "Epoch 55, Loss: 0.38278964161872864\n",
      "Epoch 56, Loss: 0.37882962822914124\n",
      "Epoch 57, Loss: 0.3748559057712555\n",
      "Epoch 58, Loss: 0.3708459734916687\n",
      "Epoch 59, Loss: 0.3668135106563568\n",
      "Epoch 60, Loss: 0.362754225730896\n",
      "Epoch 61, Loss: 0.358666330575943\n",
      "Epoch 62, Loss: 0.35455620288848877\n",
      "Epoch 63, Loss: 0.3504232168197632\n",
      "Epoch 64, Loss: 0.34625521302223206\n",
      "Epoch 65, Loss: 0.3420512080192566\n",
      "Epoch 66, Loss: 0.33779650926589966\n",
      "Epoch 67, Loss: 0.33350029587745667\n",
      "Epoch 68, Loss: 0.3291827440261841\n",
      "Epoch 69, Loss: 0.3249566853046417\n",
      "Epoch 70, Loss: 0.3210504353046417\n",
      "Epoch 71, Loss: 0.31735002994537354\n",
      "Epoch 72, Loss: 0.3123367428779602\n",
      "Epoch 73, Loss: 0.30780598521232605\n",
      "Epoch 74, Loss: 0.3042963445186615\n",
      "Epoch 75, Loss: 0.29953309893608093\n",
      "Epoch 76, Loss: 0.29512572288513184\n",
      "Epoch 77, Loss: 0.29138052463531494\n",
      "Epoch 78, Loss: 0.28658777475357056\n",
      "Epoch 79, Loss: 0.2823448181152344\n",
      "Epoch 80, Loss: 0.27833500504493713\n",
      "Epoch 81, Loss: 0.2735695540904999\n",
      "Epoch 82, Loss: 0.26935914158821106\n",
      "Epoch 83, Loss: 0.2651917040348053\n",
      "Epoch 84, Loss: 0.2605030834674835\n",
      "Epoch 85, Loss: 0.2562201917171478\n",
      "Epoch 86, Loss: 0.25199267268180847\n",
      "Epoch 87, Loss: 0.2473563551902771\n",
      "Epoch 88, Loss: 0.2429446130990982\n",
      "Epoch 89, Loss: 0.23871971666812897\n",
      "Epoch 90, Loss: 0.2342015504837036\n",
      "Epoch 91, Loss: 0.22966960072517395\n",
      "Epoch 92, Loss: 0.22537890076637268\n",
      "Epoch 93, Loss: 0.22105425596237183\n",
      "Epoch 94, Loss: 0.21656981110572815\n",
      "Epoch 95, Loss: 0.2121332883834839\n",
      "Epoch 96, Loss: 0.20786307752132416\n",
      "Epoch 97, Loss: 0.20362645387649536\n",
      "Epoch 98, Loss: 0.19930334389209747\n",
      "Epoch 99, Loss: 0.19495216012001038\n",
      "Epoch 100, Loss: 0.19066941738128662\n",
      "Epoch 101, Loss: 0.18648020923137665\n",
      "Epoch 102, Loss: 0.1823653131723404\n",
      "Epoch 103, Loss: 0.1782839447259903\n",
      "Epoch 104, Loss: 0.17422842979431152\n",
      "Epoch 105, Loss: 0.17017556726932526\n",
      "Epoch 106, Loss: 0.16613835096359253\n",
      "Epoch 107, Loss: 0.16213366389274597\n",
      "Epoch 108, Loss: 0.15819904208183289\n",
      "Epoch 109, Loss: 0.15432867407798767\n",
      "Epoch 110, Loss: 0.1505224108695984\n",
      "Epoch 111, Loss: 0.14677821099758148\n",
      "Epoch 112, Loss: 0.1431068480014801\n",
      "Epoch 113, Loss: 0.13952113687992096\n",
      "Epoch 114, Loss: 0.1360725313425064\n",
      "Epoch 115, Loss: 0.13284432888031006\n",
      "Epoch 116, Loss: 0.12997758388519287\n",
      "Epoch 117, Loss: 0.12732769548892975\n",
      "Epoch 118, Loss: 0.12402797490358353\n",
      "Epoch 119, Loss: 0.11996374279260635\n",
      "Epoch 120, Loss: 0.11666727066040039\n",
      "Epoch 121, Loss: 0.11448169499635696\n",
      "Epoch 122, Loss: 0.1118207648396492\n",
      "Epoch 123, Loss: 0.10832006484270096\n",
      "Epoch 124, Loss: 0.1055675521492958\n",
      "Epoch 125, Loss: 0.10352202504873276\n",
      "Epoch 126, Loss: 0.10079984366893768\n",
      "Epoch 127, Loss: 0.0978471040725708\n",
      "Epoch 128, Loss: 0.09567246586084366\n",
      "Epoch 129, Loss: 0.09360969066619873\n",
      "Epoch 130, Loss: 0.09100683033466339\n",
      "Epoch 131, Loss: 0.08859562873840332\n",
      "Epoch 132, Loss: 0.08671290427446365\n",
      "Epoch 133, Loss: 0.08464355021715164\n",
      "Epoch 134, Loss: 0.08229820430278778\n",
      "Epoch 135, Loss: 0.08032900840044022\n",
      "Epoch 136, Loss: 0.07859654724597931\n",
      "Epoch 137, Loss: 0.07658712565898895\n",
      "Epoch 138, Loss: 0.07457965612411499\n",
      "Epoch 139, Loss: 0.07289452850818634\n",
      "Epoch 140, Loss: 0.07122555375099182\n",
      "Epoch 141, Loss: 0.06940174102783203\n",
      "Epoch 142, Loss: 0.06769797950983047\n",
      "Epoch 143, Loss: 0.06619305908679962\n",
      "Epoch 144, Loss: 0.06464012712240219\n",
      "Epoch 145, Loss: 0.06301556527614594\n",
      "Epoch 146, Loss: 0.06153218820691109\n",
      "Epoch 147, Loss: 0.06016743183135986\n",
      "Epoch 148, Loss: 0.05876055732369423\n",
      "Epoch 149, Loss: 0.05733785033226013\n",
      "Epoch 150, Loss: 0.05603298917412758\n",
      "Epoch 151, Loss: 0.054800789803266525\n",
      "Epoch 152, Loss: 0.05354061350226402\n",
      "Epoch 153, Loss: 0.052292123436927795\n",
      "Epoch 154, Loss: 0.05113539472222328\n",
      "Epoch 155, Loss: 0.05002480745315552\n",
      "Epoch 156, Loss: 0.04890266805887222\n",
      "Epoch 157, Loss: 0.04781336709856987\n",
      "Epoch 158, Loss: 0.046790800988674164\n",
      "Epoch 159, Loss: 0.045798107981681824\n",
      "Epoch 160, Loss: 0.044807568192481995\n",
      "Epoch 161, Loss: 0.04385295882821083\n",
      "Epoch 162, Loss: 0.04295056313276291\n",
      "Epoch 163, Loss: 0.04207006096839905\n",
      "Epoch 164, Loss: 0.041200216859579086\n",
      "Epoch 165, Loss: 0.04036412015557289\n",
      "Epoch 166, Loss: 0.039564840495586395\n",
      "Epoch 167, Loss: 0.038789913058280945\n",
      "Epoch 168, Loss: 0.03803107514977455\n",
      "Epoch 169, Loss: 0.03729749843478203\n",
      "Epoch 170, Loss: 0.03659319132566452\n",
      "Epoch 171, Loss: 0.035910170525312424\n",
      "Epoch 172, Loss: 0.035244062542915344\n",
      "Epoch 173, Loss: 0.0345972441136837\n",
      "Epoch 174, Loss: 0.033975400030612946\n",
      "Epoch 175, Loss: 0.03337526321411133\n",
      "Epoch 176, Loss: 0.0327911376953125\n",
      "Epoch 177, Loss: 0.03222666680812836\n",
      "Epoch 178, Loss: 0.031682342290878296\n",
      "Epoch 179, Loss: 0.03115438111126423\n",
      "Epoch 180, Loss: 0.030643180012702942\n",
      "Epoch 181, Loss: 0.03014916181564331\n",
      "Epoch 182, Loss: 0.029672347009181976\n",
      "Epoch 183, Loss: 0.029209082946181297\n",
      "Epoch 184, Loss: 0.028759747743606567\n",
      "Epoch 185, Loss: 0.02832409366965294\n",
      "Epoch 186, Loss: 0.027903424575924873\n",
      "Epoch 187, Loss: 0.027496010065078735\n",
      "Epoch 188, Loss: 0.02709907479584217\n",
      "Epoch 189, Loss: 0.02671443298459053\n",
      "Epoch 190, Loss: 0.02634183131158352\n",
      "Epoch 191, Loss: 0.02598113939166069\n",
      "Epoch 192, Loss: 0.0256313718855381\n",
      "Epoch 193, Loss: 0.025291047990322113\n",
      "Epoch 194, Loss: 0.024960694834589958\n",
      "Epoch 195, Loss: 0.024639001116156578\n",
      "Epoch 196, Loss: 0.02432701364159584\n",
      "Epoch 197, Loss: 0.02402358688414097\n",
      "Epoch 198, Loss: 0.02372753620147705\n",
      "Epoch 199, Loss: 0.023439479991793633\n",
      "Epoch 200, Loss: 0.023160062730312347\n"
     ]
    }
   ],
   "source": [
    "# Assuming X_train and y_train are your datasets loaded as Tensor objects\n",
    "nn_model = SimpleNN()\n",
    "nn_optimizer = optim.Adam(nn_model.parameters(), lr=0.001)\n",
    "\n",
    "\n",
    "# Training loop\n",
    "epoch_n = 200\n",
    "nn_model.train()\n",
    "for epoch in range(epoch_n):\n",
    "    nn_optimizer.zero_grad()\n",
    "    outputs = nn_model(X_train)  # Make sure X_train is a tensor\n",
    "    loss = nn_loss_func(outputs, y_train)  # Ensure y_train is appropriately shaped\n",
    "    loss.backward()\n",
    "    nn_optimizer.step()\n",
    "\n",
    "    print(f\"Epoch {epoch+1}, Loss: {loss.item()}\")\n",
    "    "
   ]
  },
  {
   "cell_type": "code",
   "execution_count": null,
   "id": "3a1ad93c-038a-463f-8b1d-71936f91eae0",
   "metadata": {},
   "outputs": [],
   "source": []
  },
  {
   "cell_type": "markdown",
   "id": "96b6d8ec-5c4c-4a29-9753-034b319c8a65",
   "metadata": {},
   "source": [
    "# SimpleNN: Internal Testing"
   ]
  },
  {
   "cell_type": "code",
   "execution_count": 25,
   "id": "5c527ec6-d506-46ef-aaa8-5becc3ee7e93",
   "metadata": {
    "execution": {
     "iopub.execute_input": "2024-05-01T14:59:11.761869Z",
     "iopub.status.busy": "2024-05-01T14:59:11.761565Z",
     "iopub.status.idle": "2024-05-01T14:59:11.959775Z",
     "shell.execute_reply": "2024-05-01T14:59:11.959358Z",
     "shell.execute_reply.started": "2024-05-01T14:59:11.761853Z"
    },
    "tags": []
   },
   "outputs": [],
   "source": [
    "# Assuming X_test and y_test are already loaded and are numpy arrays or lists\n",
    "X_test = torch.tensor(X_test, dtype=torch.float32)  # Convert to tensor\n",
    "# Ensure y_test is also a tensor if you have it and will evaluate metrics\n",
    "y_test = torch.tensor(y_test, dtype=torch.float32).unsqueeze(1)  # Convert to tensor and ensure correct shape\n"
   ]
  },
  {
   "cell_type": "code",
   "execution_count": 26,
   "id": "09025b8a-45af-474a-a121-91c96c0b9afa",
   "metadata": {
    "execution": {
     "iopub.execute_input": "2024-05-01T14:59:13.199123Z",
     "iopub.status.busy": "2024-05-01T14:59:13.198797Z",
     "iopub.status.idle": "2024-05-01T14:59:13.251751Z",
     "shell.execute_reply": "2024-05-01T14:59:13.251314Z",
     "shell.execute_reply.started": "2024-05-01T14:59:13.199100Z"
    },
    "tags": []
   },
   "outputs": [
    {
     "name": "stdout",
     "output_type": "stream",
     "text": [
      "Accuracy: 0.7680297397769517\n",
      "ROC AUC Score: 0.7679483784218618\n",
      "Precision: 0.7664897649734648\n",
      "Recall: 0.7618688771665411\n",
      "F1 Score: 0.7641723356009069\n",
      "Matthews Correlation Coefficient: 0.5359489111788915\n",
      "Specificity (Negative Prediction Accuracy): 0.7740278796771827\n"
     ]
    }
   ],
   "source": [
    "# Set model to evaluation mode\n",
    "nn_model.eval()\n",
    "\n",
    "# Disable gradient computation for testing (saves memory and computations)\n",
    "with torch.no_grad():\n",
    "    outputs = nn_model(X_test)\n",
    "\n",
    "\n",
    "# Convert outputs to predicted classes\n",
    "# For binary classification with a single output unit\n",
    "predictions = (outputs > 0.5).float()  # Threshold probabilities to classify as 1 or 0\n",
    "\n",
    "# Since you cannot use sklearn directly with tensors, you need to move data back to CPU and convert to numpy\n",
    "predictions = predictions.cpu().numpy()\n",
    "y_test = y_test.cpu().numpy()\n",
    "\n",
    "eval(y_test, predictions)"
   ]
  },
  {
   "cell_type": "markdown",
   "id": "a3e50982-88c0-4252-bff9-99771e4c9540",
   "metadata": {
    "execution": {
     "iopub.execute_input": "2024-04-24T05:40:06.716156Z",
     "iopub.status.busy": "2024-04-24T05:40:06.715830Z",
     "iopub.status.idle": "2024-04-24T05:40:06.756633Z",
     "shell.execute_reply": "2024-04-24T05:40:06.755994Z",
     "shell.execute_reply.started": "2024-04-24T05:40:06.716137Z"
    },
    "tags": []
   },
   "source": [
    "# SimpleNN: evaluation on external data"
   ]
  },
  {
   "cell_type": "code",
   "execution_count": 29,
   "id": "bd3a49f4-6c2e-4eb4-ae20-d301b1967071",
   "metadata": {
    "execution": {
     "iopub.execute_input": "2024-05-01T15:59:32.633072Z",
     "iopub.status.busy": "2024-05-01T15:59:32.632739Z",
     "iopub.status.idle": "2024-05-01T15:59:33.594330Z",
     "shell.execute_reply": "2024-05-01T15:59:33.593764Z",
     "shell.execute_reply.started": "2024-05-01T15:59:32.633054Z"
    },
    "tags": []
   },
   "outputs": [
    {
     "name": "stdout",
     "output_type": "stream",
     "text": [
      "\n",
      "= = = Experiment on pos = = =\n",
      "Accuracy: 0.8636363636363636\n",
      "ROC AUC Score: 0.880952380952381\n",
      "Precision: 0.9615384615384616\n",
      "Recall: 0.8333333333333334\n",
      "F1 Score: 0.8928571428571429\n",
      "Matthews Correlation Coefficient: 0.7217759492810224\n",
      "Specificity (Negative Prediction Accuracy): 0.9285714285714286\n",
      "\n",
      "= = = Experiment on neg = = =\n",
      "Accuracy: 0.8048780487804879\n",
      "ROC AUC Score: 0.8090909090909092\n",
      "Precision: 0.6\n",
      "Recall: 0.8181818181818182\n",
      "F1 Score: 0.6923076923076923\n",
      "Matthews Correlation Coefficient: 0.5686445668048217\n",
      "Specificity (Negative Prediction Accuracy): 0.8\n",
      "\n",
      "= = = Experiment on new = = =\n",
      "Accuracy: 0.9445945945945946\n",
      "ROC AUC Score: 0.9289701716380603\n",
      "Precision: 0.4492753623188406\n",
      "Recall: 0.9117647058823529\n",
      "F1 Score: 0.6019417475728155\n",
      "Matthews Correlation Coefficient: 0.6177504833839682\n",
      "Specificity (Negative Prediction Accuracy): 0.9461756373937678\n"
     ]
    }
   ],
   "source": [
    "for i, curr_data in ext_data.items():\n",
    "    curr_X, curr_y = prepare_data(curr_data)    \n",
    "    curr_X = torch.tensor(curr_X, dtype=torch.float32)  # Convert to tensor\n",
    "    curr_y = torch.tensor(curr_y, dtype=torch.float32).unsqueeze(1)  # Convert to tensor and ensure correct shape\n",
    "    \n",
    "    # Set model to evaluation mode\n",
    "    nn_model.eval()\n",
    "\n",
    "    # Disable gradient computation for testing (saves memory and computations)\n",
    "    with torch.no_grad():\n",
    "        outputs = nn_model(curr_X)\n",
    "    \n",
    "    curr_pred = (outputs > 0.5).float()  # Threshold probabilities to classify as 1 or 0\n",
    "\n",
    "    # Since you cannot use sklearn directly with tensors, you need to move data back to CPU and convert to numpy\n",
    "    curr_pred = curr_pred.cpu().numpy()\n",
    "    curr_y = curr_y.cpu().numpy()\n",
    "\n",
    "    print(f\"\\n= = = Experiment on {i} = = =\")\n",
    "    eval(curr_y, curr_pred)\n"
   ]
  },
  {
   "cell_type": "code",
   "execution_count": null,
   "id": "2d10cf41-3052-456b-95ff-281806819253",
   "metadata": {},
   "outputs": [],
   "source": []
  },
  {
   "cell_type": "code",
   "execution_count": null,
   "id": "31513ba9-1c74-43f4-ad39-86d401aa4f09",
   "metadata": {},
   "outputs": [],
   "source": []
  },
  {
   "cell_type": "markdown",
   "id": "f46353df-a3ec-4a61-861d-f0a4f88491ac",
   "metadata": {},
   "source": [
    "# LTN first trial"
   ]
  },
  {
   "cell_type": "code",
   "execution_count": null,
   "id": "51c03dae-9490-484c-998e-f2e1bb82c1c5",
   "metadata": {
    "tags": []
   },
   "outputs": [],
   "source": [
    "import torch\n",
    "import torch.nn as nn\n",
    "import torch.optim as optim\n",
    "\n",
    "class LTNModel(nn.Module):\n",
    "    def __init__(self):\n",
    "        super(LTNModel, self).__init__()\n",
    "        self.layers = nn.Sequential(\n",
    "            nn.Linear(1024, 64),  # Assuming input features size of 1024\n",
    "            nn.ReLU(),\n",
    "            nn.Linear(64, 64),\n",
    "            nn.ReLU(),\n",
    "            nn.Linear(64, 1),  # binary classification\n",
    "            nn.Sigmoid()\n",
    "        )\n",
    "\n",
    "    def forward(self, x):\n",
    "        return self.layers(x)\n",
    "    \n",
    "    \n",
    "    \n",
    "# Instantiate the model\n",
    "model = LTNModel()\n",
    "\n",
    "# Prepare data\n",
    "X_train_tensor = torch.tensor(X_train, dtype=torch.float32)\n",
    "y_train_tensor = torch.tensor(y_train, dtype=torch.float32).unsqueeze(1)\n",
    "X_test_tensor = torch.tensor(X_test, dtype=torch.float32)\n",
    "y_test_tensor = torch.tensor(y_test, dtype=torch.float32).unsqueeze(1)\n",
    "\n",
    "# Setup optimizer\n",
    "optimizer = optim.Adam(model.parameters(), lr=0.001)\n",
    "\n",
    "# Define and run the training function\n",
    "def train(model, X_train, y_train, optimizer, epochs=100):\n",
    "    model.train()\n",
    "    for epoch in range(epochs):\n",
    "        optimizer.zero_grad()\n",
    "        outputs = model(X_train)  # Directly use the model\n",
    "        loss = nn.BCELoss()(outputs, y_train)\n",
    "        loss.backward()\n",
    "        optimizer.step()\n",
    "        if (epoch + 1) % 10 == 0:\n",
    "            print(f\"Epoch {epoch+1}, Loss: {loss.item()}\")\n",
    "\n",
    "# Execute the training\n",
    "train(model, X_train_tensor, y_train_tensor, optimizer)\n",
    "\n",
    "\n",
    "# Set model to evaluation mode\n",
    "nn_model.eval()\n",
    "with torch.no_grad():\n",
    "    outputs = model(X_test_tensor)\n",
    "predictions = (outputs > 0.5).float()  # Threshold probabilities to classify as 1 or 0\n",
    "\n",
    "# Since you cannot use sklearn directly with tensors, you need to move data back to CPU and convert to numpy\n",
    "predictions = predictions.cpu().numpy()\n",
    "y_test_tensor = y_test_tensor.cpu().numpy()\n",
    "eval(y_test_tensor, predictions)"
   ]
  },
  {
   "cell_type": "markdown",
   "id": "5dc1d58d-ed0e-41c6-9855-eb14c31d761d",
   "metadata": {},
   "source": [
    "# Logic Tensor Network (LTN)"
   ]
  },
  {
   "cell_type": "code",
   "execution_count": null,
   "id": "83d007c8-73d4-40b3-8626-787f9fac70f8",
   "metadata": {
    "execution": {
     "iopub.status.busy": "2024-04-24T14:31:18.386078Z",
     "iopub.status.idle": "2024-04-24T14:31:18.386308Z",
     "shell.execute_reply": "2024-04-24T14:31:18.386203Z",
     "shell.execute_reply.started": "2024-04-24T14:31:18.386194Z"
    },
    "tags": []
   },
   "outputs": [],
   "source": [
    "import ltn"
   ]
  },
  {
   "cell_type": "code",
   "execution_count": null,
   "id": "0de3c1b7-5a04-4eea-a5ce-87da86c45e80",
   "metadata": {
    "execution": {
     "iopub.status.busy": "2024-04-24T14:31:18.387066Z",
     "iopub.status.idle": "2024-04-24T14:31:18.387458Z",
     "shell.execute_reply": "2024-04-24T14:31:18.387360Z",
     "shell.execute_reply.started": "2024-04-24T14:31:18.387350Z"
    },
    "tags": []
   },
   "outputs": [],
   "source": [
    "class LTNModel(torch.nn.Module):\n",
    "    def __init__(self):\n",
    "        super(LTNModel, self).__init__()\n",
    "        self.layers = nn.Sequential(\n",
    "            nn.Linear(1024, 64),  # Assuming input features size of 1024\n",
    "            nn.ReLU(),\n",
    "            nn.Linear(64, 64),\n",
    "            nn.ReLU(),\n",
    "            nn.Linear(64, 1),  # binary classification\n",
    "            nn.Sigmoid()\n",
    "        )\n",
    "\n",
    "    def forward(self, x):\n",
    "        return self.layers(x)\n",
    "        \n",
    "    \n",
    "# Instantiate model and predicate\n",
    "ltn_model = LTNModel()\n",
    "#predicate_toxic = ltn.Predicate(ltn_model)\n"
   ]
  },
  {
   "cell_type": "markdown",
   "id": "03da0656-adf6-42a0-9bfa-20b473660e0a",
   "metadata": {},
   "source": [
    "# LTN: Rules"
   ]
  },
  {
   "cell_type": "code",
   "execution_count": null,
   "id": "b99664e3-6c4a-49ec-a85f-1baf3b04f316",
   "metadata": {
    "execution": {
     "iopub.status.busy": "2024-04-24T14:31:18.387955Z",
     "iopub.status.idle": "2024-04-24T14:31:18.388291Z",
     "shell.execute_reply": "2024-04-24T14:31:18.388194Z",
     "shell.execute_reply.started": "2024-04-24T14:31:18.388185Z"
    },
    "tags": []
   },
   "outputs": [],
   "source": [
    "# Rule: Structural similarity implies similar toxicity\n",
    "# Define a similarity measure (could be cosine similarity, Jaccard index, etc. for molecular fingerprints)\n",
    "def similarity(x, y):\n",
    "    return torch.cosine_similarity(x, y, dim=1)\n",
    "\n",
    "# Logical rule\n",
    "def rule_structural_similarity(data):\n",
    "    for i in range(len(data)):\n",
    "        for j in range(len(data)):\n",
    "            # Enforce that similar compounds should have similar toxicity predictions\n",
    "            ltn.axiom((similarity(data[i], data[j]) > 0.8) >> (ltn.equivalence(predicate_toxic(data[i]), predicate_toxic(data[j]))))\n",
    "\n",
    "\n",
    "            \n",
    "def structure_similarity(data, epsilon=0.85):\n",
    "    # Assume a function that calculates pairwise similarity (e.g., cosine similarity)\n",
    "    similarities = torch.mm(data, data.t())  # This is a simplistic way to compute similarities\n",
    "    for i in range(len(data)):\n",
    "        for j in range(len(data)):\n",
    "            # Adding similarity rule: similar structures imply similar toxicity levels\n",
    "            ltn.axiom((similarities[i, j] > epsilon) >> (ltn.equivalence(predicate_toxic(data[i]), predicate_toxic(data[j]))))\n",
    "\n",
    "# Dummy function for presence of specific substructures (you need actual implementation based on your data)\n",
    "def presence_of_toxic_substructures(data, indices_of_substructures):\n",
    "    for i in range(len(data)):\n",
    "        if any(data[i][idx] == 1 for idx in indices_of_substructures):\n",
    "            ltn.axiom(predicate_toxic(data[i]))            \n"
   ]
  },
  {
   "cell_type": "markdown",
   "id": "4fad4504-cebd-4c0e-8ef2-1ed5b12e35a4",
   "metadata": {},
   "source": [
    "# Prepare Data"
   ]
  },
  {
   "cell_type": "code",
   "execution_count": null,
   "id": "090e39bb-d7e6-4195-9105-19985796fc33",
   "metadata": {
    "execution": {
     "iopub.status.busy": "2024-04-24T14:31:18.388818Z",
     "iopub.status.idle": "2024-04-24T14:31:18.389200Z",
     "shell.execute_reply": "2024-04-24T14:31:18.389096Z",
     "shell.execute_reply.started": "2024-04-24T14:31:18.389087Z"
    },
    "tags": []
   },
   "outputs": [],
   "source": [
    "X_train_tensor = torch.tensor(X_train, dtype=torch.float32)\n",
    "y_train_tensor = torch.tensor(y_train, dtype=torch.float32).unsqueeze(1)\n"
   ]
  },
  {
   "cell_type": "markdown",
   "id": "1bde769c-a473-4a39-bfdd-4f9185978818",
   "metadata": {},
   "source": [
    "# LTN: Training"
   ]
  },
  {
   "cell_type": "code",
   "execution_count": null,
   "id": "4dc49351-1401-4633-82fb-f5eb1a7d3269",
   "metadata": {
    "execution": {
     "iopub.status.busy": "2024-04-24T14:31:18.389678Z",
     "iopub.status.idle": "2024-04-24T14:31:18.389956Z",
     "shell.execute_reply": "2024-04-24T14:31:18.389860Z",
     "shell.execute_reply.started": "2024-04-24T14:31:18.389851Z"
    },
    "tags": []
   },
   "outputs": [],
   "source": [
    "ltn_optimizer = optim.Adam(ltn_model.parameters(), lr=0.001)\n",
    "\n",
    "# Define a training function\n",
    "def ltn_train(predicate, X_train, y_train, optimizer, epochs=100):\n",
    "    for epoch in range(epochs):\n",
    "        optimizer.zero_grad()\n",
    "        outputs = predicate(X_train)  # Using the predicate directly\n",
    "        loss = nn.BCELoss()(outputs.tensor, y_train.tensor)  # Accessing the tensor from the LTN Tensor\n",
    "        loss.backward()\n",
    "        optimizer.step()\n",
    "        if (epoch + 1) % 10 == 0:\n",
    "            print(f\"Epoch {epoch+1}, Loss: {loss.item()}\")\n",
    "            \n",
    "# Step 7: Run the training\n",
    "# Execute the training\n",
    "ltn_train(predicate_toxic, X_train_ltn, y_train_ltn, ltn_optimizer)"
   ]
  },
  {
   "cell_type": "code",
   "execution_count": null,
   "id": "e7716641-377b-4355-91cf-ea41eb3ebada",
   "metadata": {
    "execution": {
     "iopub.status.busy": "2024-04-24T14:31:18.390470Z",
     "iopub.status.idle": "2024-04-24T14:31:18.390668Z",
     "shell.execute_reply": "2024-04-24T14:31:18.390577Z",
     "shell.execute_reply.started": "2024-04-24T14:31:18.390568Z"
    }
   },
   "outputs": [],
   "source": [
    "\n",
    "model.eval()\n",
    "with torch.no_grad():\n",
    "    test_outputs = predicate_toxic(X_test_term)\n",
    "    test_predictions = (test_outputs > 0.5).float()\n",
    "    accuracy = (test_predictions == y_test_term.tensor).float().mean()  # Compare against the tensor inside the term\n",
    "    print(f\"Test Accuracy: {accuracy.item()}\")"
   ]
  },
  {
   "cell_type": "code",
   "execution_count": null,
   "id": "325679b5-64b0-48dd-9cb8-a936077eec2e",
   "metadata": {},
   "outputs": [],
   "source": []
  },
  {
   "cell_type": "code",
   "execution_count": null,
   "id": "5bd5f63e-b5c4-4b8e-b89a-59fdce85cf3f",
   "metadata": {},
   "outputs": [],
   "source": []
  },
  {
   "cell_type": "code",
   "execution_count": null,
   "id": "f07bc1ed-710d-4a36-bbb0-994907e2cc80",
   "metadata": {},
   "outputs": [],
   "source": []
  },
  {
   "cell_type": "code",
   "execution_count": null,
   "id": "fcf42726-9466-4dc9-837b-822710256977",
   "metadata": {},
   "outputs": [],
   "source": []
  },
  {
   "cell_type": "code",
   "execution_count": null,
   "id": "d5eb506f-3f4c-43e0-8a43-430f6046eebe",
   "metadata": {},
   "outputs": [],
   "source": []
  },
  {
   "cell_type": "code",
   "execution_count": null,
   "id": "5c2f0b27-6cf8-45de-98a9-64a8b90b2539",
   "metadata": {},
   "outputs": [],
   "source": []
  }
 ],
 "metadata": {
  "kernelspec": {
   "display_name": "herg",
   "language": "python",
   "name": "herg"
  },
  "language_info": {
   "codemirror_mode": {
    "name": "ipython",
    "version": 3
   },
   "file_extension": ".py",
   "mimetype": "text/x-python",
   "name": "python",
   "nbconvert_exporter": "python",
   "pygments_lexer": "ipython3",
   "version": "3.9.19"
  }
 },
 "nbformat": 4,
 "nbformat_minor": 5
}
