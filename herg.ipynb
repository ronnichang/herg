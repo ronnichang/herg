{
 "cells": [
  {
   "cell_type": "code",
   "execution_count": 2,
   "id": "e0fc9b99-2c6c-47a2-933d-37adad598f2d",
   "metadata": {
    "execution": {
     "iopub.execute_input": "2024-04-24T01:44:46.807397Z",
     "iopub.status.busy": "2024-04-24T01:44:46.806929Z",
     "iopub.status.idle": "2024-04-24T01:44:47.301035Z",
     "shell.execute_reply": "2024-04-24T01:44:47.300563Z",
     "shell.execute_reply.started": "2024-04-24T01:44:46.807374Z"
    },
    "tags": []
   },
   "outputs": [],
   "source": [
    "%load_ext autoreload\n",
    "%autoreload 2\n",
    "%matplotlib inline"
   ]
  },
  {
   "cell_type": "markdown",
   "id": "b08a15c7-5bad-4ccc-a1cf-ecbbce188a9e",
   "metadata": {},
   "source": [
    "# Download data"
   ]
  },
  {
   "cell_type": "code",
   "execution_count": 1,
   "id": "823b920a-7c06-49a0-b364-fa4ede948136",
   "metadata": {
    "execution": {
     "iopub.execute_input": "2024-04-24T01:44:36.703717Z",
     "iopub.status.busy": "2024-04-24T01:44:36.703332Z",
     "iopub.status.idle": "2024-04-24T01:44:44.666916Z",
     "shell.execute_reply": "2024-04-24T01:44:44.666111Z",
     "shell.execute_reply.started": "2024-04-24T01:44:36.703692Z"
    },
    "tags": []
   },
   "outputs": [
    {
     "name": "stderr",
     "output_type": "stream",
     "text": [
      "Found local copy...\n",
      "Loading...\n",
      "Done!\n",
      "100%|██████████| 13445/13445 [00:05<00:00, 2302.95it/s]"
     ]
    },
    {
     "name": "stdout",
     "output_type": "stream",
     "text": [
      "Data loaded and split successfully.\n",
      "Train data samples: 9411\n",
      "Validation data samples: 1344\n",
      "Test data samples: 2690\n"
     ]
    },
    {
     "name": "stderr",
     "output_type": "stream",
     "text": [
      "\n"
     ]
    }
   ],
   "source": [
    "from tdc.single_pred import Tox\n",
    "\n",
    "try:\n",
    "    data = Tox(name='hERG_Karim')\n",
    "    split = data.get_split(\"scaffold\")\n",
    "    print(\"Data loaded and split successfully.\")\n",
    "    print(\"Train data samples:\", len(split['train']))\n",
    "    print(\"Validation data samples:\", len(split['valid']))\n",
    "    print(\"Test data samples:\", len(split['test']))\n",
    "except Exception as e:\n",
    "    print(\"An error occurred:\", str(e))"
   ]
  },
  {
   "cell_type": "markdown",
   "id": "4c4cdc71-a9e4-4757-85b3-8701b11f7e58",
   "metadata": {},
   "source": [
    "# check data"
   ]
  },
  {
   "cell_type": "code",
   "execution_count": 3,
   "id": "70c8232b-4aca-469f-b433-2a67725ad8b4",
   "metadata": {
    "execution": {
     "iopub.execute_input": "2024-04-24T01:44:54.605713Z",
     "iopub.status.busy": "2024-04-24T01:44:54.605208Z",
     "iopub.status.idle": "2024-04-24T01:44:54.785609Z",
     "shell.execute_reply": "2024-04-24T01:44:54.785208Z",
     "shell.execute_reply.started": "2024-04-24T01:44:54.605691Z"
    },
    "tags": []
   },
   "outputs": [
    {
     "data": {
      "text/plain": [
       "dict_keys(['train', 'valid', 'test'])"
      ]
     },
     "execution_count": 3,
     "metadata": {},
     "output_type": "execute_result"
    }
   ],
   "source": [
    "split.keys()"
   ]
  },
  {
   "cell_type": "code",
   "execution_count": 4,
   "id": "43e06b35-37f2-4df1-a7fb-170cb3359861",
   "metadata": {
    "execution": {
     "iopub.execute_input": "2024-04-24T01:44:55.602822Z",
     "iopub.status.busy": "2024-04-24T01:44:55.602505Z",
     "iopub.status.idle": "2024-04-24T01:44:55.626352Z",
     "shell.execute_reply": "2024-04-24T01:44:55.625964Z",
     "shell.execute_reply.started": "2024-04-24T01:44:55.602804Z"
    },
    "tags": []
   },
   "outputs": [
    {
     "data": {
      "text/html": [
       "<div>\n",
       "<style scoped>\n",
       "    .dataframe tbody tr th:only-of-type {\n",
       "        vertical-align: middle;\n",
       "    }\n",
       "\n",
       "    .dataframe tbody tr th {\n",
       "        vertical-align: top;\n",
       "    }\n",
       "\n",
       "    .dataframe thead th {\n",
       "        text-align: right;\n",
       "    }\n",
       "</style>\n",
       "<table border=\"1\" class=\"dataframe\">\n",
       "  <thead>\n",
       "    <tr style=\"text-align: right;\">\n",
       "      <th></th>\n",
       "      <th>Drug_ID</th>\n",
       "      <th>Drug</th>\n",
       "      <th>Y</th>\n",
       "    </tr>\n",
       "  </thead>\n",
       "  <tbody>\n",
       "    <tr>\n",
       "      <th>0</th>\n",
       "      <td>8640</td>\n",
       "      <td>O=C1NCCN1CC[N+]1CCC(c2cn(C3CCCCC3)c3ccc(Cl)cc2...</td>\n",
       "      <td>0</td>\n",
       "    </tr>\n",
       "    <tr>\n",
       "      <th>1</th>\n",
       "      <td>11377</td>\n",
       "      <td>O=C(Cc1ccc(-n2cnnn2)cc1)N1CCN(CCc2ccc3nonc3c2)CC1</td>\n",
       "      <td>1</td>\n",
       "    </tr>\n",
       "    <tr>\n",
       "      <th>2</th>\n",
       "      <td>1461</td>\n",
       "      <td>NC(=O)c1ncc(N[C@@H]2CCCC[C@@H]2N)cc1Nc1cccc(C(...</td>\n",
       "      <td>1</td>\n",
       "    </tr>\n",
       "    <tr>\n",
       "      <th>3</th>\n",
       "      <td>6646</td>\n",
       "      <td>Cc1cc(C)nc(Nc2cc(N[C@@H]3CCCC[C@@H]3N)cnc2C(N)...</td>\n",
       "      <td>1</td>\n",
       "    </tr>\n",
       "    <tr>\n",
       "      <th>4</th>\n",
       "      <td>379</td>\n",
       "      <td>COc1cc(C)nc(Nc2cc(N[C@@H]3CCCC[C@@H]3N)cnc2C(N...</td>\n",
       "      <td>1</td>\n",
       "    </tr>\n",
       "    <tr>\n",
       "      <th>...</th>\n",
       "      <td>...</td>\n",
       "      <td>...</td>\n",
       "      <td>...</td>\n",
       "    </tr>\n",
       "    <tr>\n",
       "      <th>9406</th>\n",
       "      <td>5238</td>\n",
       "      <td>CC(C)(C)c1cc(NC(=O)n2ccc3cc(Oc4ncnc5c4CCNC5)cc...</td>\n",
       "      <td>1</td>\n",
       "    </tr>\n",
       "    <tr>\n",
       "      <th>9407</th>\n",
       "      <td>6201</td>\n",
       "      <td>Cc1ccc2c(C3CCN(CCc4c(C)ccc5c4ccc(=O)n5C)CC3)cc...</td>\n",
       "      <td>1</td>\n",
       "    </tr>\n",
       "    <tr>\n",
       "      <th>9408</th>\n",
       "      <td>11725</td>\n",
       "      <td>CCOC(=O)C1=C(CN2CCOCC2)NC(c2nccs2)=NC1c1ccc(F)...</td>\n",
       "      <td>1</td>\n",
       "    </tr>\n",
       "    <tr>\n",
       "      <th>9409</th>\n",
       "      <td>12714</td>\n",
       "      <td>CCCCCCOC(=O)NC(=N)c1ccc(NCc2nc3cc(C(=O)N(CCC(=...</td>\n",
       "      <td>1</td>\n",
       "    </tr>\n",
       "    <tr>\n",
       "      <th>9410</th>\n",
       "      <td>13134</td>\n",
       "      <td>Cn1c(CNc2ccc(C(=N)N)cc2)nc2cc(C(=O)N(CCC(=O)O)...</td>\n",
       "      <td>0</td>\n",
       "    </tr>\n",
       "  </tbody>\n",
       "</table>\n",
       "<p>9411 rows × 3 columns</p>\n",
       "</div>"
      ],
      "text/plain": [
       "      Drug_ID                                               Drug  Y\n",
       "0        8640  O=C1NCCN1CC[N+]1CCC(c2cn(C3CCCCC3)c3ccc(Cl)cc2...  0\n",
       "1       11377  O=C(Cc1ccc(-n2cnnn2)cc1)N1CCN(CCc2ccc3nonc3c2)CC1  1\n",
       "2        1461  NC(=O)c1ncc(N[C@@H]2CCCC[C@@H]2N)cc1Nc1cccc(C(...  1\n",
       "3        6646  Cc1cc(C)nc(Nc2cc(N[C@@H]3CCCC[C@@H]3N)cnc2C(N)...  1\n",
       "4         379  COc1cc(C)nc(Nc2cc(N[C@@H]3CCCC[C@@H]3N)cnc2C(N...  1\n",
       "...       ...                                                ... ..\n",
       "9406     5238  CC(C)(C)c1cc(NC(=O)n2ccc3cc(Oc4ncnc5c4CCNC5)cc...  1\n",
       "9407     6201  Cc1ccc2c(C3CCN(CCc4c(C)ccc5c4ccc(=O)n5C)CC3)cc...  1\n",
       "9408    11725  CCOC(=O)C1=C(CN2CCOCC2)NC(c2nccs2)=NC1c1ccc(F)...  1\n",
       "9409    12714  CCCCCCOC(=O)NC(=N)c1ccc(NCc2nc3cc(C(=O)N(CCC(=...  1\n",
       "9410    13134  Cn1c(CNc2ccc(C(=N)N)cc2)nc2cc(C(=O)N(CCC(=O)O)...  0\n",
       "\n",
       "[9411 rows x 3 columns]"
      ]
     },
     "execution_count": 4,
     "metadata": {},
     "output_type": "execute_result"
    }
   ],
   "source": [
    "split['train']"
   ]
  },
  {
   "cell_type": "code",
   "execution_count": 5,
   "id": "f849b3ff-cc04-4a5f-a11e-7b47d180aba2",
   "metadata": {
    "execution": {
     "iopub.execute_input": "2024-04-24T01:44:57.876883Z",
     "iopub.status.busy": "2024-04-24T01:44:57.876535Z",
     "iopub.status.idle": "2024-04-24T01:44:57.897745Z",
     "shell.execute_reply": "2024-04-24T01:44:57.897347Z",
     "shell.execute_reply.started": "2024-04-24T01:44:57.876864Z"
    },
    "tags": []
   },
   "outputs": [
    {
     "data": {
      "text/html": [
       "<div>\n",
       "<style scoped>\n",
       "    .dataframe tbody tr th:only-of-type {\n",
       "        vertical-align: middle;\n",
       "    }\n",
       "\n",
       "    .dataframe tbody tr th {\n",
       "        vertical-align: top;\n",
       "    }\n",
       "\n",
       "    .dataframe thead th {\n",
       "        text-align: right;\n",
       "    }\n",
       "</style>\n",
       "<table border=\"1\" class=\"dataframe\">\n",
       "  <thead>\n",
       "    <tr style=\"text-align: right;\">\n",
       "      <th></th>\n",
       "      <th>Drug_ID</th>\n",
       "      <th>Drug</th>\n",
       "      <th>Y</th>\n",
       "    </tr>\n",
       "  </thead>\n",
       "  <tbody>\n",
       "    <tr>\n",
       "      <th>0</th>\n",
       "      <td>7417</td>\n",
       "      <td>CC(C)c1noc(-c2nnc3n2CCN(C(=O)c2ccc(F)cc2)[C@@H...</td>\n",
       "      <td>1</td>\n",
       "    </tr>\n",
       "    <tr>\n",
       "      <th>1</th>\n",
       "      <td>3967</td>\n",
       "      <td>CCc1noc(-c2nnc3n2CCN(C(=O)c2ccc(F)cc2)[C@@H]3C)n1</td>\n",
       "      <td>0</td>\n",
       "    </tr>\n",
       "    <tr>\n",
       "      <th>2</th>\n",
       "      <td>13387</td>\n",
       "      <td>CC(C)(C)Cn1c(N)nc2ccc(-c3nc(C(C)(C)C)[nH]c3-c3...</td>\n",
       "      <td>0</td>\n",
       "    </tr>\n",
       "    <tr>\n",
       "      <th>3</th>\n",
       "      <td>10258</td>\n",
       "      <td>CC(C)(C)C1CCC2(CC1)CCN(c1ccc(OC(F)(F)F)cc1)C(=...</td>\n",
       "      <td>1</td>\n",
       "    </tr>\n",
       "    <tr>\n",
       "      <th>4</th>\n",
       "      <td>5612</td>\n",
       "      <td>CCN(CC)c1ccc2cc(C(=O)NCCCCN3CCC(Nc4nc5ccccc5n4...</td>\n",
       "      <td>1</td>\n",
       "    </tr>\n",
       "    <tr>\n",
       "      <th>...</th>\n",
       "      <td>...</td>\n",
       "      <td>...</td>\n",
       "      <td>...</td>\n",
       "    </tr>\n",
       "    <tr>\n",
       "      <th>2685</th>\n",
       "      <td>10596</td>\n",
       "      <td>COCCN(C)Cc1csc(-c2cn(CC3CCOCC3)c3c(Cl)cccc23)n1</td>\n",
       "      <td>1</td>\n",
       "    </tr>\n",
       "    <tr>\n",
       "      <th>2686</th>\n",
       "      <td>12520</td>\n",
       "      <td>CC(C)N(CCO)Cc1csc(-c2cn(CC3CCOCC3)c3c(Cl)cccc2...</td>\n",
       "      <td>1</td>\n",
       "    </tr>\n",
       "    <tr>\n",
       "      <th>2687</th>\n",
       "      <td>2924</td>\n",
       "      <td>CC(C)N(CCO)Cc1nc(-c2cn(CC3CCOCC3)c3c(Cl)cccc23...</td>\n",
       "      <td>1</td>\n",
       "    </tr>\n",
       "    <tr>\n",
       "      <th>2688</th>\n",
       "      <td>1138</td>\n",
       "      <td>CCN(CC)Cc1csc(-c2cn(CC3CCOCC3)c3c(F)cccc23)n1</td>\n",
       "      <td>1</td>\n",
       "    </tr>\n",
       "    <tr>\n",
       "      <th>2689</th>\n",
       "      <td>12342</td>\n",
       "      <td>COC(=O)C(CCC(=O)N1CCN(c2ccccc2OC)CC1)(c1ccc(Br...</td>\n",
       "      <td>0</td>\n",
       "    </tr>\n",
       "  </tbody>\n",
       "</table>\n",
       "<p>2690 rows × 3 columns</p>\n",
       "</div>"
      ],
      "text/plain": [
       "      Drug_ID                                               Drug  Y\n",
       "0        7417  CC(C)c1noc(-c2nnc3n2CCN(C(=O)c2ccc(F)cc2)[C@@H...  1\n",
       "1        3967  CCc1noc(-c2nnc3n2CCN(C(=O)c2ccc(F)cc2)[C@@H]3C)n1  0\n",
       "2       13387  CC(C)(C)Cn1c(N)nc2ccc(-c3nc(C(C)(C)C)[nH]c3-c3...  0\n",
       "3       10258  CC(C)(C)C1CCC2(CC1)CCN(c1ccc(OC(F)(F)F)cc1)C(=...  1\n",
       "4        5612  CCN(CC)c1ccc2cc(C(=O)NCCCCN3CCC(Nc4nc5ccccc5n4...  1\n",
       "...       ...                                                ... ..\n",
       "2685    10596    COCCN(C)Cc1csc(-c2cn(CC3CCOCC3)c3c(Cl)cccc23)n1  1\n",
       "2686    12520  CC(C)N(CCO)Cc1csc(-c2cn(CC3CCOCC3)c3c(Cl)cccc2...  1\n",
       "2687     2924  CC(C)N(CCO)Cc1nc(-c2cn(CC3CCOCC3)c3c(Cl)cccc23...  1\n",
       "2688     1138      CCN(CC)Cc1csc(-c2cn(CC3CCOCC3)c3c(F)cccc23)n1  1\n",
       "2689    12342  COC(=O)C(CCC(=O)N1CCN(c2ccccc2OC)CC1)(c1ccc(Br...  0\n",
       "\n",
       "[2690 rows x 3 columns]"
      ]
     },
     "execution_count": 5,
     "metadata": {},
     "output_type": "execute_result"
    }
   ],
   "source": [
    "split['test']"
   ]
  },
  {
   "cell_type": "code",
   "execution_count": 6,
   "id": "ff48bc4b-ae71-44fe-bbcf-65bdcf8a27de",
   "metadata": {
    "execution": {
     "iopub.execute_input": "2024-04-24T01:44:59.093565Z",
     "iopub.status.busy": "2024-04-24T01:44:59.093377Z",
     "iopub.status.idle": "2024-04-24T01:45:21.125170Z",
     "shell.execute_reply": "2024-04-24T01:45:21.123400Z",
     "shell.execute_reply.started": "2024-04-24T01:44:59.093548Z"
    },
    "tags": []
   },
   "outputs": [],
   "source": [
    "from rdkit import Chem\n",
    "from rdkit.Chem import AllChem\n",
    "from sklearn.ensemble import RandomForestClassifier\n",
    "import pandas as pd\n",
    "\n",
    "\n",
    "# Function to convert SMILES to Morgan fingerprints\n",
    "def smiles_to_fp(smiles, radius=2, nBits=1024):\n",
    "    mol = Chem.MolFromSmiles(smiles)\n",
    "    return list(AllChem.GetMorganFingerprintAsBitVect(mol, radius, nBits))\n",
    "\n",
    "\n",
    "# Prepare the data\n",
    "def prepare_data(df):\n",
    "    df['features'] = df['Drug'].apply(lambda x: smiles_to_fp(x))\n",
    "    X = list(df['features'])\n",
    "    y = df['Y'].values\n",
    "    return X, y\n",
    "\n",
    "\n",
    "# Load data\n",
    "train_data = split['train'] \n",
    "X_train, y_train = prepare_data(train_data)\n",
    "\n",
    "\n",
    "# Initialize and train the model\n",
    "model = RandomForestClassifier(random_state=42)\n",
    "model.fit(X_train, y_train)\n",
    "\n",
    "\n",
    "# Evaluate the model\n",
    "test_data = split['train'] \n",
    "X_test, y_test = prepare_data(test_data)\n",
    "y_pred = model.predict(X_test)\n"
   ]
  },
  {
   "cell_type": "code",
   "execution_count": 7,
   "id": "ac2e1811-51a7-4ed5-8704-44f3ebd504f9",
   "metadata": {
    "execution": {
     "iopub.execute_input": "2024-04-24T01:45:21.128001Z",
     "iopub.status.busy": "2024-04-24T01:45:21.127662Z",
     "iopub.status.idle": "2024-04-24T01:45:21.346222Z",
     "shell.execute_reply": "2024-04-24T01:45:21.345434Z",
     "shell.execute_reply.started": "2024-04-24T01:45:21.127979Z"
    },
    "tags": []
   },
   "outputs": [
    {
     "data": {
      "text/plain": [
       "1024"
      ]
     },
     "execution_count": 7,
     "metadata": {},
     "output_type": "execute_result"
    }
   ],
   "source": [
    "len(X_train[0])"
   ]
  },
  {
   "cell_type": "markdown",
   "id": "1c1d2a57-8c0c-4abc-ab73-4147224e4903",
   "metadata": {
    "execution": {
     "iopub.execute_input": "2024-04-19T02:28:58.937521Z",
     "iopub.status.busy": "2024-04-19T02:28:58.937204Z",
     "iopub.status.idle": "2024-04-19T02:28:58.954787Z",
     "shell.execute_reply": "2024-04-19T02:28:58.954378Z",
     "shell.execute_reply.started": "2024-04-19T02:28:58.937500Z"
    },
    "tags": []
   },
   "source": [
    "# Evaluation"
   ]
  },
  {
   "cell_type": "code",
   "execution_count": 8,
   "id": "00573373-3ce6-4f2c-aaee-6340fb3721ad",
   "metadata": {
    "execution": {
     "iopub.execute_input": "2024-04-24T01:45:21.347115Z",
     "iopub.status.busy": "2024-04-24T01:45:21.346949Z",
     "iopub.status.idle": "2024-04-24T01:45:21.380220Z",
     "shell.execute_reply": "2024-04-24T01:45:21.379344Z",
     "shell.execute_reply.started": "2024-04-24T01:45:21.347100Z"
    },
    "tags": []
   },
   "outputs": [
    {
     "name": "stdout",
     "output_type": "stream",
     "text": [
      "Accuracy: 0.9941557751567315\n",
      "ROC AUC Score: 0.9941571658369023\n",
      "Precision: 0.9938113529662825\n",
      "Recall: 0.9944480034166133\n",
      "F1 Score: 0.9941295762621412\n",
      "Matthews Correlation Coefficient: 0.9883115195647201\n",
      "Specificity (Negative Prediction Accuracy): 0.9938663282571912\n"
     ]
    }
   ],
   "source": [
    "from evaluate import eval\n",
    "eval(y_test, y_pred)"
   ]
  },
  {
   "cell_type": "markdown",
   "id": "4753deb7-c202-4031-9282-d96c2e859590",
   "metadata": {},
   "source": [
    "# Logic Tensor Network model"
   ]
  },
  {
   "cell_type": "code",
   "execution_count": 9,
   "id": "7c2dec08-b00b-4a8a-8fd1-cb20a901d419",
   "metadata": {
    "execution": {
     "iopub.execute_input": "2024-04-24T01:45:21.381803Z",
     "iopub.status.busy": "2024-04-24T01:45:21.381590Z",
     "iopub.status.idle": "2024-04-24T01:45:23.910976Z",
     "shell.execute_reply": "2024-04-24T01:45:23.910404Z",
     "shell.execute_reply.started": "2024-04-24T01:45:21.381788Z"
    },
    "tags": []
   },
   "outputs": [],
   "source": [
    "import torch\n",
    "\n",
    "# Example of converting lists to Tensors\n",
    "# Assuming 'X_train' and 'y_train' are your features and labels respectively and are initially lists\n",
    "\n",
    "X_train = torch.tensor(X_train, dtype=torch.float32)  # Convert features to a float Tensor\n",
    "y_train = torch.tensor(y_train, dtype=torch.float32)  # Convert labels to a float Tensor\n",
    "\n",
    "# Ensure labels y_train is the right shape (e.g., for BCELoss, you might need to ensure it's two-dimensional if there are two outputs)\n",
    "y_train = y_train.unsqueeze(1)  # Only do this if necessary"
   ]
  },
  {
   "cell_type": "markdown",
   "id": "5d9be36c-4ab1-4ec2-983b-09044cac28eb",
   "metadata": {},
   "source": [
    " # LTN: Define the Network"
   ]
  },
  {
   "cell_type": "code",
   "execution_count": 10,
   "id": "2d89940d-799b-4c0e-a66c-bfbac6e70d99",
   "metadata": {
    "execution": {
     "iopub.execute_input": "2024-04-24T01:45:23.912145Z",
     "iopub.status.busy": "2024-04-24T01:45:23.911759Z",
     "iopub.status.idle": "2024-04-24T01:45:23.949687Z",
     "shell.execute_reply": "2024-04-24T01:45:23.948573Z",
     "shell.execute_reply.started": "2024-04-24T01:45:23.912124Z"
    },
    "tags": []
   },
   "outputs": [],
   "source": [
    "import torch\n",
    "import torch.nn as nn\n",
    "import torch.optim as optim\n",
    "\n",
    "class SimpleNN(nn.Module):\n",
    "    def __init__(self):\n",
    "        super(SimpleNN, self).__init__()\n",
    "        self.layers = nn.Sequential(\n",
    "            nn.Linear(1024, 64),  # Assuming input features size of 1024\n",
    "            nn.ReLU(),\n",
    "            nn.Linear(64, 64),\n",
    "            nn.ReLU(),\n",
    "            nn.Linear(64, 1),  # binary classification\n",
    "            nn.Sigmoid()\n",
    "        )\n",
    "\n",
    "    def forward(self, x):\n",
    "        return self.layers(x)\n"
   ]
  },
  {
   "cell_type": "markdown",
   "id": "3d11b4eb-5cd8-4e55-992f-10142a75e621",
   "metadata": {},
   "source": [
    "# LTN: Define loss with Logical Constraint"
   ]
  },
  {
   "cell_type": "code",
   "execution_count": 11,
   "id": "46600d55-5db6-4a76-a0db-14313d53b7ce",
   "metadata": {
    "execution": {
     "iopub.execute_input": "2024-04-24T01:45:23.950776Z",
     "iopub.status.busy": "2024-04-24T01:45:23.950348Z",
     "iopub.status.idle": "2024-04-24T01:45:23.973768Z",
     "shell.execute_reply": "2024-04-24T01:45:23.973382Z",
     "shell.execute_reply.started": "2024-04-24T01:45:23.950759Z"
    },
    "tags": []
   },
   "outputs": [
    {
     "data": {
      "text/plain": [
       "'\\ndef custom_logic_loss(outputs, targets):\\n    criterion = nn.BCELoss()\\n    # Assuming outputs and targets are already tensors and appropriately shaped\\n    classical_loss = criterion(outputs, targets)\\n\\n    # If there are two logical outputs being evaluated:\\n    if outputs.shape[1] > 1:\\n        # Implementing the logical constraint:\\n        # If outputs[:,0] > 0.9 then outputs[:,1] < 0.1\\n        logic_condition = outputs[:, 0] > 0.9\\n        logic_penalty = torch.where(logic_condition, 1.0 - outputs[:, 1], torch.tensor(0.0).to(outputs.device))\\n        logic_penalty = logic_penalty.mean()  # Mean penalty per batch\\n    else:\\n        logic_penalty = torch.tensor(0.0).to(outputs.device)  # No penalty if not applicable\\n\\n    return classical_loss + logic_penalty\\n'"
      ]
     },
     "execution_count": 11,
     "metadata": {},
     "output_type": "execute_result"
    }
   ],
   "source": [
    "import torch.nn.functional as F\n",
    "\n",
    "def custom_logic_loss(outputs, targets):\n",
    "    criterion = nn.BCELoss()\n",
    "    classical_loss = criterion(outputs.squeeze(), targets.squeeze())\n",
    "    \n",
    "    # You can still implement a custom logic penalty if needed\n",
    "    # For example, adding any additional logic-based constraints\n",
    "    \n",
    "    return classical_loss  # + any logic-based penalties\n",
    "\n",
    "\n",
    "\"\"\"\n",
    "def custom_logic_loss(outputs, targets):\n",
    "    criterion = nn.BCELoss()\n",
    "    # Assuming outputs and targets are already tensors and appropriately shaped\n",
    "    classical_loss = criterion(outputs, targets)\n",
    "\n",
    "    # If there are two logical outputs being evaluated:\n",
    "    if outputs.shape[1] > 1:\n",
    "        # Implementing the logical constraint:\n",
    "        # If outputs[:,0] > 0.9 then outputs[:,1] < 0.1\n",
    "        logic_condition = outputs[:, 0] > 0.9\n",
    "        logic_penalty = torch.where(logic_condition, 1.0 - outputs[:, 1], torch.tensor(0.0).to(outputs.device))\n",
    "        logic_penalty = logic_penalty.mean()  # Mean penalty per batch\n",
    "    else:\n",
    "        logic_penalty = torch.tensor(0.0).to(outputs.device)  # No penalty if not applicable\n",
    "\n",
    "    return classical_loss + logic_penalty\n",
    "\"\"\"    \n"
   ]
  },
  {
   "cell_type": "markdown",
   "id": "5ad8408e-d442-481c-a709-1d6732dac521",
   "metadata": {},
   "source": [
    "# LTN: Training"
   ]
  },
  {
   "cell_type": "code",
   "execution_count": null,
   "id": "ea51a954-cc86-4f42-b6e8-0a1bd6fdf215",
   "metadata": {
    "execution": {
     "iopub.execute_input": "2024-04-24T01:45:23.974702Z",
     "iopub.status.busy": "2024-04-24T01:45:23.974329Z"
    },
    "tags": []
   },
   "outputs": [
    {
     "name": "stdout",
     "output_type": "stream",
     "text": [
      "Epoch 1, Loss: 0.694512128829956\n",
      "Epoch 2, Loss: 0.6919741630554199\n",
      "Epoch 3, Loss: 0.6896091103553772\n",
      "Epoch 4, Loss: 0.686947762966156\n",
      "Epoch 5, Loss: 0.6837431788444519\n",
      "Epoch 6, Loss: 0.6799231767654419\n",
      "Epoch 7, Loss: 0.6754501461982727\n",
      "Epoch 8, Loss: 0.6703324317932129\n",
      "Epoch 9, Loss: 0.6645869016647339\n",
      "Epoch 10, Loss: 0.6582450270652771\n",
      "Epoch 11, Loss: 0.6513213515281677\n",
      "Epoch 12, Loss: 0.6438111066818237\n",
      "Epoch 13, Loss: 0.6357401609420776\n",
      "Epoch 14, Loss: 0.6271701455116272\n",
      "Epoch 15, Loss: 0.6181892156600952\n",
      "Epoch 16, Loss: 0.6089009046554565\n",
      "Epoch 17, Loss: 0.5994260311126709\n",
      "Epoch 18, Loss: 0.5898760557174683\n",
      "Epoch 19, Loss: 0.5803619027137756\n",
      "Epoch 20, Loss: 0.5710095167160034\n",
      "Epoch 21, Loss: 0.5619361996650696\n",
      "Epoch 22, Loss: 0.55324786901474\n",
      "Epoch 23, Loss: 0.5450178384780884\n",
      "Epoch 24, Loss: 0.5372676253318787\n",
      "Epoch 25, Loss: 0.5299764275550842\n",
      "Epoch 26, Loss: 0.5231009125709534\n",
      "Epoch 27, Loss: 0.5165703892707825\n",
      "Epoch 28, Loss: 0.5103147625923157\n",
      "Epoch 29, Loss: 0.5042784810066223\n",
      "Epoch 30, Loss: 0.4984196722507477\n",
      "Epoch 31, Loss: 0.4927101731300354\n",
      "Epoch 32, Loss: 0.4871453046798706\n",
      "Epoch 33, Loss: 0.4817441701889038\n",
      "Epoch 34, Loss: 0.47651252150535583\n",
      "Epoch 35, Loss: 0.4714623987674713\n",
      "Epoch 36, Loss: 0.4666038155555725\n",
      "Epoch 37, Loss: 0.461931973695755\n",
      "Epoch 38, Loss: 0.4574210047721863\n",
      "Epoch 39, Loss: 0.4530453085899353\n",
      "Epoch 40, Loss: 0.448771208524704\n",
      "Epoch 41, Loss: 0.4445779323577881\n",
      "Epoch 42, Loss: 0.440455824136734\n",
      "Epoch 43, Loss: 0.43638646602630615\n",
      "Epoch 44, Loss: 0.4323771595954895\n",
      "Epoch 45, Loss: 0.4284321665763855\n",
      "Epoch 46, Loss: 0.4245588183403015\n",
      "Epoch 47, Loss: 0.42076703906059265\n",
      "Epoch 48, Loss: 0.4170611500740051\n",
      "Epoch 49, Loss: 0.4134330451488495\n",
      "Epoch 50, Loss: 0.40987423062324524\n",
      "Epoch 51, Loss: 0.40637657046318054\n",
      "Epoch 52, Loss: 0.4029301404953003\n",
      "Epoch 53, Loss: 0.3995174765586853\n",
      "Epoch 54, Loss: 0.39612603187561035\n",
      "Epoch 55, Loss: 0.3927586078643799\n",
      "Epoch 56, Loss: 0.38941696286201477\n",
      "Epoch 57, Loss: 0.3860933482646942\n",
      "Epoch 58, Loss: 0.38278353214263916\n",
      "Epoch 59, Loss: 0.37947842478752136\n",
      "Epoch 60, Loss: 0.37616950273513794\n",
      "Epoch 61, Loss: 0.37284424901008606\n",
      "Epoch 62, Loss: 0.3695094883441925\n",
      "Epoch 63, Loss: 0.36616432666778564\n",
      "Epoch 64, Loss: 0.3627925217151642\n",
      "Epoch 65, Loss: 0.359397828578949\n",
      "Epoch 66, Loss: 0.35597389936447144\n",
      "Epoch 67, Loss: 0.35251888632774353\n",
      "Epoch 68, Loss: 0.34902650117874146\n",
      "Epoch 69, Loss: 0.3454883098602295\n",
      "Epoch 70, Loss: 0.34190353751182556\n",
      "Epoch 71, Loss: 0.3382834792137146\n",
      "Epoch 72, Loss: 0.33464378118515015\n",
      "Epoch 73, Loss: 0.3311341404914856\n",
      "Epoch 74, Loss: 0.3283536434173584\n",
      "Epoch 75, Loss: 0.32607993483543396\n",
      "Epoch 76, Loss: 0.3207501173019409\n",
      "Epoch 77, Loss: 0.3171650171279907\n",
      "Epoch 78, Loss: 0.31467700004577637\n",
      "Epoch 79, Loss: 0.3096104562282562\n",
      "Epoch 80, Loss: 0.30727440118789673\n",
      "Epoch 81, Loss: 0.3030039072036743\n",
      "Epoch 82, Loss: 0.2994384765625\n",
      "Epoch 83, Loss: 0.29628026485443115\n",
      "Epoch 84, Loss: 0.291868656873703\n",
      "Epoch 85, Loss: 0.28905612230300903\n",
      "Epoch 86, Loss: 0.28468671441078186\n",
      "Epoch 87, Loss: 0.2813754975795746\n",
      "Epoch 88, Loss: 0.27762261033058167\n",
      "Epoch 89, Loss: 0.27359506487846375\n",
      "Epoch 90, Loss: 0.2702990174293518\n",
      "Epoch 91, Loss: 0.2660464644432068\n",
      "Epoch 92, Loss: 0.2625744044780731\n",
      "Epoch 93, Loss: 0.2586875259876251\n",
      "Epoch 94, Loss: 0.254677414894104\n",
      "Epoch 95, Loss: 0.2511284351348877\n",
      "Epoch 96, Loss: 0.24699948728084564\n",
      "Epoch 97, Loss: 0.2432027906179428\n",
      "Epoch 98, Loss: 0.239437535405159\n",
      "Epoch 99, Loss: 0.2353152632713318\n",
      "Epoch 100, Loss: 0.2315455973148346\n",
      "Epoch 101, Loss: 0.22767750918865204\n",
      "Epoch 102, Loss: 0.22360970079898834\n",
      "Epoch 103, Loss: 0.21980205178260803\n",
      "Epoch 104, Loss: 0.2159363180398941\n",
      "Epoch 105, Loss: 0.21190740168094635\n",
      "Epoch 106, Loss: 0.2080438733100891\n",
      "Epoch 107, Loss: 0.2042497843503952\n",
      "Epoch 108, Loss: 0.20031090080738068\n",
      "Epoch 109, Loss: 0.19640818238258362\n",
      "Epoch 110, Loss: 0.19264131784439087\n",
      "Epoch 111, Loss: 0.18887847661972046\n",
      "Epoch 112, Loss: 0.18504804372787476\n",
      "Epoch 113, Loss: 0.18124672770500183\n",
      "Epoch 114, Loss: 0.1775413602590561\n",
      "Epoch 115, Loss: 0.1738944798707962\n",
      "Epoch 116, Loss: 0.17024558782577515\n",
      "Epoch 117, Loss: 0.16659097373485565\n",
      "Epoch 118, Loss: 0.16295811533927917\n",
      "Epoch 119, Loss: 0.15939068794250488\n",
      "Epoch 120, Loss: 0.15588688850402832\n",
      "Epoch 121, Loss: 0.15244248509407043\n",
      "Epoch 122, Loss: 0.1490475982427597\n",
      "Epoch 123, Loss: 0.1456817090511322\n",
      "Epoch 124, Loss: 0.14235739409923553\n",
      "Epoch 125, Loss: 0.13909003138542175\n"
     ]
    }
   ],
   "source": [
    "# Assuming X_train and y_train are your datasets loaded as Tensor objects\n",
    "model = SimpleNN()\n",
    "optimizer = optim.Adam(model.parameters(), lr=0.001)\n",
    "\n",
    "\n",
    "# Training loop\n",
    "epoch_n = 200\n",
    "model.train()\n",
    "for epoch in range(epoch_n):\n",
    "    optimizer.zero_grad()\n",
    "    outputs = model(X_train)  # Make sure X_train is a tensor\n",
    "    loss = custom_logic_loss(outputs, y_train)  # Ensure y_train is appropriately shaped\n",
    "    loss.backward()\n",
    "    optimizer.step()\n",
    "\n",
    "    print(f\"Epoch {epoch+1}, Loss: {loss.item()}\")\n",
    "    "
   ]
  },
  {
   "cell_type": "code",
   "execution_count": null,
   "id": "3a1ad93c-038a-463f-8b1d-71936f91eae0",
   "metadata": {},
   "outputs": [],
   "source": []
  },
  {
   "cell_type": "markdown",
   "id": "96b6d8ec-5c4c-4a29-9753-034b319c8a65",
   "metadata": {},
   "source": [
    "# LTN: Testing"
   ]
  },
  {
   "cell_type": "code",
   "execution_count": 12,
   "id": "5c527ec6-d506-46ef-aaa8-5becc3ee7e93",
   "metadata": {
    "execution": {
     "iopub.execute_input": "2024-04-19T03:33:39.719763Z",
     "iopub.status.busy": "2024-04-19T03:33:39.719209Z",
     "iopub.status.idle": "2024-04-19T03:33:40.351237Z",
     "shell.execute_reply": "2024-04-19T03:33:40.350528Z",
     "shell.execute_reply.started": "2024-04-19T03:33:39.719741Z"
    },
    "tags": []
   },
   "outputs": [],
   "source": [
    "# Assuming X_test and y_test are already loaded and are numpy arrays or lists\n",
    "X_test = torch.tensor(X_test, dtype=torch.float32)  # Convert to tensor\n",
    "# Ensure y_test is also a tensor if you have it and will evaluate metrics\n",
    "y_test = torch.tensor(y_test, dtype=torch.float32).unsqueeze(1)  # Convert to tensor and ensure correct shape\n"
   ]
  },
  {
   "cell_type": "code",
   "execution_count": 13,
   "id": "c27b2c8a-15ec-4566-bb7a-e33994558aba",
   "metadata": {
    "execution": {
     "iopub.execute_input": "2024-04-19T03:33:40.352564Z",
     "iopub.status.busy": "2024-04-19T03:33:40.352221Z",
     "iopub.status.idle": "2024-04-19T03:33:40.420524Z",
     "shell.execute_reply": "2024-04-19T03:33:40.420010Z",
     "shell.execute_reply.started": "2024-04-19T03:33:40.352542Z"
    },
    "tags": []
   },
   "outputs": [],
   "source": [
    "# Set model to evaluation mode\n",
    "model.eval()\n",
    "\n",
    "# Disable gradient computation for testing (saves memory and computations)\n",
    "with torch.no_grad():\n",
    "    outputs = model(X_test)\n"
   ]
  },
  {
   "cell_type": "code",
   "execution_count": 14,
   "id": "09025b8a-45af-474a-a121-91c96c0b9afa",
   "metadata": {
    "execution": {
     "iopub.execute_input": "2024-04-19T03:33:40.421418Z",
     "iopub.status.busy": "2024-04-19T03:33:40.421225Z",
     "iopub.status.idle": "2024-04-19T03:33:40.480910Z",
     "shell.execute_reply": "2024-04-19T03:33:40.480493Z",
     "shell.execute_reply.started": "2024-04-19T03:33:40.421401Z"
    },
    "tags": []
   },
   "outputs": [
    {
     "name": "stdout",
     "output_type": "stream",
     "text": [
      "Accuracy: 0.9956438541412354\n",
      "Accuracy: 0.9956438589035274\n",
      "ROC AUC Score: 0.9956451106303099\n",
      "Precision: 0.9963883577650308\n",
      "Recall: 0.9949087823504454\n",
      "F1 Score: 0.9956480203800021\n",
      "Matthews Correlation Coefficient: 0.9912888112971575\n",
      "Specificity (Negative Prediction Accuracy): 0.9963814389101745\n"
     ]
    }
   ],
   "source": [
    "# Convert outputs to predicted classes\n",
    "# For binary classification with a single output unit\n",
    "predictions = (outputs > 0.5).float()  # Threshold probabilities to classify as 1 or 0\n",
    "\n",
    "# Calculate accuracy or other metrics\n",
    "accuracy = (predictions == y_test).float().mean()\n",
    "print(\"Accuracy:\", accuracy.item())\n",
    "\n",
    "# If you need to calculate other metrics such as precision, recall, and F1 score\n",
    "from sklearn.metrics import precision_score, recall_score, f1_score\n",
    "\n",
    "# Since you cannot use sklearn directly with tensors, you need to move data back to CPU and convert to numpy\n",
    "predictions = predictions.cpu().numpy()\n",
    "y_test = y_test.cpu().numpy()\n",
    "\n",
    "eval(y_test, predictions)"
   ]
  },
  {
   "cell_type": "code",
   "execution_count": null,
   "id": "4d63dd5d-0a4d-4049-9e3a-06493de595bf",
   "metadata": {},
   "outputs": [],
   "source": []
  },
  {
   "cell_type": "code",
   "execution_count": null,
   "id": "94e60a8d-03b3-45e9-bd98-a1b1e80eda36",
   "metadata": {},
   "outputs": [],
   "source": []
  },
  {
   "cell_type": "code",
   "execution_count": null,
   "id": "83d007c8-73d4-40b3-8626-787f9fac70f8",
   "metadata": {},
   "outputs": [],
   "source": []
  },
  {
   "cell_type": "code",
   "execution_count": null,
   "id": "0de3c1b7-5a04-4eea-a5ce-87da86c45e80",
   "metadata": {},
   "outputs": [],
   "source": []
  }
 ],
 "metadata": {
  "kernelspec": {
   "display_name": "herg",
   "language": "python",
   "name": "herg"
  },
  "language_info": {
   "codemirror_mode": {
    "name": "ipython",
    "version": 3
   },
   "file_extension": ".py",
   "mimetype": "text/x-python",
   "name": "python",
   "nbconvert_exporter": "python",
   "pygments_lexer": "ipython3",
   "version": "3.9.19"
  }
 },
 "nbformat": 4,
 "nbformat_minor": 5
}
