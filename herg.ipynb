{
 "cells": [
  {
   "cell_type": "code",
   "execution_count": 1,
   "id": "e0fc9b99-2c6c-47a2-933d-37adad598f2d",
   "metadata": {
    "execution": {
     "iopub.execute_input": "2024-04-19T03:32:53.249897Z",
     "iopub.status.busy": "2024-04-19T03:32:53.249745Z",
     "iopub.status.idle": "2024-04-19T03:32:53.785212Z",
     "shell.execute_reply": "2024-04-19T03:32:53.784693Z",
     "shell.execute_reply.started": "2024-04-19T03:32:53.249880Z"
    },
    "tags": []
   },
   "outputs": [],
   "source": [
    "%load_ext autoreload\n",
    "%autoreload 2\n",
    "%matplotlib inline"
   ]
  },
  {
   "cell_type": "markdown",
   "id": "b08a15c7-5bad-4ccc-a1cf-ecbbce188a9e",
   "metadata": {},
   "source": [
    "# Download data"
   ]
  },
  {
   "cell_type": "code",
   "execution_count": 2,
   "id": "823b920a-7c06-49a0-b364-fa4ede948136",
   "metadata": {
    "execution": {
     "iopub.execute_input": "2024-04-19T03:32:59.943027Z",
     "iopub.status.busy": "2024-04-19T03:32:59.942634Z",
     "iopub.status.idle": "2024-04-19T03:33:01.357666Z",
     "shell.execute_reply": "2024-04-19T03:33:01.356740Z",
     "shell.execute_reply.started": "2024-04-19T03:32:59.943008Z"
    },
    "tags": []
   },
   "outputs": [
    {
     "name": "stderr",
     "output_type": "stream",
     "text": [
      "Found local copy...\n",
      "Loading...\n",
      "Done!\n"
     ]
    },
    {
     "name": "stdout",
     "output_type": "stream",
     "text": [
      "Data loaded and split successfully.\n",
      "Train data samples: 9412\n",
      "Validation data samples: 1344\n",
      "Test data samples: 2689\n"
     ]
    }
   ],
   "source": [
    "from tdc.single_pred import Tox\n",
    "\n",
    "try:\n",
    "    data = Tox(name='hERG_Karim')\n",
    "    split = data.get_split()\n",
    "    print(\"Data loaded and split successfully.\")\n",
    "    print(\"Train data samples:\", len(split['train']))\n",
    "    print(\"Validation data samples:\", len(split['valid']))\n",
    "    print(\"Test data samples:\", len(split['test']))\n",
    "except Exception as e:\n",
    "    print(\"An error occurred:\", str(e))"
   ]
  },
  {
   "cell_type": "markdown",
   "id": "4c4cdc71-a9e4-4757-85b3-8701b11f7e58",
   "metadata": {},
   "source": [
    "# check data"
   ]
  },
  {
   "cell_type": "code",
   "execution_count": 15,
   "id": "70c8232b-4aca-469f-b433-2a67725ad8b4",
   "metadata": {
    "execution": {
     "iopub.execute_input": "2024-04-19T04:35:04.766472Z",
     "iopub.status.busy": "2024-04-19T04:35:04.766090Z",
     "iopub.status.idle": "2024-04-19T04:35:07.583535Z",
     "shell.execute_reply": "2024-04-19T04:35:07.583120Z",
     "shell.execute_reply.started": "2024-04-19T04:35:04.766453Z"
    },
    "tags": []
   },
   "outputs": [
    {
     "data": {
      "text/plain": [
       "dict_keys(['train', 'valid', 'test'])"
      ]
     },
     "execution_count": 15,
     "metadata": {},
     "output_type": "execute_result"
    }
   ],
   "source": [
    "split.keys()"
   ]
  },
  {
   "cell_type": "code",
   "execution_count": 3,
   "id": "43e06b35-37f2-4df1-a7fb-170cb3359861",
   "metadata": {
    "execution": {
     "iopub.execute_input": "2024-04-19T03:33:01.358518Z",
     "iopub.status.busy": "2024-04-19T03:33:01.358332Z",
     "iopub.status.idle": "2024-04-19T03:33:01.402993Z",
     "shell.execute_reply": "2024-04-19T03:33:01.402599Z",
     "shell.execute_reply.started": "2024-04-19T03:33:01.358500Z"
    },
    "tags": []
   },
   "outputs": [
    {
     "data": {
      "text/html": [
       "<div>\n",
       "<style scoped>\n",
       "    .dataframe tbody tr th:only-of-type {\n",
       "        vertical-align: middle;\n",
       "    }\n",
       "\n",
       "    .dataframe tbody tr th {\n",
       "        vertical-align: top;\n",
       "    }\n",
       "\n",
       "    .dataframe thead th {\n",
       "        text-align: right;\n",
       "    }\n",
       "</style>\n",
       "<table border=\"1\" class=\"dataframe\">\n",
       "  <thead>\n",
       "    <tr style=\"text-align: right;\">\n",
       "      <th></th>\n",
       "      <th>Drug_ID</th>\n",
       "      <th>Drug</th>\n",
       "      <th>Y</th>\n",
       "    </tr>\n",
       "  </thead>\n",
       "  <tbody>\n",
       "    <tr>\n",
       "      <th>0</th>\n",
       "      <td>1</td>\n",
       "      <td>COc1cc(N2Cc3ccc(Sc4ccc(F)cc4)nc3C2=O)ccc1OCCN1...</td>\n",
       "      <td>0</td>\n",
       "    </tr>\n",
       "    <tr>\n",
       "      <th>1</th>\n",
       "      <td>2</td>\n",
       "      <td>CCOC(=O)[C@H]1CC[C@@H](N2CC(NC(=O)CNc3nn(C(N)=...</td>\n",
       "      <td>0</td>\n",
       "    </tr>\n",
       "    <tr>\n",
       "      <th>2</th>\n",
       "      <td>3</td>\n",
       "      <td>N[C@@H](Cn1c(=O)cnc2ccc(F)cc21)C1CCC(NCc2ccc3c...</td>\n",
       "      <td>0</td>\n",
       "    </tr>\n",
       "    <tr>\n",
       "      <th>3</th>\n",
       "      <td>4</td>\n",
       "      <td>O=C(NC1COc2cccc(-c3ccnc(CO)c3)c2C1)c1ccc(OCC(F...</td>\n",
       "      <td>0</td>\n",
       "    </tr>\n",
       "    <tr>\n",
       "      <th>4</th>\n",
       "      <td>5</td>\n",
       "      <td>Cc1cc(Nc2cncc(N[C@@H](C)c3ncc(F)cn3)n2)n[nH]1</td>\n",
       "      <td>0</td>\n",
       "    </tr>\n",
       "    <tr>\n",
       "      <th>...</th>\n",
       "      <td>...</td>\n",
       "      <td>...</td>\n",
       "      <td>...</td>\n",
       "    </tr>\n",
       "    <tr>\n",
       "      <th>9407</th>\n",
       "      <td>13437</td>\n",
       "      <td>O=c1cc(-c2ccccc2)oc2cc(O)c(O)c(O)c12</td>\n",
       "      <td>0</td>\n",
       "    </tr>\n",
       "    <tr>\n",
       "      <th>9408</th>\n",
       "      <td>13438</td>\n",
       "      <td>CN(C)c1ccc2cc(C(=O)N[C@@H](CCCNC(=N)CCl)C(=O)N...</td>\n",
       "      <td>0</td>\n",
       "    </tr>\n",
       "    <tr>\n",
       "      <th>9409</th>\n",
       "      <td>13439</td>\n",
       "      <td>CCN(CC)CCCCNc1ncc2c(n1)N(C)C(=O)N(c1c(Cl)c(OC)...</td>\n",
       "      <td>0</td>\n",
       "    </tr>\n",
       "    <tr>\n",
       "      <th>9410</th>\n",
       "      <td>13441</td>\n",
       "      <td>Cc1cccc(-c2n[nH]cc2-c2ccc3ncccc3n2)n1</td>\n",
       "      <td>0</td>\n",
       "    </tr>\n",
       "    <tr>\n",
       "      <th>9411</th>\n",
       "      <td>13444</td>\n",
       "      <td>CCc1c(O)cc(O)c(C(=O)c2ccc(OCCN3CCOCC3)c(OC)c2)...</td>\n",
       "      <td>0</td>\n",
       "    </tr>\n",
       "  </tbody>\n",
       "</table>\n",
       "<p>9412 rows × 3 columns</p>\n",
       "</div>"
      ],
      "text/plain": [
       "      Drug_ID                                               Drug  Y\n",
       "0           1  COc1cc(N2Cc3ccc(Sc4ccc(F)cc4)nc3C2=O)ccc1OCCN1...  0\n",
       "1           2  CCOC(=O)[C@H]1CC[C@@H](N2CC(NC(=O)CNc3nn(C(N)=...  0\n",
       "2           3  N[C@@H](Cn1c(=O)cnc2ccc(F)cc21)C1CCC(NCc2ccc3c...  0\n",
       "3           4  O=C(NC1COc2cccc(-c3ccnc(CO)c3)c2C1)c1ccc(OCC(F...  0\n",
       "4           5      Cc1cc(Nc2cncc(N[C@@H](C)c3ncc(F)cn3)n2)n[nH]1  0\n",
       "...       ...                                                ... ..\n",
       "9407    13437               O=c1cc(-c2ccccc2)oc2cc(O)c(O)c(O)c12  0\n",
       "9408    13438  CN(C)c1ccc2cc(C(=O)N[C@@H](CCCNC(=N)CCl)C(=O)N...  0\n",
       "9409    13439  CCN(CC)CCCCNc1ncc2c(n1)N(C)C(=O)N(c1c(Cl)c(OC)...  0\n",
       "9410    13441              Cc1cccc(-c2n[nH]cc2-c2ccc3ncccc3n2)n1  0\n",
       "9411    13444  CCc1c(O)cc(O)c(C(=O)c2ccc(OCCN3CCOCC3)c(OC)c2)...  0\n",
       "\n",
       "[9412 rows x 3 columns]"
      ]
     },
     "execution_count": 3,
     "metadata": {},
     "output_type": "execute_result"
    }
   ],
   "source": [
    "split['train']"
   ]
  },
  {
   "cell_type": "code",
   "execution_count": 4,
   "id": "f849b3ff-cc04-4a5f-a11e-7b47d180aba2",
   "metadata": {
    "execution": {
     "iopub.execute_input": "2024-04-19T03:33:01.404037Z",
     "iopub.status.busy": "2024-04-19T03:33:01.403607Z",
     "iopub.status.idle": "2024-04-19T03:33:01.441108Z",
     "shell.execute_reply": "2024-04-19T03:33:01.440730Z",
     "shell.execute_reply.started": "2024-04-19T03:33:01.404019Z"
    },
    "tags": []
   },
   "outputs": [
    {
     "data": {
      "text/html": [
       "<div>\n",
       "<style scoped>\n",
       "    .dataframe tbody tr th:only-of-type {\n",
       "        vertical-align: middle;\n",
       "    }\n",
       "\n",
       "    .dataframe tbody tr th {\n",
       "        vertical-align: top;\n",
       "    }\n",
       "\n",
       "    .dataframe thead th {\n",
       "        text-align: right;\n",
       "    }\n",
       "</style>\n",
       "<table border=\"1\" class=\"dataframe\">\n",
       "  <thead>\n",
       "    <tr style=\"text-align: right;\">\n",
       "      <th></th>\n",
       "      <th>Drug_ID</th>\n",
       "      <th>Drug</th>\n",
       "      <th>Y</th>\n",
       "    </tr>\n",
       "  </thead>\n",
       "  <tbody>\n",
       "    <tr>\n",
       "      <th>0</th>\n",
       "      <td>10325</td>\n",
       "      <td>COc1nccnc1CC1=C(CCN(C)C)Cc2cc(Cl)ccc21</td>\n",
       "      <td>1</td>\n",
       "    </tr>\n",
       "    <tr>\n",
       "      <th>1</th>\n",
       "      <td>11864</td>\n",
       "      <td>O=C(NC1CCN(Cc2ccn(-c3ccc(C(F)(F)F)cc3)c2)CC1)N...</td>\n",
       "      <td>0</td>\n",
       "    </tr>\n",
       "    <tr>\n",
       "      <th>2</th>\n",
       "      <td>5893</td>\n",
       "      <td>Fc1ccc(Cn2cc(NCCN3CCCCC3)nn2)cc1F</td>\n",
       "      <td>0</td>\n",
       "    </tr>\n",
       "    <tr>\n",
       "      <th>3</th>\n",
       "      <td>6664</td>\n",
       "      <td>CC1(C)C[C@@H](NC(=O)CC(O)(C(F)(F)F)C(F)(F)F)c2...</td>\n",
       "      <td>0</td>\n",
       "    </tr>\n",
       "    <tr>\n",
       "      <th>4</th>\n",
       "      <td>977</td>\n",
       "      <td>O=C(O)C[C@@H]1c2ccccc2C[C@H]1NC(=O)c1cc2sc(Cl)...</td>\n",
       "      <td>0</td>\n",
       "    </tr>\n",
       "    <tr>\n",
       "      <th>...</th>\n",
       "      <td>...</td>\n",
       "      <td>...</td>\n",
       "      <td>...</td>\n",
       "    </tr>\n",
       "    <tr>\n",
       "      <th>2684</th>\n",
       "      <td>6422</td>\n",
       "      <td>O=c1cc([C@H]2CCN[C@@H](Cc3ccccc3)C2)o[nH]1</td>\n",
       "      <td>0</td>\n",
       "    </tr>\n",
       "    <tr>\n",
       "      <th>2685</th>\n",
       "      <td>11883</td>\n",
       "      <td>C[C@@H]1CN(C(=O)c2ccccc2)CCN1C(=O)C(=O)c1c[nH]...</td>\n",
       "      <td>0</td>\n",
       "    </tr>\n",
       "    <tr>\n",
       "      <th>2686</th>\n",
       "      <td>7349</td>\n",
       "      <td>O=C(Nc1ccc(-c2nnn[nH]2)cc1F)C(C1CCCCC1)n1c(-c2...</td>\n",
       "      <td>0</td>\n",
       "    </tr>\n",
       "    <tr>\n",
       "      <th>2687</th>\n",
       "      <td>8836</td>\n",
       "      <td>C[C@]1(CS(=O)(=O)N2CCN(c3ncc(OCc4ccc(C(F)(F)F)...</td>\n",
       "      <td>0</td>\n",
       "    </tr>\n",
       "    <tr>\n",
       "      <th>2688</th>\n",
       "      <td>11510</td>\n",
       "      <td>O=C(Nc1ccc(-c2nnc(NCCCN3CCCCC3)o2)cc1)c1c(F)cc...</td>\n",
       "      <td>1</td>\n",
       "    </tr>\n",
       "  </tbody>\n",
       "</table>\n",
       "<p>2689 rows × 3 columns</p>\n",
       "</div>"
      ],
      "text/plain": [
       "      Drug_ID                                               Drug  Y\n",
       "0       10325             COc1nccnc1CC1=C(CCN(C)C)Cc2cc(Cl)ccc21  1\n",
       "1       11864  O=C(NC1CCN(Cc2ccn(-c3ccc(C(F)(F)F)cc3)c2)CC1)N...  0\n",
       "2        5893                  Fc1ccc(Cn2cc(NCCN3CCCCC3)nn2)cc1F  0\n",
       "3        6664  CC1(C)C[C@@H](NC(=O)CC(O)(C(F)(F)F)C(F)(F)F)c2...  0\n",
       "4         977  O=C(O)C[C@@H]1c2ccccc2C[C@H]1NC(=O)c1cc2sc(Cl)...  0\n",
       "...       ...                                                ... ..\n",
       "2684     6422         O=c1cc([C@H]2CCN[C@@H](Cc3ccccc3)C2)o[nH]1  0\n",
       "2685    11883  C[C@@H]1CN(C(=O)c2ccccc2)CCN1C(=O)C(=O)c1c[nH]...  0\n",
       "2686     7349  O=C(Nc1ccc(-c2nnn[nH]2)cc1F)C(C1CCCCC1)n1c(-c2...  0\n",
       "2687     8836  C[C@]1(CS(=O)(=O)N2CCN(c3ncc(OCc4ccc(C(F)(F)F)...  0\n",
       "2688    11510  O=C(Nc1ccc(-c2nnc(NCCCN3CCCCC3)o2)cc1)c1c(F)cc...  1\n",
       "\n",
       "[2689 rows x 3 columns]"
      ]
     },
     "execution_count": 4,
     "metadata": {},
     "output_type": "execute_result"
    }
   ],
   "source": [
    "split['test']"
   ]
  },
  {
   "cell_type": "code",
   "execution_count": 5,
   "id": "ff48bc4b-ae71-44fe-bbcf-65bdcf8a27de",
   "metadata": {
    "execution": {
     "iopub.execute_input": "2024-04-19T03:33:01.441836Z",
     "iopub.status.busy": "2024-04-19T03:33:01.441676Z",
     "iopub.status.idle": "2024-04-19T03:33:26.651672Z",
     "shell.execute_reply": "2024-04-19T03:33:26.650772Z",
     "shell.execute_reply.started": "2024-04-19T03:33:01.441821Z"
    },
    "tags": []
   },
   "outputs": [],
   "source": [
    "from rdkit import Chem\n",
    "from rdkit.Chem import AllChem\n",
    "from sklearn.ensemble import RandomForestClassifier\n",
    "import pandas as pd\n",
    "\n",
    "\n",
    "# Function to convert SMILES to Morgan fingerprints\n",
    "def smiles_to_fp(smiles, radius=2, nBits=1024):\n",
    "    mol = Chem.MolFromSmiles(smiles)\n",
    "    return list(AllChem.GetMorganFingerprintAsBitVect(mol, radius, nBits))\n",
    "\n",
    "\n",
    "# Prepare the data\n",
    "def prepare_data(df):\n",
    "    df['features'] = df['Drug'].apply(lambda x: smiles_to_fp(x))\n",
    "    X = list(df['features'])\n",
    "    y = df['Y'].values\n",
    "    return X, y\n",
    "\n",
    "\n",
    "# Load data\n",
    "train_data = split['train'] \n",
    "X_train, y_train = prepare_data(train_data)\n",
    "\n",
    "\n",
    "# Initialize and train the model\n",
    "model = RandomForestClassifier(random_state=42)\n",
    "model.fit(X_train, y_train)\n",
    "\n",
    "\n",
    "# Evaluate the model\n",
    "test_data = split['train'] \n",
    "X_test, y_test = prepare_data(test_data)\n",
    "y_pred = model.predict(X_test)\n"
   ]
  },
  {
   "cell_type": "code",
   "execution_count": 6,
   "id": "ac2e1811-51a7-4ed5-8704-44f3ebd504f9",
   "metadata": {
    "execution": {
     "iopub.execute_input": "2024-04-19T03:33:26.653038Z",
     "iopub.status.busy": "2024-04-19T03:33:26.652813Z",
     "iopub.status.idle": "2024-04-19T03:33:26.704454Z",
     "shell.execute_reply": "2024-04-19T03:33:26.704058Z",
     "shell.execute_reply.started": "2024-04-19T03:33:26.653017Z"
    },
    "tags": []
   },
   "outputs": [
    {
     "data": {
      "text/plain": [
       "1024"
      ]
     },
     "execution_count": 6,
     "metadata": {},
     "output_type": "execute_result"
    }
   ],
   "source": [
    "len(X_train[0])"
   ]
  },
  {
   "cell_type": "markdown",
   "id": "1c1d2a57-8c0c-4abc-ab73-4147224e4903",
   "metadata": {
    "execution": {
     "iopub.execute_input": "2024-04-19T02:28:58.937521Z",
     "iopub.status.busy": "2024-04-19T02:28:58.937204Z",
     "iopub.status.idle": "2024-04-19T02:28:58.954787Z",
     "shell.execute_reply": "2024-04-19T02:28:58.954378Z",
     "shell.execute_reply.started": "2024-04-19T02:28:58.937500Z"
    },
    "tags": []
   },
   "source": [
    "# Evaluation"
   ]
  },
  {
   "cell_type": "code",
   "execution_count": 7,
   "id": "00573373-3ce6-4f2c-aaee-6340fb3721ad",
   "metadata": {
    "execution": {
     "iopub.execute_input": "2024-04-19T03:33:29.334258Z",
     "iopub.status.busy": "2024-04-19T03:33:29.334061Z",
     "iopub.status.idle": "2024-04-19T03:33:29.401923Z",
     "shell.execute_reply": "2024-04-19T03:33:29.401511Z",
     "shell.execute_reply.started": "2024-04-19T03:33:29.334241Z"
    },
    "tags": []
   },
   "outputs": [
    {
     "name": "stdout",
     "output_type": "stream",
     "text": [
      "Accuracy: 0.9963875903102423\n",
      "ROC AUC Score: 0.9963886635698163\n",
      "Precision: 0.9970263381478335\n",
      "Recall: 0.9957573186253712\n",
      "F1 Score: 0.9963914243260454\n",
      "Matthews Correlation Coefficient: 0.992775982302686\n",
      "Specificity (Negative Prediction Accuracy): 0.9970200085142614\n"
     ]
    }
   ],
   "source": [
    "from evaluate import eval\n",
    "eval(y_test, y_pred)"
   ]
  },
  {
   "cell_type": "markdown",
   "id": "4753deb7-c202-4031-9282-d96c2e859590",
   "metadata": {},
   "source": [
    "# Logic Tensor Network model"
   ]
  },
  {
   "cell_type": "code",
   "execution_count": 8,
   "id": "7c2dec08-b00b-4a8a-8fd1-cb20a901d419",
   "metadata": {
    "execution": {
     "iopub.execute_input": "2024-04-19T03:33:29.403011Z",
     "iopub.status.busy": "2024-04-19T03:33:29.402565Z",
     "iopub.status.idle": "2024-04-19T03:33:30.017366Z",
     "shell.execute_reply": "2024-04-19T03:33:30.016771Z",
     "shell.execute_reply.started": "2024-04-19T03:33:29.402992Z"
    },
    "tags": []
   },
   "outputs": [],
   "source": [
    "import torch\n",
    "\n",
    "# Example of converting lists to Tensors\n",
    "# Assuming 'X_train' and 'y_train' are your features and labels respectively and are initially lists\n",
    "\n",
    "X_train = torch.tensor(X_train, dtype=torch.float32)  # Convert features to a float Tensor\n",
    "y_train = torch.tensor(y_train, dtype=torch.float32)  # Convert labels to a float Tensor\n",
    "\n",
    "# Ensure labels y_train is the right shape (e.g., for BCELoss, you might need to ensure it's two-dimensional if there are two outputs)\n",
    "y_train = y_train.unsqueeze(1)  # Only do this if necessary"
   ]
  },
  {
   "cell_type": "markdown",
   "id": "5d9be36c-4ab1-4ec2-983b-09044cac28eb",
   "metadata": {},
   "source": [
    " # LTN: Define the Network"
   ]
  },
  {
   "cell_type": "code",
   "execution_count": 9,
   "id": "2d89940d-799b-4c0e-a66c-bfbac6e70d99",
   "metadata": {
    "execution": {
     "iopub.execute_input": "2024-04-19T03:33:30.122109Z",
     "iopub.status.busy": "2024-04-19T03:33:30.121791Z",
     "iopub.status.idle": "2024-04-19T03:33:30.151404Z",
     "shell.execute_reply": "2024-04-19T03:33:30.151026Z",
     "shell.execute_reply.started": "2024-04-19T03:33:30.122092Z"
    },
    "tags": []
   },
   "outputs": [],
   "source": [
    "import torch\n",
    "import torch.nn as nn\n",
    "import torch.optim as optim\n",
    "\n",
    "class SimpleNN(nn.Module):\n",
    "    def __init__(self):\n",
    "        super(SimpleNN, self).__init__()\n",
    "        self.layers = nn.Sequential(\n",
    "            nn.Linear(1024, 64),  # Assuming input features size of 1024\n",
    "            nn.ReLU(),\n",
    "            nn.Linear(64, 64),\n",
    "            nn.ReLU(),\n",
    "            nn.Linear(64, 1),  # binary classification\n",
    "            nn.Sigmoid()\n",
    "        )\n",
    "\n",
    "    def forward(self, x):\n",
    "        return self.layers(x)\n"
   ]
  },
  {
   "cell_type": "markdown",
   "id": "3d11b4eb-5cd8-4e55-992f-10142a75e621",
   "metadata": {},
   "source": [
    "# LTN: Define loss with Logical Constraint"
   ]
  },
  {
   "cell_type": "code",
   "execution_count": 10,
   "id": "46600d55-5db6-4a76-a0db-14313d53b7ce",
   "metadata": {
    "execution": {
     "iopub.execute_input": "2024-04-19T03:33:30.152132Z",
     "iopub.status.busy": "2024-04-19T03:33:30.151969Z",
     "iopub.status.idle": "2024-04-19T03:33:30.182665Z",
     "shell.execute_reply": "2024-04-19T03:33:30.182300Z",
     "shell.execute_reply.started": "2024-04-19T03:33:30.152110Z"
    },
    "tags": []
   },
   "outputs": [
    {
     "data": {
      "text/plain": [
       "'\\ndef custom_logic_loss(outputs, targets):\\n    criterion = nn.BCELoss()\\n    # Assuming outputs and targets are already tensors and appropriately shaped\\n    classical_loss = criterion(outputs, targets)\\n\\n    # If there are two logical outputs being evaluated:\\n    if outputs.shape[1] > 1:\\n        # Implementing the logical constraint:\\n        # If outputs[:,0] > 0.9 then outputs[:,1] < 0.1\\n        logic_condition = outputs[:, 0] > 0.9\\n        logic_penalty = torch.where(logic_condition, 1.0 - outputs[:, 1], torch.tensor(0.0).to(outputs.device))\\n        logic_penalty = logic_penalty.mean()  # Mean penalty per batch\\n    else:\\n        logic_penalty = torch.tensor(0.0).to(outputs.device)  # No penalty if not applicable\\n\\n    return classical_loss + logic_penalty\\n'"
      ]
     },
     "execution_count": 10,
     "metadata": {},
     "output_type": "execute_result"
    }
   ],
   "source": [
    "import torch.nn.functional as F\n",
    "\n",
    "def custom_logic_loss(outputs, targets):\n",
    "    criterion = nn.BCELoss()\n",
    "    classical_loss = criterion(outputs.squeeze(), targets.squeeze())\n",
    "    \n",
    "    # You can still implement a custom logic penalty if needed\n",
    "    # For example, adding any additional logic-based constraints\n",
    "    \n",
    "    return classical_loss  # + any logic-based penalties\n",
    "\n",
    "\n",
    "\"\"\"\n",
    "def custom_logic_loss(outputs, targets):\n",
    "    criterion = nn.BCELoss()\n",
    "    # Assuming outputs and targets are already tensors and appropriately shaped\n",
    "    classical_loss = criterion(outputs, targets)\n",
    "\n",
    "    # If there are two logical outputs being evaluated:\n",
    "    if outputs.shape[1] > 1:\n",
    "        # Implementing the logical constraint:\n",
    "        # If outputs[:,0] > 0.9 then outputs[:,1] < 0.1\n",
    "        logic_condition = outputs[:, 0] > 0.9\n",
    "        logic_penalty = torch.where(logic_condition, 1.0 - outputs[:, 1], torch.tensor(0.0).to(outputs.device))\n",
    "        logic_penalty = logic_penalty.mean()  # Mean penalty per batch\n",
    "    else:\n",
    "        logic_penalty = torch.tensor(0.0).to(outputs.device)  # No penalty if not applicable\n",
    "\n",
    "    return classical_loss + logic_penalty\n",
    "\"\"\"    \n"
   ]
  },
  {
   "cell_type": "markdown",
   "id": "5ad8408e-d442-481c-a709-1d6732dac521",
   "metadata": {},
   "source": [
    "# LTN: Training"
   ]
  },
  {
   "cell_type": "code",
   "execution_count": 11,
   "id": "ea51a954-cc86-4f42-b6e8-0a1bd6fdf215",
   "metadata": {
    "execution": {
     "iopub.execute_input": "2024-04-19T03:33:30.183583Z",
     "iopub.status.busy": "2024-04-19T03:33:30.183223Z",
     "iopub.status.idle": "2024-04-19T03:33:39.718263Z",
     "shell.execute_reply": "2024-04-19T03:33:39.717624Z",
     "shell.execute_reply.started": "2024-04-19T03:33:30.183567Z"
    },
    "tags": []
   },
   "outputs": [
    {
     "name": "stdout",
     "output_type": "stream",
     "text": [
      "Epoch 1, Loss: 0.6954758763313293\n",
      "Epoch 2, Loss: 0.6912357807159424\n",
      "Epoch 3, Loss: 0.6874720454216003\n",
      "Epoch 4, Loss: 0.6836674213409424\n",
      "Epoch 5, Loss: 0.6794655323028564\n",
      "Epoch 6, Loss: 0.6747002005577087\n",
      "Epoch 7, Loss: 0.669296383857727\n",
      "Epoch 8, Loss: 0.6632663011550903\n",
      "Epoch 9, Loss: 0.6566621661186218\n",
      "Epoch 10, Loss: 0.6495003700256348\n",
      "Epoch 11, Loss: 0.6418114900588989\n",
      "Epoch 12, Loss: 0.6336370706558228\n",
      "Epoch 13, Loss: 0.6250107288360596\n",
      "Epoch 14, Loss: 0.6160174012184143\n",
      "Epoch 15, Loss: 0.6067817211151123\n",
      "Epoch 16, Loss: 0.5974081158638\n",
      "Epoch 17, Loss: 0.5880060791969299\n",
      "Epoch 18, Loss: 0.5786936283111572\n",
      "Epoch 19, Loss: 0.5695618987083435\n",
      "Epoch 20, Loss: 0.5607056617736816\n",
      "Epoch 21, Loss: 0.552213191986084\n",
      "Epoch 22, Loss: 0.5441372990608215\n",
      "Epoch 23, Loss: 0.5365136861801147\n",
      "Epoch 24, Loss: 0.5293314456939697\n",
      "Epoch 25, Loss: 0.5225563645362854\n",
      "Epoch 26, Loss: 0.5161387324333191\n",
      "Epoch 27, Loss: 0.5100336670875549\n",
      "Epoch 28, Loss: 0.5041930079460144\n",
      "Epoch 29, Loss: 0.4985920786857605\n",
      "Epoch 30, Loss: 0.4932110607624054\n",
      "Epoch 31, Loss: 0.48803913593292236\n",
      "Epoch 32, Loss: 0.48308342695236206\n",
      "Epoch 33, Loss: 0.4783499836921692\n",
      "Epoch 34, Loss: 0.4738318622112274\n",
      "Epoch 35, Loss: 0.46949803829193115\n",
      "Epoch 36, Loss: 0.46532461047172546\n",
      "Epoch 37, Loss: 0.46128612756729126\n",
      "Epoch 38, Loss: 0.45735713839530945\n",
      "Epoch 39, Loss: 0.45352649688720703\n",
      "Epoch 40, Loss: 0.4497842788696289\n",
      "Epoch 41, Loss: 0.4461115300655365\n",
      "Epoch 42, Loss: 0.4424937665462494\n",
      "Epoch 43, Loss: 0.4389219880104065\n",
      "Epoch 44, Loss: 0.43539124727249146\n",
      "Epoch 45, Loss: 0.431902676820755\n",
      "Epoch 46, Loss: 0.4284522533416748\n",
      "Epoch 47, Loss: 0.4250553250312805\n",
      "Epoch 48, Loss: 0.4217296838760376\n",
      "Epoch 49, Loss: 0.41847532987594604\n",
      "Epoch 50, Loss: 0.4152905344963074\n",
      "Epoch 51, Loss: 0.41214150190353394\n",
      "Epoch 52, Loss: 0.4090025722980499\n",
      "Epoch 53, Loss: 0.40586501359939575\n",
      "Epoch 54, Loss: 0.40270519256591797\n",
      "Epoch 55, Loss: 0.3995094299316406\n",
      "Epoch 56, Loss: 0.39628851413726807\n",
      "Epoch 57, Loss: 0.39303848147392273\n",
      "Epoch 58, Loss: 0.3897697329521179\n",
      "Epoch 59, Loss: 0.38647595047950745\n",
      "Epoch 60, Loss: 0.3831453025341034\n",
      "Epoch 61, Loss: 0.37977471947669983\n",
      "Epoch 62, Loss: 0.3763590157032013\n",
      "Epoch 63, Loss: 0.3728896677494049\n",
      "Epoch 64, Loss: 0.3693814277648926\n",
      "Epoch 65, Loss: 0.36583060026168823\n",
      "Epoch 66, Loss: 0.36223992705345154\n",
      "Epoch 67, Loss: 0.35861465334892273\n",
      "Epoch 68, Loss: 0.3549543619155884\n",
      "Epoch 69, Loss: 0.351300448179245\n",
      "Epoch 70, Loss: 0.34783414006233215\n",
      "Epoch 71, Loss: 0.3444952964782715\n",
      "Epoch 72, Loss: 0.3406052887439728\n",
      "Epoch 73, Loss: 0.3362169861793518\n",
      "Epoch 74, Loss: 0.3326854109764099\n",
      "Epoch 75, Loss: 0.3292025625705719\n",
      "Epoch 76, Loss: 0.32487374544143677\n",
      "Epoch 77, Loss: 0.3209751546382904\n",
      "Epoch 78, Loss: 0.31742578744888306\n",
      "Epoch 79, Loss: 0.3131694495677948\n",
      "Epoch 80, Loss: 0.30900031328201294\n",
      "Epoch 81, Loss: 0.30526289343833923\n",
      "Epoch 82, Loss: 0.3010512888431549\n",
      "Epoch 83, Loss: 0.2966645061969757\n",
      "Epoch 84, Loss: 0.2926494777202606\n",
      "Epoch 85, Loss: 0.2885031998157501\n",
      "Epoch 86, Loss: 0.28402209281921387\n",
      "Epoch 87, Loss: 0.2796776592731476\n",
      "Epoch 88, Loss: 0.27547740936279297\n",
      "Epoch 89, Loss: 0.27109673619270325\n",
      "Epoch 90, Loss: 0.26652541756629944\n",
      "Epoch 91, Loss: 0.2620411813259125\n",
      "Epoch 92, Loss: 0.2576618492603302\n",
      "Epoch 93, Loss: 0.2532309591770172\n",
      "Epoch 94, Loss: 0.24865740537643433\n",
      "Epoch 95, Loss: 0.24401772022247314\n",
      "Epoch 96, Loss: 0.239419624209404\n",
      "Epoch 97, Loss: 0.2348882108926773\n",
      "Epoch 98, Loss: 0.23039406538009644\n",
      "Epoch 99, Loss: 0.22591905295848846\n",
      "Epoch 100, Loss: 0.22143852710723877\n",
      "Epoch 101, Loss: 0.21693368256092072\n",
      "Epoch 102, Loss: 0.21236661076545715\n",
      "Epoch 103, Loss: 0.20777371525764465\n",
      "Epoch 104, Loss: 0.2032044678926468\n",
      "Epoch 105, Loss: 0.19869695603847504\n",
      "Epoch 106, Loss: 0.19423902034759521\n",
      "Epoch 107, Loss: 0.18984454870224\n",
      "Epoch 108, Loss: 0.18548959493637085\n",
      "Epoch 109, Loss: 0.18120422959327698\n",
      "Epoch 110, Loss: 0.17706501483917236\n",
      "Epoch 111, Loss: 0.17322571575641632\n",
      "Epoch 112, Loss: 0.16988107562065125\n",
      "Epoch 113, Loss: 0.16660982370376587\n",
      "Epoch 114, Loss: 0.16202214360237122\n",
      "Epoch 115, Loss: 0.15695619583129883\n",
      "Epoch 116, Loss: 0.15359359979629517\n",
      "Epoch 117, Loss: 0.1508583426475525\n",
      "Epoch 118, Loss: 0.14669206738471985\n",
      "Epoch 119, Loss: 0.1424594223499298\n",
      "Epoch 120, Loss: 0.139641672372818\n",
      "Epoch 121, Loss: 0.13659346103668213\n",
      "Epoch 122, Loss: 0.13257701694965363\n",
      "Epoch 123, Loss: 0.1293095201253891\n",
      "Epoch 124, Loss: 0.12671393156051636\n",
      "Epoch 125, Loss: 0.12336593866348267\n",
      "Epoch 126, Loss: 0.11988889425992966\n",
      "Epoch 127, Loss: 0.11720852553844452\n",
      "Epoch 128, Loss: 0.1145501509308815\n",
      "Epoch 129, Loss: 0.11135057359933853\n",
      "Epoch 130, Loss: 0.10842078179121017\n",
      "Epoch 131, Loss: 0.10600379854440689\n",
      "Epoch 132, Loss: 0.10335227847099304\n",
      "Epoch 133, Loss: 0.10045531392097473\n",
      "Epoch 134, Loss: 0.09793912619352341\n",
      "Epoch 135, Loss: 0.09567653387784958\n",
      "Epoch 136, Loss: 0.09318523108959198\n",
      "Epoch 137, Loss: 0.0906311497092247\n",
      "Epoch 138, Loss: 0.08837694674730301\n",
      "Epoch 139, Loss: 0.08628050237894058\n",
      "Epoch 140, Loss: 0.08403681963682175\n",
      "Epoch 141, Loss: 0.08176369965076447\n",
      "Epoch 142, Loss: 0.07970348000526428\n",
      "Epoch 143, Loss: 0.07778988778591156\n",
      "Epoch 144, Loss: 0.07581184059381485\n",
      "Epoch 145, Loss: 0.07378949970006943\n",
      "Epoch 146, Loss: 0.07189598679542542\n",
      "Epoch 147, Loss: 0.07014253735542297\n",
      "Epoch 148, Loss: 0.06840550154447556\n",
      "Epoch 149, Loss: 0.06663171947002411\n",
      "Epoch 150, Loss: 0.06490974128246307\n",
      "Epoch 151, Loss: 0.06330237537622452\n",
      "Epoch 152, Loss: 0.06176755204796791\n",
      "Epoch 153, Loss: 0.06023799628019333\n",
      "Epoch 154, Loss: 0.05870874598622322\n",
      "Epoch 155, Loss: 0.05724400654435158\n",
      "Epoch 156, Loss: 0.05585816130042076\n",
      "Epoch 157, Loss: 0.054511889815330505\n",
      "Epoch 158, Loss: 0.05317649617791176\n",
      "Epoch 159, Loss: 0.051868099719285965\n",
      "Epoch 160, Loss: 0.050614532083272934\n",
      "Epoch 161, Loss: 0.04941825941205025\n",
      "Epoch 162, Loss: 0.048259660601615906\n",
      "Epoch 163, Loss: 0.04711874574422836\n",
      "Epoch 164, Loss: 0.04600449651479721\n",
      "Epoch 165, Loss: 0.044931843876838684\n",
      "Epoch 166, Loss: 0.04390513524413109\n",
      "Epoch 167, Loss: 0.042910411953926086\n",
      "Epoch 168, Loss: 0.04194061830639839\n",
      "Epoch 169, Loss: 0.04099664464592934\n",
      "Epoch 170, Loss: 0.040085602551698685\n",
      "Epoch 171, Loss: 0.03920240327715874\n",
      "Epoch 172, Loss: 0.03834598511457443\n",
      "Epoch 173, Loss: 0.03751189634203911\n",
      "Epoch 174, Loss: 0.03670639172196388\n",
      "Epoch 175, Loss: 0.0359262190759182\n",
      "Epoch 176, Loss: 0.035168591886758804\n",
      "Epoch 177, Loss: 0.03443319350481033\n",
      "Epoch 178, Loss: 0.03371981531381607\n",
      "Epoch 179, Loss: 0.03302865847945213\n",
      "Epoch 180, Loss: 0.032361552119255066\n",
      "Epoch 181, Loss: 0.03171505033969879\n",
      "Epoch 182, Loss: 0.031090518459677696\n",
      "Epoch 183, Loss: 0.03048580326139927\n",
      "Epoch 184, Loss: 0.029899373650550842\n",
      "Epoch 185, Loss: 0.029332837089896202\n",
      "Epoch 186, Loss: 0.02878633141517639\n",
      "Epoch 187, Loss: 0.02825707010924816\n",
      "Epoch 188, Loss: 0.02774467132985592\n",
      "Epoch 189, Loss: 0.027247199788689613\n",
      "Epoch 190, Loss: 0.026764897629618645\n",
      "Epoch 191, Loss: 0.02629719115793705\n",
      "Epoch 192, Loss: 0.025843791663646698\n",
      "Epoch 193, Loss: 0.025403957813978195\n",
      "Epoch 194, Loss: 0.024975722655653954\n",
      "Epoch 195, Loss: 0.024561716243624687\n",
      "Epoch 196, Loss: 0.024159742519259453\n",
      "Epoch 197, Loss: 0.023767700418829918\n",
      "Epoch 198, Loss: 0.023387206718325615\n",
      "Epoch 199, Loss: 0.02301679737865925\n",
      "Epoch 200, Loss: 0.022656861692667007\n"
     ]
    }
   ],
   "source": [
    "# Assuming X_train and y_train are your datasets loaded as Tensor objects\n",
    "model = SimpleNN()\n",
    "optimizer = optim.Adam(model.parameters(), lr=0.001)\n",
    "\n",
    "\n",
    "# Training loop\n",
    "epoch_n = 200\n",
    "model.train()\n",
    "for epoch in range(epoch_n):\n",
    "    optimizer.zero_grad()\n",
    "    outputs = model(X_train)  # Make sure X_train is a tensor\n",
    "    loss = custom_logic_loss(outputs, y_train)  # Ensure y_train is appropriately shaped\n",
    "    loss.backward()\n",
    "    optimizer.step()\n",
    "\n",
    "    print(f\"Epoch {epoch+1}, Loss: {loss.item()}\")\n",
    "    "
   ]
  },
  {
   "cell_type": "code",
   "execution_count": null,
   "id": "3a1ad93c-038a-463f-8b1d-71936f91eae0",
   "metadata": {},
   "outputs": [],
   "source": []
  },
  {
   "cell_type": "markdown",
   "id": "96b6d8ec-5c4c-4a29-9753-034b319c8a65",
   "metadata": {},
   "source": [
    "# LTN: Testing"
   ]
  },
  {
   "cell_type": "code",
   "execution_count": 12,
   "id": "5c527ec6-d506-46ef-aaa8-5becc3ee7e93",
   "metadata": {
    "execution": {
     "iopub.execute_input": "2024-04-19T03:33:39.719763Z",
     "iopub.status.busy": "2024-04-19T03:33:39.719209Z",
     "iopub.status.idle": "2024-04-19T03:33:40.351237Z",
     "shell.execute_reply": "2024-04-19T03:33:40.350528Z",
     "shell.execute_reply.started": "2024-04-19T03:33:39.719741Z"
    },
    "tags": []
   },
   "outputs": [],
   "source": [
    "# Assuming X_test and y_test are already loaded and are numpy arrays or lists\n",
    "X_test = torch.tensor(X_test, dtype=torch.float32)  # Convert to tensor\n",
    "# Ensure y_test is also a tensor if you have it and will evaluate metrics\n",
    "y_test = torch.tensor(y_test, dtype=torch.float32).unsqueeze(1)  # Convert to tensor and ensure correct shape\n"
   ]
  },
  {
   "cell_type": "code",
   "execution_count": 13,
   "id": "c27b2c8a-15ec-4566-bb7a-e33994558aba",
   "metadata": {
    "execution": {
     "iopub.execute_input": "2024-04-19T03:33:40.352564Z",
     "iopub.status.busy": "2024-04-19T03:33:40.352221Z",
     "iopub.status.idle": "2024-04-19T03:33:40.420524Z",
     "shell.execute_reply": "2024-04-19T03:33:40.420010Z",
     "shell.execute_reply.started": "2024-04-19T03:33:40.352542Z"
    },
    "tags": []
   },
   "outputs": [],
   "source": [
    "# Set model to evaluation mode\n",
    "model.eval()\n",
    "\n",
    "# Disable gradient computation for testing (saves memory and computations)\n",
    "with torch.no_grad():\n",
    "    outputs = model(X_test)\n"
   ]
  },
  {
   "cell_type": "code",
   "execution_count": 14,
   "id": "09025b8a-45af-474a-a121-91c96c0b9afa",
   "metadata": {
    "execution": {
     "iopub.execute_input": "2024-04-19T03:33:40.421418Z",
     "iopub.status.busy": "2024-04-19T03:33:40.421225Z",
     "iopub.status.idle": "2024-04-19T03:33:40.480910Z",
     "shell.execute_reply": "2024-04-19T03:33:40.480493Z",
     "shell.execute_reply.started": "2024-04-19T03:33:40.421401Z"
    },
    "tags": []
   },
   "outputs": [
    {
     "name": "stdout",
     "output_type": "stream",
     "text": [
      "Accuracy: 0.9956438541412354\n",
      "Accuracy: 0.9956438589035274\n",
      "ROC AUC Score: 0.9956451106303099\n",
      "Precision: 0.9963883577650308\n",
      "Recall: 0.9949087823504454\n",
      "F1 Score: 0.9956480203800021\n",
      "Matthews Correlation Coefficient: 0.9912888112971575\n",
      "Specificity (Negative Prediction Accuracy): 0.9963814389101745\n"
     ]
    }
   ],
   "source": [
    "# Convert outputs to predicted classes\n",
    "# For binary classification with a single output unit\n",
    "predictions = (outputs > 0.5).float()  # Threshold probabilities to classify as 1 or 0\n",
    "\n",
    "# Calculate accuracy or other metrics\n",
    "accuracy = (predictions == y_test).float().mean()\n",
    "print(\"Accuracy:\", accuracy.item())\n",
    "\n",
    "# If you need to calculate other metrics such as precision, recall, and F1 score\n",
    "from sklearn.metrics import precision_score, recall_score, f1_score\n",
    "\n",
    "# Since you cannot use sklearn directly with tensors, you need to move data back to CPU and convert to numpy\n",
    "predictions = predictions.cpu().numpy()\n",
    "y_test = y_test.cpu().numpy()\n",
    "\n",
    "eval(y_test, predictions)"
   ]
  },
  {
   "cell_type": "code",
   "execution_count": null,
   "id": "4d63dd5d-0a4d-4049-9e3a-06493de595bf",
   "metadata": {},
   "outputs": [],
   "source": []
  },
  {
   "cell_type": "code",
   "execution_count": null,
   "id": "94e60a8d-03b3-45e9-bd98-a1b1e80eda36",
   "metadata": {},
   "outputs": [],
   "source": []
  },
  {
   "cell_type": "code",
   "execution_count": null,
   "id": "83d007c8-73d4-40b3-8626-787f9fac70f8",
   "metadata": {},
   "outputs": [],
   "source": []
  },
  {
   "cell_type": "code",
   "execution_count": null,
   "id": "0de3c1b7-5a04-4eea-a5ce-87da86c45e80",
   "metadata": {},
   "outputs": [],
   "source": []
  }
 ],
 "metadata": {
  "kernelspec": {
   "display_name": "venv_herg",
   "language": "python",
   "name": "venv_herg"
  },
  "language_info": {
   "codemirror_mode": {
    "name": "ipython",
    "version": 3
   },
   "file_extension": ".py",
   "mimetype": "text/x-python",
   "name": "python",
   "nbconvert_exporter": "python",
   "pygments_lexer": "ipython3",
   "version": "3.9.19"
  }
 },
 "nbformat": 4,
 "nbformat_minor": 5
}
