{
 "cells": [
  {
   "cell_type": "code",
   "execution_count": 1,
   "id": "e0fc9b99-2c6c-47a2-933d-37adad598f2d",
   "metadata": {
    "execution": {
     "iopub.execute_input": "2024-04-24T02:52:40.903501Z",
     "iopub.status.busy": "2024-04-24T02:52:40.903208Z",
     "iopub.status.idle": "2024-04-24T02:52:41.406930Z",
     "shell.execute_reply": "2024-04-24T02:52:41.406312Z",
     "shell.execute_reply.started": "2024-04-24T02:52:40.903486Z"
    },
    "tags": []
   },
   "outputs": [],
   "source": [
    "%load_ext autoreload\n",
    "%autoreload 2\n",
    "%matplotlib inline"
   ]
  },
  {
   "cell_type": "markdown",
   "id": "b08a15c7-5bad-4ccc-a1cf-ecbbce188a9e",
   "metadata": {},
   "source": [
    "# Download data"
   ]
  },
  {
   "cell_type": "code",
   "execution_count": 2,
   "id": "823b920a-7c06-49a0-b364-fa4ede948136",
   "metadata": {
    "execution": {
     "iopub.execute_input": "2024-04-24T02:52:47.121536Z",
     "iopub.status.busy": "2024-04-24T02:52:47.121243Z",
     "iopub.status.idle": "2024-04-24T02:52:54.432062Z",
     "shell.execute_reply": "2024-04-24T02:52:54.431500Z",
     "shell.execute_reply.started": "2024-04-24T02:52:47.121520Z"
    },
    "tags": []
   },
   "outputs": [
    {
     "name": "stderr",
     "output_type": "stream",
     "text": [
      "Found local copy...\n",
      "Loading...\n",
      "Done!\n",
      "100%|██████████| 13445/13445 [00:05<00:00, 2316.58it/s]"
     ]
    },
    {
     "name": "stdout",
     "output_type": "stream",
     "text": [
      "Data loaded and split successfully.\n",
      "Train data samples: 9411\n",
      "Validation data samples: 1344\n",
      "Test data samples: 2690\n"
     ]
    },
    {
     "name": "stderr",
     "output_type": "stream",
     "text": [
      "\n"
     ]
    }
   ],
   "source": [
    "from tdc.single_pred import Tox\n",
    "\n",
    "try:\n",
    "    data = Tox(name='hERG_Karim')\n",
    "    split = data.get_split(\"scaffold\")\n",
    "    print(\"Data loaded and split successfully.\")\n",
    "    print(\"Train data samples:\", len(split['train']))\n",
    "    print(\"Validation data samples:\", len(split['valid']))\n",
    "    print(\"Test data samples:\", len(split['test']))\n",
    "except Exception as e:\n",
    "    print(\"An error occurred:\", str(e))"
   ]
  },
  {
   "cell_type": "markdown",
   "id": "4ae6487e-43bb-48b7-916a-536a0e152d1f",
   "metadata": {},
   "source": [
    "# Read CardioToxNet data"
   ]
  },
  {
   "cell_type": "code",
   "execution_count": 3,
   "id": "5c074df4-18f8-4345-affc-985177b19257",
   "metadata": {
    "execution": {
     "iopub.execute_input": "2024-04-24T02:52:56.783671Z",
     "iopub.status.busy": "2024-04-24T02:52:56.783406Z",
     "iopub.status.idle": "2024-04-24T02:52:56.819994Z",
     "shell.execute_reply": "2024-04-24T02:52:56.819605Z",
     "shell.execute_reply.started": "2024-04-24T02:52:56.783653Z"
    },
    "tags": []
   },
   "outputs": [],
   "source": [
    "import pandas as pd"
   ]
  },
  {
   "cell_type": "code",
   "execution_count": 4,
   "id": "bedfd1e0-9b20-4dcd-bc68-0fbd604ac306",
   "metadata": {
    "execution": {
     "iopub.execute_input": "2024-04-24T02:52:57.653686Z",
     "iopub.status.busy": "2024-04-24T02:52:57.653394Z",
     "iopub.status.idle": "2024-04-24T02:52:57.696302Z",
     "shell.execute_reply": "2024-04-24T02:52:57.695882Z",
     "shell.execute_reply.started": "2024-04-24T02:52:57.653668Z"
    },
    "tags": []
   },
   "outputs": [],
   "source": [
    "# external data\n",
    "ext_data_keys = ['pos','neg','new']\n",
    "ext_data = []\n",
    "for k in ext_data_keys:\n",
    "    curr_data = pd.read_csv(\"./data_cardiotoxnet/external_test_set_\" + k + \".csv\")\n",
    "    ext_data.append(curr_data.rename(columns={'smiles': 'Drug', 'ACTIVITY': 'Y'}))\n"
   ]
  },
  {
   "cell_type": "markdown",
   "id": "4c4cdc71-a9e4-4757-85b3-8701b11f7e58",
   "metadata": {},
   "source": [
    "# check data"
   ]
  },
  {
   "cell_type": "code",
   "execution_count": 5,
   "id": "70c8232b-4aca-469f-b433-2a67725ad8b4",
   "metadata": {
    "execution": {
     "iopub.execute_input": "2024-04-24T02:53:01.031978Z",
     "iopub.status.busy": "2024-04-24T02:53:01.031653Z",
     "iopub.status.idle": "2024-04-24T02:53:01.071058Z",
     "shell.execute_reply": "2024-04-24T02:53:01.070648Z",
     "shell.execute_reply.started": "2024-04-24T02:53:01.031959Z"
    },
    "tags": []
   },
   "outputs": [
    {
     "data": {
      "text/plain": [
       "dict_keys(['train', 'valid', 'test'])"
      ]
     },
     "execution_count": 5,
     "metadata": {},
     "output_type": "execute_result"
    }
   ],
   "source": [
    "split.keys()"
   ]
  },
  {
   "cell_type": "code",
   "execution_count": 6,
   "id": "43e06b35-37f2-4df1-a7fb-170cb3359861",
   "metadata": {
    "execution": {
     "iopub.execute_input": "2024-04-24T02:53:02.654404Z",
     "iopub.status.busy": "2024-04-24T02:53:02.654092Z",
     "iopub.status.idle": "2024-04-24T02:53:02.696090Z",
     "shell.execute_reply": "2024-04-24T02:53:02.695642Z",
     "shell.execute_reply.started": "2024-04-24T02:53:02.654386Z"
    },
    "tags": []
   },
   "outputs": [
    {
     "data": {
      "text/html": [
       "<div>\n",
       "<style scoped>\n",
       "    .dataframe tbody tr th:only-of-type {\n",
       "        vertical-align: middle;\n",
       "    }\n",
       "\n",
       "    .dataframe tbody tr th {\n",
       "        vertical-align: top;\n",
       "    }\n",
       "\n",
       "    .dataframe thead th {\n",
       "        text-align: right;\n",
       "    }\n",
       "</style>\n",
       "<table border=\"1\" class=\"dataframe\">\n",
       "  <thead>\n",
       "    <tr style=\"text-align: right;\">\n",
       "      <th></th>\n",
       "      <th>Drug_ID</th>\n",
       "      <th>Drug</th>\n",
       "      <th>Y</th>\n",
       "    </tr>\n",
       "  </thead>\n",
       "  <tbody>\n",
       "    <tr>\n",
       "      <th>0</th>\n",
       "      <td>8640</td>\n",
       "      <td>O=C1NCCN1CC[N+]1CCC(c2cn(C3CCCCC3)c3ccc(Cl)cc2...</td>\n",
       "      <td>0</td>\n",
       "    </tr>\n",
       "    <tr>\n",
       "      <th>1</th>\n",
       "      <td>11377</td>\n",
       "      <td>O=C(Cc1ccc(-n2cnnn2)cc1)N1CCN(CCc2ccc3nonc3c2)CC1</td>\n",
       "      <td>1</td>\n",
       "    </tr>\n",
       "    <tr>\n",
       "      <th>2</th>\n",
       "      <td>1461</td>\n",
       "      <td>NC(=O)c1ncc(N[C@@H]2CCCC[C@@H]2N)cc1Nc1cccc(C(...</td>\n",
       "      <td>1</td>\n",
       "    </tr>\n",
       "    <tr>\n",
       "      <th>3</th>\n",
       "      <td>6646</td>\n",
       "      <td>Cc1cc(C)nc(Nc2cc(N[C@@H]3CCCC[C@@H]3N)cnc2C(N)...</td>\n",
       "      <td>1</td>\n",
       "    </tr>\n",
       "    <tr>\n",
       "      <th>4</th>\n",
       "      <td>379</td>\n",
       "      <td>COc1cc(C)nc(Nc2cc(N[C@@H]3CCCC[C@@H]3N)cnc2C(N...</td>\n",
       "      <td>1</td>\n",
       "    </tr>\n",
       "    <tr>\n",
       "      <th>5</th>\n",
       "      <td>10556</td>\n",
       "      <td>Cc1cc(CC(C)(C)O)cc(Nc2cc(N[C@@H]3CCCC[C@@H]3N)...</td>\n",
       "      <td>1</td>\n",
       "    </tr>\n",
       "    <tr>\n",
       "      <th>6</th>\n",
       "      <td>4542</td>\n",
       "      <td>Cc1cc(C(C)(C)O)cc(Nc2cc(N[C@@H]3CCCC[C@@H]3N)c...</td>\n",
       "      <td>1</td>\n",
       "    </tr>\n",
       "    <tr>\n",
       "      <th>7</th>\n",
       "      <td>9102</td>\n",
       "      <td>Cc1cccnc1CN1CCC2(CC1)C(=O)N(c1ccc(-c3ccc4scnc4...</td>\n",
       "      <td>1</td>\n",
       "    </tr>\n",
       "    <tr>\n",
       "      <th>8</th>\n",
       "      <td>4564</td>\n",
       "      <td>O=S1(=O)CCC(COc2ccc3c(c2)CCC2(CCN(C4CCC4)CC2)O...</td>\n",
       "      <td>0</td>\n",
       "    </tr>\n",
       "    <tr>\n",
       "      <th>9</th>\n",
       "      <td>12933</td>\n",
       "      <td>N#C[C@@H]1C[C@@H]2C[C@@H]2N1C(=O)[C@@H](N)C12C...</td>\n",
       "      <td>0</td>\n",
       "    </tr>\n",
       "  </tbody>\n",
       "</table>\n",
       "</div>"
      ],
      "text/plain": [
       "   Drug_ID                                               Drug  Y\n",
       "0     8640  O=C1NCCN1CC[N+]1CCC(c2cn(C3CCCCC3)c3ccc(Cl)cc2...  0\n",
       "1    11377  O=C(Cc1ccc(-n2cnnn2)cc1)N1CCN(CCc2ccc3nonc3c2)CC1  1\n",
       "2     1461  NC(=O)c1ncc(N[C@@H]2CCCC[C@@H]2N)cc1Nc1cccc(C(...  1\n",
       "3     6646  Cc1cc(C)nc(Nc2cc(N[C@@H]3CCCC[C@@H]3N)cnc2C(N)...  1\n",
       "4      379  COc1cc(C)nc(Nc2cc(N[C@@H]3CCCC[C@@H]3N)cnc2C(N...  1\n",
       "5    10556  Cc1cc(CC(C)(C)O)cc(Nc2cc(N[C@@H]3CCCC[C@@H]3N)...  1\n",
       "6     4542  Cc1cc(C(C)(C)O)cc(Nc2cc(N[C@@H]3CCCC[C@@H]3N)c...  1\n",
       "7     9102  Cc1cccnc1CN1CCC2(CC1)C(=O)N(c1ccc(-c3ccc4scnc4...  1\n",
       "8     4564  O=S1(=O)CCC(COc2ccc3c(c2)CCC2(CCN(C4CCC4)CC2)O...  0\n",
       "9    12933  N#C[C@@H]1C[C@@H]2C[C@@H]2N1C(=O)[C@@H](N)C12C...  0"
      ]
     },
     "execution_count": 6,
     "metadata": {},
     "output_type": "execute_result"
    }
   ],
   "source": [
    "split['train'].head(10)"
   ]
  },
  {
   "cell_type": "code",
   "execution_count": 7,
   "id": "f849b3ff-cc04-4a5f-a11e-7b47d180aba2",
   "metadata": {
    "execution": {
     "iopub.execute_input": "2024-04-24T02:53:02.756380Z",
     "iopub.status.busy": "2024-04-24T02:53:02.756093Z",
     "iopub.status.idle": "2024-04-24T02:53:02.790663Z",
     "shell.execute_reply": "2024-04-24T02:53:02.790282Z",
     "shell.execute_reply.started": "2024-04-24T02:53:02.756365Z"
    },
    "tags": []
   },
   "outputs": [
    {
     "data": {
      "text/html": [
       "<div>\n",
       "<style scoped>\n",
       "    .dataframe tbody tr th:only-of-type {\n",
       "        vertical-align: middle;\n",
       "    }\n",
       "\n",
       "    .dataframe tbody tr th {\n",
       "        vertical-align: top;\n",
       "    }\n",
       "\n",
       "    .dataframe thead th {\n",
       "        text-align: right;\n",
       "    }\n",
       "</style>\n",
       "<table border=\"1\" class=\"dataframe\">\n",
       "  <thead>\n",
       "    <tr style=\"text-align: right;\">\n",
       "      <th></th>\n",
       "      <th>Drug_ID</th>\n",
       "      <th>Drug</th>\n",
       "      <th>Y</th>\n",
       "    </tr>\n",
       "  </thead>\n",
       "  <tbody>\n",
       "    <tr>\n",
       "      <th>0</th>\n",
       "      <td>7417</td>\n",
       "      <td>CC(C)c1noc(-c2nnc3n2CCN(C(=O)c2ccc(F)cc2)[C@@H...</td>\n",
       "      <td>1</td>\n",
       "    </tr>\n",
       "    <tr>\n",
       "      <th>1</th>\n",
       "      <td>3967</td>\n",
       "      <td>CCc1noc(-c2nnc3n2CCN(C(=O)c2ccc(F)cc2)[C@@H]3C)n1</td>\n",
       "      <td>0</td>\n",
       "    </tr>\n",
       "    <tr>\n",
       "      <th>2</th>\n",
       "      <td>13387</td>\n",
       "      <td>CC(C)(C)Cn1c(N)nc2ccc(-c3nc(C(C)(C)C)[nH]c3-c3...</td>\n",
       "      <td>0</td>\n",
       "    </tr>\n",
       "    <tr>\n",
       "      <th>3</th>\n",
       "      <td>10258</td>\n",
       "      <td>CC(C)(C)C1CCC2(CC1)CCN(c1ccc(OC(F)(F)F)cc1)C(=...</td>\n",
       "      <td>1</td>\n",
       "    </tr>\n",
       "    <tr>\n",
       "      <th>4</th>\n",
       "      <td>5612</td>\n",
       "      <td>CCN(CC)c1ccc2cc(C(=O)NCCCCN3CCC(Nc4nc5ccccc5n4...</td>\n",
       "      <td>1</td>\n",
       "    </tr>\n",
       "    <tr>\n",
       "      <th>5</th>\n",
       "      <td>6520</td>\n",
       "      <td>CN1CCC(COCc2cc(C(F)(F)F)cc(N3CCCC3)n2)(c2ccccc...</td>\n",
       "      <td>1</td>\n",
       "    </tr>\n",
       "    <tr>\n",
       "      <th>6</th>\n",
       "      <td>8954</td>\n",
       "      <td>CN1CCC(COCc2cc(C(F)(F)F)cc(N3CCC(C#N)C3)n2)(c2...</td>\n",
       "      <td>1</td>\n",
       "    </tr>\n",
       "    <tr>\n",
       "      <th>7</th>\n",
       "      <td>2983</td>\n",
       "      <td>FC(F)(F)c1cc(COCC2(c3ccccc3)CCNCC2)nc(N2CCCC2)c1</td>\n",
       "      <td>1</td>\n",
       "    </tr>\n",
       "    <tr>\n",
       "      <th>8</th>\n",
       "      <td>12756</td>\n",
       "      <td>OC1CCC(Nc2ncc3nc(Nc4c(F)cc(F)cc4F)n([C@@H]4CCO...</td>\n",
       "      <td>0</td>\n",
       "    </tr>\n",
       "    <tr>\n",
       "      <th>9</th>\n",
       "      <td>8043</td>\n",
       "      <td>O=C(N[C@@H]1C2CCN(CC2)[C@H]1Cc1cccnc1)c1cc2ccc...</td>\n",
       "      <td>0</td>\n",
       "    </tr>\n",
       "  </tbody>\n",
       "</table>\n",
       "</div>"
      ],
      "text/plain": [
       "   Drug_ID                                               Drug  Y\n",
       "0     7417  CC(C)c1noc(-c2nnc3n2CCN(C(=O)c2ccc(F)cc2)[C@@H...  1\n",
       "1     3967  CCc1noc(-c2nnc3n2CCN(C(=O)c2ccc(F)cc2)[C@@H]3C)n1  0\n",
       "2    13387  CC(C)(C)Cn1c(N)nc2ccc(-c3nc(C(C)(C)C)[nH]c3-c3...  0\n",
       "3    10258  CC(C)(C)C1CCC2(CC1)CCN(c1ccc(OC(F)(F)F)cc1)C(=...  1\n",
       "4     5612  CCN(CC)c1ccc2cc(C(=O)NCCCCN3CCC(Nc4nc5ccccc5n4...  1\n",
       "5     6520  CN1CCC(COCc2cc(C(F)(F)F)cc(N3CCCC3)n2)(c2ccccc...  1\n",
       "6     8954  CN1CCC(COCc2cc(C(F)(F)F)cc(N3CCC(C#N)C3)n2)(c2...  1\n",
       "7     2983   FC(F)(F)c1cc(COCC2(c3ccccc3)CCNCC2)nc(N2CCCC2)c1  1\n",
       "8    12756  OC1CCC(Nc2ncc3nc(Nc4c(F)cc(F)cc4F)n([C@@H]4CCO...  0\n",
       "9     8043  O=C(N[C@@H]1C2CCN(CC2)[C@H]1Cc1cccnc1)c1cc2ccc...  0"
      ]
     },
     "execution_count": 7,
     "metadata": {},
     "output_type": "execute_result"
    }
   ],
   "source": [
    "split['test'].head(10)"
   ]
  },
  {
   "cell_type": "code",
   "execution_count": 8,
   "id": "9678990c-7c16-4eff-9d9e-be4e1537a78d",
   "metadata": {
    "execution": {
     "iopub.execute_input": "2024-04-24T02:53:03.999654Z",
     "iopub.status.busy": "2024-04-24T02:53:03.999407Z",
     "iopub.status.idle": "2024-04-24T02:53:04.037328Z",
     "shell.execute_reply": "2024-04-24T02:53:04.036923Z",
     "shell.execute_reply.started": "2024-04-24T02:53:03.999638Z"
    },
    "tags": []
   },
   "outputs": [
    {
     "data": {
      "text/html": [
       "<div>\n",
       "<style scoped>\n",
       "    .dataframe tbody tr th:only-of-type {\n",
       "        vertical-align: middle;\n",
       "    }\n",
       "\n",
       "    .dataframe tbody tr th {\n",
       "        vertical-align: top;\n",
       "    }\n",
       "\n",
       "    .dataframe thead th {\n",
       "        text-align: right;\n",
       "    }\n",
       "</style>\n",
       "<table border=\"1\" class=\"dataframe\">\n",
       "  <thead>\n",
       "    <tr style=\"text-align: right;\">\n",
       "      <th></th>\n",
       "      <th>Y</th>\n",
       "      <th>Drug</th>\n",
       "    </tr>\n",
       "  </thead>\n",
       "  <tbody>\n",
       "    <tr>\n",
       "      <th>0</th>\n",
       "      <td>0</td>\n",
       "      <td>CCOC(=O)C1(CCN(C)CC1)c1ccccc1</td>\n",
       "    </tr>\n",
       "    <tr>\n",
       "      <th>1</th>\n",
       "      <td>0</td>\n",
       "      <td>CCN(CC)CC(=O)NC1=C(C)C=CC=C1C</td>\n",
       "    </tr>\n",
       "    <tr>\n",
       "      <th>2</th>\n",
       "      <td>0</td>\n",
       "      <td>CCCC(CCC)C(=O)O</td>\n",
       "    </tr>\n",
       "    <tr>\n",
       "      <th>3</th>\n",
       "      <td>0</td>\n",
       "      <td>CCC(COC(=O)c1cc(OC)c(OC)c(OC)c1)(c1ccccc1)N(C)C</td>\n",
       "    </tr>\n",
       "    <tr>\n",
       "      <th>4</th>\n",
       "      <td>0</td>\n",
       "      <td>COc1ccc(N(C(C)=O)c2cc3c(cc2[N+](=O)[O-])OC(C)(...</td>\n",
       "    </tr>\n",
       "    <tr>\n",
       "      <th>5</th>\n",
       "      <td>1</td>\n",
       "      <td>COc1cc2nc(nc(N)c2cc1OC)N1CCN(CC1)C(=O)c1ccco1</td>\n",
       "    </tr>\n",
       "    <tr>\n",
       "      <th>6</th>\n",
       "      <td>1</td>\n",
       "      <td>COc1ccc2cc3-c4cc5OCOc5cc4CC[n+]3cc2c1OC</td>\n",
       "    </tr>\n",
       "    <tr>\n",
       "      <th>7</th>\n",
       "      <td>0</td>\n",
       "      <td>CCCc1nn(C)c2c(=O)[nH]c(nc12)c3cc(ccc3OCC)S(=O)...</td>\n",
       "    </tr>\n",
       "    <tr>\n",
       "      <th>8</th>\n",
       "      <td>0</td>\n",
       "      <td>CCCc1nn(C)c2c(=O)nc(-c3cc(S(=O)(=O)N4CCN(C)CC4...</td>\n",
       "    </tr>\n",
       "    <tr>\n",
       "      <th>9</th>\n",
       "      <td>0</td>\n",
       "      <td>CC(=O)SC1CC2=CC(=O)CCC2(C)C2CCC3C(CCC34CCC(=O)...</td>\n",
       "    </tr>\n",
       "  </tbody>\n",
       "</table>\n",
       "</div>"
      ],
      "text/plain": [
       "   Y                                               Drug\n",
       "0  0                      CCOC(=O)C1(CCN(C)CC1)c1ccccc1\n",
       "1  0                      CCN(CC)CC(=O)NC1=C(C)C=CC=C1C\n",
       "2  0                                    CCCC(CCC)C(=O)O\n",
       "3  0    CCC(COC(=O)c1cc(OC)c(OC)c(OC)c1)(c1ccccc1)N(C)C\n",
       "4  0  COc1ccc(N(C(C)=O)c2cc3c(cc2[N+](=O)[O-])OC(C)(...\n",
       "5  1      COc1cc2nc(nc(N)c2cc1OC)N1CCN(CC1)C(=O)c1ccco1\n",
       "6  1            COc1ccc2cc3-c4cc5OCOc5cc4CC[n+]3cc2c1OC\n",
       "7  0  CCCc1nn(C)c2c(=O)[nH]c(nc12)c3cc(ccc3OCC)S(=O)...\n",
       "8  0  CCCc1nn(C)c2c(=O)nc(-c3cc(S(=O)(=O)N4CCN(C)CC4...\n",
       "9  0  CC(=O)SC1CC2=CC(=O)CCC2(C)C2CCC3C(CCC34CCC(=O)..."
      ]
     },
     "execution_count": 8,
     "metadata": {},
     "output_type": "execute_result"
    }
   ],
   "source": [
    "ext_data[0].head(10)"
   ]
  },
  {
   "cell_type": "markdown",
   "id": "f4a26645-3a17-4256-9e77-0f42f6941d0a",
   "metadata": {},
   "source": [
    "# Featuring functions"
   ]
  },
  {
   "cell_type": "code",
   "execution_count": 9,
   "id": "e1299d07-75a8-4deb-86fe-d6d512739ba9",
   "metadata": {
    "execution": {
     "iopub.execute_input": "2024-04-24T02:53:12.852239Z",
     "iopub.status.busy": "2024-04-24T02:53:12.851904Z",
     "iopub.status.idle": "2024-04-24T02:53:12.891187Z",
     "shell.execute_reply": "2024-04-24T02:53:12.890767Z",
     "shell.execute_reply.started": "2024-04-24T02:53:12.852219Z"
    },
    "tags": []
   },
   "outputs": [],
   "source": [
    "from rdkit import Chem\n",
    "from rdkit.Chem import AllChem\n",
    "\n",
    "# Function to convert SMILES to Morgan fingerprints\n",
    "def smiles_to_fp(smiles, radius=2, nBits=1024):\n",
    "    mol = Chem.MolFromSmiles(smiles)\n",
    "    return list(AllChem.GetMorganFingerprintAsBitVect(mol, radius, nBits))\n",
    "\n",
    "\n",
    "# Prepare the data\n",
    "def prepare_data(df):\n",
    "    df['features'] = df['Drug'].apply(lambda x: smiles_to_fp(x))\n",
    "    X = list(df['features'])\n",
    "    y = df['Y'].values\n",
    "    return X, y\n",
    "\n"
   ]
  },
  {
   "cell_type": "code",
   "execution_count": null,
   "id": "9d12fb4d-fb87-4854-8767-f40be2cb8b94",
   "metadata": {},
   "outputs": [],
   "source": []
  },
  {
   "cell_type": "markdown",
   "id": "da9c5b17-e83f-40c1-ad60-cfff2494b625",
   "metadata": {},
   "source": [
    "# Random Forest Classifier"
   ]
  },
  {
   "cell_type": "code",
   "execution_count": 10,
   "id": "ff48bc4b-ae71-44fe-bbcf-65bdcf8a27de",
   "metadata": {
    "execution": {
     "iopub.execute_input": "2024-04-24T02:53:22.703813Z",
     "iopub.status.busy": "2024-04-24T02:53:22.703478Z",
     "iopub.status.idle": "2024-04-24T02:53:36.935836Z",
     "shell.execute_reply": "2024-04-24T02:53:36.935277Z",
     "shell.execute_reply.started": "2024-04-24T02:53:22.703793Z"
    },
    "tags": []
   },
   "outputs": [
    {
     "data": {
      "text/html": [
       "<style>#sk-container-id-1 {color: black;background-color: white;}#sk-container-id-1 pre{padding: 0;}#sk-container-id-1 div.sk-toggleable {background-color: white;}#sk-container-id-1 label.sk-toggleable__label {cursor: pointer;display: block;width: 100%;margin-bottom: 0;padding: 0.3em;box-sizing: border-box;text-align: center;}#sk-container-id-1 label.sk-toggleable__label-arrow:before {content: \"▸\";float: left;margin-right: 0.25em;color: #696969;}#sk-container-id-1 label.sk-toggleable__label-arrow:hover:before {color: black;}#sk-container-id-1 div.sk-estimator:hover label.sk-toggleable__label-arrow:before {color: black;}#sk-container-id-1 div.sk-toggleable__content {max-height: 0;max-width: 0;overflow: hidden;text-align: left;background-color: #f0f8ff;}#sk-container-id-1 div.sk-toggleable__content pre {margin: 0.2em;color: black;border-radius: 0.25em;background-color: #f0f8ff;}#sk-container-id-1 input.sk-toggleable__control:checked~div.sk-toggleable__content {max-height: 200px;max-width: 100%;overflow: auto;}#sk-container-id-1 input.sk-toggleable__control:checked~label.sk-toggleable__label-arrow:before {content: \"▾\";}#sk-container-id-1 div.sk-estimator input.sk-toggleable__control:checked~label.sk-toggleable__label {background-color: #d4ebff;}#sk-container-id-1 div.sk-label input.sk-toggleable__control:checked~label.sk-toggleable__label {background-color: #d4ebff;}#sk-container-id-1 input.sk-hidden--visually {border: 0;clip: rect(1px 1px 1px 1px);clip: rect(1px, 1px, 1px, 1px);height: 1px;margin: -1px;overflow: hidden;padding: 0;position: absolute;width: 1px;}#sk-container-id-1 div.sk-estimator {font-family: monospace;background-color: #f0f8ff;border: 1px dotted black;border-radius: 0.25em;box-sizing: border-box;margin-bottom: 0.5em;}#sk-container-id-1 div.sk-estimator:hover {background-color: #d4ebff;}#sk-container-id-1 div.sk-parallel-item::after {content: \"\";width: 100%;border-bottom: 1px solid gray;flex-grow: 1;}#sk-container-id-1 div.sk-label:hover label.sk-toggleable__label {background-color: #d4ebff;}#sk-container-id-1 div.sk-serial::before {content: \"\";position: absolute;border-left: 1px solid gray;box-sizing: border-box;top: 0;bottom: 0;left: 50%;z-index: 0;}#sk-container-id-1 div.sk-serial {display: flex;flex-direction: column;align-items: center;background-color: white;padding-right: 0.2em;padding-left: 0.2em;position: relative;}#sk-container-id-1 div.sk-item {position: relative;z-index: 1;}#sk-container-id-1 div.sk-parallel {display: flex;align-items: stretch;justify-content: center;background-color: white;position: relative;}#sk-container-id-1 div.sk-item::before, #sk-container-id-1 div.sk-parallel-item::before {content: \"\";position: absolute;border-left: 1px solid gray;box-sizing: border-box;top: 0;bottom: 0;left: 50%;z-index: -1;}#sk-container-id-1 div.sk-parallel-item {display: flex;flex-direction: column;z-index: 1;position: relative;background-color: white;}#sk-container-id-1 div.sk-parallel-item:first-child::after {align-self: flex-end;width: 50%;}#sk-container-id-1 div.sk-parallel-item:last-child::after {align-self: flex-start;width: 50%;}#sk-container-id-1 div.sk-parallel-item:only-child::after {width: 0;}#sk-container-id-1 div.sk-dashed-wrapped {border: 1px dashed gray;margin: 0 0.4em 0.5em 0.4em;box-sizing: border-box;padding-bottom: 0.4em;background-color: white;}#sk-container-id-1 div.sk-label label {font-family: monospace;font-weight: bold;display: inline-block;line-height: 1.2em;}#sk-container-id-1 div.sk-label-container {text-align: center;}#sk-container-id-1 div.sk-container {/* jupyter's `normalize.less` sets `[hidden] { display: none; }` but bootstrap.min.css set `[hidden] { display: none !important; }` so we also need the `!important` here to be able to override the default hidden behavior on the sphinx rendered scikit-learn.org. See: https://github.com/scikit-learn/scikit-learn/issues/21755 */display: inline-block !important;position: relative;}#sk-container-id-1 div.sk-text-repr-fallback {display: none;}</style><div id=\"sk-container-id-1\" class=\"sk-top-container\"><div class=\"sk-text-repr-fallback\"><pre>RandomForestClassifier(random_state=42)</pre><b>In a Jupyter environment, please rerun this cell to show the HTML representation or trust the notebook. <br />On GitHub, the HTML representation is unable to render, please try loading this page with nbviewer.org.</b></div><div class=\"sk-container\" hidden><div class=\"sk-item\"><div class=\"sk-estimator sk-toggleable\"><input class=\"sk-toggleable__control sk-hidden--visually\" id=\"sk-estimator-id-1\" type=\"checkbox\" checked><label for=\"sk-estimator-id-1\" class=\"sk-toggleable__label sk-toggleable__label-arrow\">RandomForestClassifier</label><div class=\"sk-toggleable__content\"><pre>RandomForestClassifier(random_state=42)</pre></div></div></div></div></div>"
      ],
      "text/plain": [
       "RandomForestClassifier(random_state=42)"
      ]
     },
     "execution_count": 10,
     "metadata": {},
     "output_type": "execute_result"
    }
   ],
   "source": [
    "from sklearn.ensemble import RandomForestClassifier\n",
    "\n",
    "\n",
    "# Load data\n",
    "train_data = split['train']\n",
    "X_train, y_train = prepare_data(train_data)\n",
    "\n",
    "\n",
    "# Initialize and train the model\n",
    "model = RandomForestClassifier(random_state=42)\n",
    "model.fit(X_train, y_train)\n",
    "\n"
   ]
  },
  {
   "cell_type": "code",
   "execution_count": 11,
   "id": "233c6431-2e36-4e18-b47c-029899aeaa6a",
   "metadata": {
    "execution": {
     "iopub.execute_input": "2024-04-24T02:53:41.103265Z",
     "iopub.status.busy": "2024-04-24T02:53:41.102947Z",
     "iopub.status.idle": "2024-04-24T02:53:41.309343Z",
     "shell.execute_reply": "2024-04-24T02:53:41.308752Z",
     "shell.execute_reply.started": "2024-04-24T02:53:41.103247Z"
    },
    "tags": []
   },
   "outputs": [
    {
     "data": {
      "text/plain": [
       "1024"
      ]
     },
     "execution_count": 11,
     "metadata": {},
     "output_type": "execute_result"
    }
   ],
   "source": [
    "len(X_train[0])"
   ]
  },
  {
   "cell_type": "markdown",
   "id": "1c1d2a57-8c0c-4abc-ab73-4147224e4903",
   "metadata": {
    "execution": {
     "iopub.execute_input": "2024-04-19T02:28:58.937521Z",
     "iopub.status.busy": "2024-04-19T02:28:58.937204Z",
     "iopub.status.idle": "2024-04-19T02:28:58.954787Z",
     "shell.execute_reply": "2024-04-19T02:28:58.954378Z",
     "shell.execute_reply.started": "2024-04-19T02:28:58.937500Z"
    },
    "tags": []
   },
   "source": [
    "# Evaluation on internal test data"
   ]
  },
  {
   "cell_type": "code",
   "execution_count": 12,
   "id": "00573373-3ce6-4f2c-aaee-6340fb3721ad",
   "metadata": {
    "execution": {
     "iopub.execute_input": "2024-04-24T02:53:44.911077Z",
     "iopub.status.busy": "2024-04-24T02:53:44.910804Z",
     "iopub.status.idle": "2024-04-24T02:53:48.580939Z",
     "shell.execute_reply": "2024-04-24T02:53:48.580481Z",
     "shell.execute_reply.started": "2024-04-24T02:53:44.911059Z"
    },
    "tags": []
   },
   "outputs": [
    {
     "name": "stdout",
     "output_type": "stream",
     "text": [
      "Accuracy: 0.7869888475836431\n",
      "ROC AUC Score: 0.7866272534819189\n",
      "Precision: 0.7987321711568938\n",
      "Recall: 0.7596081386586285\n",
      "F1 Score: 0.7786790266512167\n",
      "Matthews Correlation Coefficient: 0.5742977119801898\n",
      "Specificity (Negative Prediction Accuracy): 0.8136463683052091\n"
     ]
    }
   ],
   "source": [
    "from evaluate import eval\n",
    "\n",
    "# Evaluate the model\n",
    "test_data = split['test'] \n",
    "X_test, y_test = prepare_data(test_data)\n",
    "y_pred = model.predict(X_test)\n",
    "eval(y_test, y_pred)"
   ]
  },
  {
   "cell_type": "code",
   "execution_count": null,
   "id": "398967b0-31c7-461a-96f9-2538288bc37f",
   "metadata": {},
   "outputs": [],
   "source": []
  },
  {
   "cell_type": "markdown",
   "id": "dcfac1d1-7402-469d-9cde-e964225deec8",
   "metadata": {},
   "source": [
    "# Evaluation on external data"
   ]
  },
  {
   "cell_type": "code",
   "execution_count": 13,
   "id": "e8c62a96-69f5-49d4-b453-4fb0a045f893",
   "metadata": {
    "execution": {
     "iopub.execute_input": "2024-04-24T02:53:59.653456Z",
     "iopub.status.busy": "2024-04-24T02:53:59.653193Z",
     "iopub.status.idle": "2024-04-24T02:54:00.693864Z",
     "shell.execute_reply": "2024-04-24T02:54:00.693403Z",
     "shell.execute_reply.started": "2024-04-24T02:53:59.653438Z"
    },
    "tags": []
   },
   "outputs": [
    {
     "name": "stdout",
     "output_type": "stream",
     "text": [
      "\n",
      "= = = Experiment on pos = = =\n",
      "Accuracy: 0.8863636363636364\n",
      "ROC AUC Score: 0.8976190476190476\n",
      "Precision: 0.9629629629629629\n",
      "Recall: 0.8666666666666667\n",
      "F1 Score: 0.912280701754386\n",
      "Matthews Correlation Coefficient: 0.7607036127908976\n",
      "Specificity (Negative Prediction Accuracy): 0.9285714285714286\n",
      "\n",
      "= = = Experiment on neg = = =\n",
      "Accuracy: 0.9512195121951219\n",
      "ROC AUC Score: 0.9378787878787879\n",
      "Precision: 0.9090909090909091\n",
      "Recall: 0.9090909090909091\n",
      "F1 Score: 0.9090909090909091\n",
      "Matthews Correlation Coefficient: 0.8757575757575757\n",
      "Specificity (Negative Prediction Accuracy): 0.9666666666666667\n",
      "\n",
      "= = = Experiment on new = = =\n",
      "Accuracy: 0.9689189189189189\n",
      "ROC AUC Score: 0.9417180469921678\n",
      "Precision: 0.6078431372549019\n",
      "Recall: 0.9117647058823529\n",
      "F1 Score: 0.7294117647058823\n",
      "Matthews Correlation Coefficient: 0.7301670806408677\n",
      "Specificity (Negative Prediction Accuracy): 0.9716713881019831\n"
     ]
    }
   ],
   "source": [
    "for i, curr_data in enumerate(ext_data):\n",
    "    curr_X, curr_y = prepare_data(curr_data)\n",
    "    curr_pred = model.predict(curr_X)\n",
    "    print(f\"\\n= = = Experiment on {ext_data_keys[i]} = = =\")\n",
    "    eval(curr_y, curr_pred)\n"
   ]
  },
  {
   "cell_type": "code",
   "execution_count": null,
   "id": "b02d250f-9b7e-42aa-a71b-99c2cb266fe9",
   "metadata": {},
   "outputs": [],
   "source": []
  },
  {
   "cell_type": "markdown",
   "id": "4753deb7-c202-4031-9282-d96c2e859590",
   "metadata": {},
   "source": [
    "# Simple Neural Network model"
   ]
  },
  {
   "cell_type": "code",
   "execution_count": 14,
   "id": "7c2dec08-b00b-4a8a-8fd1-cb20a901d419",
   "metadata": {
    "execution": {
     "iopub.execute_input": "2024-04-24T02:54:07.850886Z",
     "iopub.status.busy": "2024-04-24T02:54:07.850554Z",
     "iopub.status.idle": "2024-04-24T02:54:08.446905Z",
     "shell.execute_reply": "2024-04-24T02:54:08.446408Z",
     "shell.execute_reply.started": "2024-04-24T02:54:07.850867Z"
    },
    "tags": []
   },
   "outputs": [],
   "source": [
    "import torch\n",
    "\n",
    "X_train = torch.tensor(X_train, dtype=torch.float32)  # Convert features to a float Tensor\n",
    "y_train = torch.tensor(y_train, dtype=torch.float32)  # Convert labels to a float Tensor\n",
    "\n",
    "# Ensure labels y_train is the right shape (e.g., for BCELoss, you might need to ensure it's two-dimensional if there are two outputs)\n",
    "y_train = y_train.unsqueeze(1)  # Only do this if necessary"
   ]
  },
  {
   "cell_type": "markdown",
   "id": "5d9be36c-4ab1-4ec2-983b-09044cac28eb",
   "metadata": {},
   "source": [
    " # SimpleNN: Define the model"
   ]
  },
  {
   "cell_type": "code",
   "execution_count": 15,
   "id": "2d89940d-799b-4c0e-a66c-bfbac6e70d99",
   "metadata": {
    "execution": {
     "iopub.execute_input": "2024-04-24T02:54:19.653045Z",
     "iopub.status.busy": "2024-04-24T02:54:19.652821Z",
     "iopub.status.idle": "2024-04-24T02:54:19.694074Z",
     "shell.execute_reply": "2024-04-24T02:54:19.693654Z",
     "shell.execute_reply.started": "2024-04-24T02:54:19.653029Z"
    },
    "tags": []
   },
   "outputs": [],
   "source": [
    "import torch\n",
    "import torch.nn as nn\n",
    "import torch.optim as optim\n",
    "\n",
    "class SimpleNN(nn.Module):\n",
    "    def __init__(self):\n",
    "        super(SimpleNN, self).__init__()\n",
    "        self.layers = nn.Sequential(\n",
    "            nn.Linear(1024, 64),  # Assuming input features size of 1024\n",
    "            nn.ReLU(),\n",
    "            nn.Linear(64, 64),\n",
    "            nn.ReLU(),\n",
    "            nn.Linear(64, 1),  # binary classification\n",
    "            nn.Sigmoid()\n",
    "        )\n",
    "\n",
    "    def forward(self, x):\n",
    "        return self.layers(x)\n"
   ]
  },
  {
   "cell_type": "markdown",
   "id": "3d11b4eb-5cd8-4e55-992f-10142a75e621",
   "metadata": {},
   "source": [
    "# SimpleNN: Define loss"
   ]
  },
  {
   "cell_type": "code",
   "execution_count": 16,
   "id": "46600d55-5db6-4a76-a0db-14313d53b7ce",
   "metadata": {
    "execution": {
     "iopub.execute_input": "2024-04-24T02:54:21.652051Z",
     "iopub.status.busy": "2024-04-24T02:54:21.651831Z",
     "iopub.status.idle": "2024-04-24T02:54:21.683640Z",
     "shell.execute_reply": "2024-04-24T02:54:21.683258Z",
     "shell.execute_reply.started": "2024-04-24T02:54:21.652035Z"
    },
    "tags": []
   },
   "outputs": [],
   "source": [
    "\n",
    "def loss_func(outputs, targets):\n",
    "    criterion = nn.BCELoss()\n",
    "    classical_loss = criterion(outputs.squeeze(), targets.squeeze())\n",
    "    \n",
    "    return classical_loss "
   ]
  },
  {
   "cell_type": "markdown",
   "id": "5ad8408e-d442-481c-a709-1d6732dac521",
   "metadata": {},
   "source": [
    "# SimpleNN: Training"
   ]
  },
  {
   "cell_type": "code",
   "execution_count": 17,
   "id": "ea51a954-cc86-4f42-b6e8-0a1bd6fdf215",
   "metadata": {
    "execution": {
     "iopub.execute_input": "2024-04-24T02:54:22.653320Z",
     "iopub.status.busy": "2024-04-24T02:54:22.653099Z",
     "iopub.status.idle": "2024-04-24T02:54:31.157619Z",
     "shell.execute_reply": "2024-04-24T02:54:31.157014Z",
     "shell.execute_reply.started": "2024-04-24T02:54:22.653305Z"
    },
    "tags": []
   },
   "outputs": [
    {
     "name": "stdout",
     "output_type": "stream",
     "text": [
      "Epoch 1, Loss: 0.6934173107147217\n",
      "Epoch 2, Loss: 0.6904600858688354\n",
      "Epoch 3, Loss: 0.6873294115066528\n",
      "Epoch 4, Loss: 0.6836516261100769\n",
      "Epoch 5, Loss: 0.6793453693389893\n",
      "Epoch 6, Loss: 0.674399733543396\n",
      "Epoch 7, Loss: 0.668793261051178\n",
      "Epoch 8, Loss: 0.6625377535820007\n",
      "Epoch 9, Loss: 0.655633807182312\n",
      "Epoch 10, Loss: 0.6481469869613647\n",
      "Epoch 11, Loss: 0.6400987505912781\n",
      "Epoch 12, Loss: 0.6315475106239319\n",
      "Epoch 13, Loss: 0.6225675940513611\n",
      "Epoch 14, Loss: 0.6132341623306274\n",
      "Epoch 15, Loss: 0.603652834892273\n",
      "Epoch 16, Loss: 0.5939196944236755\n",
      "Epoch 17, Loss: 0.5841390490531921\n",
      "Epoch 18, Loss: 0.5744523406028748\n",
      "Epoch 19, Loss: 0.5649882555007935\n",
      "Epoch 20, Loss: 0.5558557510375977\n",
      "Epoch 21, Loss: 0.5471107959747314\n",
      "Epoch 22, Loss: 0.5387974977493286\n",
      "Epoch 23, Loss: 0.5309232473373413\n",
      "Epoch 24, Loss: 0.5234573483467102\n",
      "Epoch 25, Loss: 0.5163815021514893\n",
      "Epoch 26, Loss: 0.5096173882484436\n",
      "Epoch 27, Loss: 0.5031060576438904\n",
      "Epoch 28, Loss: 0.4968242347240448\n",
      "Epoch 29, Loss: 0.4907437860965729\n",
      "Epoch 30, Loss: 0.4848586618900299\n",
      "Epoch 31, Loss: 0.47918084263801575\n",
      "Epoch 32, Loss: 0.4737028479576111\n",
      "Epoch 33, Loss: 0.4684255123138428\n",
      "Epoch 34, Loss: 0.46332189440727234\n",
      "Epoch 35, Loss: 0.45838692784309387\n",
      "Epoch 36, Loss: 0.4535980820655823\n",
      "Epoch 37, Loss: 0.4489322900772095\n",
      "Epoch 38, Loss: 0.4443662762641907\n",
      "Epoch 39, Loss: 0.4398634135723114\n",
      "Epoch 40, Loss: 0.4354077875614166\n",
      "Epoch 41, Loss: 0.4309980273246765\n",
      "Epoch 42, Loss: 0.4266427457332611\n",
      "Epoch 43, Loss: 0.42235544323921204\n",
      "Epoch 44, Loss: 0.4181368052959442\n",
      "Epoch 45, Loss: 0.41398921608924866\n",
      "Epoch 46, Loss: 0.409893661737442\n",
      "Epoch 47, Loss: 0.4058498740196228\n",
      "Epoch 48, Loss: 0.40184661746025085\n",
      "Epoch 49, Loss: 0.3978799283504486\n",
      "Epoch 50, Loss: 0.39393725991249084\n",
      "Epoch 51, Loss: 0.390007346868515\n",
      "Epoch 52, Loss: 0.3860912024974823\n",
      "Epoch 53, Loss: 0.38217130303382874\n",
      "Epoch 54, Loss: 0.37824109196662903\n",
      "Epoch 55, Loss: 0.37428611516952515\n",
      "Epoch 56, Loss: 0.3703000247478485\n",
      "Epoch 57, Loss: 0.3662647008895874\n",
      "Epoch 58, Loss: 0.36219319701194763\n",
      "Epoch 59, Loss: 0.35810586810112\n",
      "Epoch 60, Loss: 0.3539741337299347\n",
      "Epoch 61, Loss: 0.3497776985168457\n",
      "Epoch 62, Loss: 0.34551867842674255\n",
      "Epoch 63, Loss: 0.341189980506897\n",
      "Epoch 64, Loss: 0.3368159532546997\n",
      "Epoch 65, Loss: 0.33245357871055603\n",
      "Epoch 66, Loss: 0.32826220989227295\n",
      "Epoch 67, Loss: 0.3242659568786621\n",
      "Epoch 68, Loss: 0.32001781463623047\n",
      "Epoch 69, Loss: 0.31507596373558044\n",
      "Epoch 70, Loss: 0.31074705719947815\n",
      "Epoch 71, Loss: 0.30679523944854736\n",
      "Epoch 72, Loss: 0.3020424544811249\n",
      "Epoch 73, Loss: 0.29742926359176636\n",
      "Epoch 74, Loss: 0.2933220863342285\n",
      "Epoch 75, Loss: 0.2887004613876343\n",
      "Epoch 76, Loss: 0.2839784324169159\n",
      "Epoch 77, Loss: 0.2797206938266754\n",
      "Epoch 78, Loss: 0.27522188425064087\n",
      "Epoch 79, Loss: 0.27042654156684875\n",
      "Epoch 80, Loss: 0.2659406363964081\n",
      "Epoch 81, Loss: 0.26153045892715454\n",
      "Epoch 82, Loss: 0.25680768489837646\n",
      "Epoch 83, Loss: 0.2520635724067688\n",
      "Epoch 84, Loss: 0.24754764139652252\n",
      "Epoch 85, Loss: 0.24300062656402588\n",
      "Epoch 86, Loss: 0.23825930058956146\n",
      "Epoch 87, Loss: 0.23352956771850586\n",
      "Epoch 88, Loss: 0.2289470136165619\n",
      "Epoch 89, Loss: 0.22441914677619934\n",
      "Epoch 90, Loss: 0.21981604397296906\n",
      "Epoch 91, Loss: 0.21511760354042053\n",
      "Epoch 92, Loss: 0.2104283571243286\n",
      "Epoch 93, Loss: 0.2058297097682953\n",
      "Epoch 94, Loss: 0.20130205154418945\n",
      "Epoch 95, Loss: 0.19681315124034882\n",
      "Epoch 96, Loss: 0.19235914945602417\n",
      "Epoch 97, Loss: 0.1879471242427826\n",
      "Epoch 98, Loss: 0.18353025615215302\n",
      "Epoch 99, Loss: 0.1791343092918396\n",
      "Epoch 100, Loss: 0.17475999891757965\n",
      "Epoch 101, Loss: 0.17042912542819977\n",
      "Epoch 102, Loss: 0.16617216169834137\n",
      "Epoch 103, Loss: 0.161988765001297\n",
      "Epoch 104, Loss: 0.15787257254123688\n",
      "Epoch 105, Loss: 0.15382438898086548\n",
      "Epoch 106, Loss: 0.14983806014060974\n",
      "Epoch 107, Loss: 0.1459134966135025\n",
      "Epoch 108, Loss: 0.1420622617006302\n",
      "Epoch 109, Loss: 0.13835075497627258\n",
      "Epoch 110, Loss: 0.13493411242961884\n",
      "Epoch 111, Loss: 0.13210155069828033\n",
      "Epoch 112, Loss: 0.12969312071800232\n",
      "Epoch 113, Loss: 0.12600715458393097\n",
      "Epoch 114, Loss: 0.12112536281347275\n",
      "Epoch 115, Loss: 0.11829777806997299\n",
      "Epoch 116, Loss: 0.11629605293273926\n",
      "Epoch 117, Loss: 0.1123475730419159\n",
      "Epoch 118, Loss: 0.10903585702180862\n",
      "Epoch 119, Loss: 0.10718188434839249\n",
      "Epoch 120, Loss: 0.10398798435926437\n",
      "Epoch 121, Loss: 0.10080061107873917\n",
      "Epoch 122, Loss: 0.09891553968191147\n",
      "Epoch 123, Loss: 0.09615800529718399\n",
      "Epoch 124, Loss: 0.09327670931816101\n",
      "Epoch 125, Loss: 0.09141276031732559\n",
      "Epoch 126, Loss: 0.08896944671869278\n",
      "Epoch 127, Loss: 0.08633966743946075\n",
      "Epoch 128, Loss: 0.08450630307197571\n",
      "Epoch 129, Loss: 0.08233862370252609\n",
      "Epoch 130, Loss: 0.07994392514228821\n",
      "Epoch 131, Loss: 0.0781688317656517\n",
      "Epoch 132, Loss: 0.07622649520635605\n",
      "Epoch 133, Loss: 0.07404839992523193\n",
      "Epoch 134, Loss: 0.0723448395729065\n",
      "Epoch 135, Loss: 0.07060892879962921\n",
      "Epoch 136, Loss: 0.06863410025835037\n",
      "Epoch 137, Loss: 0.06700121611356735\n",
      "Epoch 138, Loss: 0.06544703990221024\n",
      "Epoch 139, Loss: 0.06367681920528412\n",
      "Epoch 140, Loss: 0.06212638318538666\n",
      "Epoch 141, Loss: 0.060720790177583694\n",
      "Epoch 142, Loss: 0.05915873497724533\n",
      "Epoch 143, Loss: 0.057709697633981705\n",
      "Epoch 144, Loss: 0.056423138827085495\n",
      "Epoch 145, Loss: 0.055046454071998596\n",
      "Epoch 146, Loss: 0.05369904637336731\n",
      "Epoch 147, Loss: 0.05250607430934906\n",
      "Epoch 148, Loss: 0.051293838769197464\n",
      "Epoch 149, Loss: 0.05006853863596916\n",
      "Epoch 150, Loss: 0.04895443469285965\n",
      "Epoch 151, Loss: 0.047876324504613876\n",
      "Epoch 152, Loss: 0.04678088054060936\n",
      "Epoch 153, Loss: 0.045748867094516754\n",
      "Epoch 154, Loss: 0.04477285221219063\n",
      "Epoch 155, Loss: 0.043794821947813034\n",
      "Epoch 156, Loss: 0.042846303433179855\n",
      "Epoch 157, Loss: 0.04195472225546837\n",
      "Epoch 158, Loss: 0.04107893630862236\n",
      "Epoch 159, Loss: 0.04021656885743141\n",
      "Epoch 160, Loss: 0.039396096020936966\n",
      "Epoch 161, Loss: 0.038608212023973465\n",
      "Epoch 162, Loss: 0.03783566877245903\n",
      "Epoch 163, Loss: 0.037088893353939056\n",
      "Epoch 164, Loss: 0.036378536373376846\n",
      "Epoch 165, Loss: 0.03568854182958603\n",
      "Epoch 166, Loss: 0.0350155308842659\n",
      "Epoch 167, Loss: 0.03437031805515289\n",
      "Epoch 168, Loss: 0.03374580666422844\n",
      "Epoch 169, Loss: 0.03313858062028885\n",
      "Epoch 170, Loss: 0.03255051001906395\n",
      "Epoch 171, Loss: 0.03198352828621864\n",
      "Epoch 172, Loss: 0.03143490478396416\n",
      "Epoch 173, Loss: 0.030902450904250145\n",
      "Epoch 174, Loss: 0.030388234183192253\n",
      "Epoch 175, Loss: 0.02989066205918789\n",
      "Epoch 176, Loss: 0.029407093301415443\n",
      "Epoch 177, Loss: 0.028937609866261482\n",
      "Epoch 178, Loss: 0.028484025970101357\n",
      "Epoch 179, Loss: 0.02804437093436718\n",
      "Epoch 180, Loss: 0.02761976607143879\n",
      "Epoch 181, Loss: 0.027207819744944572\n",
      "Epoch 182, Loss: 0.026809988543391228\n",
      "Epoch 183, Loss: 0.026424774900078773\n",
      "Epoch 184, Loss: 0.026051398366689682\n",
      "Epoch 185, Loss: 0.02568882703781128\n",
      "Epoch 186, Loss: 0.025337450206279755\n",
      "Epoch 187, Loss: 0.024996085092425346\n",
      "Epoch 188, Loss: 0.024665331467986107\n",
      "Epoch 189, Loss: 0.024345919489860535\n",
      "Epoch 190, Loss: 0.024035029113292694\n",
      "Epoch 191, Loss: 0.023733876645565033\n",
      "Epoch 192, Loss: 0.023440856486558914\n",
      "Epoch 193, Loss: 0.023156965151429176\n",
      "Epoch 194, Loss: 0.022881124168634415\n",
      "Epoch 195, Loss: 0.022613130509853363\n",
      "Epoch 196, Loss: 0.02235252596437931\n",
      "Epoch 197, Loss: 0.022098995745182037\n",
      "Epoch 198, Loss: 0.021853407844901085\n",
      "Epoch 199, Loss: 0.021614044904708862\n",
      "Epoch 200, Loss: 0.021380724385380745\n"
     ]
    }
   ],
   "source": [
    "# Assuming X_train and y_train are your datasets loaded as Tensor objects\n",
    "model = SimpleNN()\n",
    "optimizer = optim.Adam(model.parameters(), lr=0.001)\n",
    "\n",
    "\n",
    "# Training loop\n",
    "epoch_n = 200\n",
    "model.train()\n",
    "for epoch in range(epoch_n):\n",
    "    optimizer.zero_grad()\n",
    "    outputs = model(X_train)  # Make sure X_train is a tensor\n",
    "    loss = loss_func(outputs, y_train)  # Ensure y_train is appropriately shaped\n",
    "    loss.backward()\n",
    "    optimizer.step()\n",
    "\n",
    "    print(f\"Epoch {epoch+1}, Loss: {loss.item()}\")\n",
    "    "
   ]
  },
  {
   "cell_type": "code",
   "execution_count": null,
   "id": "3a1ad93c-038a-463f-8b1d-71936f91eae0",
   "metadata": {},
   "outputs": [],
   "source": []
  },
  {
   "cell_type": "markdown",
   "id": "96b6d8ec-5c4c-4a29-9753-034b319c8a65",
   "metadata": {},
   "source": [
    "# SimpleNN: Internal Testing"
   ]
  },
  {
   "cell_type": "code",
   "execution_count": 18,
   "id": "5c527ec6-d506-46ef-aaa8-5becc3ee7e93",
   "metadata": {
    "execution": {
     "iopub.execute_input": "2024-04-24T02:54:38.704844Z",
     "iopub.status.busy": "2024-04-24T02:54:38.704524Z",
     "iopub.status.idle": "2024-04-24T02:54:38.910794Z",
     "shell.execute_reply": "2024-04-24T02:54:38.910308Z",
     "shell.execute_reply.started": "2024-04-24T02:54:38.704826Z"
    },
    "tags": []
   },
   "outputs": [],
   "source": [
    "# Assuming X_test and y_test are already loaded and are numpy arrays or lists\n",
    "X_test = torch.tensor(X_test, dtype=torch.float32)  # Convert to tensor\n",
    "# Ensure y_test is also a tensor if you have it and will evaluate metrics\n",
    "y_test = torch.tensor(y_test, dtype=torch.float32).unsqueeze(1)  # Convert to tensor and ensure correct shape\n"
   ]
  },
  {
   "cell_type": "code",
   "execution_count": 19,
   "id": "c27b2c8a-15ec-4566-bb7a-e33994558aba",
   "metadata": {
    "execution": {
     "iopub.execute_input": "2024-04-24T02:54:50.654133Z",
     "iopub.status.busy": "2024-04-24T02:54:50.653796Z",
     "iopub.status.idle": "2024-04-24T02:54:51.573877Z",
     "shell.execute_reply": "2024-04-24T02:54:51.573415Z",
     "shell.execute_reply.started": "2024-04-24T02:54:50.654110Z"
    },
    "tags": []
   },
   "outputs": [],
   "source": [
    "# Set model to evaluation mode\n",
    "model.eval()\n",
    "\n",
    "# Disable gradient computation for testing (saves memory and computations)\n",
    "with torch.no_grad():\n",
    "    outputs = model(X_test)\n"
   ]
  },
  {
   "cell_type": "code",
   "execution_count": 20,
   "id": "09025b8a-45af-474a-a121-91c96c0b9afa",
   "metadata": {
    "execution": {
     "iopub.execute_input": "2024-04-24T02:54:52.858200Z",
     "iopub.status.busy": "2024-04-24T02:54:52.857992Z",
     "iopub.status.idle": "2024-04-24T02:54:52.905916Z",
     "shell.execute_reply": "2024-04-24T02:54:52.905533Z",
     "shell.execute_reply.started": "2024-04-24T02:54:52.858183Z"
    },
    "tags": []
   },
   "outputs": [
    {
     "name": "stdout",
     "output_type": "stream",
     "text": [
      "Accuracy: 0.7535315985130111\n",
      "ROC AUC Score: 0.753532231142682\n",
      "Precision: 0.7485029940119761\n",
      "Recall: 0.7535795026375283\n",
      "F1 Score: 0.7510326699211416\n",
      "Matthews Correlation Coefficient: 0.5070304035188641\n",
      "Specificity (Negative Prediction Accuracy): 0.7534849596478357\n"
     ]
    }
   ],
   "source": [
    "# Convert outputs to predicted classes\n",
    "# For binary classification with a single output unit\n",
    "predictions = (outputs > 0.5).float()  # Threshold probabilities to classify as 1 or 0\n",
    "\n",
    "# Since you cannot use sklearn directly with tensors, you need to move data back to CPU and convert to numpy\n",
    "predictions = predictions.cpu().numpy()\n",
    "y_test = y_test.cpu().numpy()\n",
    "\n",
    "eval(y_test, predictions)"
   ]
  },
  {
   "cell_type": "code",
   "execution_count": null,
   "id": "4d63dd5d-0a4d-4049-9e3a-06493de595bf",
   "metadata": {},
   "outputs": [],
   "source": []
  },
  {
   "cell_type": "code",
   "execution_count": null,
   "id": "94e60a8d-03b3-45e9-bd98-a1b1e80eda36",
   "metadata": {},
   "outputs": [],
   "source": []
  },
  {
   "cell_type": "code",
   "execution_count": null,
   "id": "83d007c8-73d4-40b3-8626-787f9fac70f8",
   "metadata": {},
   "outputs": [],
   "source": []
  },
  {
   "cell_type": "code",
   "execution_count": null,
   "id": "0de3c1b7-5a04-4eea-a5ce-87da86c45e80",
   "metadata": {},
   "outputs": [],
   "source": []
  }
 ],
 "metadata": {
  "kernelspec": {
   "display_name": "herg",
   "language": "python",
   "name": "herg"
  },
  "language_info": {
   "codemirror_mode": {
    "name": "ipython",
    "version": 3
   },
   "file_extension": ".py",
   "mimetype": "text/x-python",
   "name": "python",
   "nbconvert_exporter": "python",
   "pygments_lexer": "ipython3",
   "version": "3.9.19"
  }
 },
 "nbformat": 4,
 "nbformat_minor": 5
}
