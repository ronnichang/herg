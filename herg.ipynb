{
 "cells": [
  {
   "cell_type": "code",
   "execution_count": 38,
   "id": "e0fc9b99-2c6c-47a2-933d-37adad598f2d",
   "metadata": {
    "execution": {
     "iopub.execute_input": "2024-05-01T20:29:52.284614Z",
     "iopub.status.busy": "2024-05-01T20:29:52.284358Z",
     "iopub.status.idle": "2024-05-01T20:29:52.326128Z",
     "shell.execute_reply": "2024-05-01T20:29:52.325729Z",
     "shell.execute_reply.started": "2024-05-01T20:29:52.284596Z"
    },
    "tags": []
   },
   "outputs": [
    {
     "name": "stdout",
     "output_type": "stream",
     "text": [
      "The autoreload extension is already loaded. To reload it, use:\n",
      "  %reload_ext autoreload\n"
     ]
    }
   ],
   "source": [
    "%load_ext autoreload\n",
    "%autoreload 2\n",
    "%matplotlib inline\n",
    "\n",
    "# Import necessary libraries\n",
    "import sys\n",
    "from pathlib import Path\n",
    "# Ensure the src directory is accessible\n",
    "sys.path.append('./src')"
   ]
  },
  {
   "cell_type": "markdown",
   "id": "b08a15c7-5bad-4ccc-a1cf-ecbbce188a9e",
   "metadata": {},
   "source": [
    "# Get data"
   ]
  },
  {
   "cell_type": "code",
   "execution_count": 48,
   "id": "b5c49c88-0141-411f-bd39-fdeabcc8bf4c",
   "metadata": {
    "execution": {
     "iopub.execute_input": "2024-05-01T20:31:37.265826Z",
     "iopub.status.busy": "2024-05-01T20:31:37.265470Z",
     "iopub.status.idle": "2024-05-01T20:31:43.029728Z",
     "shell.execute_reply": "2024-05-01T20:31:43.029291Z",
     "shell.execute_reply.started": "2024-05-01T20:31:37.265808Z"
    },
    "tags": []
   },
   "outputs": [
    {
     "name": "stderr",
     "output_type": "stream",
     "text": [
      "Found local copy...\n",
      "Loading...\n",
      "Done!\n",
      "100%|██████████| 13445/13445 [00:05<00:00, 2362.29it/s]"
     ]
    },
    {
     "name": "stdout",
     "output_type": "stream",
     "text": [
      "Data loaded and split successfully.\n",
      "Train data samples: 9411\n",
      "Validation data samples: 1344\n",
      "Test data samples: 2690\n"
     ]
    },
    {
     "name": "stderr",
     "output_type": "stream",
     "text": [
      "\n"
     ]
    }
   ],
   "source": [
    "from get_data import get_data\n",
    "data_split, ext_data = get_data()"
   ]
  },
  {
   "cell_type": "markdown",
   "id": "4c4cdc71-a9e4-4757-85b3-8701b11f7e58",
   "metadata": {},
   "source": [
    "# check data"
   ]
  },
  {
   "cell_type": "code",
   "execution_count": 49,
   "id": "43e06b35-37f2-4df1-a7fb-170cb3359861",
   "metadata": {
    "execution": {
     "iopub.execute_input": "2024-05-01T20:31:51.288119Z",
     "iopub.status.busy": "2024-05-01T20:31:51.287809Z",
     "iopub.status.idle": "2024-05-01T20:31:52.422068Z",
     "shell.execute_reply": "2024-05-01T20:31:52.421566Z",
     "shell.execute_reply.started": "2024-05-01T20:31:51.288096Z"
    },
    "tags": []
   },
   "outputs": [
    {
     "data": {
      "text/html": [
       "<div>\n",
       "<style scoped>\n",
       "    .dataframe tbody tr th:only-of-type {\n",
       "        vertical-align: middle;\n",
       "    }\n",
       "\n",
       "    .dataframe tbody tr th {\n",
       "        vertical-align: top;\n",
       "    }\n",
       "\n",
       "    .dataframe thead th {\n",
       "        text-align: right;\n",
       "    }\n",
       "</style>\n",
       "<table border=\"1\" class=\"dataframe\">\n",
       "  <thead>\n",
       "    <tr style=\"text-align: right;\">\n",
       "      <th></th>\n",
       "      <th>Drug_ID</th>\n",
       "      <th>Drug</th>\n",
       "      <th>Y</th>\n",
       "    </tr>\n",
       "  </thead>\n",
       "  <tbody>\n",
       "    <tr>\n",
       "      <th>0</th>\n",
       "      <td>8640</td>\n",
       "      <td>O=C1NCCN1CC[N+]1CCC(c2cn(C3CCCCC3)c3ccc(Cl)cc2...</td>\n",
       "      <td>0</td>\n",
       "    </tr>\n",
       "    <tr>\n",
       "      <th>1</th>\n",
       "      <td>11377</td>\n",
       "      <td>O=C(Cc1ccc(-n2cnnn2)cc1)N1CCN(CCc2ccc3nonc3c2)CC1</td>\n",
       "      <td>1</td>\n",
       "    </tr>\n",
       "    <tr>\n",
       "      <th>2</th>\n",
       "      <td>1461</td>\n",
       "      <td>NC(=O)c1ncc(N[C@@H]2CCCC[C@@H]2N)cc1Nc1cccc(C(...</td>\n",
       "      <td>1</td>\n",
       "    </tr>\n",
       "    <tr>\n",
       "      <th>3</th>\n",
       "      <td>6646</td>\n",
       "      <td>Cc1cc(C)nc(Nc2cc(N[C@@H]3CCCC[C@@H]3N)cnc2C(N)...</td>\n",
       "      <td>1</td>\n",
       "    </tr>\n",
       "    <tr>\n",
       "      <th>4</th>\n",
       "      <td>379</td>\n",
       "      <td>COc1cc(C)nc(Nc2cc(N[C@@H]3CCCC[C@@H]3N)cnc2C(N...</td>\n",
       "      <td>1</td>\n",
       "    </tr>\n",
       "    <tr>\n",
       "      <th>5</th>\n",
       "      <td>10556</td>\n",
       "      <td>Cc1cc(CC(C)(C)O)cc(Nc2cc(N[C@@H]3CCCC[C@@H]3N)...</td>\n",
       "      <td>1</td>\n",
       "    </tr>\n",
       "    <tr>\n",
       "      <th>6</th>\n",
       "      <td>4542</td>\n",
       "      <td>Cc1cc(C(C)(C)O)cc(Nc2cc(N[C@@H]3CCCC[C@@H]3N)c...</td>\n",
       "      <td>1</td>\n",
       "    </tr>\n",
       "    <tr>\n",
       "      <th>7</th>\n",
       "      <td>9102</td>\n",
       "      <td>Cc1cccnc1CN1CCC2(CC1)C(=O)N(c1ccc(-c3ccc4scnc4...</td>\n",
       "      <td>1</td>\n",
       "    </tr>\n",
       "    <tr>\n",
       "      <th>8</th>\n",
       "      <td>4564</td>\n",
       "      <td>O=S1(=O)CCC(COc2ccc3c(c2)CCC2(CCN(C4CCC4)CC2)O...</td>\n",
       "      <td>0</td>\n",
       "    </tr>\n",
       "    <tr>\n",
       "      <th>9</th>\n",
       "      <td>12933</td>\n",
       "      <td>N#C[C@@H]1C[C@@H]2C[C@@H]2N1C(=O)[C@@H](N)C12C...</td>\n",
       "      <td>0</td>\n",
       "    </tr>\n",
       "  </tbody>\n",
       "</table>\n",
       "</div>"
      ],
      "text/plain": [
       "   Drug_ID                                               Drug  Y\n",
       "0     8640  O=C1NCCN1CC[N+]1CCC(c2cn(C3CCCCC3)c3ccc(Cl)cc2...  0\n",
       "1    11377  O=C(Cc1ccc(-n2cnnn2)cc1)N1CCN(CCc2ccc3nonc3c2)CC1  1\n",
       "2     1461  NC(=O)c1ncc(N[C@@H]2CCCC[C@@H]2N)cc1Nc1cccc(C(...  1\n",
       "3     6646  Cc1cc(C)nc(Nc2cc(N[C@@H]3CCCC[C@@H]3N)cnc2C(N)...  1\n",
       "4      379  COc1cc(C)nc(Nc2cc(N[C@@H]3CCCC[C@@H]3N)cnc2C(N...  1\n",
       "5    10556  Cc1cc(CC(C)(C)O)cc(Nc2cc(N[C@@H]3CCCC[C@@H]3N)...  1\n",
       "6     4542  Cc1cc(C(C)(C)O)cc(Nc2cc(N[C@@H]3CCCC[C@@H]3N)c...  1\n",
       "7     9102  Cc1cccnc1CN1CCC2(CC1)C(=O)N(c1ccc(-c3ccc4scnc4...  1\n",
       "8     4564  O=S1(=O)CCC(COc2ccc3c(c2)CCC2(CCN(C4CCC4)CC2)O...  0\n",
       "9    12933  N#C[C@@H]1C[C@@H]2C[C@@H]2N1C(=O)[C@@H](N)C12C...  0"
      ]
     },
     "execution_count": 49,
     "metadata": {},
     "output_type": "execute_result"
    }
   ],
   "source": [
    "data_split['train'].head(10)"
   ]
  },
  {
   "cell_type": "code",
   "execution_count": 50,
   "id": "f849b3ff-cc04-4a5f-a11e-7b47d180aba2",
   "metadata": {
    "execution": {
     "iopub.execute_input": "2024-05-01T20:31:52.460404Z",
     "iopub.status.busy": "2024-05-01T20:31:52.460185Z",
     "iopub.status.idle": "2024-05-01T20:31:52.495665Z",
     "shell.execute_reply": "2024-05-01T20:31:52.495188Z",
     "shell.execute_reply.started": "2024-05-01T20:31:52.460388Z"
    },
    "tags": []
   },
   "outputs": [
    {
     "data": {
      "text/html": [
       "<div>\n",
       "<style scoped>\n",
       "    .dataframe tbody tr th:only-of-type {\n",
       "        vertical-align: middle;\n",
       "    }\n",
       "\n",
       "    .dataframe tbody tr th {\n",
       "        vertical-align: top;\n",
       "    }\n",
       "\n",
       "    .dataframe thead th {\n",
       "        text-align: right;\n",
       "    }\n",
       "</style>\n",
       "<table border=\"1\" class=\"dataframe\">\n",
       "  <thead>\n",
       "    <tr style=\"text-align: right;\">\n",
       "      <th></th>\n",
       "      <th>Drug_ID</th>\n",
       "      <th>Drug</th>\n",
       "      <th>Y</th>\n",
       "    </tr>\n",
       "  </thead>\n",
       "  <tbody>\n",
       "    <tr>\n",
       "      <th>0</th>\n",
       "      <td>7417</td>\n",
       "      <td>CC(C)c1noc(-c2nnc3n2CCN(C(=O)c2ccc(F)cc2)[C@@H...</td>\n",
       "      <td>1</td>\n",
       "    </tr>\n",
       "    <tr>\n",
       "      <th>1</th>\n",
       "      <td>3967</td>\n",
       "      <td>CCc1noc(-c2nnc3n2CCN(C(=O)c2ccc(F)cc2)[C@@H]3C)n1</td>\n",
       "      <td>0</td>\n",
       "    </tr>\n",
       "    <tr>\n",
       "      <th>2</th>\n",
       "      <td>13387</td>\n",
       "      <td>CC(C)(C)Cn1c(N)nc2ccc(-c3nc(C(C)(C)C)[nH]c3-c3...</td>\n",
       "      <td>0</td>\n",
       "    </tr>\n",
       "    <tr>\n",
       "      <th>3</th>\n",
       "      <td>10258</td>\n",
       "      <td>CC(C)(C)C1CCC2(CC1)CCN(c1ccc(OC(F)(F)F)cc1)C(=...</td>\n",
       "      <td>1</td>\n",
       "    </tr>\n",
       "    <tr>\n",
       "      <th>4</th>\n",
       "      <td>5612</td>\n",
       "      <td>CCN(CC)c1ccc2cc(C(=O)NCCCCN3CCC(Nc4nc5ccccc5n4...</td>\n",
       "      <td>1</td>\n",
       "    </tr>\n",
       "    <tr>\n",
       "      <th>5</th>\n",
       "      <td>6520</td>\n",
       "      <td>CN1CCC(COCc2cc(C(F)(F)F)cc(N3CCCC3)n2)(c2ccccc...</td>\n",
       "      <td>1</td>\n",
       "    </tr>\n",
       "    <tr>\n",
       "      <th>6</th>\n",
       "      <td>8954</td>\n",
       "      <td>CN1CCC(COCc2cc(C(F)(F)F)cc(N3CCC(C#N)C3)n2)(c2...</td>\n",
       "      <td>1</td>\n",
       "    </tr>\n",
       "    <tr>\n",
       "      <th>7</th>\n",
       "      <td>2983</td>\n",
       "      <td>FC(F)(F)c1cc(COCC2(c3ccccc3)CCNCC2)nc(N2CCCC2)c1</td>\n",
       "      <td>1</td>\n",
       "    </tr>\n",
       "    <tr>\n",
       "      <th>8</th>\n",
       "      <td>12756</td>\n",
       "      <td>OC1CCC(Nc2ncc3nc(Nc4c(F)cc(F)cc4F)n([C@@H]4CCO...</td>\n",
       "      <td>0</td>\n",
       "    </tr>\n",
       "    <tr>\n",
       "      <th>9</th>\n",
       "      <td>8043</td>\n",
       "      <td>O=C(N[C@@H]1C2CCN(CC2)[C@H]1Cc1cccnc1)c1cc2ccc...</td>\n",
       "      <td>0</td>\n",
       "    </tr>\n",
       "  </tbody>\n",
       "</table>\n",
       "</div>"
      ],
      "text/plain": [
       "   Drug_ID                                               Drug  Y\n",
       "0     7417  CC(C)c1noc(-c2nnc3n2CCN(C(=O)c2ccc(F)cc2)[C@@H...  1\n",
       "1     3967  CCc1noc(-c2nnc3n2CCN(C(=O)c2ccc(F)cc2)[C@@H]3C)n1  0\n",
       "2    13387  CC(C)(C)Cn1c(N)nc2ccc(-c3nc(C(C)(C)C)[nH]c3-c3...  0\n",
       "3    10258  CC(C)(C)C1CCC2(CC1)CCN(c1ccc(OC(F)(F)F)cc1)C(=...  1\n",
       "4     5612  CCN(CC)c1ccc2cc(C(=O)NCCCCN3CCC(Nc4nc5ccccc5n4...  1\n",
       "5     6520  CN1CCC(COCc2cc(C(F)(F)F)cc(N3CCCC3)n2)(c2ccccc...  1\n",
       "6     8954  CN1CCC(COCc2cc(C(F)(F)F)cc(N3CCC(C#N)C3)n2)(c2...  1\n",
       "7     2983   FC(F)(F)c1cc(COCC2(c3ccccc3)CCNCC2)nc(N2CCCC2)c1  1\n",
       "8    12756  OC1CCC(Nc2ncc3nc(Nc4c(F)cc(F)cc4F)n([C@@H]4CCO...  0\n",
       "9     8043  O=C(N[C@@H]1C2CCN(CC2)[C@H]1Cc1cccnc1)c1cc2ccc...  0"
      ]
     },
     "execution_count": 50,
     "metadata": {},
     "output_type": "execute_result"
    }
   ],
   "source": [
    "data_split['test'].head(10)"
   ]
  },
  {
   "cell_type": "code",
   "execution_count": 51,
   "id": "9678990c-7c16-4eff-9d9e-be4e1537a78d",
   "metadata": {
    "execution": {
     "iopub.execute_input": "2024-05-01T20:31:52.496941Z",
     "iopub.status.busy": "2024-05-01T20:31:52.496726Z",
     "iopub.status.idle": "2024-05-01T20:31:52.531472Z",
     "shell.execute_reply": "2024-05-01T20:31:52.530990Z",
     "shell.execute_reply.started": "2024-05-01T20:31:52.496926Z"
    },
    "tags": []
   },
   "outputs": [
    {
     "data": {
      "text/html": [
       "<div>\n",
       "<style scoped>\n",
       "    .dataframe tbody tr th:only-of-type {\n",
       "        vertical-align: middle;\n",
       "    }\n",
       "\n",
       "    .dataframe tbody tr th {\n",
       "        vertical-align: top;\n",
       "    }\n",
       "\n",
       "    .dataframe thead th {\n",
       "        text-align: right;\n",
       "    }\n",
       "</style>\n",
       "<table border=\"1\" class=\"dataframe\">\n",
       "  <thead>\n",
       "    <tr style=\"text-align: right;\">\n",
       "      <th></th>\n",
       "      <th>Y</th>\n",
       "      <th>Drug</th>\n",
       "    </tr>\n",
       "  </thead>\n",
       "  <tbody>\n",
       "    <tr>\n",
       "      <th>0</th>\n",
       "      <td>0</td>\n",
       "      <td>CCOC(=O)C1(CCN(C)CC1)c1ccccc1</td>\n",
       "    </tr>\n",
       "    <tr>\n",
       "      <th>1</th>\n",
       "      <td>0</td>\n",
       "      <td>CCN(CC)CC(=O)NC1=C(C)C=CC=C1C</td>\n",
       "    </tr>\n",
       "    <tr>\n",
       "      <th>2</th>\n",
       "      <td>0</td>\n",
       "      <td>CCCC(CCC)C(=O)O</td>\n",
       "    </tr>\n",
       "    <tr>\n",
       "      <th>3</th>\n",
       "      <td>0</td>\n",
       "      <td>CCC(COC(=O)c1cc(OC)c(OC)c(OC)c1)(c1ccccc1)N(C)C</td>\n",
       "    </tr>\n",
       "    <tr>\n",
       "      <th>4</th>\n",
       "      <td>0</td>\n",
       "      <td>COc1ccc(N(C(C)=O)c2cc3c(cc2[N+](=O)[O-])OC(C)(...</td>\n",
       "    </tr>\n",
       "    <tr>\n",
       "      <th>5</th>\n",
       "      <td>1</td>\n",
       "      <td>COc1cc2nc(nc(N)c2cc1OC)N1CCN(CC1)C(=O)c1ccco1</td>\n",
       "    </tr>\n",
       "    <tr>\n",
       "      <th>6</th>\n",
       "      <td>1</td>\n",
       "      <td>COc1ccc2cc3-c4cc5OCOc5cc4CC[n+]3cc2c1OC</td>\n",
       "    </tr>\n",
       "    <tr>\n",
       "      <th>7</th>\n",
       "      <td>0</td>\n",
       "      <td>CCCc1nn(C)c2c(=O)[nH]c(nc12)c3cc(ccc3OCC)S(=O)...</td>\n",
       "    </tr>\n",
       "    <tr>\n",
       "      <th>8</th>\n",
       "      <td>0</td>\n",
       "      <td>CCCc1nn(C)c2c(=O)nc(-c3cc(S(=O)(=O)N4CCN(C)CC4...</td>\n",
       "    </tr>\n",
       "    <tr>\n",
       "      <th>9</th>\n",
       "      <td>0</td>\n",
       "      <td>CC(=O)SC1CC2=CC(=O)CCC2(C)C2CCC3C(CCC34CCC(=O)...</td>\n",
       "    </tr>\n",
       "  </tbody>\n",
       "</table>\n",
       "</div>"
      ],
      "text/plain": [
       "   Y                                               Drug\n",
       "0  0                      CCOC(=O)C1(CCN(C)CC1)c1ccccc1\n",
       "1  0                      CCN(CC)CC(=O)NC1=C(C)C=CC=C1C\n",
       "2  0                                    CCCC(CCC)C(=O)O\n",
       "3  0    CCC(COC(=O)c1cc(OC)c(OC)c(OC)c1)(c1ccccc1)N(C)C\n",
       "4  0  COc1ccc(N(C(C)=O)c2cc3c(cc2[N+](=O)[O-])OC(C)(...\n",
       "5  1      COc1cc2nc(nc(N)c2cc1OC)N1CCN(CC1)C(=O)c1ccco1\n",
       "6  1            COc1ccc2cc3-c4cc5OCOc5cc4CC[n+]3cc2c1OC\n",
       "7  0  CCCc1nn(C)c2c(=O)[nH]c(nc12)c3cc(ccc3OCC)S(=O)...\n",
       "8  0  CCCc1nn(C)c2c(=O)nc(-c3cc(S(=O)(=O)N4CCN(C)CC4...\n",
       "9  0  CC(=O)SC1CC2=CC(=O)CCC2(C)C2CCC3C(CCC34CCC(=O)..."
      ]
     },
     "execution_count": 51,
     "metadata": {},
     "output_type": "execute_result"
    }
   ],
   "source": [
    "ext_data['pos'].head(10)"
   ]
  },
  {
   "cell_type": "markdown",
   "id": "d32db1e9-9e1f-479a-9f66-70b674fdfbea",
   "metadata": {},
   "source": [
    "# check external data"
   ]
  },
  {
   "cell_type": "code",
   "execution_count": 52,
   "id": "3ad5ed49-752d-4957-b33c-f69d7a4e67af",
   "metadata": {
    "execution": {
     "iopub.execute_input": "2024-05-01T20:31:52.532235Z",
     "iopub.status.busy": "2024-05-01T20:31:52.532069Z",
     "iopub.status.idle": "2024-05-01T20:31:52.572370Z",
     "shell.execute_reply": "2024-05-01T20:31:52.571885Z",
     "shell.execute_reply.started": "2024-05-01T20:31:52.532220Z"
    },
    "tags": []
   },
   "outputs": [],
   "source": [
    "# remove same smiles in the training\n",
    "for i, curr_data in ext_data.items():\n",
    "    for drug in curr_data['Drug']:\n",
    "        if drug in data_split['train']['Drug']:\n",
    "            print(drug)"
   ]
  },
  {
   "cell_type": "code",
   "execution_count": 53,
   "id": "f70cc0b0-a1f9-4c2d-a5ba-496d03b581c2",
   "metadata": {
    "execution": {
     "iopub.execute_input": "2024-05-01T20:31:53.398045Z",
     "iopub.status.busy": "2024-05-01T20:31:53.397825Z",
     "iopub.status.idle": "2024-05-01T20:31:53.431038Z",
     "shell.execute_reply": "2024-05-01T20:31:53.430516Z",
     "shell.execute_reply.started": "2024-05-01T20:31:53.398029Z"
    },
    "tags": []
   },
   "outputs": [
    {
     "name": "stdout",
     "output_type": "stream",
     "text": [
      "pos: total (44); Y=1 (30)\n",
      "neg: total (41); Y=1 (11)\n",
      "new: total (740); Y=1 (34)\n",
      "all: total (825); Y=1 (75)\n"
     ]
    }
   ],
   "source": [
    "for i, curr_data in ext_data.items():\n",
    "    print(f\"{i}: total ({len(curr_data)}); Y=1 ({curr_data['Y'].sum()})\")\n",
    "    "
   ]
  },
  {
   "cell_type": "code",
   "execution_count": null,
   "id": "4c00e299-6fa1-4c94-ade8-2164bbaa3cdb",
   "metadata": {},
   "outputs": [],
   "source": []
  },
  {
   "cell_type": "markdown",
   "id": "f4a26645-3a17-4256-9e77-0f42f6941d0a",
   "metadata": {},
   "source": [
    "# Featuring functions"
   ]
  },
  {
   "cell_type": "code",
   "execution_count": 54,
   "id": "e1299d07-75a8-4deb-86fe-d6d512739ba9",
   "metadata": {
    "execution": {
     "iopub.execute_input": "2024-05-01T20:31:55.199599Z",
     "iopub.status.busy": "2024-05-01T20:31:55.199372Z",
     "iopub.status.idle": "2024-05-01T20:31:55.232106Z",
     "shell.execute_reply": "2024-05-01T20:31:55.231625Z",
     "shell.execute_reply.started": "2024-05-01T20:31:55.199583Z"
    },
    "tags": []
   },
   "outputs": [],
   "source": [
    "\"\"\"\n",
    "from rdkit import Chem\n",
    "from rdkit.Chem import AllChem\n",
    "\n",
    "# Function to convert SMILES to Morgan fingerprints\n",
    "def smiles_to_fp(smiles, radius=2, nBits=1024):\n",
    "    mol = Chem.MolFromSmiles(smiles)\n",
    "    return list(AllChem.GetMorganFingerprintAsBitVect(mol, radius, nBits))\n",
    "\"\"\"\n",
    "\n",
    "from features import smiles_to_fp\n",
    "\n",
    "# Prepare the data\n",
    "def prepare_data(df):\n",
    "    df['features'] = df['Drug'].apply(lambda x: smiles_to_fp(x))\n",
    "    X = list(df['features'])\n",
    "    y = df['Y'].values\n",
    "    return X, y\n"
   ]
  },
  {
   "cell_type": "code",
   "execution_count": null,
   "id": "1aaea73f-62e4-42a9-a1c4-9a5b5c3fcc60",
   "metadata": {},
   "outputs": [],
   "source": []
  },
  {
   "cell_type": "code",
   "execution_count": null,
   "id": "372e1bd4-8dc7-40a1-b042-34f5665a6181",
   "metadata": {},
   "outputs": [],
   "source": []
  },
  {
   "cell_type": "markdown",
   "id": "0dd894a9-2595-4d06-b9a8-3a9ec8f8807d",
   "metadata": {},
   "source": [
    "# Prepare traing and test data"
   ]
  },
  {
   "cell_type": "code",
   "execution_count": 55,
   "id": "ff48bc4b-ae71-44fe-bbcf-65bdcf8a27de",
   "metadata": {
    "execution": {
     "iopub.execute_input": "2024-05-01T20:32:00.203058Z",
     "iopub.status.busy": "2024-05-01T20:32:00.202734Z",
     "iopub.status.idle": "2024-05-01T20:32:13.210927Z",
     "shell.execute_reply": "2024-05-01T20:32:13.209512Z",
     "shell.execute_reply.started": "2024-05-01T20:32:00.203040Z"
    },
    "tags": []
   },
   "outputs": [],
   "source": [
    "# make features\n",
    "train_data = data_split['train']\n",
    "X_train, y_train = prepare_data(train_data)\n",
    "\n",
    "test_data = data_split['test'] \n",
    "X_test, y_test = prepare_data(test_data)"
   ]
  },
  {
   "cell_type": "markdown",
   "id": "da9c5b17-e83f-40c1-ad60-cfff2494b625",
   "metadata": {},
   "source": [
    "# Random Forest Classifier"
   ]
  },
  {
   "cell_type": "code",
   "execution_count": 56,
   "id": "1146b41e-d0c4-4f08-8922-3abc31415cdd",
   "metadata": {
    "execution": {
     "iopub.execute_input": "2024-05-01T20:32:16.200283Z",
     "iopub.status.busy": "2024-05-01T20:32:16.199622Z",
     "iopub.status.idle": "2024-05-01T20:32:19.844807Z",
     "shell.execute_reply": "2024-05-01T20:32:19.844246Z",
     "shell.execute_reply.started": "2024-05-01T20:32:16.200263Z"
    },
    "tags": []
   },
   "outputs": [
    {
     "data": {
      "text/html": [
       "<style>#sk-container-id-2 {color: black;background-color: white;}#sk-container-id-2 pre{padding: 0;}#sk-container-id-2 div.sk-toggleable {background-color: white;}#sk-container-id-2 label.sk-toggleable__label {cursor: pointer;display: block;width: 100%;margin-bottom: 0;padding: 0.3em;box-sizing: border-box;text-align: center;}#sk-container-id-2 label.sk-toggleable__label-arrow:before {content: \"▸\";float: left;margin-right: 0.25em;color: #696969;}#sk-container-id-2 label.sk-toggleable__label-arrow:hover:before {color: black;}#sk-container-id-2 div.sk-estimator:hover label.sk-toggleable__label-arrow:before {color: black;}#sk-container-id-2 div.sk-toggleable__content {max-height: 0;max-width: 0;overflow: hidden;text-align: left;background-color: #f0f8ff;}#sk-container-id-2 div.sk-toggleable__content pre {margin: 0.2em;color: black;border-radius: 0.25em;background-color: #f0f8ff;}#sk-container-id-2 input.sk-toggleable__control:checked~div.sk-toggleable__content {max-height: 200px;max-width: 100%;overflow: auto;}#sk-container-id-2 input.sk-toggleable__control:checked~label.sk-toggleable__label-arrow:before {content: \"▾\";}#sk-container-id-2 div.sk-estimator input.sk-toggleable__control:checked~label.sk-toggleable__label {background-color: #d4ebff;}#sk-container-id-2 div.sk-label input.sk-toggleable__control:checked~label.sk-toggleable__label {background-color: #d4ebff;}#sk-container-id-2 input.sk-hidden--visually {border: 0;clip: rect(1px 1px 1px 1px);clip: rect(1px, 1px, 1px, 1px);height: 1px;margin: -1px;overflow: hidden;padding: 0;position: absolute;width: 1px;}#sk-container-id-2 div.sk-estimator {font-family: monospace;background-color: #f0f8ff;border: 1px dotted black;border-radius: 0.25em;box-sizing: border-box;margin-bottom: 0.5em;}#sk-container-id-2 div.sk-estimator:hover {background-color: #d4ebff;}#sk-container-id-2 div.sk-parallel-item::after {content: \"\";width: 100%;border-bottom: 1px solid gray;flex-grow: 1;}#sk-container-id-2 div.sk-label:hover label.sk-toggleable__label {background-color: #d4ebff;}#sk-container-id-2 div.sk-serial::before {content: \"\";position: absolute;border-left: 1px solid gray;box-sizing: border-box;top: 0;bottom: 0;left: 50%;z-index: 0;}#sk-container-id-2 div.sk-serial {display: flex;flex-direction: column;align-items: center;background-color: white;padding-right: 0.2em;padding-left: 0.2em;position: relative;}#sk-container-id-2 div.sk-item {position: relative;z-index: 1;}#sk-container-id-2 div.sk-parallel {display: flex;align-items: stretch;justify-content: center;background-color: white;position: relative;}#sk-container-id-2 div.sk-item::before, #sk-container-id-2 div.sk-parallel-item::before {content: \"\";position: absolute;border-left: 1px solid gray;box-sizing: border-box;top: 0;bottom: 0;left: 50%;z-index: -1;}#sk-container-id-2 div.sk-parallel-item {display: flex;flex-direction: column;z-index: 1;position: relative;background-color: white;}#sk-container-id-2 div.sk-parallel-item:first-child::after {align-self: flex-end;width: 50%;}#sk-container-id-2 div.sk-parallel-item:last-child::after {align-self: flex-start;width: 50%;}#sk-container-id-2 div.sk-parallel-item:only-child::after {width: 0;}#sk-container-id-2 div.sk-dashed-wrapped {border: 1px dashed gray;margin: 0 0.4em 0.5em 0.4em;box-sizing: border-box;padding-bottom: 0.4em;background-color: white;}#sk-container-id-2 div.sk-label label {font-family: monospace;font-weight: bold;display: inline-block;line-height: 1.2em;}#sk-container-id-2 div.sk-label-container {text-align: center;}#sk-container-id-2 div.sk-container {/* jupyter's `normalize.less` sets `[hidden] { display: none; }` but bootstrap.min.css set `[hidden] { display: none !important; }` so we also need the `!important` here to be able to override the default hidden behavior on the sphinx rendered scikit-learn.org. See: https://github.com/scikit-learn/scikit-learn/issues/21755 */display: inline-block !important;position: relative;}#sk-container-id-2 div.sk-text-repr-fallback {display: none;}</style><div id=\"sk-container-id-2\" class=\"sk-top-container\"><div class=\"sk-text-repr-fallback\"><pre>RandomForestClassifier(random_state=42)</pre><b>In a Jupyter environment, please rerun this cell to show the HTML representation or trust the notebook. <br />On GitHub, the HTML representation is unable to render, please try loading this page with nbviewer.org.</b></div><div class=\"sk-container\" hidden><div class=\"sk-item\"><div class=\"sk-estimator sk-toggleable\"><input class=\"sk-toggleable__control sk-hidden--visually\" id=\"sk-estimator-id-2\" type=\"checkbox\" checked><label for=\"sk-estimator-id-2\" class=\"sk-toggleable__label sk-toggleable__label-arrow\">RandomForestClassifier</label><div class=\"sk-toggleable__content\"><pre>RandomForestClassifier(random_state=42)</pre></div></div></div></div></div>"
      ],
      "text/plain": [
       "RandomForestClassifier(random_state=42)"
      ]
     },
     "execution_count": 56,
     "metadata": {},
     "output_type": "execute_result"
    }
   ],
   "source": [
    "from sklearn.ensemble import RandomForestClassifier\n",
    "\n",
    "# Initialize and train the model\n",
    "rf_model = RandomForestClassifier(random_state=42)\n",
    "rf_model.fit(X_train, y_train)\n",
    "\n"
   ]
  },
  {
   "cell_type": "markdown",
   "id": "1c1d2a57-8c0c-4abc-ab73-4147224e4903",
   "metadata": {
    "execution": {
     "iopub.execute_input": "2024-04-19T02:28:58.937521Z",
     "iopub.status.busy": "2024-04-19T02:28:58.937204Z",
     "iopub.status.idle": "2024-04-19T02:28:58.954787Z",
     "shell.execute_reply": "2024-04-19T02:28:58.954378Z",
     "shell.execute_reply.started": "2024-04-19T02:28:58.937500Z"
    },
    "tags": []
   },
   "source": [
    "# Evaluation on internal test data"
   ]
  },
  {
   "cell_type": "code",
   "execution_count": 57,
   "id": "00573373-3ce6-4f2c-aaee-6340fb3721ad",
   "metadata": {
    "execution": {
     "iopub.execute_input": "2024-05-01T20:32:21.379950Z",
     "iopub.status.busy": "2024-05-01T20:32:21.379641Z",
     "iopub.status.idle": "2024-05-01T20:32:21.573745Z",
     "shell.execute_reply": "2024-05-01T20:32:21.573167Z",
     "shell.execute_reply.started": "2024-05-01T20:32:21.379932Z"
    },
    "tags": []
   },
   "outputs": [
    {
     "name": "stdout",
     "output_type": "stream",
     "text": [
      "Accuracy: 0.7869888475836431\n",
      "ROC AUC Score: 0.7866272534819189\n",
      "Precision: 0.7987321711568938\n",
      "Recall: 0.7596081386586285\n",
      "F1 Score: 0.7786790266512167\n",
      "Matthews Correlation Coefficient: 0.5742977119801898\n",
      "Specificity (Negative Prediction Accuracy): 0.8136463683052091\n"
     ]
    },
    {
     "data": {
      "text/plain": [
       "{'accuracy': 0.7869888475836431,\n",
       " 'roc_auc': 0.7866272534819189,\n",
       " 'precision': 0.7987321711568938,\n",
       " 'recall': 0.7596081386586285,\n",
       " 'f1': 0.7786790266512167,\n",
       " 'matthews_corr': 0.5742977119801898,\n",
       " 'specificity': 0.8136463683052091}"
      ]
     },
     "execution_count": 57,
     "metadata": {},
     "output_type": "execute_result"
    }
   ],
   "source": [
    "from evaluate import eval\n",
    "\n",
    "# Evaluate the model\n",
    "y_pred = rf_model.predict(X_test)\n",
    "eval(y_test, y_pred, verbose=True)"
   ]
  },
  {
   "cell_type": "code",
   "execution_count": null,
   "id": "398967b0-31c7-461a-96f9-2538288bc37f",
   "metadata": {},
   "outputs": [],
   "source": []
  },
  {
   "cell_type": "markdown",
   "id": "dcfac1d1-7402-469d-9cde-e964225deec8",
   "metadata": {},
   "source": [
    "# Evaluation on external data"
   ]
  },
  {
   "cell_type": "code",
   "execution_count": 58,
   "id": "e8c62a96-69f5-49d4-b453-4fb0a045f893",
   "metadata": {
    "execution": {
     "iopub.execute_input": "2024-05-01T20:32:26.593931Z",
     "iopub.status.busy": "2024-05-01T20:32:26.593616Z",
     "iopub.status.idle": "2024-05-01T20:32:28.516693Z",
     "shell.execute_reply": "2024-05-01T20:32:28.516039Z",
     "shell.execute_reply.started": "2024-05-01T20:32:26.593912Z"
    },
    "tags": []
   },
   "outputs": [
    {
     "name": "stdout",
     "output_type": "stream",
     "text": [
      "\n",
      "= = = Experiment on pos = = =\n",
      "Accuracy: 0.8863636363636364\n",
      "ROC AUC Score: 0.8976190476190476\n",
      "Precision: 0.9629629629629629\n",
      "Recall: 0.8666666666666667\n",
      "F1 Score: 0.912280701754386\n",
      "Matthews Correlation Coefficient: 0.7607036127908976\n",
      "Specificity (Negative Prediction Accuracy): 0.9285714285714286\n",
      "\n",
      "= = = Experiment on neg = = =\n",
      "Accuracy: 0.9512195121951219\n",
      "ROC AUC Score: 0.9378787878787879\n",
      "Precision: 0.9090909090909091\n",
      "Recall: 0.9090909090909091\n",
      "F1 Score: 0.9090909090909091\n",
      "Matthews Correlation Coefficient: 0.8757575757575757\n",
      "Specificity (Negative Prediction Accuracy): 0.9666666666666667\n",
      "\n",
      "= = = Experiment on new = = =\n",
      "Accuracy: 0.9689189189189189\n",
      "ROC AUC Score: 0.9417180469921678\n",
      "Precision: 0.6078431372549019\n",
      "Recall: 0.9117647058823529\n",
      "F1 Score: 0.7294117647058823\n",
      "Matthews Correlation Coefficient: 0.7301670806408677\n",
      "Specificity (Negative Prediction Accuracy): 0.9716713881019831\n",
      "\n",
      "= = = Experiment on all = = =\n",
      "Accuracy: 0.9636363636363636\n",
      "ROC AUC Score: 0.932\n",
      "Precision: 0.7528089887640449\n",
      "Recall: 0.8933333333333333\n",
      "F1 Score: 0.8170731707317072\n",
      "Matthews Correlation Coefficient: 0.8006470270626805\n",
      "Specificity (Negative Prediction Accuracy): 0.9706666666666667\n"
     ]
    }
   ],
   "source": [
    "for i, curr_data in ext_data.items():\n",
    "    curr_X, curr_y = prepare_data(curr_data)\n",
    "    curr_pred = rf_model.predict(curr_X)\n",
    "    print(f\"\\n= = = Experiment on {i} = = =\")\n",
    "    eval(curr_y, curr_pred)\n"
   ]
  },
  {
   "cell_type": "code",
   "execution_count": null,
   "id": "b02d250f-9b7e-42aa-a71b-99c2cb266fe9",
   "metadata": {},
   "outputs": [],
   "source": []
  },
  {
   "cell_type": "markdown",
   "id": "4753deb7-c202-4031-9282-d96c2e859590",
   "metadata": {},
   "source": [
    "# Simple Neural Network model"
   ]
  },
  {
   "cell_type": "code",
   "execution_count": 59,
   "id": "7c2dec08-b00b-4a8a-8fd1-cb20a901d419",
   "metadata": {
    "execution": {
     "iopub.execute_input": "2024-05-01T20:32:34.344386Z",
     "iopub.status.busy": "2024-05-01T20:32:34.344043Z",
     "iopub.status.idle": "2024-05-01T20:32:34.960618Z",
     "shell.execute_reply": "2024-05-01T20:32:34.959965Z",
     "shell.execute_reply.started": "2024-05-01T20:32:34.344364Z"
    },
    "tags": []
   },
   "outputs": [],
   "source": [
    "import torch\n",
    "\n",
    "X_train = torch.tensor(X_train, dtype=torch.float32)  # Convert features to a float Tensor\n",
    "y_train = torch.tensor(y_train, dtype=torch.float32)  # Convert labels to a float Tensor\n",
    "\n",
    "# Ensure labels y_train is the right shape (e.g., for BCELoss, you might need to ensure it's two-dimensional if there are two outputs)\n",
    "y_train = y_train.unsqueeze(1)  # Only do this if necessary"
   ]
  },
  {
   "cell_type": "markdown",
   "id": "5d9be36c-4ab1-4ec2-983b-09044cac28eb",
   "metadata": {},
   "source": [
    " # SimpleNN: Define the model"
   ]
  },
  {
   "cell_type": "code",
   "execution_count": 60,
   "id": "2d89940d-799b-4c0e-a66c-bfbac6e70d99",
   "metadata": {
    "execution": {
     "iopub.execute_input": "2024-05-01T20:32:37.202913Z",
     "iopub.status.busy": "2024-05-01T20:32:37.202661Z",
     "iopub.status.idle": "2024-05-01T20:32:37.244774Z",
     "shell.execute_reply": "2024-05-01T20:32:37.244234Z",
     "shell.execute_reply.started": "2024-05-01T20:32:37.202894Z"
    },
    "tags": []
   },
   "outputs": [],
   "source": [
    "import torch\n",
    "import torch.nn as nn\n",
    "import torch.optim as optim\n",
    "\n",
    "class SimpleNN(nn.Module):\n",
    "    def __init__(self):\n",
    "        super(SimpleNN, self).__init__()\n",
    "        self.layers = nn.Sequential(\n",
    "            nn.Linear(1024, 64),  # Assuming input features size of 1024\n",
    "            nn.ReLU(),\n",
    "            nn.Linear(64, 64),\n",
    "            nn.ReLU(),\n",
    "            nn.Linear(64, 1),  # binary classification\n",
    "            nn.Sigmoid()\n",
    "        )\n",
    "\n",
    "    def forward(self, x):\n",
    "        return self.layers(x)\n"
   ]
  },
  {
   "cell_type": "markdown",
   "id": "3d11b4eb-5cd8-4e55-992f-10142a75e621",
   "metadata": {},
   "source": [
    "# SimpleNN: Define loss"
   ]
  },
  {
   "cell_type": "code",
   "execution_count": 61,
   "id": "46600d55-5db6-4a76-a0db-14313d53b7ce",
   "metadata": {
    "execution": {
     "iopub.execute_input": "2024-05-01T20:32:38.828555Z",
     "iopub.status.busy": "2024-05-01T20:32:38.828243Z",
     "iopub.status.idle": "2024-05-01T20:32:38.869661Z",
     "shell.execute_reply": "2024-05-01T20:32:38.868286Z",
     "shell.execute_reply.started": "2024-05-01T20:32:38.828536Z"
    },
    "tags": []
   },
   "outputs": [],
   "source": [
    "\n",
    "def nn_loss_func(outputs, targets):\n",
    "    criterion = nn.BCELoss()\n",
    "    classical_loss = criterion(outputs.squeeze(), targets.squeeze())\n",
    "    \n",
    "    return classical_loss "
   ]
  },
  {
   "cell_type": "markdown",
   "id": "5ad8408e-d442-481c-a709-1d6732dac521",
   "metadata": {},
   "source": [
    "# SimpleNN: Training"
   ]
  },
  {
   "cell_type": "code",
   "execution_count": 62,
   "id": "ea51a954-cc86-4f42-b6e8-0a1bd6fdf215",
   "metadata": {
    "execution": {
     "iopub.execute_input": "2024-05-01T20:32:40.199891Z",
     "iopub.status.busy": "2024-05-01T20:32:40.199657Z",
     "iopub.status.idle": "2024-05-01T20:32:47.679838Z",
     "shell.execute_reply": "2024-05-01T20:32:47.679208Z",
     "shell.execute_reply.started": "2024-05-01T20:32:40.199873Z"
    },
    "tags": []
   },
   "outputs": [
    {
     "name": "stdout",
     "output_type": "stream",
     "text": [
      "Epoch 1, Loss: 0.6946300864219666\n",
      "Epoch 2, Loss: 0.6908251047134399\n",
      "Epoch 3, Loss: 0.6871889233589172\n",
      "Epoch 4, Loss: 0.6834297180175781\n",
      "Epoch 5, Loss: 0.6792407035827637\n",
      "Epoch 6, Loss: 0.674465000629425\n",
      "Epoch 7, Loss: 0.6690630912780762\n",
      "Epoch 8, Loss: 0.6631089448928833\n",
      "Epoch 9, Loss: 0.6566792726516724\n",
      "Epoch 10, Loss: 0.6498051881790161\n",
      "Epoch 11, Loss: 0.6424911022186279\n",
      "Epoch 12, Loss: 0.6347528696060181\n",
      "Epoch 13, Loss: 0.6266354918479919\n",
      "Epoch 14, Loss: 0.6182213425636292\n",
      "Epoch 15, Loss: 0.6095631718635559\n",
      "Epoch 16, Loss: 0.6007111072540283\n",
      "Epoch 17, Loss: 0.5917112231254578\n",
      "Epoch 18, Loss: 0.5826320648193359\n",
      "Epoch 19, Loss: 0.5736132860183716\n",
      "Epoch 20, Loss: 0.5647473335266113\n",
      "Epoch 21, Loss: 0.5560765862464905\n",
      "Epoch 22, Loss: 0.5476455688476562\n",
      "Epoch 23, Loss: 0.5395264625549316\n",
      "Epoch 24, Loss: 0.5317665338516235\n",
      "Epoch 25, Loss: 0.5243550539016724\n",
      "Epoch 26, Loss: 0.5172824859619141\n",
      "Epoch 27, Loss: 0.5105334520339966\n",
      "Epoch 28, Loss: 0.5040438175201416\n",
      "Epoch 29, Loss: 0.4977739751338959\n",
      "Epoch 30, Loss: 0.49168410897254944\n",
      "Epoch 31, Loss: 0.48573601245880127\n",
      "Epoch 32, Loss: 0.47991707921028137\n",
      "Epoch 33, Loss: 0.4742316007614136\n",
      "Epoch 34, Loss: 0.46868446469306946\n",
      "Epoch 35, Loss: 0.46328452229499817\n",
      "Epoch 36, Loss: 0.45801591873168945\n",
      "Epoch 37, Loss: 0.4528740346431732\n",
      "Epoch 38, Loss: 0.4478364586830139\n",
      "Epoch 39, Loss: 0.44288504123687744\n",
      "Epoch 40, Loss: 0.4380043148994446\n",
      "Epoch 41, Loss: 0.43317854404449463\n",
      "Epoch 42, Loss: 0.42840975522994995\n",
      "Epoch 43, Loss: 0.42370304465293884\n",
      "Epoch 44, Loss: 0.4190579652786255\n",
      "Epoch 45, Loss: 0.4144715964794159\n",
      "Epoch 46, Loss: 0.4099462330341339\n",
      "Epoch 47, Loss: 0.405464768409729\n",
      "Epoch 48, Loss: 0.4010138213634491\n",
      "Epoch 49, Loss: 0.3965829908847809\n",
      "Epoch 50, Loss: 0.392171710729599\n",
      "Epoch 51, Loss: 0.3877813220024109\n",
      "Epoch 52, Loss: 0.38340210914611816\n",
      "Epoch 53, Loss: 0.3790323734283447\n",
      "Epoch 54, Loss: 0.37466076016426086\n",
      "Epoch 55, Loss: 0.37028342485427856\n",
      "Epoch 56, Loss: 0.36590635776519775\n",
      "Epoch 57, Loss: 0.3615187704563141\n",
      "Epoch 58, Loss: 0.3571110963821411\n",
      "Epoch 59, Loss: 0.3526938259601593\n",
      "Epoch 60, Loss: 0.34824660420417786\n",
      "Epoch 61, Loss: 0.34376436471939087\n",
      "Epoch 62, Loss: 0.33924099802970886\n",
      "Epoch 63, Loss: 0.3346651494503021\n",
      "Epoch 64, Loss: 0.33005160093307495\n",
      "Epoch 65, Loss: 0.32539746165275574\n",
      "Epoch 66, Loss: 0.3207165598869324\n",
      "Epoch 67, Loss: 0.3159946799278259\n",
      "Epoch 68, Loss: 0.3112376928329468\n",
      "Epoch 69, Loss: 0.30646365880966187\n",
      "Epoch 70, Loss: 0.3017621338367462\n",
      "Epoch 71, Loss: 0.29713061451911926\n",
      "Epoch 72, Loss: 0.2923962473869324\n",
      "Epoch 73, Loss: 0.2872442901134491\n",
      "Epoch 74, Loss: 0.28225284814834595\n",
      "Epoch 75, Loss: 0.27764806151390076\n",
      "Epoch 76, Loss: 0.2728484272956848\n",
      "Epoch 77, Loss: 0.26772868633270264\n",
      "Epoch 78, Loss: 0.2628098428249359\n",
      "Epoch 79, Loss: 0.25812432169914246\n",
      "Epoch 80, Loss: 0.2532786726951599\n",
      "Epoch 81, Loss: 0.24824301898479462\n",
      "Epoch 82, Loss: 0.24336789548397064\n",
      "Epoch 83, Loss: 0.23866389691829681\n",
      "Epoch 84, Loss: 0.23386603593826294\n",
      "Epoch 85, Loss: 0.22894057631492615\n",
      "Epoch 86, Loss: 0.22407126426696777\n",
      "Epoch 87, Loss: 0.2193376123905182\n",
      "Epoch 88, Loss: 0.2146693617105484\n",
      "Epoch 89, Loss: 0.20995193719863892\n",
      "Epoch 90, Loss: 0.20519587397575378\n",
      "Epoch 91, Loss: 0.20044440031051636\n",
      "Epoch 92, Loss: 0.19578076899051666\n",
      "Epoch 93, Loss: 0.1912088543176651\n",
      "Epoch 94, Loss: 0.18669506907463074\n",
      "Epoch 95, Loss: 0.18224553763866425\n",
      "Epoch 96, Loss: 0.177814319729805\n",
      "Epoch 97, Loss: 0.17339470982551575\n",
      "Epoch 98, Loss: 0.16899383068084717\n",
      "Epoch 99, Loss: 0.16463811695575714\n",
      "Epoch 100, Loss: 0.16035066545009613\n",
      "Epoch 101, Loss: 0.15614666044712067\n",
      "Epoch 102, Loss: 0.15203270316123962\n",
      "Epoch 103, Loss: 0.14799614250659943\n",
      "Epoch 104, Loss: 0.14405083656311035\n",
      "Epoch 105, Loss: 0.1402176320552826\n",
      "Epoch 106, Loss: 0.1365693062543869\n",
      "Epoch 107, Loss: 0.1330944448709488\n",
      "Epoch 108, Loss: 0.12959301471710205\n",
      "Epoch 109, Loss: 0.12576685845851898\n",
      "Epoch 110, Loss: 0.12188208848237991\n",
      "Epoch 111, Loss: 0.11847582459449768\n",
      "Epoch 112, Loss: 0.11546944826841354\n",
      "Epoch 113, Loss: 0.11242770403623581\n",
      "Epoch 114, Loss: 0.10905267298221588\n",
      "Epoch 115, Loss: 0.10569039732217789\n",
      "Epoch 116, Loss: 0.1027907058596611\n",
      "Epoch 117, Loss: 0.10012616962194443\n",
      "Epoch 118, Loss: 0.09727410227060318\n",
      "Epoch 119, Loss: 0.09427054226398468\n",
      "Epoch 120, Loss: 0.09152411669492722\n",
      "Epoch 121, Loss: 0.0890921801328659\n",
      "Epoch 122, Loss: 0.08665430545806885\n",
      "Epoch 123, Loss: 0.0840546265244484\n",
      "Epoch 124, Loss: 0.08155300468206406\n",
      "Epoch 125, Loss: 0.07931618392467499\n",
      "Epoch 126, Loss: 0.07718890905380249\n",
      "Epoch 127, Loss: 0.07499448955059052\n",
      "Epoch 128, Loss: 0.07280154526233673\n",
      "Epoch 129, Loss: 0.07078155130147934\n",
      "Epoch 130, Loss: 0.06891137361526489\n",
      "Epoch 131, Loss: 0.06705306470394135\n",
      "Epoch 132, Loss: 0.06517702341079712\n",
      "Epoch 133, Loss: 0.06337925046682358\n",
      "Epoch 134, Loss: 0.06170846149325371\n",
      "Epoch 135, Loss: 0.06011869013309479\n",
      "Epoch 136, Loss: 0.05852889642119408\n",
      "Epoch 137, Loss: 0.05695978179574013\n",
      "Epoch 138, Loss: 0.05547591671347618\n",
      "Epoch 139, Loss: 0.05407585948705673\n",
      "Epoch 140, Loss: 0.052720170468091965\n",
      "Epoch 141, Loss: 0.05137890577316284\n",
      "Epoch 142, Loss: 0.05007227510213852\n",
      "Epoch 143, Loss: 0.04883291944861412\n",
      "Epoch 144, Loss: 0.047649454325437546\n",
      "Epoch 145, Loss: 0.04650169238448143\n",
      "Epoch 146, Loss: 0.04537108540534973\n",
      "Epoch 147, Loss: 0.044279541820287704\n",
      "Epoch 148, Loss: 0.04324159398674965\n",
      "Epoch 149, Loss: 0.04224877431988716\n",
      "Epoch 150, Loss: 0.04128021001815796\n",
      "Epoch 151, Loss: 0.040334876626729965\n",
      "Epoch 152, Loss: 0.03942802920937538\n",
      "Epoch 153, Loss: 0.03855897858738899\n",
      "Epoch 154, Loss: 0.037720728665590286\n",
      "Epoch 155, Loss: 0.03691122308373451\n",
      "Epoch 156, Loss: 0.036127205938100815\n",
      "Epoch 157, Loss: 0.03537299111485481\n",
      "Epoch 158, Loss: 0.034646954387426376\n",
      "Epoch 159, Loss: 0.03394370898604393\n",
      "Epoch 160, Loss: 0.033263444900512695\n",
      "Epoch 161, Loss: 0.03260992839932442\n",
      "Epoch 162, Loss: 0.031979236751794815\n",
      "Epoch 163, Loss: 0.03136793524026871\n",
      "Epoch 164, Loss: 0.03077423945069313\n",
      "Epoch 165, Loss: 0.030201569199562073\n",
      "Epoch 166, Loss: 0.029649553820490837\n",
      "Epoch 167, Loss: 0.029114972800016403\n",
      "Epoch 168, Loss: 0.02859834022819996\n",
      "Epoch 169, Loss: 0.02810163050889969\n",
      "Epoch 170, Loss: 0.02762124501168728\n",
      "Epoch 171, Loss: 0.02715911716222763\n",
      "Epoch 172, Loss: 0.026712724938988686\n",
      "Epoch 173, Loss: 0.02628287300467491\n",
      "Epoch 174, Loss: 0.025867994874715805\n",
      "Epoch 175, Loss: 0.025467950850725174\n",
      "Epoch 176, Loss: 0.025083577260375023\n",
      "Epoch 177, Loss: 0.02471199631690979\n",
      "Epoch 178, Loss: 0.024352174252271652\n",
      "Epoch 179, Loss: 0.024005446583032608\n",
      "Epoch 180, Loss: 0.023670366033911705\n",
      "Epoch 181, Loss: 0.023346778005361557\n",
      "Epoch 182, Loss: 0.02303372509777546\n",
      "Epoch 183, Loss: 0.022731078788638115\n",
      "Epoch 184, Loss: 0.022437745705246925\n",
      "Epoch 185, Loss: 0.02215377613902092\n",
      "Epoch 186, Loss: 0.021879181265830994\n",
      "Epoch 187, Loss: 0.021612901240587234\n",
      "Epoch 188, Loss: 0.021353425458073616\n",
      "Epoch 189, Loss: 0.02110268548130989\n",
      "Epoch 190, Loss: 0.020859191194176674\n",
      "Epoch 191, Loss: 0.020621327683329582\n",
      "Epoch 192, Loss: 0.02038978599011898\n",
      "Epoch 193, Loss: 0.020163530483841896\n",
      "Epoch 194, Loss: 0.01994154043495655\n",
      "Epoch 195, Loss: 0.019726131111383438\n",
      "Epoch 196, Loss: 0.019516073167324066\n",
      "Epoch 197, Loss: 0.019313815981149673\n",
      "Epoch 198, Loss: 0.019116802141070366\n",
      "Epoch 199, Loss: 0.018925661221146584\n",
      "Epoch 200, Loss: 0.018739234656095505\n"
     ]
    }
   ],
   "source": [
    "# Assuming X_train and y_train are your datasets loaded as Tensor objects\n",
    "nn_model = SimpleNN()\n",
    "nn_optimizer = optim.Adam(nn_model.parameters(), lr=0.001)\n",
    "\n",
    "\n",
    "# Training loop\n",
    "epoch_n = 200\n",
    "nn_model.train()\n",
    "for epoch in range(epoch_n):\n",
    "    nn_optimizer.zero_grad()\n",
    "    outputs = nn_model(X_train)  # Make sure X_train is a tensor\n",
    "    loss = nn_loss_func(outputs, y_train)  # Ensure y_train is appropriately shaped\n",
    "    loss.backward()\n",
    "    nn_optimizer.step()\n",
    "\n",
    "    print(f\"Epoch {epoch+1}, Loss: {loss.item()}\")\n",
    "    "
   ]
  },
  {
   "cell_type": "code",
   "execution_count": null,
   "id": "3a1ad93c-038a-463f-8b1d-71936f91eae0",
   "metadata": {},
   "outputs": [],
   "source": []
  },
  {
   "cell_type": "markdown",
   "id": "96b6d8ec-5c4c-4a29-9753-034b319c8a65",
   "metadata": {},
   "source": [
    "# SimpleNN: Internal Testing"
   ]
  },
  {
   "cell_type": "code",
   "execution_count": 63,
   "id": "5c527ec6-d506-46ef-aaa8-5becc3ee7e93",
   "metadata": {
    "execution": {
     "iopub.execute_input": "2024-05-01T20:32:58.198973Z",
     "iopub.status.busy": "2024-05-01T20:32:58.198775Z",
     "iopub.status.idle": "2024-05-01T20:32:59.522220Z",
     "shell.execute_reply": "2024-05-01T20:32:59.521698Z",
     "shell.execute_reply.started": "2024-05-01T20:32:58.198955Z"
    },
    "tags": []
   },
   "outputs": [],
   "source": [
    "# Assuming X_test and y_test are already loaded and are numpy arrays or lists\n",
    "X_test = torch.tensor(X_test, dtype=torch.float32)  # Convert to tensor\n",
    "# Ensure y_test is also a tensor if you have it and will evaluate metrics\n",
    "y_test = torch.tensor(y_test, dtype=torch.float32).unsqueeze(1)  # Convert to tensor and ensure correct shape\n"
   ]
  },
  {
   "cell_type": "code",
   "execution_count": 64,
   "id": "09025b8a-45af-474a-a121-91c96c0b9afa",
   "metadata": {
    "execution": {
     "iopub.execute_input": "2024-05-01T20:33:00.503292Z",
     "iopub.status.busy": "2024-05-01T20:33:00.503068Z",
     "iopub.status.idle": "2024-05-01T20:33:00.554297Z",
     "shell.execute_reply": "2024-05-01T20:33:00.553738Z",
     "shell.execute_reply.started": "2024-05-01T20:33:00.503276Z"
    },
    "tags": []
   },
   "outputs": [
    {
     "name": "stdout",
     "output_type": "stream",
     "text": [
      "Accuracy: 0.7635687732342007\n",
      "ROC AUC Score: 0.7634965646615997\n",
      "Precision: 0.761544284632854\n",
      "Recall: 0.7581009796533534\n",
      "F1 Score: 0.7598187311178248\n",
      "Matthews Correlation Coefficient: 0.5270298452169149\n",
      "Specificity (Negative Prediction Accuracy): 0.768892149669846\n"
     ]
    }
   ],
   "source": [
    "# Set model to evaluation mode\n",
    "nn_model.eval()\n",
    "\n",
    "# Disable gradient computation for testing (saves memory and computations)\n",
    "with torch.no_grad():\n",
    "    outputs = nn_model(X_test)\n",
    "\n",
    "\n",
    "# Convert outputs to predicted classes\n",
    "# For binary classification with a single output unit\n",
    "predictions = (outputs > 0.5).float()  # Threshold probabilities to classify as 1 or 0\n",
    "\n",
    "# Since you cannot use sklearn directly with tensors, you need to move data back to CPU and convert to numpy\n",
    "predictions = predictions.cpu().numpy()\n",
    "y_test = y_test.cpu().numpy()\n",
    "\n",
    "result = eval(y_test, predictions, verbose=True)"
   ]
  },
  {
   "cell_type": "markdown",
   "id": "a3e50982-88c0-4252-bff9-99771e4c9540",
   "metadata": {
    "execution": {
     "iopub.execute_input": "2024-04-24T05:40:06.716156Z",
     "iopub.status.busy": "2024-04-24T05:40:06.715830Z",
     "iopub.status.idle": "2024-04-24T05:40:06.756633Z",
     "shell.execute_reply": "2024-04-24T05:40:06.755994Z",
     "shell.execute_reply.started": "2024-04-24T05:40:06.716137Z"
    },
    "tags": []
   },
   "source": [
    "# SimpleNN: evaluation on external data"
   ]
  },
  {
   "cell_type": "code",
   "execution_count": 65,
   "id": "bd3a49f4-6c2e-4eb4-ae20-d301b1967071",
   "metadata": {
    "execution": {
     "iopub.execute_input": "2024-05-01T20:33:07.201063Z",
     "iopub.status.busy": "2024-05-01T20:33:07.200739Z",
     "iopub.status.idle": "2024-05-01T20:33:09.091371Z",
     "shell.execute_reply": "2024-05-01T20:33:09.090337Z",
     "shell.execute_reply.started": "2024-05-01T20:33:07.201043Z"
    },
    "tags": []
   },
   "outputs": [
    {
     "name": "stdout",
     "output_type": "stream",
     "text": [
      "\n",
      "= = = Experiment on pos = = =\n",
      "Accuracy: 0.8181818181818182\n",
      "ROC AUC Score: 0.8285714285714286\n",
      "Precision: 0.9230769230769231\n",
      "Recall: 0.8\n",
      "F1 Score: 0.8571428571428571\n",
      "Matthews Correlation Coefficient: 0.6225317562548818\n",
      "Specificity (Negative Prediction Accuracy): 0.8571428571428571\n",
      "\n",
      "= = = Experiment on neg = = =\n",
      "Accuracy: 0.8536585365853658\n",
      "ROC AUC Score: 0.8424242424242425\n",
      "Precision: 0.6923076923076923\n",
      "Recall: 0.8181818181818182\n",
      "F1 Score: 0.7500000000000001\n",
      "Matthews Correlation Coefficient: 0.652079845730663\n",
      "Specificity (Negative Prediction Accuracy): 0.8666666666666667\n",
      "\n",
      "= = = Experiment on new = = =\n",
      "Accuracy: 0.9297297297297298\n",
      "ROC AUC Score: 0.907182136310615\n",
      "Precision: 0.38461538461538464\n",
      "Recall: 0.8823529411764706\n",
      "F1 Score: 0.5357142857142858\n",
      "Matthews Correlation Coefficient: 0.5552444487657598\n",
      "Specificity (Negative Prediction Accuracy): 0.9320113314447592\n",
      "\n",
      "= = = Experiment on all = = =\n",
      "Accuracy: 0.92\n",
      "ROC AUC Score: 0.884\n",
      "Precision: 0.5384615384615384\n",
      "Recall: 0.84\n",
      "F1 Score: 0.6562499999999999\n",
      "Matthews Correlation Coefficient: 0.6328676894785507\n",
      "Specificity (Negative Prediction Accuracy): 0.928\n"
     ]
    }
   ],
   "source": [
    "for i, curr_data in ext_data.items():\n",
    "    curr_X, curr_y = prepare_data(curr_data)    \n",
    "    curr_X = torch.tensor(curr_X, dtype=torch.float32)  # Convert to tensor\n",
    "    curr_y = torch.tensor(curr_y, dtype=torch.float32).unsqueeze(1)  # Convert to tensor and ensure correct shape\n",
    "    \n",
    "    # Set model to evaluation mode\n",
    "    nn_model.eval()\n",
    "\n",
    "    # Disable gradient computation for testing (saves memory and computations)\n",
    "    with torch.no_grad():\n",
    "        outputs = nn_model(curr_X)\n",
    "    \n",
    "    curr_pred = (outputs > 0.5).float()  # Threshold probabilities to classify as 1 or 0\n",
    "\n",
    "    # Since you cannot use sklearn directly with tensors, you need to move data back to CPU and convert to numpy\n",
    "    curr_pred = curr_pred.cpu().numpy()\n",
    "    curr_y = curr_y.cpu().numpy()\n",
    "\n",
    "    print(f\"\\n= = = Experiment on {i} = = =\")\n",
    "    eval(curr_y, curr_pred)\n"
   ]
  },
  {
   "cell_type": "code",
   "execution_count": null,
   "id": "2d10cf41-3052-456b-95ff-281806819253",
   "metadata": {},
   "outputs": [],
   "source": []
  },
  {
   "cell_type": "code",
   "execution_count": null,
   "id": "31513ba9-1c74-43f4-ad39-86d401aa4f09",
   "metadata": {},
   "outputs": [],
   "source": []
  },
  {
   "cell_type": "markdown",
   "id": "f46353df-a3ec-4a61-861d-f0a4f88491ac",
   "metadata": {},
   "source": [
    "# LTN first trial"
   ]
  },
  {
   "cell_type": "code",
   "execution_count": 33,
   "id": "51c03dae-9490-484c-998e-f2e1bb82c1c5",
   "metadata": {
    "execution": {
     "iopub.execute_input": "2024-05-01T20:13:04.426493Z",
     "iopub.status.busy": "2024-05-01T20:13:04.426320Z",
     "iopub.status.idle": "2024-05-01T20:13:04.804086Z",
     "shell.execute_reply": "2024-05-01T20:13:04.803183Z",
     "shell.execute_reply.started": "2024-05-01T20:13:04.426477Z"
    },
    "tags": []
   },
   "outputs": [
    {
     "ename": "ValueError",
     "evalue": "Using a target size (torch.Size([9411, 1, 1])) that is different to the input size (torch.Size([9411, 1])) is deprecated. Please ensure they have the same size.",
     "output_type": "error",
     "traceback": [
      "\u001b[0;31m---------------------------------------------------------------------------\u001b[0m",
      "\u001b[0;31mValueError\u001b[0m                                Traceback (most recent call last)",
      "Cell \u001b[0;32mIn[33], line 47\u001b[0m\n\u001b[1;32m     44\u001b[0m             \u001b[38;5;28mprint\u001b[39m(\u001b[38;5;124mf\u001b[39m\u001b[38;5;124m\"\u001b[39m\u001b[38;5;124mEpoch \u001b[39m\u001b[38;5;132;01m{\u001b[39;00mepoch\u001b[38;5;241m+\u001b[39m\u001b[38;5;241m1\u001b[39m\u001b[38;5;132;01m}\u001b[39;00m\u001b[38;5;124m, Loss: \u001b[39m\u001b[38;5;132;01m{\u001b[39;00mloss\u001b[38;5;241m.\u001b[39mitem()\u001b[38;5;132;01m}\u001b[39;00m\u001b[38;5;124m\"\u001b[39m)\n\u001b[1;32m     46\u001b[0m \u001b[38;5;66;03m# Execute the training\u001b[39;00m\n\u001b[0;32m---> 47\u001b[0m \u001b[43mtrain\u001b[49m\u001b[43m(\u001b[49m\u001b[43mmodel\u001b[49m\u001b[43m,\u001b[49m\u001b[43m \u001b[49m\u001b[43mX_train_tensor\u001b[49m\u001b[43m,\u001b[49m\u001b[43m \u001b[49m\u001b[43my_train_tensor\u001b[49m\u001b[43m,\u001b[49m\u001b[43m \u001b[49m\u001b[43moptimizer\u001b[49m\u001b[43m)\u001b[49m\n\u001b[1;32m     50\u001b[0m \u001b[38;5;66;03m# Set model to evaluation mode\u001b[39;00m\n\u001b[1;32m     51\u001b[0m nn_model\u001b[38;5;241m.\u001b[39meval()\n",
      "Cell \u001b[0;32mIn[33], line 40\u001b[0m, in \u001b[0;36mtrain\u001b[0;34m(model, X_train, y_train, optimizer, epochs)\u001b[0m\n\u001b[1;32m     38\u001b[0m optimizer\u001b[38;5;241m.\u001b[39mzero_grad()\n\u001b[1;32m     39\u001b[0m outputs \u001b[38;5;241m=\u001b[39m model(X_train)  \u001b[38;5;66;03m# Directly use the model\u001b[39;00m\n\u001b[0;32m---> 40\u001b[0m loss \u001b[38;5;241m=\u001b[39m \u001b[43mnn\u001b[49m\u001b[38;5;241;43m.\u001b[39;49m\u001b[43mBCELoss\u001b[49m\u001b[43m(\u001b[49m\u001b[43m)\u001b[49m\u001b[43m(\u001b[49m\u001b[43moutputs\u001b[49m\u001b[43m,\u001b[49m\u001b[43m \u001b[49m\u001b[43my_train\u001b[49m\u001b[43m)\u001b[49m\n\u001b[1;32m     41\u001b[0m loss\u001b[38;5;241m.\u001b[39mbackward()\n\u001b[1;32m     42\u001b[0m optimizer\u001b[38;5;241m.\u001b[39mstep()\n",
      "File \u001b[0;32m~/.conda/envs/herg/lib/python3.9/site-packages/torch/nn/modules/module.py:1511\u001b[0m, in \u001b[0;36mModule._wrapped_call_impl\u001b[0;34m(self, *args, **kwargs)\u001b[0m\n\u001b[1;32m   1509\u001b[0m     \u001b[38;5;28;01mreturn\u001b[39;00m \u001b[38;5;28mself\u001b[39m\u001b[38;5;241m.\u001b[39m_compiled_call_impl(\u001b[38;5;241m*\u001b[39margs, \u001b[38;5;241m*\u001b[39m\u001b[38;5;241m*\u001b[39mkwargs)  \u001b[38;5;66;03m# type: ignore[misc]\u001b[39;00m\n\u001b[1;32m   1510\u001b[0m \u001b[38;5;28;01melse\u001b[39;00m:\n\u001b[0;32m-> 1511\u001b[0m     \u001b[38;5;28;01mreturn\u001b[39;00m \u001b[38;5;28;43mself\u001b[39;49m\u001b[38;5;241;43m.\u001b[39;49m\u001b[43m_call_impl\u001b[49m\u001b[43m(\u001b[49m\u001b[38;5;241;43m*\u001b[39;49m\u001b[43margs\u001b[49m\u001b[43m,\u001b[49m\u001b[43m \u001b[49m\u001b[38;5;241;43m*\u001b[39;49m\u001b[38;5;241;43m*\u001b[39;49m\u001b[43mkwargs\u001b[49m\u001b[43m)\u001b[49m\n",
      "File \u001b[0;32m~/.conda/envs/herg/lib/python3.9/site-packages/torch/nn/modules/module.py:1520\u001b[0m, in \u001b[0;36mModule._call_impl\u001b[0;34m(self, *args, **kwargs)\u001b[0m\n\u001b[1;32m   1515\u001b[0m \u001b[38;5;66;03m# If we don't have any hooks, we want to skip the rest of the logic in\u001b[39;00m\n\u001b[1;32m   1516\u001b[0m \u001b[38;5;66;03m# this function, and just call forward.\u001b[39;00m\n\u001b[1;32m   1517\u001b[0m \u001b[38;5;28;01mif\u001b[39;00m \u001b[38;5;129;01mnot\u001b[39;00m (\u001b[38;5;28mself\u001b[39m\u001b[38;5;241m.\u001b[39m_backward_hooks \u001b[38;5;129;01mor\u001b[39;00m \u001b[38;5;28mself\u001b[39m\u001b[38;5;241m.\u001b[39m_backward_pre_hooks \u001b[38;5;129;01mor\u001b[39;00m \u001b[38;5;28mself\u001b[39m\u001b[38;5;241m.\u001b[39m_forward_hooks \u001b[38;5;129;01mor\u001b[39;00m \u001b[38;5;28mself\u001b[39m\u001b[38;5;241m.\u001b[39m_forward_pre_hooks\n\u001b[1;32m   1518\u001b[0m         \u001b[38;5;129;01mor\u001b[39;00m _global_backward_pre_hooks \u001b[38;5;129;01mor\u001b[39;00m _global_backward_hooks\n\u001b[1;32m   1519\u001b[0m         \u001b[38;5;129;01mor\u001b[39;00m _global_forward_hooks \u001b[38;5;129;01mor\u001b[39;00m _global_forward_pre_hooks):\n\u001b[0;32m-> 1520\u001b[0m     \u001b[38;5;28;01mreturn\u001b[39;00m \u001b[43mforward_call\u001b[49m\u001b[43m(\u001b[49m\u001b[38;5;241;43m*\u001b[39;49m\u001b[43margs\u001b[49m\u001b[43m,\u001b[49m\u001b[43m \u001b[49m\u001b[38;5;241;43m*\u001b[39;49m\u001b[38;5;241;43m*\u001b[39;49m\u001b[43mkwargs\u001b[49m\u001b[43m)\u001b[49m\n\u001b[1;32m   1522\u001b[0m \u001b[38;5;28;01mtry\u001b[39;00m:\n\u001b[1;32m   1523\u001b[0m     result \u001b[38;5;241m=\u001b[39m \u001b[38;5;28;01mNone\u001b[39;00m\n",
      "File \u001b[0;32m~/.conda/envs/herg/lib/python3.9/site-packages/torch/nn/modules/loss.py:618\u001b[0m, in \u001b[0;36mBCELoss.forward\u001b[0;34m(self, input, target)\u001b[0m\n\u001b[1;32m    617\u001b[0m \u001b[38;5;28;01mdef\u001b[39;00m \u001b[38;5;21mforward\u001b[39m(\u001b[38;5;28mself\u001b[39m, \u001b[38;5;28minput\u001b[39m: Tensor, target: Tensor) \u001b[38;5;241m-\u001b[39m\u001b[38;5;241m>\u001b[39m Tensor:\n\u001b[0;32m--> 618\u001b[0m     \u001b[38;5;28;01mreturn\u001b[39;00m \u001b[43mF\u001b[49m\u001b[38;5;241;43m.\u001b[39;49m\u001b[43mbinary_cross_entropy\u001b[49m\u001b[43m(\u001b[49m\u001b[38;5;28;43minput\u001b[39;49m\u001b[43m,\u001b[49m\u001b[43m \u001b[49m\u001b[43mtarget\u001b[49m\u001b[43m,\u001b[49m\u001b[43m \u001b[49m\u001b[43mweight\u001b[49m\u001b[38;5;241;43m=\u001b[39;49m\u001b[38;5;28;43mself\u001b[39;49m\u001b[38;5;241;43m.\u001b[39;49m\u001b[43mweight\u001b[49m\u001b[43m,\u001b[49m\u001b[43m \u001b[49m\u001b[43mreduction\u001b[49m\u001b[38;5;241;43m=\u001b[39;49m\u001b[38;5;28;43mself\u001b[39;49m\u001b[38;5;241;43m.\u001b[39;49m\u001b[43mreduction\u001b[49m\u001b[43m)\u001b[49m\n",
      "File \u001b[0;32m~/.conda/envs/herg/lib/python3.9/site-packages/torch/nn/functional.py:3118\u001b[0m, in \u001b[0;36mbinary_cross_entropy\u001b[0;34m(input, target, weight, size_average, reduce, reduction)\u001b[0m\n\u001b[1;32m   3116\u001b[0m     reduction_enum \u001b[38;5;241m=\u001b[39m _Reduction\u001b[38;5;241m.\u001b[39mget_enum(reduction)\n\u001b[1;32m   3117\u001b[0m \u001b[38;5;28;01mif\u001b[39;00m target\u001b[38;5;241m.\u001b[39msize() \u001b[38;5;241m!=\u001b[39m \u001b[38;5;28minput\u001b[39m\u001b[38;5;241m.\u001b[39msize():\n\u001b[0;32m-> 3118\u001b[0m     \u001b[38;5;28;01mraise\u001b[39;00m \u001b[38;5;167;01mValueError\u001b[39;00m(\n\u001b[1;32m   3119\u001b[0m         \u001b[38;5;124m\"\u001b[39m\u001b[38;5;124mUsing a target size (\u001b[39m\u001b[38;5;132;01m{}\u001b[39;00m\u001b[38;5;124m) that is different to the input size (\u001b[39m\u001b[38;5;132;01m{}\u001b[39;00m\u001b[38;5;124m) is deprecated. \u001b[39m\u001b[38;5;124m\"\u001b[39m\n\u001b[1;32m   3120\u001b[0m         \u001b[38;5;124m\"\u001b[39m\u001b[38;5;124mPlease ensure they have the same size.\u001b[39m\u001b[38;5;124m\"\u001b[39m\u001b[38;5;241m.\u001b[39mformat(target\u001b[38;5;241m.\u001b[39msize(), \u001b[38;5;28minput\u001b[39m\u001b[38;5;241m.\u001b[39msize())\n\u001b[1;32m   3121\u001b[0m     )\n\u001b[1;32m   3123\u001b[0m \u001b[38;5;28;01mif\u001b[39;00m weight \u001b[38;5;129;01mis\u001b[39;00m \u001b[38;5;129;01mnot\u001b[39;00m \u001b[38;5;28;01mNone\u001b[39;00m:\n\u001b[1;32m   3124\u001b[0m     new_size \u001b[38;5;241m=\u001b[39m _infer_size(target\u001b[38;5;241m.\u001b[39msize(), weight\u001b[38;5;241m.\u001b[39msize())\n",
      "\u001b[0;31mValueError\u001b[0m: Using a target size (torch.Size([9411, 1, 1])) that is different to the input size (torch.Size([9411, 1])) is deprecated. Please ensure they have the same size."
     ]
    }
   ],
   "source": [
    "import torch\n",
    "import torch.nn as nn\n",
    "import torch.optim as optim\n",
    "\n",
    "class LTNModel(nn.Module):\n",
    "    def __init__(self):\n",
    "        super(LTNModel, self).__init__()\n",
    "        self.layers = nn.Sequential(\n",
    "            nn.Linear(1024, 64),  # Assuming input features size of 1024\n",
    "            nn.ReLU(),\n",
    "            nn.Linear(64, 64),\n",
    "            nn.ReLU(),\n",
    "            nn.Linear(64, 1),  # binary classification\n",
    "            nn.Sigmoid()\n",
    "        )\n",
    "\n",
    "    def forward(self, x):\n",
    "        return self.layers(x)\n",
    "    \n",
    "    \n",
    "    \n",
    "# Instantiate the model\n",
    "model = LTNModel()\n",
    "\n",
    "# Prepare data\n",
    "X_train_tensor = torch.tensor(X_train, dtype=torch.float32)\n",
    "y_train_tensor = torch.tensor(y_train, dtype=torch.float32).unsqueeze(1)\n",
    "X_test_tensor = torch.tensor(X_test, dtype=torch.float32)\n",
    "y_test_tensor = torch.tensor(y_test, dtype=torch.float32).unsqueeze(1)\n",
    "\n",
    "# Setup optimizer\n",
    "optimizer = optim.Adam(model.parameters(), lr=0.001)\n",
    "\n",
    "# Define and run the training function\n",
    "def train(model, X_train, y_train, optimizer, epochs=100):\n",
    "    model.train()\n",
    "    for epoch in range(epochs):\n",
    "        optimizer.zero_grad()\n",
    "        outputs = model(X_train)  # Directly use the model\n",
    "        loss = nn.BCELoss()(outputs, y_train)\n",
    "        loss.backward()\n",
    "        optimizer.step()\n",
    "        if (epoch + 1) % 10 == 0:\n",
    "            print(f\"Epoch {epoch+1}, Loss: {loss.item()}\")\n",
    "\n",
    "# Execute the training\n",
    "train(model, X_train_tensor, y_train_tensor, optimizer)\n",
    "\n",
    "\n",
    "# Set model to evaluation mode\n",
    "nn_model.eval()\n",
    "with torch.no_grad():\n",
    "    outputs = model(X_test_tensor)\n",
    "predictions = (outputs > 0.5).float()  # Threshold probabilities to classify as 1 or 0\n",
    "\n",
    "# Since you cannot use sklearn directly with tensors, you need to move data back to CPU and convert to numpy\n",
    "predictions = predictions.cpu().numpy()\n",
    "y_test_tensor = y_test_tensor.cpu().numpy()\n",
    "eval(y_test_tensor, predictions)"
   ]
  },
  {
   "cell_type": "markdown",
   "id": "5dc1d58d-ed0e-41c6-9855-eb14c31d761d",
   "metadata": {},
   "source": [
    "# Logic Tensor Network (LTN)"
   ]
  },
  {
   "cell_type": "code",
   "execution_count": null,
   "id": "83d007c8-73d4-40b3-8626-787f9fac70f8",
   "metadata": {
    "execution": {
     "iopub.status.busy": "2024-04-24T14:31:18.386078Z",
     "iopub.status.idle": "2024-04-24T14:31:18.386308Z",
     "shell.execute_reply": "2024-04-24T14:31:18.386203Z",
     "shell.execute_reply.started": "2024-04-24T14:31:18.386194Z"
    },
    "tags": []
   },
   "outputs": [],
   "source": [
    "import ltn"
   ]
  },
  {
   "cell_type": "code",
   "execution_count": null,
   "id": "0de3c1b7-5a04-4eea-a5ce-87da86c45e80",
   "metadata": {
    "execution": {
     "iopub.status.busy": "2024-04-24T14:31:18.387066Z",
     "iopub.status.idle": "2024-04-24T14:31:18.387458Z",
     "shell.execute_reply": "2024-04-24T14:31:18.387360Z",
     "shell.execute_reply.started": "2024-04-24T14:31:18.387350Z"
    },
    "tags": []
   },
   "outputs": [],
   "source": [
    "class LTNModel(torch.nn.Module):\n",
    "    def __init__(self):\n",
    "        super(LTNModel, self).__init__()\n",
    "        self.layers = nn.Sequential(\n",
    "            nn.Linear(1024, 64),  # Assuming input features size of 1024\n",
    "            nn.ReLU(),\n",
    "            nn.Linear(64, 64),\n",
    "            nn.ReLU(),\n",
    "            nn.Linear(64, 1),  # binary classification\n",
    "            nn.Sigmoid()\n",
    "        )\n",
    "\n",
    "    def forward(self, x):\n",
    "        return self.layers(x)\n",
    "        \n",
    "    \n",
    "# Instantiate model and predicate\n",
    "ltn_model = LTNModel()\n",
    "#predicate_toxic = ltn.Predicate(ltn_model)\n"
   ]
  },
  {
   "cell_type": "markdown",
   "id": "03da0656-adf6-42a0-9bfa-20b473660e0a",
   "metadata": {},
   "source": [
    "# LTN: Rules"
   ]
  },
  {
   "cell_type": "code",
   "execution_count": null,
   "id": "b99664e3-6c4a-49ec-a85f-1baf3b04f316",
   "metadata": {
    "execution": {
     "iopub.status.busy": "2024-04-24T14:31:18.387955Z",
     "iopub.status.idle": "2024-04-24T14:31:18.388291Z",
     "shell.execute_reply": "2024-04-24T14:31:18.388194Z",
     "shell.execute_reply.started": "2024-04-24T14:31:18.388185Z"
    },
    "tags": []
   },
   "outputs": [],
   "source": [
    "# Rule: Structural similarity implies similar toxicity\n",
    "# Define a similarity measure (could be cosine similarity, Jaccard index, etc. for molecular fingerprints)\n",
    "def similarity(x, y):\n",
    "    return torch.cosine_similarity(x, y, dim=1)\n",
    "\n",
    "# Logical rule\n",
    "def rule_structural_similarity(data):\n",
    "    for i in range(len(data)):\n",
    "        for j in range(len(data)):\n",
    "            # Enforce that similar compounds should have similar toxicity predictions\n",
    "            ltn.axiom((similarity(data[i], data[j]) > 0.8) >> (ltn.equivalence(predicate_toxic(data[i]), predicate_toxic(data[j]))))\n",
    "\n",
    "\n",
    "            \n",
    "def structure_similarity(data, epsilon=0.85):\n",
    "    # Assume a function that calculates pairwise similarity (e.g., cosine similarity)\n",
    "    similarities = torch.mm(data, data.t())  # This is a simplistic way to compute similarities\n",
    "    for i in range(len(data)):\n",
    "        for j in range(len(data)):\n",
    "            # Adding similarity rule: similar structures imply similar toxicity levels\n",
    "            ltn.axiom((similarities[i, j] > epsilon) >> (ltn.equivalence(predicate_toxic(data[i]), predicate_toxic(data[j]))))\n",
    "\n",
    "# Dummy function for presence of specific substructures (you need actual implementation based on your data)\n",
    "def presence_of_toxic_substructures(data, indices_of_substructures):\n",
    "    for i in range(len(data)):\n",
    "        if any(data[i][idx] == 1 for idx in indices_of_substructures):\n",
    "            ltn.axiom(predicate_toxic(data[i]))            \n"
   ]
  },
  {
   "cell_type": "markdown",
   "id": "4fad4504-cebd-4c0e-8ef2-1ed5b12e35a4",
   "metadata": {},
   "source": [
    "# Prepare Data"
   ]
  },
  {
   "cell_type": "code",
   "execution_count": null,
   "id": "090e39bb-d7e6-4195-9105-19985796fc33",
   "metadata": {
    "execution": {
     "iopub.status.busy": "2024-04-24T14:31:18.388818Z",
     "iopub.status.idle": "2024-04-24T14:31:18.389200Z",
     "shell.execute_reply": "2024-04-24T14:31:18.389096Z",
     "shell.execute_reply.started": "2024-04-24T14:31:18.389087Z"
    },
    "tags": []
   },
   "outputs": [],
   "source": [
    "X_train_tensor = torch.tensor(X_train, dtype=torch.float32)\n",
    "y_train_tensor = torch.tensor(y_train, dtype=torch.float32).unsqueeze(1)\n"
   ]
  },
  {
   "cell_type": "markdown",
   "id": "1bde769c-a473-4a39-bfdd-4f9185978818",
   "metadata": {},
   "source": [
    "# LTN: Training"
   ]
  },
  {
   "cell_type": "code",
   "execution_count": null,
   "id": "4dc49351-1401-4633-82fb-f5eb1a7d3269",
   "metadata": {
    "execution": {
     "iopub.status.busy": "2024-04-24T14:31:18.389678Z",
     "iopub.status.idle": "2024-04-24T14:31:18.389956Z",
     "shell.execute_reply": "2024-04-24T14:31:18.389860Z",
     "shell.execute_reply.started": "2024-04-24T14:31:18.389851Z"
    },
    "tags": []
   },
   "outputs": [],
   "source": [
    "ltn_optimizer = optim.Adam(ltn_model.parameters(), lr=0.001)\n",
    "\n",
    "# Define a training function\n",
    "def ltn_train(predicate, X_train, y_train, optimizer, epochs=100):\n",
    "    for epoch in range(epochs):\n",
    "        optimizer.zero_grad()\n",
    "        outputs = predicate(X_train)  # Using the predicate directly\n",
    "        loss = nn.BCELoss()(outputs.tensor, y_train.tensor)  # Accessing the tensor from the LTN Tensor\n",
    "        loss.backward()\n",
    "        optimizer.step()\n",
    "        if (epoch + 1) % 10 == 0:\n",
    "            print(f\"Epoch {epoch+1}, Loss: {loss.item()}\")\n",
    "            \n",
    "# Step 7: Run the training\n",
    "# Execute the training\n",
    "ltn_train(predicate_toxic, X_train_ltn, y_train_ltn, ltn_optimizer)"
   ]
  },
  {
   "cell_type": "code",
   "execution_count": null,
   "id": "e7716641-377b-4355-91cf-ea41eb3ebada",
   "metadata": {
    "execution": {
     "iopub.status.busy": "2024-04-24T14:31:18.390470Z",
     "iopub.status.idle": "2024-04-24T14:31:18.390668Z",
     "shell.execute_reply": "2024-04-24T14:31:18.390577Z",
     "shell.execute_reply.started": "2024-04-24T14:31:18.390568Z"
    }
   },
   "outputs": [],
   "source": [
    "\n",
    "model.eval()\n",
    "with torch.no_grad():\n",
    "    test_outputs = predicate_toxic(X_test_term)\n",
    "    test_predictions = (test_outputs > 0.5).float()\n",
    "    accuracy = (test_predictions == y_test_term.tensor).float().mean()  # Compare against the tensor inside the term\n",
    "    print(f\"Test Accuracy: {accuracy.item()}\")"
   ]
  },
  {
   "cell_type": "code",
   "execution_count": null,
   "id": "325679b5-64b0-48dd-9cb8-a936077eec2e",
   "metadata": {},
   "outputs": [],
   "source": []
  },
  {
   "cell_type": "code",
   "execution_count": null,
   "id": "5bd5f63e-b5c4-4b8e-b89a-59fdce85cf3f",
   "metadata": {},
   "outputs": [],
   "source": []
  },
  {
   "cell_type": "code",
   "execution_count": null,
   "id": "f07bc1ed-710d-4a36-bbb0-994907e2cc80",
   "metadata": {},
   "outputs": [],
   "source": []
  },
  {
   "cell_type": "code",
   "execution_count": null,
   "id": "fcf42726-9466-4dc9-837b-822710256977",
   "metadata": {},
   "outputs": [],
   "source": []
  },
  {
   "cell_type": "code",
   "execution_count": null,
   "id": "d5eb506f-3f4c-43e0-8a43-430f6046eebe",
   "metadata": {},
   "outputs": [],
   "source": []
  },
  {
   "cell_type": "code",
   "execution_count": null,
   "id": "5c2f0b27-6cf8-45de-98a9-64a8b90b2539",
   "metadata": {},
   "outputs": [],
   "source": []
  }
 ],
 "metadata": {
  "kernelspec": {
   "display_name": "herg",
   "language": "python",
   "name": "herg"
  },
  "language_info": {
   "codemirror_mode": {
    "name": "ipython",
    "version": 3
   },
   "file_extension": ".py",
   "mimetype": "text/x-python",
   "name": "python",
   "nbconvert_exporter": "python",
   "pygments_lexer": "ipython3",
   "version": "3.9.19"
  }
 },
 "nbformat": 4,
 "nbformat_minor": 5
}
