{
 "cells": [
  {
   "cell_type": "code",
   "execution_count": 1,
   "id": "e0fc9b99-2c6c-47a2-933d-37adad598f2d",
   "metadata": {
    "execution": {
     "iopub.execute_input": "2024-05-05T04:53:52.984226Z",
     "iopub.status.busy": "2024-05-05T04:53:52.983792Z",
     "iopub.status.idle": "2024-05-05T04:53:54.719538Z",
     "shell.execute_reply": "2024-05-05T04:53:54.718826Z",
     "shell.execute_reply.started": "2024-05-05T04:53:52.984207Z"
    },
    "tags": []
   },
   "outputs": [],
   "source": [
    "%load_ext autoreload\n",
    "%autoreload 2\n",
    "%matplotlib inline\n",
    "\n",
    "# Import necessary libraries\n",
    "import os\n",
    "import sys\n",
    "from pathlib import Path\n",
    "# Ensure the src directory is accessible\n",
    "sys.path.append('./src')"
   ]
  },
  {
   "cell_type": "markdown",
   "id": "d6b7275e-a9fc-44b5-82a4-964b2c6f0f12",
   "metadata": {},
   "source": [
    "# Get data"
   ]
  },
  {
   "cell_type": "code",
   "execution_count": 2,
   "id": "660f19b0-4801-49df-a0b6-42caa57c82f8",
   "metadata": {
    "execution": {
     "iopub.execute_input": "2024-05-05T04:53:55.869748Z",
     "iopub.status.busy": "2024-05-05T04:53:55.869562Z",
     "iopub.status.idle": "2024-05-05T04:55:42.742069Z",
     "shell.execute_reply": "2024-05-05T04:55:42.741383Z",
     "shell.execute_reply.started": "2024-05-05T04:53:55.869732Z"
    },
    "tags": []
   },
   "outputs": [
    {
     "name": "stderr",
     "output_type": "stream",
     "text": [
      "Found local copy...\n",
      "Loading...\n",
      "Done!\n",
      "Found local copy...\n",
      "Loading...\n",
      "Done!\n",
      "Found local copy...\n",
      "Loading...\n",
      "Done!\n",
      "100%|██████████| 306893/306893 [01:43<00:00, 2962.10it/s]\n"
     ]
    }
   ],
   "source": [
    "from get_data import get_data\n",
    "data_sets = get_data() "
   ]
  },
  {
   "cell_type": "markdown",
   "id": "151a3be9-2573-4941-b103-dcca6391831a",
   "metadata": {},
   "source": [
    "# LLM based model"
   ]
  },
  {
   "cell_type": "code",
   "execution_count": 3,
   "id": "a3231b18-9a66-4528-8962-c38ba898007f",
   "metadata": {
    "execution": {
     "iopub.execute_input": "2024-05-05T04:55:51.254347Z",
     "iopub.status.busy": "2024-05-05T04:55:51.253970Z",
     "iopub.status.idle": "2024-05-05T04:55:55.402274Z",
     "shell.execute_reply": "2024-05-05T04:55:55.401065Z",
     "shell.execute_reply.started": "2024-05-05T04:55:51.254327Z"
    },
    "tags": []
   },
   "outputs": [],
   "source": [
    "import torch\n",
    "from torch import nn\n",
    "from torch.utils.data import DataLoader, Dataset\n",
    "from transformers import AutoTokenizer, AutoModelForSequenceClassification, AdamW, RobertaConfig, RobertaForSequenceClassification\n",
    "\n",
    "\n",
    "from sklearn.model_selection import train_test_split\n",
    "from sklearn.metrics import roc_auc_score\n",
    "\n",
    "\n",
    "# Define a custom dataset class\n",
    "class SMILESDataset(Dataset):\n",
    "    def __init__(self, smiles, labels, tokenizer, max_length=128):\n",
    "        self.smiles = smiles\n",
    "        self.labels = labels\n",
    "        self.tokenizer = tokenizer\n",
    "        self.max_length = max_length\n",
    "\n",
    "    def __len__(self):\n",
    "        return len(self.smiles)\n",
    "\n",
    "    def __getitem__(self, idx):\n",
    "        smile = self.smiles[idx]\n",
    "        label = self.labels[idx]\n",
    "        encoded = self.tokenizer(smile, return_tensors='pt', max_length=self.max_length, padding='max_length', truncation=True)\n",
    "        encoded_input = {key: val.squeeze(0) for key, val in encoded.items()}\n",
    "        return encoded_input, torch.tensor(label, dtype=torch.float)\n",
    "\n",
    "    \n",
    "# get pretrained tokenizer\n",
    "local_tokenizer_path = './huggingface/PubChem10M_SMILES_BPE_450k'  # Path where tokenizer files are stored\n",
    "tokenizer = AutoTokenizer.from_pretrained(local_tokenizer_path) \n",
    "# if online: tokenizer = AutoTokenizer.from_pretrained(seyonec/PubChem10M_SMILES_BPE_450k) \n",
    "\n",
    "\n",
    "# Load existing configuration and modify it\n",
    "config_path = './huggingface/ChemBERTa-zinc-base-v1/config.json'\n",
    "model_config = RobertaConfig.from_pretrained(config_path)\n",
    "model_config.vocab_size = 7924  # Updating the vocab size\n",
    "model_config.num_labels = 1  # Ensure this is set for binary classification\n",
    "\n",
    "\n",
    "# Reinitialize the model with updated configuration\n",
    "model = RobertaForSequenceClassification(config=model_config)\n",
    "\n",
    "\n",
    "# Prepare data\n",
    "train_smiles = data_sets['du']['train']['Drug'].tolist()\n",
    "train_labels = data_sets['du']['train']['Y'].tolist()\n",
    "valid_smiles = data_sets['du']['valid']['Drug'].tolist()\n",
    "valid_labels = data_sets['du']['valid']['Y'].tolist()\n",
    "\n",
    "train_dataset = SMILESDataset(train_smiles, train_labels, tokenizer)\n",
    "valid_dataset = SMILESDataset(valid_smiles, valid_labels, tokenizer)\n",
    "\n",
    "\n",
    "# Data loaders\n",
    "train_loader = DataLoader(train_dataset, batch_size=16, shuffle=True)\n",
    "valid_loader = DataLoader(valid_dataset, batch_size=16, shuffle=False)\n",
    "\n",
    "\n",
    "# Training\n",
    "device = torch.device(\"cuda\" if torch.cuda.is_available() else \"cpu\")\n",
    "\n",
    "\n",
    "model.to(device)\n",
    "optimizer = AdamW(model.parameters(), lr=5e-5)\n",
    "criterion = nn.BCEWithLogitsLoss()\n",
    "\n",
    "\n",
    "def train_epoch(model, data_loader, optimizer, device, criterion):\n",
    "    model.train()\n",
    "    total_loss = 0\n",
    "    for inputs, labels in data_loader:\n",
    "        inputs = {key: val.to(device) for key, val in inputs.items()}\n",
    "        labels = labels.to(device).unsqueeze(1)\n",
    "        outputs = model(**inputs)\n",
    "        loss = criterion(outputs.logits, labels)\n",
    "\n",
    "        optimizer.zero_grad()\n",
    "        loss.backward()\n",
    "        optimizer.step()\n",
    "        total_loss += loss.item()\n",
    "    return total_loss / len(data_loader)\n",
    "\n"
   ]
  },
  {
   "cell_type": "code",
   "execution_count": 5,
   "id": "7616a80a-78d9-4925-afb1-a1126fb5c0a8",
   "metadata": {
    "execution": {
     "iopub.execute_input": "2024-05-05T05:14:14.676406Z",
     "iopub.status.busy": "2024-05-05T05:14:14.676004Z",
     "iopub.status.idle": "2024-05-05T05:14:16.584284Z",
     "shell.execute_reply": "2024-05-05T05:14:16.583656Z",
     "shell.execute_reply.started": "2024-05-05T05:14:14.676383Z"
    },
    "tags": []
   },
   "outputs": [],
   "source": [
    "from evaluate import eval\n",
    "\n",
    "def eval_model(model, data_loader, device, verbose=False):\n",
    "    model.eval()\n",
    "    predictions = []\n",
    "    real_values = []\n",
    "    with torch.no_grad():\n",
    "        for inputs, labels in data_loader:\n",
    "            inputs = {key: val.to(device) for key, val in inputs.items()}\n",
    "            outputs = model(**inputs)\n",
    "            preds = torch.sigmoid(outputs.logits)\n",
    "            predictions.extend(preds.flatten().tolist())\n",
    "            real_values.extend(labels.tolist())\n",
    "    \n",
    "    return eval(real_values, predictions, verbose=verbose)  \n",
    "    \n"
   ]
  },
  {
   "cell_type": "code",
   "execution_count": null,
   "id": "3f964a87-2610-40aa-b34d-8949e17de1d9",
   "metadata": {
    "execution": {
     "iopub.execute_input": "2024-05-05T05:34:47.017629Z",
     "iopub.status.busy": "2024-05-05T05:34:47.017289Z"
    },
    "tags": []
   },
   "outputs": [
    {
     "name": "stdout",
     "output_type": "stream",
     "text": [
      "Epoch 1, Train Loss: 0.1836, Validation AUC: 0.6143\n",
      "Epoch 2, Train Loss: 0.1835, Validation AUC: 0.5809\n",
      "Epoch 3, Train Loss: 0.1834, Validation AUC: 0.4781\n",
      "Epoch 4, Train Loss: 0.1834, Validation AUC: 0.4689\n",
      "Epoch 5, Train Loss: 0.1833, Validation AUC: 0.4249\n",
      "Epoch 6, Train Loss: 0.1833, Validation AUC: 0.3361\n",
      "Epoch 7, Train Loss: 0.1832, Validation AUC: 0.4912\n",
      "Epoch 8, Train Loss: 0.1833, Validation AUC: 0.4917\n",
      "Epoch 9, Train Loss: 0.1832, Validation AUC: 0.5010\n",
      "Epoch 10, Train Loss: 0.1832, Validation AUC: 0.5421\n",
      "Epoch 11, Train Loss: 0.1831, Validation AUC: 0.4102\n",
      "Epoch 12, Train Loss: 0.1832, Validation AUC: 0.4956\n",
      "Epoch 13, Train Loss: 0.1831, Validation AUC: 0.5271\n",
      "Epoch 14, Train Loss: 0.1831, Validation AUC: 0.3513\n",
      "Epoch 15, Train Loss: 0.1832, Validation AUC: 0.5000\n",
      "Epoch 16, Train Loss: 0.1831, Validation AUC: 0.5458\n",
      "Epoch 17, Train Loss: 0.1832, Validation AUC: 0.4449\n",
      "Epoch 18, Train Loss: 0.1832, Validation AUC: 0.5000\n",
      "Epoch 19, Train Loss: 0.1832, Validation AUC: 0.4973\n",
      "Epoch 20, Train Loss: 0.1831, Validation AUC: 0.4558\n",
      "Epoch 21, Train Loss: 0.1831, Validation AUC: 0.4820\n",
      "Epoch 22, Train Loss: 0.1831, Validation AUC: 0.4896\n",
      "Epoch 23, Train Loss: 0.1831, Validation AUC: 0.5000\n",
      "Epoch 24, Train Loss: 0.1831, Validation AUC: 0.4924\n"
     ]
    }
   ],
   "source": [
    "# Train the model\n",
    "checkpoint_dir = './src/checkpoints'\n",
    "os.makedirs(checkpoint_dir, exist_ok=True)\n",
    "epoch_start = 0\n",
    "num_epochs = 100\n",
    "for epoch in range(num_epochs):\n",
    "    train_loss = train_epoch(model, train_loader, optimizer, device, criterion)\n",
    "    valid_metrics = eval_model(model, valid_loader, device)\n",
    "    print(f\"Epoch {epoch}, Train Loss: {train_loss:.4f}, Validation AUC: {valid_metrics['roc_auc']:.4f}\")\n",
    "\n",
    "    # Save the checkpoint every two epochs\n",
    "    if epoch % 1 == 0:\n",
    "        checkpoint_path = os.path.join(checkpoint_dir, f'checkpoint_epoch_{epoch}.pt')\n",
    "        torch.save({\n",
    "            'epoch': epoch,\n",
    "            'model_state_dict': mo\\del.state_dict(),\n",
    "            'optimizer_state_dict': optimizer.state_dict(),\n",
    "            'loss': train_loss,\n",
    "        }, checkpoint_path)"
   ]
  },
  {
   "cell_type": "code",
   "execution_count": null,
   "id": "a70e7ef4-1cb1-4caa-93ca-f1189d62f0c4",
   "metadata": {},
   "outputs": [],
   "source": []
  }
 ],
 "metadata": {
  "kernelspec": {
   "display_name": "herg",
   "language": "python",
   "name": "herg"
  },
  "language_info": {
   "codemirror_mode": {
    "name": "ipython",
    "version": 3
   },
   "file_extension": ".py",
   "mimetype": "text/x-python",
   "name": "python",
   "nbconvert_exporter": "python",
   "pygments_lexer": "ipython3",
   "version": "3.9.19"
  }
 },
 "nbformat": 4,
 "nbformat_minor": 5
}
