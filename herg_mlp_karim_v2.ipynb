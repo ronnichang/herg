{
 "cells": [
  {
   "cell_type": "code",
   "execution_count": 1,
   "id": "e0fc9b99-2c6c-47a2-933d-37adad598f2d",
   "metadata": {
    "execution": {
     "iopub.execute_input": "2024-06-27T10:37:41.333133Z",
     "iopub.status.busy": "2024-06-27T10:37:41.332982Z",
     "iopub.status.idle": "2024-06-27T10:37:41.814053Z",
     "shell.execute_reply": "2024-06-27T10:37:41.813611Z",
     "shell.execute_reply.started": "2024-06-27T10:37:41.333116Z"
    },
    "tags": []
   },
   "outputs": [],
   "source": [
    "%load_ext autoreload\n",
    "%autoreload 2\n",
    "%matplotlib inline\n",
    "\n",
    "# Import necessary libraries\n",
    "import sys\n",
    "from pathlib import Path\n",
    "# Ensure the src directory is accessible\n",
    "sys.path.append('./src')"
   ]
  },
  {
   "cell_type": "markdown",
   "id": "b08a15c7-5bad-4ccc-a1cf-ecbbce188a9e",
   "metadata": {},
   "source": [
    "# Get data"
   ]
  },
  {
   "cell_type": "code",
   "execution_count": 2,
   "id": "b5c49c88-0141-411f-bd39-fdeabcc8bf4c",
   "metadata": {
    "execution": {
     "iopub.execute_input": "2024-06-27T10:37:41.815025Z",
     "iopub.status.busy": "2024-06-27T10:37:41.814706Z",
     "iopub.status.idle": "2024-06-27T10:37:45.122039Z",
     "shell.execute_reply": "2024-06-27T10:37:45.121355Z",
     "shell.execute_reply.started": "2024-06-27T10:37:41.815005Z"
    },
    "tags": []
   },
   "outputs": [
    {
     "name": "stdout",
     "output_type": "stream",
     "text": [
      "train data contains 12620 compounds:\n",
      "\t6643 hERG blockers and 5977 non-blockers\n",
      "test_0 contains 44 compounds:\n",
      "\t30 hERG blockers and 14 non-blockers\n",
      "test_1 contains 41 compounds:\n",
      "\t11 hERG blockers and 30 non-blockers\n",
      "test_2 contains 740 compounds:\n",
      "\t34 hERG blockers and 706 non-blockers\n"
     ]
    }
   ],
   "source": [
    "import get_data \n",
    "train_all_data, test_all_data = get_data.get_cardiotoxnet_data()"
   ]
  },
  {
   "cell_type": "code",
   "execution_count": 3,
   "id": "145dea31-3f95-4c28-ac73-4852dcb08f01",
   "metadata": {
    "execution": {
     "iopub.execute_input": "2024-06-27T10:37:45.123270Z",
     "iopub.status.busy": "2024-06-27T10:37:45.122986Z",
     "iopub.status.idle": "2024-06-27T10:37:50.720930Z",
     "shell.execute_reply": "2024-06-27T10:37:50.719956Z",
     "shell.execute_reply.started": "2024-06-27T10:37:45.123250Z"
    },
    "tags": []
   },
   "outputs": [
    {
     "name": "stdout",
     "output_type": "stream",
     "text": [
      "Training set size: 10154\n",
      "Validation set size: 2466\n"
     ]
    }
   ],
   "source": [
    "random_state = 42\n",
    "test_percent = 0.2\n",
    "smiles_column = 'smiles'\n",
    "train_data, val_data = get_data.split_data(train_all_data, smiles_column, test_percent=0.2, random_state=random_state)"
   ]
  },
  {
   "cell_type": "code",
   "execution_count": null,
   "id": "4c00e299-6fa1-4c94-ade8-2164bbaa3cdb",
   "metadata": {},
   "outputs": [],
   "source": []
  },
  {
   "cell_type": "markdown",
   "id": "f4a26645-3a17-4256-9e77-0f42f6941d0a",
   "metadata": {},
   "source": [
    "# Extract features from SMILES strings"
   ]
  },
  {
   "cell_type": "code",
   "execution_count": 4,
   "id": "e1299d07-75a8-4deb-86fe-d6d512739ba9",
   "metadata": {
    "execution": {
     "iopub.execute_input": "2024-06-27T10:37:50.722327Z",
     "iopub.status.busy": "2024-06-27T10:37:50.722033Z",
     "iopub.status.idle": "2024-06-27T10:37:50.747771Z",
     "shell.execute_reply": "2024-06-27T10:37:50.747379Z",
     "shell.execute_reply.started": "2024-06-27T10:37:50.722307Z"
    },
    "tags": []
   },
   "outputs": [],
   "source": [
    "from features import smiles_to_fp\n",
    "\n",
    "def get_smiles_fingerprints(df, X_col=None, y_col=None, feature_n=1024):\n",
    "    X = list(df[X_col].apply(lambda x: smiles_to_fp(x, num_bits=feature_n)))\n",
    "    y = df[y_col].values\n",
    "    return X, y\n"
   ]
  },
  {
   "cell_type": "markdown",
   "id": "0dd894a9-2595-4d06-b9a8-3a9ec8f8807d",
   "metadata": {},
   "source": [
    "# Prepare traing and test data as Fingerprints from SMILES"
   ]
  },
  {
   "cell_type": "code",
   "execution_count": 5,
   "id": "ff48bc4b-ae71-44fe-bbcf-65bdcf8a27de",
   "metadata": {
    "execution": {
     "iopub.execute_input": "2024-06-27T10:37:50.748566Z",
     "iopub.status.busy": "2024-06-27T10:37:50.748347Z",
     "iopub.status.idle": "2024-06-27T10:37:59.971000Z",
     "shell.execute_reply": "2024-06-27T10:37:59.969947Z",
     "shell.execute_reply.started": "2024-06-27T10:37:50.748550Z"
    },
    "tags": []
   },
   "outputs": [],
   "source": [
    "feature_n = 128\n",
    "X_col = 'smiles'\n",
    "y_col = 'ACTIVITY'\n",
    "X_train, y_train = get_smiles_fingerprints(train_data, X_col=X_col, y_col=y_col, feature_n=feature_n)\n",
    "X_valid, y_valid = get_smiles_fingerprints(val_data, X_col=X_col, y_col=y_col, feature_n=feature_n)\n",
    "X_test = [None] * len(test_all_data)\n",
    "y_test = [None] * len(test_all_data)\n",
    "for i, curr_data in enumerate(test_all_data):\n",
    "    X_test[i], y_test[i] = get_smiles_fingerprints(curr_data, X_col=X_col, y_col=y_col, feature_n=feature_n)\n"
   ]
  },
  {
   "cell_type": "markdown",
   "id": "da9c5b17-e83f-40c1-ad60-cfff2494b625",
   "metadata": {},
   "source": [
    "# Random Forest Classifier"
   ]
  },
  {
   "cell_type": "code",
   "execution_count": 6,
   "id": "1146b41e-d0c4-4f08-8922-3abc31415cdd",
   "metadata": {
    "execution": {
     "iopub.execute_input": "2024-06-27T10:37:59.972430Z",
     "iopub.status.busy": "2024-06-27T10:37:59.972203Z",
     "iopub.status.idle": "2024-06-27T10:38:01.192087Z",
     "shell.execute_reply": "2024-06-27T10:38:01.191510Z",
     "shell.execute_reply.started": "2024-06-27T10:37:59.972410Z"
    },
    "tags": []
   },
   "outputs": [
    {
     "data": {
      "text/html": [
       "<style>#sk-container-id-1 {color: black;background-color: white;}#sk-container-id-1 pre{padding: 0;}#sk-container-id-1 div.sk-toggleable {background-color: white;}#sk-container-id-1 label.sk-toggleable__label {cursor: pointer;display: block;width: 100%;margin-bottom: 0;padding: 0.3em;box-sizing: border-box;text-align: center;}#sk-container-id-1 label.sk-toggleable__label-arrow:before {content: \"▸\";float: left;margin-right: 0.25em;color: #696969;}#sk-container-id-1 label.sk-toggleable__label-arrow:hover:before {color: black;}#sk-container-id-1 div.sk-estimator:hover label.sk-toggleable__label-arrow:before {color: black;}#sk-container-id-1 div.sk-toggleable__content {max-height: 0;max-width: 0;overflow: hidden;text-align: left;background-color: #f0f8ff;}#sk-container-id-1 div.sk-toggleable__content pre {margin: 0.2em;color: black;border-radius: 0.25em;background-color: #f0f8ff;}#sk-container-id-1 input.sk-toggleable__control:checked~div.sk-toggleable__content {max-height: 200px;max-width: 100%;overflow: auto;}#sk-container-id-1 input.sk-toggleable__control:checked~label.sk-toggleable__label-arrow:before {content: \"▾\";}#sk-container-id-1 div.sk-estimator input.sk-toggleable__control:checked~label.sk-toggleable__label {background-color: #d4ebff;}#sk-container-id-1 div.sk-label input.sk-toggleable__control:checked~label.sk-toggleable__label {background-color: #d4ebff;}#sk-container-id-1 input.sk-hidden--visually {border: 0;clip: rect(1px 1px 1px 1px);clip: rect(1px, 1px, 1px, 1px);height: 1px;margin: -1px;overflow: hidden;padding: 0;position: absolute;width: 1px;}#sk-container-id-1 div.sk-estimator {font-family: monospace;background-color: #f0f8ff;border: 1px dotted black;border-radius: 0.25em;box-sizing: border-box;margin-bottom: 0.5em;}#sk-container-id-1 div.sk-estimator:hover {background-color: #d4ebff;}#sk-container-id-1 div.sk-parallel-item::after {content: \"\";width: 100%;border-bottom: 1px solid gray;flex-grow: 1;}#sk-container-id-1 div.sk-label:hover label.sk-toggleable__label {background-color: #d4ebff;}#sk-container-id-1 div.sk-serial::before {content: \"\";position: absolute;border-left: 1px solid gray;box-sizing: border-box;top: 0;bottom: 0;left: 50%;z-index: 0;}#sk-container-id-1 div.sk-serial {display: flex;flex-direction: column;align-items: center;background-color: white;padding-right: 0.2em;padding-left: 0.2em;position: relative;}#sk-container-id-1 div.sk-item {position: relative;z-index: 1;}#sk-container-id-1 div.sk-parallel {display: flex;align-items: stretch;justify-content: center;background-color: white;position: relative;}#sk-container-id-1 div.sk-item::before, #sk-container-id-1 div.sk-parallel-item::before {content: \"\";position: absolute;border-left: 1px solid gray;box-sizing: border-box;top: 0;bottom: 0;left: 50%;z-index: -1;}#sk-container-id-1 div.sk-parallel-item {display: flex;flex-direction: column;z-index: 1;position: relative;background-color: white;}#sk-container-id-1 div.sk-parallel-item:first-child::after {align-self: flex-end;width: 50%;}#sk-container-id-1 div.sk-parallel-item:last-child::after {align-self: flex-start;width: 50%;}#sk-container-id-1 div.sk-parallel-item:only-child::after {width: 0;}#sk-container-id-1 div.sk-dashed-wrapped {border: 1px dashed gray;margin: 0 0.4em 0.5em 0.4em;box-sizing: border-box;padding-bottom: 0.4em;background-color: white;}#sk-container-id-1 div.sk-label label {font-family: monospace;font-weight: bold;display: inline-block;line-height: 1.2em;}#sk-container-id-1 div.sk-label-container {text-align: center;}#sk-container-id-1 div.sk-container {/* jupyter's `normalize.less` sets `[hidden] { display: none; }` but bootstrap.min.css set `[hidden] { display: none !important; }` so we also need the `!important` here to be able to override the default hidden behavior on the sphinx rendered scikit-learn.org. See: https://github.com/scikit-learn/scikit-learn/issues/21755 */display: inline-block !important;position: relative;}#sk-container-id-1 div.sk-text-repr-fallback {display: none;}</style><div id=\"sk-container-id-1\" class=\"sk-top-container\"><div class=\"sk-text-repr-fallback\"><pre>RandomForestClassifier(random_state=42)</pre><b>In a Jupyter environment, please rerun this cell to show the HTML representation or trust the notebook. <br />On GitHub, the HTML representation is unable to render, please try loading this page with nbviewer.org.</b></div><div class=\"sk-container\" hidden><div class=\"sk-item\"><div class=\"sk-estimator sk-toggleable\"><input class=\"sk-toggleable__control sk-hidden--visually\" id=\"sk-estimator-id-1\" type=\"checkbox\" checked><label for=\"sk-estimator-id-1\" class=\"sk-toggleable__label sk-toggleable__label-arrow\">RandomForestClassifier</label><div class=\"sk-toggleable__content\"><pre>RandomForestClassifier(random_state=42)</pre></div></div></div></div></div>"
      ],
      "text/plain": [
       "RandomForestClassifier(random_state=42)"
      ]
     },
     "execution_count": 6,
     "metadata": {},
     "output_type": "execute_result"
    }
   ],
   "source": [
    "from sklearn.ensemble import RandomForestClassifier\n",
    "\n",
    "# Initialize and train the model\n",
    "rf_model = RandomForestClassifier(random_state=random_state)\n",
    "rf_model.fit(X_train, y_train)\n",
    "\n"
   ]
  },
  {
   "cell_type": "markdown",
   "id": "d3705261-56ef-47a9-ae38-7c2c327dc498",
   "metadata": {},
   "source": [
    "# Evaluation on validation data"
   ]
  },
  {
   "cell_type": "code",
   "execution_count": 7,
   "id": "16632c4b-d57a-4f95-bc6c-23969e58a297",
   "metadata": {
    "execution": {
     "iopub.execute_input": "2024-06-27T10:38:01.194663Z",
     "iopub.status.busy": "2024-06-27T10:38:01.194347Z",
     "iopub.status.idle": "2024-06-27T10:38:01.277180Z",
     "shell.execute_reply": "2024-06-27T10:38:01.276582Z",
     "shell.execute_reply.started": "2024-06-27T10:38:01.194643Z"
    },
    "tags": []
   },
   "outputs": [
    {
     "name": "stdout",
     "output_type": "stream",
     "text": [
      "Accuracy: 0.7315\n",
      "ROC AUC Score: 0.7297\n",
      "Precision: 0.7394\n",
      "Recall: 0.7609\n",
      "F1 Score: 0.7500\n",
      "Matthews Correlation Coefficient: 0.4605\n",
      "Specificity (Negative Prediction Accuracy): 0.6985\n"
     ]
    }
   ],
   "source": [
    "from evaluate import eval\n",
    "y_pred = rf_model.predict(X_valid)\n",
    "result = eval(y_valid, y_pred, verbose=True)"
   ]
  },
  {
   "cell_type": "markdown",
   "id": "1c1d2a57-8c0c-4abc-ab73-4147224e4903",
   "metadata": {
    "execution": {
     "iopub.execute_input": "2024-04-19T02:28:58.937521Z",
     "iopub.status.busy": "2024-04-19T02:28:58.937204Z",
     "iopub.status.idle": "2024-04-19T02:28:58.954787Z",
     "shell.execute_reply": "2024-04-19T02:28:58.954378Z",
     "shell.execute_reply.started": "2024-04-19T02:28:58.937500Z"
    },
    "tags": []
   },
   "source": [
    "# Evaluation on test data"
   ]
  },
  {
   "cell_type": "code",
   "execution_count": 8,
   "id": "00573373-3ce6-4f2c-aaee-6340fb3721ad",
   "metadata": {
    "execution": {
     "iopub.execute_input": "2024-06-27T10:38:01.278243Z",
     "iopub.status.busy": "2024-06-27T10:38:01.277905Z",
     "iopub.status.idle": "2024-06-27T10:38:01.345512Z",
     "shell.execute_reply": "2024-06-27T10:38:01.344946Z",
     "shell.execute_reply.started": "2024-06-27T10:38:01.278224Z"
    },
    "tags": []
   },
   "outputs": [
    {
     "name": "stdout",
     "output_type": "stream",
     "text": [
      "\n",
      "== Testing on data set 0 ==\n",
      "Accuracy: 0.6818\n",
      "ROC AUC Score: 0.6714\n",
      "Precision: 0.8077\n",
      "Recall: 0.7000\n",
      "F1 Score: 0.7500\n",
      "Matthews Correlation Coefficient: 0.3248\n",
      "Specificity (Negative Prediction Accuracy): 0.6429\n",
      "\n",
      "== Testing on data set 1 ==\n",
      "Accuracy: 0.6341\n",
      "ROC AUC Score: 0.6924\n",
      "Precision: 0.4091\n",
      "Recall: 0.8182\n",
      "F1 Score: 0.5455\n",
      "Matthews Correlation Coefficient: 0.3419\n",
      "Specificity (Negative Prediction Accuracy): 0.5667\n",
      "\n",
      "== Testing on data set 2 ==\n",
      "Accuracy: 0.6054\n",
      "ROC AUC Score: 0.6672\n",
      "Precision: 0.0812\n",
      "Recall: 0.7353\n",
      "F1 Score: 0.1462\n",
      "Matthews Correlation Coefficient: 0.1421\n",
      "Specificity (Negative Prediction Accuracy): 0.5992\n"
     ]
    }
   ],
   "source": [
    "for i, X in enumerate(X_test):\n",
    "    print(f\"\\n== Testing on data set {i} ==\")\n",
    "    y_pred = rf_model.predict(X)\n",
    "    result = eval(y_test[i], y_pred, verbose=True)"
   ]
  },
  {
   "cell_type": "code",
   "execution_count": null,
   "id": "398967b0-31c7-461a-96f9-2538288bc37f",
   "metadata": {},
   "outputs": [],
   "source": []
  },
  {
   "cell_type": "markdown",
   "id": "5d9be36c-4ab1-4ec2-983b-09044cac28eb",
   "metadata": {},
   "source": [
    " # Multi-Layer Perceptron: Define the model"
   ]
  },
  {
   "cell_type": "code",
   "execution_count": 9,
   "id": "2d89940d-799b-4c0e-a66c-bfbac6e70d99",
   "metadata": {
    "execution": {
     "iopub.execute_input": "2024-06-27T10:38:01.346637Z",
     "iopub.status.busy": "2024-06-27T10:38:01.346259Z",
     "iopub.status.idle": "2024-06-27T10:38:02.875292Z",
     "shell.execute_reply": "2024-06-27T10:38:02.874779Z",
     "shell.execute_reply.started": "2024-06-27T10:38:01.346617Z"
    },
    "tags": []
   },
   "outputs": [],
   "source": [
    "import torch\n",
    "import torch.nn as nn\n",
    "import torch.optim as optim\n",
    "\n",
    "class MLP(nn.Module):\n",
    "    def __init__(self, feature_n):\n",
    "        super(MLP, self).__init__()\n",
    "        self.layers = nn.Sequential(\n",
    "            nn.Linear(feature_n, 64), \n",
    "            nn.ReLU(),\n",
    "            nn.Linear(64, 64),\n",
    "            nn.ReLU(),\n",
    "            nn.Linear(64, 1),  # binary classification\n",
    "            nn.Sigmoid()\n",
    "        )\n",
    "\n",
    "    def forward(self, x):\n",
    "        return self.layers(x)\n"
   ]
  },
  {
   "cell_type": "markdown",
   "id": "3d11b4eb-5cd8-4e55-992f-10142a75e621",
   "metadata": {},
   "source": [
    "# MLP: Define loss"
   ]
  },
  {
   "cell_type": "code",
   "execution_count": 10,
   "id": "46600d55-5db6-4a76-a0db-14313d53b7ce",
   "metadata": {
    "execution": {
     "iopub.execute_input": "2024-06-27T10:38:02.876300Z",
     "iopub.status.busy": "2024-06-27T10:38:02.876042Z",
     "iopub.status.idle": "2024-06-27T10:38:02.897856Z",
     "shell.execute_reply": "2024-06-27T10:38:02.897457Z",
     "shell.execute_reply.started": "2024-06-27T10:38:02.876281Z"
    },
    "tags": []
   },
   "outputs": [],
   "source": [
    "\n",
    "def nn_loss_func(outputs, targets):\n",
    "    criterion = nn.BCELoss()\n",
    "    classical_loss = criterion(outputs.squeeze(), targets.squeeze())\n",
    "    \n",
    "    return classical_loss "
   ]
  },
  {
   "cell_type": "markdown",
   "id": "5ad8408e-d442-481c-a709-1d6732dac521",
   "metadata": {},
   "source": [
    "# MLP: Training"
   ]
  },
  {
   "cell_type": "code",
   "execution_count": 11,
   "id": "fd3bd228-5922-4c06-8e4d-22b8f3b32896",
   "metadata": {
    "execution": {
     "iopub.execute_input": "2024-06-27T10:38:02.898735Z",
     "iopub.status.busy": "2024-06-27T10:38:02.898417Z",
     "iopub.status.idle": "2024-06-27T10:38:02.919149Z",
     "shell.execute_reply": "2024-06-27T10:38:02.918766Z",
     "shell.execute_reply.started": "2024-06-27T10:38:02.898717Z"
    },
    "tags": []
   },
   "outputs": [],
   "source": [
    "def train_epoch(model, X_train, y_train, optimizer, criterion):\n",
    "    model.train()\n",
    "    optimizer.zero_grad()\n",
    "    y_pred = model(X_train)  # Make sure X_train is a tensor\n",
    "    loss = criterion(y_pred, y_train)  # Ensure y_train is appropriately shaped\n",
    "    loss.backward()\n",
    "    optimizer.step()\n",
    "    return loss\n"
   ]
  },
  {
   "cell_type": "code",
   "execution_count": 12,
   "id": "4cdef372-bb7a-4e88-b79a-cb180cbbf900",
   "metadata": {
    "execution": {
     "iopub.execute_input": "2024-06-27T10:38:02.920006Z",
     "iopub.status.busy": "2024-06-27T10:38:02.919698Z",
     "iopub.status.idle": "2024-06-27T10:38:02.938272Z",
     "shell.execute_reply": "2024-06-27T10:38:02.937904Z",
     "shell.execute_reply.started": "2024-06-27T10:38:02.919990Z"
    },
    "tags": []
   },
   "outputs": [],
   "source": [
    "from evaluate import eval\n",
    "\n",
    "def eval_model(model, X_test, y_test, criterion, verbose=False):\n",
    "    model.eval()\n",
    "\n",
    "    # Disable gradient computation for testing (saves memory and computations)\n",
    "    with torch.no_grad():\n",
    "        outputs = model(X_test)\n",
    "    loss = criterion(outputs, y_test)\n",
    "        \n",
    "    # Convert outputs to predicted classes\n",
    "    # For binary classification with a single output unit\n",
    "    predictions = (outputs > 0.5).float()  # Threshold probabilities to classify as 1 or 0\n",
    "\n",
    "    # Since you cannot use sklearn directly with tensors, you need to move data back to CPU and convert to numpy\n",
    "    predictions = predictions.cpu().numpy()\n",
    "    y_test = y_test.cpu().numpy()\n",
    "    \n",
    "    return {\n",
    "        'loss': loss,\n",
    "        'accuracy': eval(y_test, predictions, verbose=verbose),\n",
    "    }  \n"
   ]
  },
  {
   "cell_type": "code",
   "execution_count": 13,
   "id": "2391646a-f16a-4f3d-9cb5-6ae6703510f7",
   "metadata": {
    "execution": {
     "iopub.execute_input": "2024-06-27T10:38:02.939016Z",
     "iopub.status.busy": "2024-06-27T10:38:02.938813Z",
     "iopub.status.idle": "2024-06-27T10:38:05.348335Z",
     "shell.execute_reply": "2024-06-27T10:38:05.347813Z",
     "shell.execute_reply.started": "2024-06-27T10:38:02.939000Z"
    },
    "tags": []
   },
   "outputs": [
    {
     "name": "stdout",
     "output_type": "stream",
     "text": [
      "Epoch 0, Train Loss: 0.6934, Validation Loss: 0.6920\n",
      "Epoch 1, Train Loss: 0.6914, Validation Loss: 0.6904\n",
      "Epoch 2, Train Loss: 0.6897, Validation Loss: 0.6891\n",
      "Epoch 3, Train Loss: 0.6881, Validation Loss: 0.6879\n",
      "Epoch 4, Train Loss: 0.6867, Validation Loss: 0.6868\n",
      "Epoch 5, Train Loss: 0.6852, Validation Loss: 0.6856\n",
      "Epoch 6, Train Loss: 0.6837, Validation Loss: 0.6843\n",
      "Epoch 7, Train Loss: 0.6819, Validation Loss: 0.6829\n",
      "Epoch 8, Train Loss: 0.6800, Validation Loss: 0.6813\n",
      "Epoch 9, Train Loss: 0.6779, Validation Loss: 0.6798\n",
      "Epoch 10, Train Loss: 0.6757, Validation Loss: 0.6781\n",
      "Epoch 11, Train Loss: 0.6733, Validation Loss: 0.6763\n",
      "Epoch 12, Train Loss: 0.6708, Validation Loss: 0.6743\n",
      "Epoch 13, Train Loss: 0.6680, Validation Loss: 0.6721\n",
      "Epoch 14, Train Loss: 0.6649, Validation Loss: 0.6697\n",
      "Epoch 15, Train Loss: 0.6615, Validation Loss: 0.6672\n",
      "Epoch 16, Train Loss: 0.6580, Validation Loss: 0.6647\n",
      "Epoch 17, Train Loss: 0.6543, Validation Loss: 0.6621\n",
      "Epoch 18, Train Loss: 0.6504, Validation Loss: 0.6596\n",
      "Epoch 19, Train Loss: 0.6465, Validation Loss: 0.6572\n",
      "Epoch 20, Train Loss: 0.6424, Validation Loss: 0.6550\n",
      "Epoch 21, Train Loss: 0.6384, Validation Loss: 0.6529\n",
      "Epoch 22, Train Loss: 0.6345, Validation Loss: 0.6510\n",
      "Epoch 23, Train Loss: 0.6306, Validation Loss: 0.6494\n",
      "Epoch 24, Train Loss: 0.6270, Validation Loss: 0.6481\n",
      "Epoch 25, Train Loss: 0.6237, Validation Loss: 0.6472\n",
      "Epoch 26, Train Loss: 0.6206, Validation Loss: 0.6466\n",
      "Epoch 27, Train Loss: 0.6179, Validation Loss: 0.6464\n",
      "Epoch 28, Train Loss: 0.6154, Validation Loss: 0.6462\n",
      "Epoch 29, Train Loss: 0.6132, Validation Loss: 0.6463\n",
      "Epoch 30, Train Loss: 0.6112, Validation Loss: 0.6464\n",
      "Epoch 31, Train Loss: 0.6094, Validation Loss: 0.6465\n",
      "Epoch 32, Train Loss: 0.6076, Validation Loss: 0.6464\n",
      "Epoch 33, Train Loss: 0.6059, Validation Loss: 0.6460\n",
      "Epoch 34, Train Loss: 0.6042, Validation Loss: 0.6455\n",
      "Epoch 35, Train Loss: 0.6025, Validation Loss: 0.6447\n",
      "Epoch 36, Train Loss: 0.6006, Validation Loss: 0.6436\n",
      "Epoch 37, Train Loss: 0.5988, Validation Loss: 0.6423\n",
      "Epoch 38, Train Loss: 0.5969, Validation Loss: 0.6410\n",
      "Epoch 39, Train Loss: 0.5950, Validation Loss: 0.6397\n",
      "Epoch 40, Train Loss: 0.5932, Validation Loss: 0.6382\n",
      "Epoch 41, Train Loss: 0.5913, Validation Loss: 0.6368\n",
      "Epoch 42, Train Loss: 0.5896, Validation Loss: 0.6355\n",
      "Epoch 43, Train Loss: 0.5878, Validation Loss: 0.6344\n",
      "Epoch 44, Train Loss: 0.5860, Validation Loss: 0.6333\n",
      "Epoch 45, Train Loss: 0.5843, Validation Loss: 0.6323\n",
      "Epoch 46, Train Loss: 0.5824, Validation Loss: 0.6314\n",
      "Epoch 47, Train Loss: 0.5806, Validation Loss: 0.6307\n",
      "Epoch 48, Train Loss: 0.5787, Validation Loss: 0.6300\n",
      "Epoch 49, Train Loss: 0.5767, Validation Loss: 0.6294\n",
      "Epoch 50, Train Loss: 0.5746, Validation Loss: 0.6289\n",
      "Epoch 51, Train Loss: 0.5725, Validation Loss: 0.6284\n",
      "Epoch 52, Train Loss: 0.5703, Validation Loss: 0.6278\n",
      "Epoch 53, Train Loss: 0.5680, Validation Loss: 0.6272\n",
      "Epoch 54, Train Loss: 0.5657, Validation Loss: 0.6266\n",
      "Epoch 55, Train Loss: 0.5632, Validation Loss: 0.6258\n",
      "Epoch 56, Train Loss: 0.5607, Validation Loss: 0.6249\n",
      "Epoch 57, Train Loss: 0.5581, Validation Loss: 0.6240\n",
      "Epoch 58, Train Loss: 0.5555, Validation Loss: 0.6230\n",
      "Epoch 59, Train Loss: 0.5527, Validation Loss: 0.6219\n",
      "Epoch 60, Train Loss: 0.5499, Validation Loss: 0.6207\n",
      "Epoch 61, Train Loss: 0.5470, Validation Loss: 0.6195\n",
      "Epoch 62, Train Loss: 0.5441, Validation Loss: 0.6182\n",
      "Epoch 63, Train Loss: 0.5411, Validation Loss: 0.6170\n",
      "Epoch 64, Train Loss: 0.5381, Validation Loss: 0.6158\n",
      "Epoch 65, Train Loss: 0.5350, Validation Loss: 0.6146\n",
      "Epoch 66, Train Loss: 0.5317, Validation Loss: 0.6135\n",
      "Epoch 67, Train Loss: 0.5284, Validation Loss: 0.6125\n",
      "Epoch 68, Train Loss: 0.5250, Validation Loss: 0.6116\n",
      "Epoch 69, Train Loss: 0.5216, Validation Loss: 0.6107\n",
      "Epoch 70, Train Loss: 0.5180, Validation Loss: 0.6100\n",
      "Epoch 71, Train Loss: 0.5144, Validation Loss: 0.6094\n",
      "Epoch 72, Train Loss: 0.5106, Validation Loss: 0.6088\n",
      "Epoch 73, Train Loss: 0.5069, Validation Loss: 0.6081\n",
      "Epoch 74, Train Loss: 0.5031, Validation Loss: 0.6074\n",
      "Epoch 75, Train Loss: 0.4992, Validation Loss: 0.6069\n",
      "Epoch 76, Train Loss: 0.4953, Validation Loss: 0.6062\n",
      "Epoch 77, Train Loss: 0.4913, Validation Loss: 0.6065\n",
      "Epoch 78, Train Loss: 0.4875, Validation Loss: 0.6058\n",
      "Epoch 79, Train Loss: 0.4847, Validation Loss: 0.6102\n"
     ]
    }
   ],
   "source": [
    "nn_model = MLP(feature_n=feature_n)\n",
    "nn_optimizer = optim.Adam(nn_model.parameters(), lr=0.001)\n",
    "\n",
    "X_train = torch.tensor(X_train, dtype=torch.float32)  # Convert features to a float Tensor\n",
    "y_train = torch.tensor(y_train, dtype=torch.float32).unsqueeze(1)  # Convert labels to a float Tensor\n",
    "X_valid = torch.tensor(X_valid, dtype=torch.float32)  # Convert features to a float Tensor\n",
    "y_valid = torch.tensor(y_valid, dtype=torch.float32).unsqueeze(1)  # Convert labels to a float Tensor\n",
    "\n",
    "# Train the model\n",
    "epoch_n = 80\n",
    "total_train_losses = []\n",
    "total_valid_losses = []\n",
    "for epoch in range(epoch_n):\n",
    "    train_loss = train_epoch(nn_model, X_train, y_train, nn_optimizer, nn_loss_func)\n",
    "    valid_result = eval_model(nn_model, X_valid, y_valid, nn_loss_func)\n",
    "    total_train_losses.append(train_loss)\n",
    "    total_valid_losses.append(valid_result['loss'])\n",
    "    print(f\"Epoch {epoch}, Train Loss: {train_loss:.4f}, Validation Loss: {valid_result['loss']:.4f}\")\n"
   ]
  },
  {
   "cell_type": "code",
   "execution_count": 14,
   "id": "6c62bb17-eeb6-4c98-860f-219b614eb8c1",
   "metadata": {
    "execution": {
     "iopub.execute_input": "2024-06-27T10:38:05.349554Z",
     "iopub.status.busy": "2024-06-27T10:38:05.349171Z",
     "iopub.status.idle": "2024-06-27T10:38:05.541362Z",
     "shell.execute_reply": "2024-06-27T10:38:05.540967Z",
     "shell.execute_reply.started": "2024-06-27T10:38:05.349534Z"
    },
    "tags": []
   },
   "outputs": [
    {
     "data": {
      "image/png": "[encoded data removed]",
      "text/plain": [
       "<Figure size 1000x500 with 1 Axes>"
      ]
     },
     "metadata": {},
     "output_type": "display_data"
    }
   ],
   "source": [
    "import matplotlib.pyplot as plt\n",
    "\n",
    "# Converting tensors to lists of scalars\n",
    "visual_train_losses = [x.item() for x in total_train_losses]\n",
    "visual_valid_losses = [x.item() for x in total_valid_losses]\n",
    "\n",
    "# Plotting the values\n",
    "plt.figure(figsize=(10, 5))\n",
    "plt.plot(visual_train_losses, label='Training Loss')\n",
    "plt.plot(visual_valid_losses, label='Validation Los')\n",
    "plt.title('Training of Simple Neural Network')\n",
    "plt.xlabel('Epoch')\n",
    "plt.ylabel('Loss')\n",
    "plt.legend()\n",
    "plt.show()"
   ]
  },
  {
   "cell_type": "markdown",
   "id": "96b6d8ec-5c4c-4a29-9753-034b319c8a65",
   "metadata": {},
   "source": [
    "# MLP on Test Data"
   ]
  },
  {
   "cell_type": "code",
   "execution_count": 15,
   "id": "5c527ec6-d506-46ef-aaa8-5becc3ee7e93",
   "metadata": {
    "execution": {
     "iopub.execute_input": "2024-06-27T10:38:05.542201Z",
     "iopub.status.busy": "2024-06-27T10:38:05.541991Z",
     "iopub.status.idle": "2024-06-27T10:38:05.594683Z",
     "shell.execute_reply": "2024-06-27T10:38:05.594282Z",
     "shell.execute_reply.started": "2024-06-27T10:38:05.542184Z"
    },
    "tags": []
   },
   "outputs": [
    {
     "name": "stdout",
     "output_type": "stream",
     "text": [
      "\n",
      "== Testing on data set 0 ==\n",
      "Accuracy: 0.7500\n",
      "ROC AUC Score: 0.7405\n",
      "Precision: 0.8519\n",
      "Recall: 0.7667\n",
      "F1 Score: 0.8070\n",
      "Matthews Correlation Coefficient: 0.4601\n",
      "Specificity (Negative Prediction Accuracy): 0.7143\n",
      "\n",
      "== Testing on data set 1 ==\n",
      "Accuracy: 0.6341\n",
      "ROC AUC Score: 0.6061\n",
      "Precision: 0.3750\n",
      "Recall: 0.5455\n",
      "F1 Score: 0.4444\n",
      "Matthews Correlation Coefficient: 0.1927\n",
      "Specificity (Negative Prediction Accuracy): 0.6667\n",
      "\n",
      "== Testing on data set 2 ==\n",
      "Accuracy: 0.7068\n",
      "ROC AUC Score: 0.6923\n",
      "Precision: 0.1004\n",
      "Recall: 0.6765\n",
      "F1 Score: 0.1749\n",
      "Matthews Correlation Coefficient: 0.1742\n",
      "Specificity (Negative Prediction Accuracy): 0.7082\n"
     ]
    }
   ],
   "source": [
    "# convert to tensor\n",
    "for i, X in enumerate(X_test):\n",
    "    print(f\"\\n== Testing on data set {i} ==\")\n",
    "    X = torch.tensor(X, dtype=torch.float32)  \n",
    "    y = torch.tensor(y_test[i], dtype=torch.float32).unsqueeze(1)  # Convert to tensor and ensure correct shape\n",
    "    result = eval_model(nn_model, X, y, nn_loss_func, verbose=True)"
   ]
  }
 ],
 "metadata": {
  "kernelspec": {
   "display_name": "herg",
   "language": "python",
   "name": "herg"
  },
  "language_info": {
   "codemirror_mode": {
    "name": "ipython",
    "version": 3
   },
   "file_extension": ".py",
   "mimetype": "text/x-python",
   "name": "python",
   "nbconvert_exporter": "python",
   "pygments_lexer": "ipython3",
   "version": "3.9.19"
  }
 },
 "nbformat": 4,
 "nbformat_minor": 5
}
