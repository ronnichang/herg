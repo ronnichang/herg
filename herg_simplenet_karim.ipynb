{
 "cells": [
  {
   "cell_type": "code",
   "execution_count": 1,
   "id": "e0fc9b99-2c6c-47a2-933d-37adad598f2d",
   "metadata": {
    "execution": {
     "iopub.execute_input": "2024-05-08T13:17:21.410749Z",
     "iopub.status.busy": "2024-05-08T13:17:21.410242Z",
     "iopub.status.idle": "2024-05-08T13:17:21.889436Z",
     "shell.execute_reply": "2024-05-08T13:17:21.888711Z",
     "shell.execute_reply.started": "2024-05-08T13:17:21.410724Z"
    },
    "tags": []
   },
   "outputs": [],
   "source": [
    "%load_ext autoreload\n",
    "%autoreload 2\n",
    "%matplotlib inline\n",
    "\n",
    "# Import necessary libraries\n",
    "import sys\n",
    "from pathlib import Path\n",
    "# Ensure the src directory is accessible\n",
    "sys.path.append('./src')"
   ]
  },
  {
   "cell_type": "markdown",
   "id": "b08a15c7-5bad-4ccc-a1cf-ecbbce188a9e",
   "metadata": {},
   "source": [
    "# Get data"
   ]
  },
  {
   "cell_type": "code",
   "execution_count": 2,
   "id": "b5c49c88-0141-411f-bd39-fdeabcc8bf4c",
   "metadata": {
    "execution": {
     "iopub.execute_input": "2024-05-08T13:17:21.891077Z",
     "iopub.status.busy": "2024-05-08T13:17:21.890632Z",
     "iopub.status.idle": "2024-05-08T13:17:29.590743Z",
     "shell.execute_reply": "2024-05-08T13:17:29.589879Z",
     "shell.execute_reply.started": "2024-05-08T13:17:21.891057Z"
    },
    "tags": []
   },
   "outputs": [
    {
     "name": "stderr",
     "output_type": "stream",
     "text": [
      "Found local copy...\n",
      "Loading...\n",
      "Done!\n",
      "100%|██████████| 13445/13445 [00:05<00:00, 2390.96it/s]\n"
     ]
    },
    {
     "name": "stdout",
     "output_type": "stream",
     "text": [
      "There are       Drug_ID                                               Drug  Y\n",
      "0        8640  O=C1NCCN1CC[N+]1CCC(c2cn(C3CCCCC3)c3ccc(Cl)cc2...  0\n",
      "1       11377  O=C(Cc1ccc(-n2cnnn2)cc1)N1CCN(CCc2ccc3nonc3c2)CC1  1\n",
      "2        1461  NC(=O)c1ncc(N[C@@H]2CCCC[C@@H]2N)cc1Nc1cccc(C(...  1\n",
      "3        6646  Cc1cc(C)nc(Nc2cc(N[C@@H]3CCCC[C@@H]3N)cnc2C(N)...  1\n",
      "4         379  COc1cc(C)nc(Nc2cc(N[C@@H]3CCCC[C@@H]3N)cnc2C(N...  1\n",
      "...       ...                                                ... ..\n",
      "9406     5238  CC(C)(C)c1cc(NC(=O)n2ccc3cc(Oc4ncnc5c4CCNC5)cc...  1\n",
      "9407     6201  Cc1ccc2c(C3CCN(CCc4c(C)ccc5c4ccc(=O)n5C)CC3)cc...  1\n",
      "9408    11725  CCOC(=O)C1=C(CN2CCOCC2)NC(c2nccs2)=NC1c1ccc(F)...  1\n",
      "9409    12714  CCCCCCOC(=O)NC(=N)c1ccc(NCc2nc3cc(C(=O)N(CCC(=...  1\n",
      "9410    13134  Cn1c(CNc2ccc(C(=N)N)cc2)nc2cc(C(=O)N(CCC(=O)O)...  0\n",
      "\n",
      "[9411 rows x 3 columns] training samples,       Drug_ID                                               Drug  Y\n",
      "0         536        O=C(c1ccccc1C(F)(F)F)N(CC1CCCC1)[C@H]1CCNC1  0\n",
      "1        8140               CC(C)c1ccccc1C(=O)N(CC1CCCC1)C1CCNC1  1\n",
      "2        4261            O=C(c1ccccc1C(F)(F)F)N(CC1CCCC1)C1CCNC1  0\n",
      "3       10980           CC(C)c1ccccc1C(=O)N(CC1CCCC1)[C@H]1CCNC1  1\n",
      "4        8505  COc1ccc(C2(c3cccc(-c4cncnc4)c3)N=C(N)n3nc(C)cc...  1\n",
      "...       ...                                                ... ..\n",
      "1339     3585      CN1CCOCC1c1nc(C(=O)NCc2ccc(F)cc2)c(O)c(=O)n1C  0\n",
      "1340    13026  CO[C@@H](C(=O)N1Cc2[nH]nc(NC(=O)c3ccc(N4CCN(C)...  0\n",
      "1341      186  O=C1OCc2ccc(CCN3CCN(C(=O)Cc4ccc(-n5cnnn5)cc4)C...  0\n",
      "1342     3952           c1ccc(CN2CCN(Cc3nnc(-c4ccccc4)o3)CC2)cc1  0\n",
      "1343    10314  COc1ccc(CNC(=O)C2(c3ccccc3)CCN(c3cc(N)ccn3)CC2...  1\n",
      "\n",
      "[1344 rows x 3 columns] validation samples, and       Drug_ID                                               Drug  Y\n",
      "0        7417  CC(C)c1noc(-c2nnc3n2CCN(C(=O)c2ccc(F)cc2)[C@@H...  1\n",
      "1        3967  CCc1noc(-c2nnc3n2CCN(C(=O)c2ccc(F)cc2)[C@@H]3C)n1  0\n",
      "2       13387  CC(C)(C)Cn1c(N)nc2ccc(-c3nc(C(C)(C)C)[nH]c3-c3...  0\n",
      "3       10258  CC(C)(C)C1CCC2(CC1)CCN(c1ccc(OC(F)(F)F)cc1)C(=...  1\n",
      "4        5612  CCN(CC)c1ccc2cc(C(=O)NCCCCN3CCC(Nc4nc5ccccc5n4...  1\n",
      "...       ...                                                ... ..\n",
      "2685    10596    COCCN(C)Cc1csc(-c2cn(CC3CCOCC3)c3c(Cl)cccc23)n1  1\n",
      "2686    12520  CC(C)N(CCO)Cc1csc(-c2cn(CC3CCOCC3)c3c(Cl)cccc2...  1\n",
      "2687     2924  CC(C)N(CCO)Cc1nc(-c2cn(CC3CCOCC3)c3c(Cl)cccc23...  1\n",
      "2688     1138      CCN(CC)Cc1csc(-c2cn(CC3CCOCC3)c3c(F)cccc23)n1  1\n",
      "2689    12342  COC(=O)C(CCC(=O)N1CCN(c2ccccc2OC)CC1)(c1ccc(Br...  0\n",
      "\n",
      "[2690 rows x 3 columns] test samples.\n"
     ]
    }
   ],
   "source": [
    "from tdc.single_pred import Tox\n",
    "karim_data = Tox(name='hERG_Karim')\n",
    "data_split = karim_data.get_split(method='scaffold', seed=42)\n",
    "print(f\"There are {data_split['train']} training samples, {data_split['valid']} validation samples, and {data_split['test']} test samples.\")"
   ]
  },
  {
   "cell_type": "markdown",
   "id": "4c4cdc71-a9e4-4757-85b3-8701b11f7e58",
   "metadata": {},
   "source": [
    "# check data"
   ]
  },
  {
   "cell_type": "code",
   "execution_count": 3,
   "id": "43e06b35-37f2-4df1-a7fb-170cb3359861",
   "metadata": {
    "execution": {
     "iopub.execute_input": "2024-05-08T13:17:29.592201Z",
     "iopub.status.busy": "2024-05-08T13:17:29.591886Z",
     "iopub.status.idle": "2024-05-08T13:17:29.618826Z",
     "shell.execute_reply": "2024-05-08T13:17:29.618333Z",
     "shell.execute_reply.started": "2024-05-08T13:17:29.592181Z"
    },
    "tags": []
   },
   "outputs": [
    {
     "data": {
      "text/html": [
       "<div>\n",
       "<style scoped>\n",
       "    .dataframe tbody tr th:only-of-type {\n",
       "        vertical-align: middle;\n",
       "    }\n",
       "\n",
       "    .dataframe tbody tr th {\n",
       "        vertical-align: top;\n",
       "    }\n",
       "\n",
       "    .dataframe thead th {\n",
       "        text-align: right;\n",
       "    }\n",
       "</style>\n",
       "<table border=\"1\" class=\"dataframe\">\n",
       "  <thead>\n",
       "    <tr style=\"text-align: right;\">\n",
       "      <th></th>\n",
       "      <th>Drug_ID</th>\n",
       "      <th>Drug</th>\n",
       "      <th>Y</th>\n",
       "    </tr>\n",
       "  </thead>\n",
       "  <tbody>\n",
       "    <tr>\n",
       "      <th>0</th>\n",
       "      <td>8640</td>\n",
       "      <td>O=C1NCCN1CC[N+]1CCC(c2cn(C3CCCCC3)c3ccc(Cl)cc2...</td>\n",
       "      <td>0</td>\n",
       "    </tr>\n",
       "    <tr>\n",
       "      <th>1</th>\n",
       "      <td>11377</td>\n",
       "      <td>O=C(Cc1ccc(-n2cnnn2)cc1)N1CCN(CCc2ccc3nonc3c2)CC1</td>\n",
       "      <td>1</td>\n",
       "    </tr>\n",
       "    <tr>\n",
       "      <th>2</th>\n",
       "      <td>1461</td>\n",
       "      <td>NC(=O)c1ncc(N[C@@H]2CCCC[C@@H]2N)cc1Nc1cccc(C(...</td>\n",
       "      <td>1</td>\n",
       "    </tr>\n",
       "    <tr>\n",
       "      <th>3</th>\n",
       "      <td>6646</td>\n",
       "      <td>Cc1cc(C)nc(Nc2cc(N[C@@H]3CCCC[C@@H]3N)cnc2C(N)...</td>\n",
       "      <td>1</td>\n",
       "    </tr>\n",
       "    <tr>\n",
       "      <th>4</th>\n",
       "      <td>379</td>\n",
       "      <td>COc1cc(C)nc(Nc2cc(N[C@@H]3CCCC[C@@H]3N)cnc2C(N...</td>\n",
       "      <td>1</td>\n",
       "    </tr>\n",
       "    <tr>\n",
       "      <th>5</th>\n",
       "      <td>10556</td>\n",
       "      <td>Cc1cc(CC(C)(C)O)cc(Nc2cc(N[C@@H]3CCCC[C@@H]3N)...</td>\n",
       "      <td>1</td>\n",
       "    </tr>\n",
       "    <tr>\n",
       "      <th>6</th>\n",
       "      <td>4542</td>\n",
       "      <td>Cc1cc(C(C)(C)O)cc(Nc2cc(N[C@@H]3CCCC[C@@H]3N)c...</td>\n",
       "      <td>1</td>\n",
       "    </tr>\n",
       "    <tr>\n",
       "      <th>7</th>\n",
       "      <td>9102</td>\n",
       "      <td>Cc1cccnc1CN1CCC2(CC1)C(=O)N(c1ccc(-c3ccc4scnc4...</td>\n",
       "      <td>1</td>\n",
       "    </tr>\n",
       "    <tr>\n",
       "      <th>8</th>\n",
       "      <td>4564</td>\n",
       "      <td>O=S1(=O)CCC(COc2ccc3c(c2)CCC2(CCN(C4CCC4)CC2)O...</td>\n",
       "      <td>0</td>\n",
       "    </tr>\n",
       "    <tr>\n",
       "      <th>9</th>\n",
       "      <td>12933</td>\n",
       "      <td>N#C[C@@H]1C[C@@H]2C[C@@H]2N1C(=O)[C@@H](N)C12C...</td>\n",
       "      <td>0</td>\n",
       "    </tr>\n",
       "  </tbody>\n",
       "</table>\n",
       "</div>"
      ],
      "text/plain": [
       "   Drug_ID                                               Drug  Y\n",
       "0     8640  O=C1NCCN1CC[N+]1CCC(c2cn(C3CCCCC3)c3ccc(Cl)cc2...  0\n",
       "1    11377  O=C(Cc1ccc(-n2cnnn2)cc1)N1CCN(CCc2ccc3nonc3c2)CC1  1\n",
       "2     1461  NC(=O)c1ncc(N[C@@H]2CCCC[C@@H]2N)cc1Nc1cccc(C(...  1\n",
       "3     6646  Cc1cc(C)nc(Nc2cc(N[C@@H]3CCCC[C@@H]3N)cnc2C(N)...  1\n",
       "4      379  COc1cc(C)nc(Nc2cc(N[C@@H]3CCCC[C@@H]3N)cnc2C(N...  1\n",
       "5    10556  Cc1cc(CC(C)(C)O)cc(Nc2cc(N[C@@H]3CCCC[C@@H]3N)...  1\n",
       "6     4542  Cc1cc(C(C)(C)O)cc(Nc2cc(N[C@@H]3CCCC[C@@H]3N)c...  1\n",
       "7     9102  Cc1cccnc1CN1CCC2(CC1)C(=O)N(c1ccc(-c3ccc4scnc4...  1\n",
       "8     4564  O=S1(=O)CCC(COc2ccc3c(c2)CCC2(CCN(C4CCC4)CC2)O...  0\n",
       "9    12933  N#C[C@@H]1C[C@@H]2C[C@@H]2N1C(=O)[C@@H](N)C12C...  0"
      ]
     },
     "execution_count": 3,
     "metadata": {},
     "output_type": "execute_result"
    }
   ],
   "source": [
    "data_split['train'].head(10)"
   ]
  },
  {
   "cell_type": "code",
   "execution_count": 4,
   "id": "f849b3ff-cc04-4a5f-a11e-7b47d180aba2",
   "metadata": {
    "execution": {
     "iopub.execute_input": "2024-05-08T13:17:29.619776Z",
     "iopub.status.busy": "2024-05-08T13:17:29.619546Z",
     "iopub.status.idle": "2024-05-08T13:17:29.638991Z",
     "shell.execute_reply": "2024-05-08T13:17:29.638458Z",
     "shell.execute_reply.started": "2024-05-08T13:17:29.619758Z"
    },
    "tags": []
   },
   "outputs": [
    {
     "data": {
      "text/html": [
       "<div>\n",
       "<style scoped>\n",
       "    .dataframe tbody tr th:only-of-type {\n",
       "        vertical-align: middle;\n",
       "    }\n",
       "\n",
       "    .dataframe tbody tr th {\n",
       "        vertical-align: top;\n",
       "    }\n",
       "\n",
       "    .dataframe thead th {\n",
       "        text-align: right;\n",
       "    }\n",
       "</style>\n",
       "<table border=\"1\" class=\"dataframe\">\n",
       "  <thead>\n",
       "    <tr style=\"text-align: right;\">\n",
       "      <th></th>\n",
       "      <th>Drug_ID</th>\n",
       "      <th>Drug</th>\n",
       "      <th>Y</th>\n",
       "    </tr>\n",
       "  </thead>\n",
       "  <tbody>\n",
       "    <tr>\n",
       "      <th>0</th>\n",
       "      <td>7417</td>\n",
       "      <td>CC(C)c1noc(-c2nnc3n2CCN(C(=O)c2ccc(F)cc2)[C@@H...</td>\n",
       "      <td>1</td>\n",
       "    </tr>\n",
       "    <tr>\n",
       "      <th>1</th>\n",
       "      <td>3967</td>\n",
       "      <td>CCc1noc(-c2nnc3n2CCN(C(=O)c2ccc(F)cc2)[C@@H]3C)n1</td>\n",
       "      <td>0</td>\n",
       "    </tr>\n",
       "    <tr>\n",
       "      <th>2</th>\n",
       "      <td>13387</td>\n",
       "      <td>CC(C)(C)Cn1c(N)nc2ccc(-c3nc(C(C)(C)C)[nH]c3-c3...</td>\n",
       "      <td>0</td>\n",
       "    </tr>\n",
       "    <tr>\n",
       "      <th>3</th>\n",
       "      <td>10258</td>\n",
       "      <td>CC(C)(C)C1CCC2(CC1)CCN(c1ccc(OC(F)(F)F)cc1)C(=...</td>\n",
       "      <td>1</td>\n",
       "    </tr>\n",
       "    <tr>\n",
       "      <th>4</th>\n",
       "      <td>5612</td>\n",
       "      <td>CCN(CC)c1ccc2cc(C(=O)NCCCCN3CCC(Nc4nc5ccccc5n4...</td>\n",
       "      <td>1</td>\n",
       "    </tr>\n",
       "    <tr>\n",
       "      <th>5</th>\n",
       "      <td>6520</td>\n",
       "      <td>CN1CCC(COCc2cc(C(F)(F)F)cc(N3CCCC3)n2)(c2ccccc...</td>\n",
       "      <td>1</td>\n",
       "    </tr>\n",
       "    <tr>\n",
       "      <th>6</th>\n",
       "      <td>8954</td>\n",
       "      <td>CN1CCC(COCc2cc(C(F)(F)F)cc(N3CCC(C#N)C3)n2)(c2...</td>\n",
       "      <td>1</td>\n",
       "    </tr>\n",
       "    <tr>\n",
       "      <th>7</th>\n",
       "      <td>2983</td>\n",
       "      <td>FC(F)(F)c1cc(COCC2(c3ccccc3)CCNCC2)nc(N2CCCC2)c1</td>\n",
       "      <td>1</td>\n",
       "    </tr>\n",
       "    <tr>\n",
       "      <th>8</th>\n",
       "      <td>12756</td>\n",
       "      <td>OC1CCC(Nc2ncc3nc(Nc4c(F)cc(F)cc4F)n([C@@H]4CCO...</td>\n",
       "      <td>0</td>\n",
       "    </tr>\n",
       "    <tr>\n",
       "      <th>9</th>\n",
       "      <td>8043</td>\n",
       "      <td>O=C(N[C@@H]1C2CCN(CC2)[C@H]1Cc1cccnc1)c1cc2ccc...</td>\n",
       "      <td>0</td>\n",
       "    </tr>\n",
       "  </tbody>\n",
       "</table>\n",
       "</div>"
      ],
      "text/plain": [
       "   Drug_ID                                               Drug  Y\n",
       "0     7417  CC(C)c1noc(-c2nnc3n2CCN(C(=O)c2ccc(F)cc2)[C@@H...  1\n",
       "1     3967  CCc1noc(-c2nnc3n2CCN(C(=O)c2ccc(F)cc2)[C@@H]3C)n1  0\n",
       "2    13387  CC(C)(C)Cn1c(N)nc2ccc(-c3nc(C(C)(C)C)[nH]c3-c3...  0\n",
       "3    10258  CC(C)(C)C1CCC2(CC1)CCN(c1ccc(OC(F)(F)F)cc1)C(=...  1\n",
       "4     5612  CCN(CC)c1ccc2cc(C(=O)NCCCCN3CCC(Nc4nc5ccccc5n4...  1\n",
       "5     6520  CN1CCC(COCc2cc(C(F)(F)F)cc(N3CCCC3)n2)(c2ccccc...  1\n",
       "6     8954  CN1CCC(COCc2cc(C(F)(F)F)cc(N3CCC(C#N)C3)n2)(c2...  1\n",
       "7     2983   FC(F)(F)c1cc(COCC2(c3ccccc3)CCNCC2)nc(N2CCCC2)c1  1\n",
       "8    12756  OC1CCC(Nc2ncc3nc(Nc4c(F)cc(F)cc4F)n([C@@H]4CCO...  0\n",
       "9     8043  O=C(N[C@@H]1C2CCN(CC2)[C@H]1Cc1cccnc1)c1cc2ccc...  0"
      ]
     },
     "execution_count": 4,
     "metadata": {},
     "output_type": "execute_result"
    }
   ],
   "source": [
    "data_split['test'].head(10)"
   ]
  },
  {
   "cell_type": "code",
   "execution_count": null,
   "id": "4c00e299-6fa1-4c94-ade8-2164bbaa3cdb",
   "metadata": {},
   "outputs": [],
   "source": []
  },
  {
   "cell_type": "markdown",
   "id": "f4a26645-3a17-4256-9e77-0f42f6941d0a",
   "metadata": {},
   "source": [
    "# Extract features from SMILES strings"
   ]
  },
  {
   "cell_type": "code",
   "execution_count": 5,
   "id": "e1299d07-75a8-4deb-86fe-d6d512739ba9",
   "metadata": {
    "execution": {
     "iopub.execute_input": "2024-05-08T13:17:29.640654Z",
     "iopub.status.busy": "2024-05-08T13:17:29.640409Z",
     "iopub.status.idle": "2024-05-08T13:17:29.658061Z",
     "shell.execute_reply": "2024-05-08T13:17:29.657274Z",
     "shell.execute_reply.started": "2024-05-08T13:17:29.640637Z"
    },
    "tags": []
   },
   "outputs": [],
   "source": [
    "from features import smiles_to_fp\n",
    "\n",
    "def prepare_data(df, num_features=1024):\n",
    "    df['features'] = df['Drug'].apply(lambda x: smiles_to_fp(x, num_bits=num_features))\n",
    "    X = list(df['features'])\n",
    "    y = df['Y'].values\n",
    "    return X, y\n"
   ]
  },
  {
   "cell_type": "markdown",
   "id": "0dd894a9-2595-4d06-b9a8-3a9ec8f8807d",
   "metadata": {},
   "source": [
    "# Prepare traing and test data"
   ]
  },
  {
   "cell_type": "code",
   "execution_count": 6,
   "id": "ff48bc4b-ae71-44fe-bbcf-65bdcf8a27de",
   "metadata": {
    "execution": {
     "iopub.execute_input": "2024-05-08T13:17:29.659186Z",
     "iopub.status.busy": "2024-05-08T13:17:29.658951Z",
     "iopub.status.idle": "2024-05-08T13:17:38.863899Z",
     "shell.execute_reply": "2024-05-08T13:17:38.863195Z",
     "shell.execute_reply.started": "2024-05-08T13:17:29.659170Z"
    },
    "tags": []
   },
   "outputs": [],
   "source": [
    "num_features = 128\n",
    "X_train, y_train = prepare_data(data_split['train'], num_features=num_features)\n",
    "X_valid, y_valid = prepare_data(data_split['valid'], num_features=num_features)\n",
    "X_test, y_test = prepare_data(data_split['test'], num_features=num_features)"
   ]
  },
  {
   "cell_type": "markdown",
   "id": "da9c5b17-e83f-40c1-ad60-cfff2494b625",
   "metadata": {},
   "source": [
    "# Random Forest Classifier"
   ]
  },
  {
   "cell_type": "code",
   "execution_count": 7,
   "id": "1146b41e-d0c4-4f08-8922-3abc31415cdd",
   "metadata": {
    "execution": {
     "iopub.execute_input": "2024-05-08T13:17:38.865516Z",
     "iopub.status.busy": "2024-05-08T13:17:38.865092Z",
     "iopub.status.idle": "2024-05-08T13:17:40.120416Z",
     "shell.execute_reply": "2024-05-08T13:17:40.119815Z",
     "shell.execute_reply.started": "2024-05-08T13:17:38.865489Z"
    },
    "tags": []
   },
   "outputs": [
    {
     "data": {
      "text/html": [
       "<style>#sk-container-id-1 {color: black;background-color: white;}#sk-container-id-1 pre{padding: 0;}#sk-container-id-1 div.sk-toggleable {background-color: white;}#sk-container-id-1 label.sk-toggleable__label {cursor: pointer;display: block;width: 100%;margin-bottom: 0;padding: 0.3em;box-sizing: border-box;text-align: center;}#sk-container-id-1 label.sk-toggleable__label-arrow:before {content: \"▸\";float: left;margin-right: 0.25em;color: #696969;}#sk-container-id-1 label.sk-toggleable__label-arrow:hover:before {color: black;}#sk-container-id-1 div.sk-estimator:hover label.sk-toggleable__label-arrow:before {color: black;}#sk-container-id-1 div.sk-toggleable__content {max-height: 0;max-width: 0;overflow: hidden;text-align: left;background-color: #f0f8ff;}#sk-container-id-1 div.sk-toggleable__content pre {margin: 0.2em;color: black;border-radius: 0.25em;background-color: #f0f8ff;}#sk-container-id-1 input.sk-toggleable__control:checked~div.sk-toggleable__content {max-height: 200px;max-width: 100%;overflow: auto;}#sk-container-id-1 input.sk-toggleable__control:checked~label.sk-toggleable__label-arrow:before {content: \"▾\";}#sk-container-id-1 div.sk-estimator input.sk-toggleable__control:checked~label.sk-toggleable__label {background-color: #d4ebff;}#sk-container-id-1 div.sk-label input.sk-toggleable__control:checked~label.sk-toggleable__label {background-color: #d4ebff;}#sk-container-id-1 input.sk-hidden--visually {border: 0;clip: rect(1px 1px 1px 1px);clip: rect(1px, 1px, 1px, 1px);height: 1px;margin: -1px;overflow: hidden;padding: 0;position: absolute;width: 1px;}#sk-container-id-1 div.sk-estimator {font-family: monospace;background-color: #f0f8ff;border: 1px dotted black;border-radius: 0.25em;box-sizing: border-box;margin-bottom: 0.5em;}#sk-container-id-1 div.sk-estimator:hover {background-color: #d4ebff;}#sk-container-id-1 div.sk-parallel-item::after {content: \"\";width: 100%;border-bottom: 1px solid gray;flex-grow: 1;}#sk-container-id-1 div.sk-label:hover label.sk-toggleable__label {background-color: #d4ebff;}#sk-container-id-1 div.sk-serial::before {content: \"\";position: absolute;border-left: 1px solid gray;box-sizing: border-box;top: 0;bottom: 0;left: 50%;z-index: 0;}#sk-container-id-1 div.sk-serial {display: flex;flex-direction: column;align-items: center;background-color: white;padding-right: 0.2em;padding-left: 0.2em;position: relative;}#sk-container-id-1 div.sk-item {position: relative;z-index: 1;}#sk-container-id-1 div.sk-parallel {display: flex;align-items: stretch;justify-content: center;background-color: white;position: relative;}#sk-container-id-1 div.sk-item::before, #sk-container-id-1 div.sk-parallel-item::before {content: \"\";position: absolute;border-left: 1px solid gray;box-sizing: border-box;top: 0;bottom: 0;left: 50%;z-index: -1;}#sk-container-id-1 div.sk-parallel-item {display: flex;flex-direction: column;z-index: 1;position: relative;background-color: white;}#sk-container-id-1 div.sk-parallel-item:first-child::after {align-self: flex-end;width: 50%;}#sk-container-id-1 div.sk-parallel-item:last-child::after {align-self: flex-start;width: 50%;}#sk-container-id-1 div.sk-parallel-item:only-child::after {width: 0;}#sk-container-id-1 div.sk-dashed-wrapped {border: 1px dashed gray;margin: 0 0.4em 0.5em 0.4em;box-sizing: border-box;padding-bottom: 0.4em;background-color: white;}#sk-container-id-1 div.sk-label label {font-family: monospace;font-weight: bold;display: inline-block;line-height: 1.2em;}#sk-container-id-1 div.sk-label-container {text-align: center;}#sk-container-id-1 div.sk-container {/* jupyter's `normalize.less` sets `[hidden] { display: none; }` but bootstrap.min.css set `[hidden] { display: none !important; }` so we also need the `!important` here to be able to override the default hidden behavior on the sphinx rendered scikit-learn.org. See: https://github.com/scikit-learn/scikit-learn/issues/21755 */display: inline-block !important;position: relative;}#sk-container-id-1 div.sk-text-repr-fallback {display: none;}</style><div id=\"sk-container-id-1\" class=\"sk-top-container\"><div class=\"sk-text-repr-fallback\"><pre>RandomForestClassifier(random_state=42)</pre><b>In a Jupyter environment, please rerun this cell to show the HTML representation or trust the notebook. <br />On GitHub, the HTML representation is unable to render, please try loading this page with nbviewer.org.</b></div><div class=\"sk-container\" hidden><div class=\"sk-item\"><div class=\"sk-estimator sk-toggleable\"><input class=\"sk-toggleable__control sk-hidden--visually\" id=\"sk-estimator-id-1\" type=\"checkbox\" checked><label for=\"sk-estimator-id-1\" class=\"sk-toggleable__label sk-toggleable__label-arrow\">RandomForestClassifier</label><div class=\"sk-toggleable__content\"><pre>RandomForestClassifier(random_state=42)</pre></div></div></div></div></div>"
      ],
      "text/plain": [
       "RandomForestClassifier(random_state=42)"
      ]
     },
     "execution_count": 7,
     "metadata": {},
     "output_type": "execute_result"
    }
   ],
   "source": [
    "from sklearn.ensemble import RandomForestClassifier\n",
    "\n",
    "# Initialize and train the model\n",
    "rf_model = RandomForestClassifier(random_state=42)\n",
    "rf_model.fit(X_train, y_train)\n",
    "\n"
   ]
  },
  {
   "cell_type": "markdown",
   "id": "d3705261-56ef-47a9-ae38-7c2c327dc498",
   "metadata": {},
   "source": [
    "# Evaluation on validation data"
   ]
  },
  {
   "cell_type": "code",
   "execution_count": 8,
   "id": "16632c4b-d57a-4f95-bc6c-23969e58a297",
   "metadata": {
    "execution": {
     "iopub.execute_input": "2024-05-08T13:17:40.121593Z",
     "iopub.status.busy": "2024-05-08T13:17:40.121304Z",
     "iopub.status.idle": "2024-05-08T13:17:40.181088Z",
     "shell.execute_reply": "2024-05-08T13:17:40.180543Z",
     "shell.execute_reply.started": "2024-05-08T13:17:40.121573Z"
    },
    "tags": []
   },
   "outputs": [
    {
     "name": "stdout",
     "output_type": "stream",
     "text": [
      "Accuracy: 0.7202380952380952\n",
      "ROC AUC Score: 0.7234303379170663\n",
      "Precision: 0.7730263157894737\n",
      "Recall: 0.6638418079096046\n",
      "F1 Score: 0.7142857142857144\n",
      "Matthews Correlation Coefficient: 0.4482565330857107\n",
      "Specificity (Negative Prediction Accuracy): 0.7830188679245284\n"
     ]
    }
   ],
   "source": [
    "from evaluate import eval\n",
    "y_pred = rf_model.predict(X_valid)\n",
    "result = eval(y_valid, y_pred, verbose=True)"
   ]
  },
  {
   "cell_type": "markdown",
   "id": "1c1d2a57-8c0c-4abc-ab73-4147224e4903",
   "metadata": {
    "execution": {
     "iopub.execute_input": "2024-04-19T02:28:58.937521Z",
     "iopub.status.busy": "2024-04-19T02:28:58.937204Z",
     "iopub.status.idle": "2024-04-19T02:28:58.954787Z",
     "shell.execute_reply": "2024-04-19T02:28:58.954378Z",
     "shell.execute_reply.started": "2024-04-19T02:28:58.937500Z"
    },
    "tags": []
   },
   "source": [
    "# Evaluation on test data"
   ]
  },
  {
   "cell_type": "code",
   "execution_count": 9,
   "id": "00573373-3ce6-4f2c-aaee-6340fb3721ad",
   "metadata": {
    "execution": {
     "iopub.execute_input": "2024-05-08T13:17:40.182290Z",
     "iopub.status.busy": "2024-05-08T13:17:40.181853Z",
     "iopub.status.idle": "2024-05-08T13:17:40.260108Z",
     "shell.execute_reply": "2024-05-08T13:17:40.259559Z",
     "shell.execute_reply.started": "2024-05-08T13:17:40.182271Z"
    },
    "tags": []
   },
   "outputs": [
    {
     "name": "stdout",
     "output_type": "stream",
     "text": [
      "Accuracy: 0.7501858736059479\n",
      "ROC AUC Score: 0.7497032400601316\n",
      "Precision: 0.7643260694108152\n",
      "Recall: 0.7136397889977393\n",
      "F1 Score: 0.7381137957911146\n",
      "Matthews Correlation Coefficient: 0.5009198054601723\n",
      "Specificity (Negative Prediction Accuracy): 0.7857666911225238\n"
     ]
    }
   ],
   "source": [
    "y_pred = rf_model.predict(X_test)\n",
    "result = eval(y_test, y_pred, verbose=True)"
   ]
  },
  {
   "cell_type": "code",
   "execution_count": null,
   "id": "398967b0-31c7-461a-96f9-2538288bc37f",
   "metadata": {},
   "outputs": [],
   "source": []
  },
  {
   "cell_type": "markdown",
   "id": "5d9be36c-4ab1-4ec2-983b-09044cac28eb",
   "metadata": {},
   "source": [
    " # SimpleNN: Define the model"
   ]
  },
  {
   "cell_type": "code",
   "execution_count": 10,
   "id": "2d89940d-799b-4c0e-a66c-bfbac6e70d99",
   "metadata": {
    "execution": {
     "iopub.execute_input": "2024-05-08T13:17:40.261264Z",
     "iopub.status.busy": "2024-05-08T13:17:40.260866Z",
     "iopub.status.idle": "2024-05-08T13:17:41.675671Z",
     "shell.execute_reply": "2024-05-08T13:17:41.674999Z",
     "shell.execute_reply.started": "2024-05-08T13:17:40.261245Z"
    },
    "tags": []
   },
   "outputs": [],
   "source": [
    "import torch\n",
    "import torch.nn as nn\n",
    "import torch.optim as optim\n",
    "\n",
    "class SimpleNN(nn.Module):\n",
    "    def __init__(self, num_features):\n",
    "        super(SimpleNN, self).__init__()\n",
    "        self.layers = nn.Sequential(\n",
    "            nn.Linear(num_features, 64),  # Assuming input features size of 1024\n",
    "            nn.ReLU(),\n",
    "            nn.Linear(64, 64),\n",
    "            nn.ReLU(),\n",
    "            nn.Linear(64, 1),  # binary classification\n",
    "            nn.Sigmoid()\n",
    "        )\n",
    "\n",
    "    def forward(self, x):\n",
    "        return self.layers(x)\n"
   ]
  },
  {
   "cell_type": "markdown",
   "id": "3d11b4eb-5cd8-4e55-992f-10142a75e621",
   "metadata": {},
   "source": [
    "# SimpleNN: Define loss"
   ]
  },
  {
   "cell_type": "code",
   "execution_count": 11,
   "id": "46600d55-5db6-4a76-a0db-14313d53b7ce",
   "metadata": {
    "execution": {
     "iopub.execute_input": "2024-05-08T13:17:41.676722Z",
     "iopub.status.busy": "2024-05-08T13:17:41.676452Z",
     "iopub.status.idle": "2024-05-08T13:17:41.699266Z",
     "shell.execute_reply": "2024-05-08T13:17:41.698851Z",
     "shell.execute_reply.started": "2024-05-08T13:17:41.676701Z"
    },
    "tags": []
   },
   "outputs": [],
   "source": [
    "\n",
    "def nn_loss_func(outputs, targets):\n",
    "    criterion = nn.BCELoss()\n",
    "    classical_loss = criterion(outputs.squeeze(), targets.squeeze())\n",
    "    \n",
    "    return classical_loss "
   ]
  },
  {
   "cell_type": "markdown",
   "id": "5ad8408e-d442-481c-a709-1d6732dac521",
   "metadata": {},
   "source": [
    "# SimpleNN: Training"
   ]
  },
  {
   "cell_type": "code",
   "execution_count": 12,
   "id": "fd3bd228-5922-4c06-8e4d-22b8f3b32896",
   "metadata": {
    "execution": {
     "iopub.execute_input": "2024-05-08T13:17:41.700109Z",
     "iopub.status.busy": "2024-05-08T13:17:41.699827Z",
     "iopub.status.idle": "2024-05-08T13:17:41.721094Z",
     "shell.execute_reply": "2024-05-08T13:17:41.720708Z",
     "shell.execute_reply.started": "2024-05-08T13:17:41.700092Z"
    },
    "tags": []
   },
   "outputs": [],
   "source": [
    "def train_epoch(model, X_train, y_train, optimizer, criterion):\n",
    "    model.train()\n",
    "    nn_optimizer.zero_grad()\n",
    "    outputs = nn_model(X_train)  # Make sure X_train is a tensor\n",
    "    loss = criterion(outputs, y_train)  # Ensure y_train is appropriately shaped\n",
    "    loss.backward()\n",
    "    nn_optimizer.step()\n",
    "    return loss\n"
   ]
  },
  {
   "cell_type": "code",
   "execution_count": 13,
   "id": "4cdef372-bb7a-4e88-b79a-cb180cbbf900",
   "metadata": {
    "execution": {
     "iopub.execute_input": "2024-05-08T13:17:41.721863Z",
     "iopub.status.busy": "2024-05-08T13:17:41.721659Z",
     "iopub.status.idle": "2024-05-08T13:17:41.740884Z",
     "shell.execute_reply": "2024-05-08T13:17:41.740498Z",
     "shell.execute_reply.started": "2024-05-08T13:17:41.721848Z"
    },
    "tags": []
   },
   "outputs": [],
   "source": [
    "from evaluate import eval\n",
    "\n",
    "def eval_model(model, X_test, y_test, criterion, verbose=False):\n",
    "    model.eval()\n",
    "\n",
    "    # Disable gradient computation for testing (saves memory and computations)\n",
    "    with torch.no_grad():\n",
    "        outputs = model(X_test)\n",
    "    loss = criterion(outputs, y_test)\n",
    "        \n",
    "    # Convert outputs to predicted classes\n",
    "    # For binary classification with a single output unit\n",
    "    predictions = (outputs > 0.5).float()  # Threshold probabilities to classify as 1 or 0\n",
    "\n",
    "    # Since you cannot use sklearn directly with tensors, you need to move data back to CPU and convert to numpy\n",
    "    predictions = predictions.cpu().numpy()\n",
    "    y_test = y_test.cpu().numpy()\n",
    "    \n",
    "    return {\n",
    "        'loss': loss,\n",
    "        'accuracy': eval(y_test, predictions, verbose=verbose),\n",
    "    }  \n",
    "\n"
   ]
  },
  {
   "cell_type": "code",
   "execution_count": 14,
   "id": "2391646a-f16a-4f3d-9cb5-6ae6703510f7",
   "metadata": {
    "execution": {
     "iopub.execute_input": "2024-05-08T13:17:41.743108Z",
     "iopub.status.busy": "2024-05-08T13:17:41.742771Z",
     "iopub.status.idle": "2024-05-08T13:17:44.299896Z",
     "shell.execute_reply": "2024-05-08T13:17:44.299403Z",
     "shell.execute_reply.started": "2024-05-08T13:17:41.743092Z"
    },
    "tags": []
   },
   "outputs": [
    {
     "name": "stdout",
     "output_type": "stream",
     "text": [
      "Epoch 0, Train Loss: 0.6940, Validation Loss: 0.6962238550186157\n",
      "Epoch 1, Train Loss: 0.6926, Validation Loss: 0.6947726607322693\n",
      "Epoch 2, Train Loss: 0.6913, Validation Loss: 0.6935252547264099\n",
      "Epoch 3, Train Loss: 0.6902, Validation Loss: 0.6923766136169434\n",
      "Epoch 4, Train Loss: 0.6891, Validation Loss: 0.6912944912910461\n",
      "Epoch 5, Train Loss: 0.6879, Validation Loss: 0.6902256608009338\n",
      "Epoch 6, Train Loss: 0.6866, Validation Loss: 0.6891391277313232\n",
      "Epoch 7, Train Loss: 0.6852, Validation Loss: 0.6879596710205078\n",
      "Epoch 8, Train Loss: 0.6836, Validation Loss: 0.6867080330848694\n",
      "Epoch 9, Train Loss: 0.6819, Validation Loss: 0.685354471206665\n",
      "Epoch 10, Train Loss: 0.6800, Validation Loss: 0.6838819980621338\n",
      "Epoch 11, Train Loss: 0.6779, Validation Loss: 0.6822617650032043\n",
      "Epoch 12, Train Loss: 0.6756, Validation Loss: 0.6804326176643372\n",
      "Epoch 13, Train Loss: 0.6731, Validation Loss: 0.6783733367919922\n",
      "Epoch 14, Train Loss: 0.6705, Validation Loss: 0.6761025190353394\n",
      "Epoch 15, Train Loss: 0.6676, Validation Loss: 0.6735881567001343\n",
      "Epoch 16, Train Loss: 0.6645, Validation Loss: 0.6709097623825073\n",
      "Epoch 17, Train Loss: 0.6613, Validation Loss: 0.6681499481201172\n",
      "Epoch 18, Train Loss: 0.6579, Validation Loss: 0.6653204560279846\n",
      "Epoch 19, Train Loss: 0.6544, Validation Loss: 0.6624171137809753\n",
      "Epoch 20, Train Loss: 0.6508, Validation Loss: 0.6594589948654175\n",
      "Epoch 21, Train Loss: 0.6472, Validation Loss: 0.6564933061599731\n",
      "Epoch 22, Train Loss: 0.6435, Validation Loss: 0.6535006761550903\n",
      "Epoch 23, Train Loss: 0.6399, Validation Loss: 0.6504969596862793\n",
      "Epoch 24, Train Loss: 0.6363, Validation Loss: 0.6475449800491333\n",
      "Epoch 25, Train Loss: 0.6328, Validation Loss: 0.6447478532791138\n",
      "Epoch 26, Train Loss: 0.6295, Validation Loss: 0.6421157121658325\n",
      "Epoch 27, Train Loss: 0.6264, Validation Loss: 0.6396624445915222\n",
      "Epoch 28, Train Loss: 0.6234, Validation Loss: 0.6373283863067627\n",
      "Epoch 29, Train Loss: 0.6206, Validation Loss: 0.6351615190505981\n",
      "Epoch 30, Train Loss: 0.6180, Validation Loss: 0.6331511735916138\n",
      "Epoch 31, Train Loss: 0.6155, Validation Loss: 0.6312611699104309\n",
      "Epoch 32, Train Loss: 0.6131, Validation Loss: 0.6293894052505493\n",
      "Epoch 33, Train Loss: 0.6107, Validation Loss: 0.6275965571403503\n",
      "Epoch 34, Train Loss: 0.6084, Validation Loss: 0.625953733921051\n",
      "Epoch 35, Train Loss: 0.6060, Validation Loss: 0.6244144439697266\n",
      "Epoch 36, Train Loss: 0.6037, Validation Loss: 0.6229676008224487\n",
      "Epoch 37, Train Loss: 0.6013, Validation Loss: 0.6216622591018677\n",
      "Epoch 38, Train Loss: 0.5989, Validation Loss: 0.6204412579536438\n",
      "Epoch 39, Train Loss: 0.5966, Validation Loss: 0.6192803382873535\n",
      "Epoch 40, Train Loss: 0.5942, Validation Loss: 0.6182846426963806\n",
      "Epoch 41, Train Loss: 0.5918, Validation Loss: 0.6174941062927246\n",
      "Epoch 42, Train Loss: 0.5894, Validation Loss: 0.6168111562728882\n",
      "Epoch 43, Train Loss: 0.5870, Validation Loss: 0.6160944104194641\n",
      "Epoch 44, Train Loss: 0.5846, Validation Loss: 0.6153653860092163\n",
      "Epoch 45, Train Loss: 0.5822, Validation Loss: 0.6146670579910278\n",
      "Epoch 46, Train Loss: 0.5797, Validation Loss: 0.6140066385269165\n",
      "Epoch 47, Train Loss: 0.5772, Validation Loss: 0.6134045720100403\n",
      "Epoch 48, Train Loss: 0.5745, Validation Loss: 0.6128605604171753\n",
      "Epoch 49, Train Loss: 0.5719, Validation Loss: 0.6122803688049316\n",
      "Epoch 50, Train Loss: 0.5692, Validation Loss: 0.6116607189178467\n",
      "Epoch 51, Train Loss: 0.5664, Validation Loss: 0.6111333966255188\n",
      "Epoch 52, Train Loss: 0.5635, Validation Loss: 0.6105597615242004\n",
      "Epoch 53, Train Loss: 0.5605, Validation Loss: 0.6098580360412598\n",
      "Epoch 54, Train Loss: 0.5573, Validation Loss: 0.6090510487556458\n",
      "Epoch 55, Train Loss: 0.5541, Validation Loss: 0.6081480979919434\n",
      "Epoch 56, Train Loss: 0.5508, Validation Loss: 0.6071308851242065\n",
      "Epoch 57, Train Loss: 0.5473, Validation Loss: 0.6060229539871216\n",
      "Epoch 58, Train Loss: 0.5438, Validation Loss: 0.6049317717552185\n",
      "Epoch 59, Train Loss: 0.5402, Validation Loss: 0.6038395762443542\n",
      "Epoch 60, Train Loss: 0.5364, Validation Loss: 0.6027981638908386\n",
      "Epoch 61, Train Loss: 0.5326, Validation Loss: 0.6016182899475098\n",
      "Epoch 62, Train Loss: 0.5287, Validation Loss: 0.6007243394851685\n",
      "Epoch 63, Train Loss: 0.5247, Validation Loss: 0.5996599197387695\n",
      "Epoch 64, Train Loss: 0.5207, Validation Loss: 0.5990729331970215\n",
      "Epoch 65, Train Loss: 0.5166, Validation Loss: 0.5981470346450806\n",
      "Epoch 66, Train Loss: 0.5125, Validation Loss: 0.5982378721237183\n",
      "Epoch 67, Train Loss: 0.5083, Validation Loss: 0.597314178943634\n",
      "Epoch 68, Train Loss: 0.5041, Validation Loss: 0.5989106297492981\n",
      "Epoch 69, Train Loss: 0.5002, Validation Loss: 0.5969729423522949\n",
      "Epoch 70, Train Loss: 0.4964, Validation Loss: 0.5984272956848145\n",
      "Epoch 71, Train Loss: 0.4920, Validation Loss: 0.5973947644233704\n",
      "Epoch 72, Train Loss: 0.4877, Validation Loss: 0.5965714454650879\n",
      "Epoch 73, Train Loss: 0.4842, Validation Loss: 0.5983525514602661\n",
      "Epoch 74, Train Loss: 0.4802, Validation Loss: 0.5968914031982422\n",
      "Epoch 75, Train Loss: 0.4758, Validation Loss: 0.5966626405715942\n",
      "Epoch 76, Train Loss: 0.4721, Validation Loss: 0.5988808870315552\n",
      "Epoch 77, Train Loss: 0.4683, Validation Loss: 0.5973883867263794\n",
      "Epoch 78, Train Loss: 0.4640, Validation Loss: 0.5978110432624817\n",
      "Epoch 79, Train Loss: 0.4601, Validation Loss: 0.5998023748397827\n"
     ]
    }
   ],
   "source": [
    "nn_model = SimpleNN(num_features=num_features)\n",
    "nn_optimizer = optim.Adam(nn_model.parameters(), lr=0.001)\n",
    "\n",
    "X_train = torch.tensor(X_train, dtype=torch.float32)  # Convert features to a float Tensor\n",
    "y_train = torch.tensor(y_train, dtype=torch.float32).unsqueeze(1)  # Convert labels to a float Tensor\n",
    "X_valid = torch.tensor(X_valid, dtype=torch.float32)  # Convert features to a float Tensor\n",
    "y_valid = torch.tensor(y_valid, dtype=torch.float32).unsqueeze(1)  # Convert labels to a float Tensor\n",
    "\n",
    "# Train the model\n",
    "num_epochs = 80\n",
    "total_train_losses = []\n",
    "total_valid_losses = []\n",
    "for epoch in range(num_epochs):\n",
    "    train_loss = train_epoch(nn_model, X_train, y_train, nn_optimizer, nn_loss_func)\n",
    "    valid_result = eval_model(nn_model, X_valid, y_valid, nn_loss_func)\n",
    "    total_train_losses.append(train_loss)\n",
    "    total_valid_losses.append(valid_result['loss'])\n",
    "    print(f\"Epoch {epoch}, Train Loss: {train_loss:.4f}, Validation Loss: {valid_result['loss']}\")\n"
   ]
  },
  {
   "cell_type": "code",
   "execution_count": 15,
   "id": "6c62bb17-eeb6-4c98-860f-219b614eb8c1",
   "metadata": {
    "execution": {
     "iopub.execute_input": "2024-05-08T13:17:44.300954Z",
     "iopub.status.busy": "2024-05-08T13:17:44.300603Z",
     "iopub.status.idle": "2024-05-08T13:17:44.502176Z",
     "shell.execute_reply": "2024-05-08T13:17:44.501774Z",
     "shell.execute_reply.started": "2024-05-08T13:17:44.300931Z"
    },
    "tags": []
   },
   "outputs": [
    {
     "data": {
      "image/png": "[encoded data removed]",
      "text/plain": [
       "<Figure size 1000x500 with 1 Axes>"
      ]
     },
     "metadata": {},
     "output_type": "display_data"
    }
   ],
   "source": [
    "import matplotlib.pyplot as plt\n",
    "\n",
    "# Converting tensors to lists of scalars\n",
    "visual_train_losses = [x.item() for x in total_train_losses]\n",
    "visual_valid_losses = [x.item() for x in total_valid_losses]\n",
    "\n",
    "# Plotting the values\n",
    "plt.figure(figsize=(10, 5))\n",
    "plt.plot(visual_train_losses, label='Training Loss')\n",
    "plt.plot(visual_valid_losses, label='Validation Los')\n",
    "plt.title('Training of Simple Neural Network')\n",
    "plt.xlabel('Epoch')\n",
    "plt.ylabel('Loss')\n",
    "plt.legend()\n",
    "plt.show()"
   ]
  },
  {
   "cell_type": "code",
   "execution_count": null,
   "id": "fbe2acc5-594a-404d-95c7-df850a992f31",
   "metadata": {},
   "outputs": [],
   "source": []
  },
  {
   "cell_type": "markdown",
   "id": "96b6d8ec-5c4c-4a29-9753-034b319c8a65",
   "metadata": {},
   "source": [
    "# SimpleNN on Test Data"
   ]
  },
  {
   "cell_type": "code",
   "execution_count": 16,
   "id": "5c527ec6-d506-46ef-aaa8-5becc3ee7e93",
   "metadata": {
    "execution": {
     "iopub.execute_input": "2024-05-08T13:17:44.503013Z",
     "iopub.status.busy": "2024-05-08T13:17:44.502788Z",
     "iopub.status.idle": "2024-05-08T13:17:44.561222Z",
     "shell.execute_reply": "2024-05-08T13:17:44.560814Z",
     "shell.execute_reply.started": "2024-05-08T13:17:44.502996Z"
    },
    "tags": []
   },
   "outputs": [
    {
     "name": "stdout",
     "output_type": "stream",
     "text": [
      "Accuracy: 0.6951672862453532\n",
      "ROC AUC Score: 0.694983305698399\n",
      "Precision: 0.6948501152959262\n",
      "Recall: 0.6812358703843255\n",
      "F1 Score: 0.6879756468797564\n",
      "Matthews Correlation Coefficient: 0.39014050600015304\n",
      "Specificity (Negative Prediction Accuracy): 0.7087307410124725\n"
     ]
    }
   ],
   "source": [
    "# convert to tensor\n",
    "X_test = torch.tensor(X_test, dtype=torch.float32)  \n",
    "y_test = torch.tensor(y_test, dtype=torch.float32).unsqueeze(1)  # Convert to tensor and ensure correct shape\n",
    "result = eval_model(nn_model, X_test, y_test, nn_loss_func, verbose=True)"
   ]
  },
  {
   "cell_type": "code",
   "execution_count": null,
   "id": "9296e9f5-c5ad-4c77-ad2b-fad817f05e7d",
   "metadata": {},
   "outputs": [],
   "source": []
  }
 ],
 "metadata": {
  "kernelspec": {
   "display_name": "herg",
   "language": "python",
   "name": "herg"
  },
  "language_info": {
   "codemirror_mode": {
    "name": "ipython",
    "version": 3
   },
   "file_extension": ".py",
   "mimetype": "text/x-python",
   "name": "python",
   "nbconvert_exporter": "python",
   "pygments_lexer": "ipython3",
   "version": "3.9.19"
  }
 },
 "nbformat": 4,
 "nbformat_minor": 5
}
